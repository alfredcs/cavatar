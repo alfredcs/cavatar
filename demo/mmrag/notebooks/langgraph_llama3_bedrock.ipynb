{
 "cells": [
  {
   "cell_type": "markdown",
   "id": "52b30b6b-e2c4-4c9c-905f-530125707d29",
   "metadata": {},
   "source": [
    "# Building a RAG Agent with LangGraph, LLaMA3–70b/Claude-3, and Scaling with Amazon Bedrock\n",
    "\n",
    "Explore how to build an intelligent using agent, langgraph and Claude-3/LLaMA-3 from Amazon Bedrock. This advanced RAG agent integrates several cutting-edge ideas from recent research to enhance its capabilities.\n",
    "\n",
    "* Adaptive Routing (paper): Based on the Adaptive RAG paper, our agent intelligently routes questions to different retrieval approaches, leveraging the strengths of each method for optimal performance.\n",
    "* Fallback to Web Search (paper): Inspired by the Corrective RAG paper, our agent falls back to web search if the retrieved documents are not relevant, ensuring comprehensive coverage.\n",
    "* Self-Correction (paper): Incorporating concepts from the Self-RAG paper, our agent identifies and corrects hallucinations or incomplete answers.\n",
    "\n",
    "We'll use LangGraph to build complex, multi-step workflows that involve language models and other components. By combining these research ideas, our agent will provide accurate and informative responses to challenging queries.\n",
    "This blog post expands on the work presented in Langchain-ai's notebook, illustrating how you can scale with cloud processing power. We will port the original notebook to utilize Amazon Bedrock for LLM inference to scale our embedding and text generation capabilities. The choice of vector stores (local chromaDB) will remain unchanged, and we will discover how to scale this part in future blog posts."
   ]
  },
  {
   "cell_type": "code",
   "execution_count": 1,
   "id": "f1665046-6a6e-43f8-a6d7-46e41c13ed18",
   "metadata": {
    "collapsed": true,
    "jupyter": {
     "outputs_hidden": true
    },
    "scrolled": true
   },
   "outputs": [
    {
     "name": "stdout",
     "output_type": "stream",
     "text": [
      "\u001b[33mWARNING: Package(s) not found: tavily-python\u001b[0m\u001b[33m\n",
      "\u001b[0mName: langchain-community\n",
      "Version: 0.0.34\n",
      "Summary: Community contributed LangChain integrations.\n",
      "Home-page: https://github.com/langchain-ai/langchain\n",
      "Author: \n",
      "Author-email: \n",
      "License: MIT\n",
      "Location: /home/alfred/anaconda3/envs/dui/lib/python3.11/site-packages\n",
      "Requires: aiohttp, dataclasses-json, langchain-core, langsmith, numpy, PyYAML, requests, SQLAlchemy, tenacity\n",
      "Required-by: langchain, ragas\n",
      "---\n",
      "Name: tiktoken\n",
      "Version: 0.6.0\n",
      "Summary: tiktoken is a fast BPE tokeniser for use with OpenAI's models\n",
      "Home-page: \n",
      "Author: Shantanu Jain\n",
      "Author-email: shantanu@openai.com\n",
      "License: MIT License\n",
      "\n",
      "Copyright (c) 2022 OpenAI, Shantanu Jain\n",
      "\n",
      "Permission is hereby granted, free of charge, to any person obtaining a copy\n",
      "of this software and associated documentation files (the \"Software\"), to deal\n",
      "in the Software without restriction, including without limitation the rights\n",
      "to use, copy, modify, merge, publish, distribute, sublicense, and/or sell\n",
      "copies of the Software, and to permit persons to whom the Software is\n",
      "furnished to do so, subject to the following conditions:\n",
      "\n",
      "The above copyright notice and this permission notice shall be included in all\n",
      "copies or substantial portions of the Software.\n",
      "\n",
      "THE SOFTWARE IS PROVIDED \"AS IS\", WITHOUT WARRANTY OF ANY KIND, EXPRESS OR\n",
      "IMPLIED, INCLUDING BUT NOT LIMITED TO THE WARRANTIES OF MERCHANTABILITY,\n",
      "FITNESS FOR A PARTICULAR PURPOSE AND NONINFRINGEMENT. IN NO EVENT SHALL THE\n",
      "AUTHORS OR COPYRIGHT HOLDERS BE LIABLE FOR ANY CLAIM, DAMAGES OR OTHER\n",
      "LIABILITY, WHETHER IN AN ACTION OF CONTRACT, TORT OR OTHERWISE, ARISING FROM,\n",
      "OUT OF OR IN CONNECTION WITH THE SOFTWARE OR THE USE OR OTHER DEALINGS IN THE\n",
      "SOFTWARE.\n",
      "\n",
      "Location: /home/alfred/anaconda3/envs/dui/lib/python3.11/site-packages\n",
      "Requires: regex, requests\n",
      "Required-by: langchain-openai, llama-index-core, llama-index-legacy, ragas\n",
      "---\n",
      "Name: chromadb\n",
      "Version: 0.4.24\n",
      "Summary: Chroma.\n",
      "Home-page: \n",
      "Author: \n",
      "Author-email: Jeff Huber <jeff@trychroma.com>, Anton Troynikov <anton@trychroma.com>\n",
      "License: \n",
      "Location: /home/alfred/anaconda3/envs/dui/lib/python3.11/site-packages\n",
      "Requires: bcrypt, build, chroma-hnswlib, fastapi, grpcio, importlib-resources, kubernetes, mmh3, numpy, onnxruntime, opentelemetry-api, opentelemetry-exporter-otlp-proto-grpc, opentelemetry-instrumentation-fastapi, opentelemetry-sdk, orjson, overrides, posthog, pulsar-client, pydantic, pypika, PyYAML, requests, tenacity, tokenizers, tqdm, typer, typing-extensions, uvicorn\n",
      "Required-by: langchain-chroma, llama-index-vector-stores-chroma\n",
      "---\n",
      "Name: langchain\n",
      "Version: 0.1.15\n",
      "Summary: Building applications with LLMs through composability\n",
      "Home-page: https://github.com/langchain-ai/langchain\n",
      "Author: \n",
      "Author-email: \n",
      "License: MIT\n",
      "Location: /home/alfred/anaconda3/envs/dui/lib/python3.11/site-packages\n",
      "Requires: aiohttp, dataclasses-json, jsonpatch, langchain-community, langchain-core, langchain-text-splitters, langsmith, numpy, pydantic, PyYAML, requests, SQLAlchemy, tenacity\n",
      "Required-by: deepeval, langchain-benchmarks, langchain-experimental, langserve, llama-index-llms-langchain, ragas\n",
      "---\n",
      "Name: langgraph\n",
      "Version: 0.0.26\n",
      "Summary: langgraph\n",
      "Home-page: https://www.github.com/langchain-ai/langgraph\n",
      "Author: \n",
      "Author-email: \n",
      "License: LangGraph License\n",
      "Location: /home/alfred/anaconda3/envs/dui/lib/python3.11/site-packages\n",
      "Requires: langchain-core\n",
      "Required-by: \n",
      "---\n",
      "Name: langchain-aws\n",
      "Version: 0.1.6\n",
      "Summary: An integration package connecting AWS and LangChain\n",
      "Home-page: https://github.com/langchain-ai/langchain-aws\n",
      "Author: \n",
      "Author-email: \n",
      "License: MIT\n",
      "Location: /home/alfred/anaconda3/envs/dui/lib/python3.11/site-packages\n",
      "Requires: boto3, langchain-core, numpy\n",
      "Required-by: \n",
      "---\n",
      "Name: chromadb\n",
      "Version: 0.4.24\n",
      "Summary: Chroma.\n",
      "Home-page: \n",
      "Author: \n",
      "Author-email: Jeff Huber <jeff@trychroma.com>, Anton Troynikov <anton@trychroma.com>\n",
      "License: \n",
      "Location: /home/alfred/anaconda3/envs/dui/lib/python3.11/site-packages\n",
      "Requires: bcrypt, build, chroma-hnswlib, fastapi, grpcio, importlib-resources, kubernetes, mmh3, numpy, onnxruntime, opentelemetry-api, opentelemetry-exporter-otlp-proto-grpc, opentelemetry-instrumentation-fastapi, opentelemetry-sdk, orjson, overrides, posthog, pulsar-client, pydantic, pypika, PyYAML, requests, tenacity, tokenizers, tqdm, typer, typing-extensions, uvicorn\n",
      "Required-by: langchain-chroma, llama-index-vector-stores-chroma\n"
     ]
    }
   ],
   "source": [
    "#! pip install -U langchain_community tiktoken chromadb langchain langgraph tavily-python langchain-aws\n",
    "!pip show langchain_community tiktoken chromadb langchain langgraph tavily-python langchain-aws chromadb"
   ]
  },
  {
   "cell_type": "markdown",
   "id": "ee6fa942-0a95-40a1-87f7-c3d98806a015",
   "metadata": {},
   "source": [
    "## 0. Setting Up LangSmith Tracing\n",
    "LangSmith is a powerful tracing tool that allows you to monitor and debug LangChain-based applications. Setting up a connection to LangSmith in this notebook will give us valuable insights into the inner workings of our RAG agent.\n",
    "\n",
    "To enable tracing, set the LANGCHAIN_TRACING_V2 environment variable to \"true\". Then specify the LANGCHAIN_ENDPOINT and LANGCHAIN_API_KEY with the appropriate values for your LangSmith account. If you don't have an account, sign up at LangSmith Signup and obtain your API key.\n",
    "\n",
    "If you are looking for a self-hosted alternative to LangSmith, check out Langfuse.\n",
    "\n",
    "Furthermore, we will set our keys to connect to the AWS cloud.\n",
    "\n",
    "If you work on an AWS resource, like Amazon SageMaker, your Execution Role already has the default connection set for you. To give you a broad place to play with the tech, find below a method for Google Colab as well as your local computer (with AWS CLI setup through the aws configure command).\n",
    "\n"
   ]
  },
  {
   "cell_type": "code",
   "execution_count": 5,
   "id": "c41bbfd4-9225-4747-9e3a-262af2b8dca7",
   "metadata": {},
   "outputs": [],
   "source": [
    "import os\n",
    "#from google.colab import userdata\n",
    "\n",
    "\n",
    "def _set_if_undefined(var: str):\n",
    "    if not os.environ.get(var):\n",
    "        #os.environ[var] = getpass.getpass(f\"Please provide your {var}\")\n",
    "        os.environ[var] = os.getenv(var.replace(\"KEY\", \"token\").lower())\n",
    "\n",
    "_set_if_undefined(\"OPENAI_API_KEY\")\n",
    "_set_if_undefined(\"LANGCHAIN_API_KEY\")\n",
    "_set_if_undefined(\"TAVILY_API_KEY\")\n",
    "\n",
    "# Optional, add tracing in LangSmith.\n",
    "# This will help you visualize and debug the control flow\n",
    "\n",
    "\n",
    "# if you work on Google Colab use the following to retrieve your API keys\n",
    "langchain_api_key = os.getenv('langchain_api_token')\n",
    "tavily_ai_api_key = os.getenv('tavily_api_token')\n",
    "#aws_access_key_id = userdata.get('aws_access_key_id')\n",
    "#aws_secret_access_key = userdata.get('aws_secret_access_key')\n",
    "aws_region = \"us-west-2\" # choose your region you operate in\n",
    "\n",
    "# # otherwise initialize your credentials as need be by uncommenting below:\n",
    "# langchain_api_key = <YOUR API KEY>\n",
    "# aws_access_key_id = <YOUR SECRETS KEY ID>\n",
    "# aws_secret_access_key =  <YOUR SECRETS KEY SECRET>\n",
    "### Tracing (optional)\n",
    "\n",
    "os.environ[\"LANGCHAIN_TRACING_V2\"] = \"true\"\n",
    "os.environ[\"LANGCHAIN_ENDPOINT\"] = \"https://api.smith.langchain.com\"\n",
    "os.environ[\"LANGCHAIN_API_KEY\"] = langchain_api_key"
   ]
  },
  {
   "cell_type": "markdown",
   "id": "c1a16bda-dd03-4e7a-abb4-1da18f0f55af",
   "metadata": {},
   "source": [
    "## 0.1 Creating a Bedrock Runtime Client\n",
    "We'll create a Bedrock runtime client to connect to the Amazon Bedrock service. Bedrock, a fully managed service by AWS, allows developers to build and deploy generative AI models like large language models (LLMs). This client will enable us to leverage pre-trained LLMs from Amazon, such as the powerful LLaMA3 model from Meta.\n",
    "\n",
    "Connecting to Bedrock is crucial for building our scalable and secure RAG agent, as it provides the necessary language model for generation capabilities. With the Bedrock runtime client in place, we can integrate LLaMA3 into our workflow and use its advanced natural language processing capabilities to generate accurate responses."
   ]
  },
  {
   "cell_type": "code",
   "execution_count": 158,
   "id": "f3360f81-09b5-4037-8a88-334bdda846a3",
   "metadata": {},
   "outputs": [
    {
     "data": {
      "application/vnd.jupyter.widget-view+json": {
       "model_id": "6ea41c40536a4c94ae60712b3173124e",
       "version_major": 2,
       "version_minor": 0
      },
      "text/plain": [
       "Dropdown(description='Choose an option:', options=('mistral.mistral-large-2402-v1:0', 'meta.llama3-70b-instruc…"
      ]
     },
     "metadata": {},
     "output_type": "display_data"
    }
   ],
   "source": [
    "### Select models\n",
    "import ipywidgets as widgets\n",
    "from ipywidgets import interact, interactive, fixed\n",
    "\n",
    "options = [\"mistral.mistral-large-2402-v1:0\", \"meta.llama3-70b-instruct-v1:0\", \"anthropic.claude-3-haiku-20240307-v1:0\"]\n",
    "# Create the dropdown widget\n",
    "dropdown = widgets.Dropdown(\n",
    "    options=options,\n",
    "    value=options[0],\n",
    "    description='Choose an option:',\n",
    "    disabled=False,\n",
    ")\n",
    "\n",
    "# Display the dropdown widget\n",
    "display(dropdown)"
   ]
  },
  {
   "cell_type": "code",
   "execution_count": 179,
   "id": "fea38889-06ec-409e-b436-60f6fa6539ac",
   "metadata": {},
   "outputs": [
    {
     "data": {
      "text/plain": [
       "'mistral.mistral-large-2402-v1:0'"
      ]
     },
     "execution_count": 179,
     "metadata": {},
     "output_type": "execute_result"
    }
   ],
   "source": [
    "model_id = dropdown.value\n",
    "model_id "
   ]
  },
  {
   "cell_type": "code",
   "execution_count": 8,
   "id": "4079a904-b5d7-42c4-a17d-24dd56850ee7",
   "metadata": {},
   "outputs": [],
   "source": [
    "import boto3\n",
    "from langchain_aws import BedrockLLM, ChatBedrock\n",
    "#from langchain_community.llms import Bedrock\n",
    "from langchain_aws import BedrockLLM\n",
    "\n",
    "\n",
    "bedrock_client = boto3.client(\"bedrock-runtime\")\n",
    "model_id_c3 = 'anthropic.claude-3-haiku-20240307-v1:0'\n",
    "#model_id_c3 = 'anthropic.claude-3-sonnet-20240229-v1:0'\n",
    "\n",
    "model_id_l3= 'meta.llama3-70b-instruct-v1:0'\n",
    "model_id_c2 = 'anthropic.claude-v2:1'\n",
    "inference_modifier = {\n",
    "    \"max_tokens\": 2048,\n",
    "    \"temperature\": 0.01,\n",
    "    \"top_k\": 50,\n",
    "    \"top_p\": 0.95,\n",
    "    \"stop_sequences\": [\"\\n\\n\\nHuman\"],\n",
    "}\n",
    "    \n",
    "llm_claude3 = bedrock_claude3_chat = ChatBedrock(\n",
    "    model_id=model_id_c3,\n",
    "    client=bedrock_client,\n",
    "    model_kwargs=inference_modifier,\n",
    "    region_name=aws_region,\n",
    ")  \n",
    "llm_llama3 = bedrock_llama3_llm = BedrockLLM(\n",
    "    model_id=model_id_l3,\n",
    "    client=bedrock_client,\n",
    "    model_kwargs={\"temperature\": 0.1, \"max_gen_len\":1024},\n",
    ")  "
   ]
  },
  {
   "cell_type": "markdown",
   "id": "2f8ba69e-22ac-45ff-8383-d370e5072b8a",
   "metadata": {},
   "source": [
    "## Using Bedrock Converse APi and function call"
   ]
  },
  {
   "cell_type": "code",
   "execution_count": 9,
   "id": "2ce450c7-c26a-49fa-9ef1-9ed96cb4342b",
   "metadata": {},
   "outputs": [],
   "source": [
    "import logging\n",
    "from botocore.exceptions import ClientError\n",
    "\n",
    "\n",
    "class StationNotFoundError(Exception):\n",
    "    \"\"\"Raised when a radio station isn't found.\"\"\"\n",
    "    pass\n",
    "\n",
    "\n",
    "logger = logging.getLogger(__name__)\n",
    "logging.basicConfig(level=logging.INFO)\n",
    "\n",
    "def generate_conversation(bedrock_client,\n",
    "                            model_id,\n",
    "                            system_text,\n",
    "                            input_text):\n",
    "    \"\"\"\n",
    "    Sends a message to a model.\n",
    "    Args:\n",
    "        bedrock_client: The Boto3 Bedrock runtime client.\n",
    "        model_id (str): The model ID to use.\n",
    "        system_text (JSON) : The system prompt.\n",
    "        input text : The input message.\n",
    "\n",
    "    Returns:\n",
    "        response (JSON): The conversation that the model generated.\n",
    "\n",
    "    \"\"\"\n",
    "\n",
    "    logger.info(\"Generating message with model %s\", model_id)\n",
    "\n",
    "    # Message to send.\n",
    "    message = {\n",
    "        \"role\": \"user\",\n",
    "        \"content\": [{\"text\": input_text}]\n",
    "    }\n",
    "    messages = [message]\n",
    "    system_prompts = [{\"text\" : system_text}]\n",
    "\n",
    "    # Inference parameters to use.\n",
    "    maxTokens = 1024\n",
    "    temperature = 0.1\n",
    "    top_p = 0.95\n",
    "    top_k = 200\n",
    "\n",
    "    #Base inference parameters to use.\n",
    "    inference_config = {\"maxTokens\":maxTokens,\"temperature\": temperature, \"topP\": top_p}\n",
    "    # Additional inference parameters to use.\n",
    "    additional_model_fields = {\"top_k\": top_k}\n",
    "\n",
    "    # Send the message.\n",
    "    response = bedrock_client.converse(\n",
    "        modelId=model_id,\n",
    "        messages=messages,\n",
    "        system=system_prompts,\n",
    "        inferenceConfig=inference_config,\n",
    "        #additionalModelRequestFields=additional_model_fields  # Llama3/Mistral does not support top_K\n",
    "    )\n",
    "\n",
    "    return response\n"
   ]
  },
  {
   "cell_type": "markdown",
   "id": "94fcca90-305f-4d08-9efc-3e2779978adf",
   "metadata": {},
   "source": [
    "## 1. RAG Injection"
   ]
  },
  {
   "cell_type": "code",
   "execution_count": 10,
   "id": "1c299bdf-582e-419c-b236-91d39d6afe0e",
   "metadata": {},
   "outputs": [],
   "source": [
    "from langchain_community.embeddings import BedrockEmbeddings\n",
    "\n",
    "# Choose from a set of embedding models hosted on Amazon Bedrock\n",
    "# Provider  | Model Name                        | Model ID\n",
    "# -------------------------------------------------------------------------------\n",
    "# Amazon    | Titan Embeddings G1 - Text 1.x   | amazon.titan-embed-text-v1\n",
    "# Amazon    | Titan Embedding Text v2 1.x       | amazon.titan-embed-text-v2:0:8k\n",
    "# Cohere    | Embed English 3.x                 | cohere.embed-english-v3\n",
    "# Cohere   | Embed Multilingual 3.x           | cohere.embed-multilingual-v3\n",
    "embedding_model_id = \"amazon.titan-embed-text-v2:0\"\n",
    "embeddings = BedrockEmbeddings(client=bedrock_client, model_id=embedding_model_id)"
   ]
  },
  {
   "cell_type": "code",
   "execution_count": 12,
   "id": "e111c692-670f-49f2-9737-404e0075823f",
   "metadata": {},
   "outputs": [],
   "source": [
    "from chromadb import Documents, EmbeddingFunction, Embeddings\n",
    "from langchain_community.embeddings.bedrock import BedrockEmbeddings\n",
    "from langchain.text_splitter import RecursiveCharacterTextSplitter\n",
    "from langchain_community.document_loaders import WebBaseLoader\n",
    "from langchain_community.vectorstores import Chroma\n",
    "\n",
    "class MyEmbeddingFunction(EmbeddingFunction):\n",
    "    def __init__(self, client, region_name: str, model_id: str):\n",
    "        self.embedder = BedrockEmbeddings(\n",
    "            client=client,\n",
    "            region_name=region_name,\n",
    "            model_id=model_id\n",
    "        )\n",
    "    def embed_query(self, query: str) -> Embeddings:\n",
    "        return self.embedder.embed_query(query)\n",
    "    def embed_documents(self, documents: list[str]) -> Embeddings:\n",
    "        return self.embedder.embed_documents(documents)\n",
    "\n",
    "urls = [\n",
    "    \"https://www.ncbi.nlm.nih.gov/pmc/articles/PMC11127599/\",\n",
    "    \"https://www.ncbi.nlm.nih.gov/pmc/articles/PMC11127585/\",\n",
    "    \"https://www.ncbi.nlm.nih.gov/pmc/articles/PMC11127581/\"\n",
    "]\n",
    "docs = [WebBaseLoader(url).load() for url in urls]    \n",
    "docs_list = [item for sublist in docs for item in sublist]\n",
    "text_splitter = RecursiveCharacterTextSplitter.from_tiktoken_encoder(\n",
    "    chunk_size=4000, chunk_overlap=400\n",
    ")\n",
    "doc_splits = text_splitter.split_documents(docs_list)\n",
    "\n",
    "embedding_function = MyEmbeddingFunction(client = bedrock_client,\n",
    "                                         region_name=aws_region,\n",
    "                                         model_id=embedding_model_id)\n",
    "# Add to vectorDB\n",
    "vectorstore = Chroma.from_documents(\n",
    "    documents=doc_splits,\n",
    "    embedding=embedding_function,\n",
    "    collection_name=\"rag-chroma-titan-embed-text-v2-0\",\n",
    ")\n",
    "retriever = vectorstore.as_retriever(\n",
    "    search_type=\"mmr\",\n",
    "    search_kwargs={'k': 3, 'lambda_mult': 0.25})"
   ]
  },
  {
   "cell_type": "markdown",
   "id": "85946239-7afb-4026-a784-4cc99ceef7b6",
   "metadata": {},
   "source": [
    "### 1.1 RAG retrieval"
   ]
  },
  {
   "cell_type": "code",
   "execution_count": 172,
   "id": "7827d424-f084-4a75-bd46-6f05b4529c67",
   "metadata": {},
   "outputs": [],
   "source": [
    "original_question = \"Explain what is granulomatosis with polyangiitis (GPA) with an infiltrative pituitary process?\"\n",
    "#original_question = \"Explain what are typical symptoms for patient With SDHB Mutation?\"\n",
    "#original_question =  \"Whay tests are considerred crucial leading toward early dignosis of pediatric hypercalcemia?\"\n",
    "#original_question = \"What are the clinical relevencies of dopamine-secreting head and neck paragangliomas?\""
   ]
  },
  {
   "cell_type": "code",
   "execution_count": 173,
   "id": "1e3bc1b0-a34d-42b4-99fa-a6f6fbad821a",
   "metadata": {},
   "outputs": [
    {
     "data": {
      "text/plain": [
       "'<rewritten_prompt>\\n<context>\\n<text>Granulomatosis with polyangiitis (GPA), also known as Wegener\\'s granulomatosis, is a rare autoimmune disorder characterized by inflammation and damage to small and medium-sized blood vessels. In some cases, GPA can involve the pituitary gland, leading to an infiltrative pituitary process. This can result in hormonal imbalances and various clinical manifestations depending on the specific pituitary hormones affected.\\n</text>\\n</context>\\n<instructions>\\n<step>The key concepts and entities in the original question are: granulomatosis with polyangiitis (GPA), infiltrative pituitary process.</step>\\n<step>The question can be rephrased as: \"What are the clinical features and implications of an infiltrative pituitary process associated with granulomatosis with polyangiitis (GPA)?\"</step>\\n<step>Additional context that may be helpful:\\n- GPA is an autoimmune disorder that can affect various organ systems, including the pituitary gland.\\n- An infiltrative pituitary process in GPA can lead to hormonal imbalances and associated clinical manifestations.\\n- Understanding the potential pituitary involvement in GPA is important for accurate diagnosis and appropriate management of the condition.\\n</step>\\n<step>The rewritten question is suitable for an LLM-based RAG system, as it is specific, focused, and provides relevant context to help the system generate a comprehensive and accurate response.</step>\\n</instructions>\\n</rewritten_prompt>'"
      ]
     },
     "execution_count": 173,
     "metadata": {},
     "output_type": "execute_result"
    }
   ],
   "source": [
    "### Rewrite query\n",
    "### Retrieval Grader using a diff model Claude 3\n",
    "from langchain.prompts import PromptTemplate\n",
    "from langchain_core.output_parsers import JsonOutputParser, StrOutputParser\n",
    "from langchain.prompts import PromptTemplate, ChatPromptTemplate\n",
    "\n",
    "c3_template = \"\"\"<?xml version=\"1.0\" encoding=\"UTF-8\"?> <prompt> <context> <text>{question} </text> \n",
    "    <task>Rewrite the question to be more professional, precise and accurate for a large language model-based Retrieval-Augmented Generation (LLM-based RAG) system.</task> \n",
    "    </context> <instructions> <step>Identify the key concepts and entities in the original question.</step> <step>Rephrase the question to be more specific and focused, \n",
    "    ensuring that the language is clear and unambiguous.</step> <step>Provide additional context or background information that may be helpful for the LLM-based RAG system \n",
    "    to better understand and respond to the question.</step> \n",
    "    <step>Ensure that the rewritten question is suitable for an LLM-based RAG system, which relies on both the question and the retrieved information to generate a response.</step> \n",
    "    </instructions> </prompt>\n",
    "    \"\"\"\n",
    "\n",
    "c3_prompt = ChatPromptTemplate.from_template(c3_template)\n",
    "#chain = ( c3_prompt | llm_c3 | StrOutputParser() | (lambda x: x.split(\"\\n\")))\n",
    "rewritten_chain = ( c3_prompt | llm_claude3 | StrOutputParser() )\n",
    "rewritten_question = rewritten_chain.invoke({\"question\": original_question})\n",
    "rewritten_question"
   ]
  },
  {
   "cell_type": "code",
   "execution_count": 184,
   "id": "a74a9bfd-764e-41df-872c-fb9022aa9225",
   "metadata": {},
   "outputs": [
    {
     "name": "stderr",
     "output_type": "stream",
     "text": [
      "INFO:__main__:Generating message with model mistral.mistral-large-2402-v1:0\n"
     ]
    },
    {
     "name": "stdout",
     "output_type": "stream",
     "text": [
      "CPU times: user 4.34 ms, sys: 0 ns, total: 4.34 ms\n",
      "Wall time: 4.97 s\n"
     ]
    },
    {
     "data": {
      "text/plain": [
       "\"Granulomatosis with polyangiitis (GPA), formerly known as Wegener's granulomatosis, is a rare form of vasculitis characterized by necrotizing granulomatous inflammation of the upper and lower respiratory tracts, glomerulonephritis, and small-vessel vasculitis. In the context of an infiltrative pituitary process, it refers to the unusual presentation of GPA involving the pituitary gland, where the inflammatory cells infiltrate and cause mass effect within the pituitary, potentially leading to pituitary dysfunction and hormonal imbalances. This condition requires a multidisciplinary approach for accurate diagnosis and management, involving both endocrinologists and rheumatologists.\""
      ]
     },
     "execution_count": 184,
     "metadata": {},
     "output_type": "execute_result"
    }
   ],
   "source": [
    "%%time\n",
    "## Rerite query using Converse API\n",
    "system_text = \"\"\"<|begin_of_text|><|start_header_id|>system<|end_header_id|>You are a seasoned healthcare provider, please rephrase the provided text to conform to the style, \n",
    "            linguistic conventions and specialized vocabulary characteristic of the healthcare profession, thereby enhancing the accuracy of intent classification.\n",
    "            Please don't answer the question.<|eot_id|><|start_header_id|>user<|end_header_id|>\"\"\"\n",
    "system_text = \"\"\"Please rewrite the input text to conform to the style, linguistic conventions and specialized vocabulary characteristic of the healthcare profession. Don't provide answer.\"\"\"\n",
    "response = generate_conversation(bedrock_client, model_id, system_text, original_question)\n",
    "values = [list(d.values())[0] for d in response['output']['message']['content']]\n",
    "rewritten_question = values[0]\n",
    "rewritten_question"
   ]
  },
  {
   "cell_type": "code",
   "execution_count": 185,
   "id": "154fb904-b472-4e5b-9eca-6c4078c0f116",
   "metadata": {},
   "outputs": [
    {
     "name": "stdout",
     "output_type": "stream",
     "text": [
      "{'score': 'yes'}\n"
     ]
    }
   ],
   "source": [
    "### Retrieval Grader using a diff model Claude 3 or Llama-3\n",
    "## Relevancy grader\n",
    "\n",
    "prompt = PromptTemplate(\n",
    "    template=\"\"\"<|begin_of_text|><|start_header_id|>system<|end_header_id|> You are a grader assessing relevance\n",
    "    of a retrieved document to a user question. If the document contains keywords related to the user question,\n",
    "    grade it as relevant. It does not need to be a stringent test. The goal is to filter out erroneous retrievals. \\n\n",
    "    Give a binary score 'yes' or 'no' score to indicate whether the document is relevant to the question. \\n\n",
    "    Provide the binary score as a JSON with a single key 'score' and no premable or explaination.\n",
    "     <|eot_id|><|start_header_id|>user<|end_header_id|>\n",
    "    Here is the retrieved document: \\n\\n {document} \\n\\n\n",
    "    Here is the user question: {question} \\n <|eot_id|><|start_header_id|>assistant<|end_header_id|>\n",
    "    \"\"\",\n",
    "    input_variables=[\"question\", \"document\"],\n",
    ")\n",
    "\n",
    "c3_template = \"\"\"You are a grader assessing relevance\n",
    "    of a retrieved document to a user question. If the document contains keywords related to the user question,\n",
    "    grade it as relevant. It does not need to be a stringent test. The goal is to filter out erroneous retrievals. \\n\n",
    "    Give a binary score 'yes' or 'no' score to indicate whether the document is relevant to the question. \\n\n",
    "    Provide the binary score as a JSON with a single key 'score' and no premable or explaination.\n",
    "    \n",
    "    Here is the retrieved document: {document} \n",
    "    \n",
    "    Here is the user question: {question}\"\"\"\n",
    "c3_prompt = ChatPromptTemplate.from_template(c3_template)\n",
    "\n",
    "#retrieval_grader = prompt | llm_llama3 | JsonOutputParser()\n",
    "retrieval_grader = c3_prompt | llm_claude3 | JsonOutputParser()\n",
    "\n",
    "docs = retriever.invoke(rewritten_question)\n",
    "doc_txt = docs[0].page_content\n",
    "print(retrieval_grader.invoke({\"question\": rewritten_question, \"document\": doc_txt}))"
   ]
  },
  {
   "cell_type": "markdown",
   "id": "8bfdbefd-bcc8-48aa-9e29-9f6d88572107",
   "metadata": {},
   "source": [
    "## 2. Building the Control Flow with LangGraph\n",
    "LangGraph allows us to define a graph-based workflow for our RAG agent, integrating document retrieval, question routing, answer generation, and self-correction into an efficient pipeline.\n",
    "\n",
    "Key steps include:\n",
    "\n",
    "* Question Routing: Deciding whether the question should go to the document retrieval system or a web search.\n",
    "* Document Retrieval: Fetching relevant documents from the vector database.\n",
    "* Document Grading: Evaluating the relevance of retrieved documents.\n",
    "* Answer Generation: Generating an answer using the retrieved documents and the language model.\n",
    "* Hallucination Grading: Ensuring the generated answer is grounded in the retrieved documents.\n",
    "* Answer Grading: Checking the usefulness of the generated answer.\n",
    "* Web Search: Supplement with a web search if necessary.\n",
    "\n",
    "LangGraph lets us seamlessly integrate these steps into a modular, adaptable workflow, enhancing the agent's ability to handle diverse queries."
   ]
  },
  {
   "cell_type": "markdown",
   "id": "8ec5e8aa-ba53-4282-9dde-f62be457b31d",
   "metadata": {},
   "source": [
    "### 2.1 Generating Answers\n",
    "Using PromptTemplate from LangChain, we create a prompt for the assistant to answer questions concisely, utilizing retrieved context.\n",
    "\n",
    "The prompt converts the user's question and relevant documents into an input format for the language model. The resulting answer is processed and returned.\n",
    "\n",
    "Here's the process:\n",
    "\n",
    "* 1.Define the prompt template.\n",
    "* 2.Format the documents as context.\n",
    "* 3.Chain the prompt, LLM, and output parser to generate the response.\n",
    "\n",
    "    By integrating this chain, the RAG agent generates accurate, concise answers based on the retrieved context."
   ]
  },
  {
   "cell_type": "code",
   "execution_count": 23,
   "id": "97ed0adb-7547-44cc-9c09-7a94589d5bc3",
   "metadata": {},
   "outputs": [],
   "source": [
    "## Extract keywords\n",
    "import string, re\n",
    "import nltk\n",
    "from nltk.corpus import stopwords\n",
    "from collections import Counter\n",
    "\n",
    "def extract_keywords(input_string, top_n=20):\n",
    "    # Tokenize the text into words\n",
    "    words = nltk.word_tokenize(input_string.lower())\n",
    "\n",
    "    # Remove stop words\n",
    "    stop_words = set(stopwords.words('english'))\n",
    "    filtered_words = [word for word in words if word not in stop_words]\n",
    "    # Count the frequency of each word\n",
    "    word_counts = Counter(filtered_words)\n",
    "\n",
    "    # Get the top N most frequent words\n",
    "    top_keywords = word_counts.most_common(top_n)\n",
    "    return ' '.join([re.sub(r'[.-:/\"\\,\\']', '', keyword) for keyword, count in top_keywords])\n",
    "    '''\n",
    "    # Remove punctuation and convert to lowercase\n",
    "    input_string = input_string.translate(str.maketrans('', '', string.punctuation)).lower()\n",
    "    # Split the string into words\n",
    "    words = input_string.split()\n",
    " \n",
    "    # Define a regular expression pattern to match web searchable keywords\n",
    "    pattern = r'^[a-zA-Z0-9]+$'\n",
    "    # Filter out non-keyword words\n",
    "    keywords = [word for word in words if re.match(pattern, word)]\n",
    "    # Join the keywords with '+'\n",
    "    output_string = ' '.join(keywords)\n",
    "    return re.sub(r'[.-:/\"\\']', ' ', output_string)\n",
    "    '''"
   ]
  },
  {
   "cell_type": "code",
   "execution_count": 190,
   "id": "02a351c1-9878-42ad-83a5-730d257191d2",
   "metadata": {},
   "outputs": [
    {
     "name": "stdout",
     "output_type": "stream",
     "text": [
      "Answer: Granulomatosis with polyangiitis (GPA), formerly known as Wegener's granulomatosis, is a rare form of vasculitis that can involve the pituitary gland in an unusual presentation. In this context, the inflammatory cells infiltrate the pituitary, causing mass effect and potentially leading to pituitary dysfunction and hormonal imbalances. This condition requires a multidisciplinary approach for accurate diagnosis and management, involving both endocrinologists and rheumatologists. \n",
      "\n",
      "Sources: ['https://www.ncbi.nlm.nih.gov/pmc/articles/PMC11127581/', 'https://www.ncbi.nlm.nih.gov/pmc/articles/PMC11127593/', 'https://www.ncbi.nlm.nih.gov/pmc/articles/PMC11127599/']\n",
      "\n",
      "Topics:['dopamine-secreting carotid body paraganglioma patient sdhb mutation - pmc', 'hypoglycemia unawareness recurrent severe individual type  diabetes mellitus insulin - pmc', 'hematospermia transgender woman evidence endometrial tissue prostate - pmc']\n"
     ]
    }
   ],
   "source": [
    "### Generate using Claude 3/ Llama 3\n",
    "\n",
    "#from langchain.prompts import PromptTemplate, ChatPromptTemplate\n",
    "from langchain_core.output_parsers import StrOutputParser\n",
    "from langchain_core.runnables import RunnableMap, RunnablePassthrough\n",
    " \n",
    "# Prompt\n",
    "prompt = PromptTemplate(\n",
    "    template=\"\"\"<|begin_of_text|><|start_header_id|>system<|end_header_id|> You are an assistant for question-answering tasks.\n",
    "    Use the following pieces of retrieved context to answer the question. Use less than 10 sentences maximum and keep the answer concise <|eot_id|><|start_header_id|>user<|end_header_id|>\n",
    "    Question: {question}\n",
    "    Context: {context}\n",
    "    Answer: <|eot_id|><|start_header_id|>assistant<|end_header_id|>\"\"\",\n",
    "    input_variables=[\"question\", \"document\"],\n",
    ")\n",
    "\n",
    "c3_template = \"\"\"You are an assistant for question-answering tasks. Use the following pieces of retrieved context to answer the question. Use  less than 10 sentences maximum and keep the answer concise. \n",
    "    \n",
    "    {context} \n",
    "    \n",
    "    Use these to craft an answer to the question: {question}\"\"\"\n",
    "c3_prompt = ChatPromptTemplate.from_template(c3_template)\n",
    "\n",
    "# Post-processing\n",
    "def format_docs(docs):\n",
    "    return \"\\n\\n\".join(doc.page_content for doc in docs)\n",
    "\n",
    "# Chain generated by using Llama 3\n",
    "#rag_chain = prompt | llm_llama3 | StrOutputParser()\n",
    "rag_chain = c3_prompt | llm_claude3 | StrOutputParser()\n",
    "\n",
    "\n",
    "# Run\n",
    "docs = retriever.invoke(rewritten_question)\n",
    "generation = rag_chain.invoke({\"context\": docs, \"question\": rewritten_question})\n",
    "topics = [extract_keywords(doc.metadata['title']) for doc in docs]\n",
    "print(f\"Answer: {generation} \\n\\nSources: {[doc.metadata['source'] for doc in docs]}\\n\\nTopics:{topics}\")"
   ]
  },
  {
   "cell_type": "markdown",
   "id": "867d296a-3feb-4b9d-ab52-5f63f55d9161",
   "metadata": {},
   "source": [
    "## 2.2 Setting Up the Hallucination Grader\n",
    "To ensure that generated answers are grounded in retrieved documents, use a hallucination grader. This grader assesses whether the answer is supported by the provided facts.\n",
    "\n",
    "Define a prompt using PromptTemplate to instruct the LLM to output a binary 'yes' or 'no' score in JSON, indicating if the answer is grounded in the documents.\n",
    "\n",
    "Invoke the grader with the generated answer and documents to validate the accuracy.\n",
    "\n",
    "Incorporating this grader helps maintain the factual accuracy of the RAG agent's responses, ensuring high-quality outputs."
   ]
  },
  {
   "cell_type": "code",
   "execution_count": 191,
   "id": "a0c60022-1d76-4828-be7d-fbbfe88e93e9",
   "metadata": {},
   "outputs": [
    {
     "name": "stderr",
     "output_type": "stream",
     "text": [
      "WARNING:langchain_core.callbacks.manager:Error in LangChainTracer.on_llm_end callback: TracerException('No indexed run ID fcce1023-e176-4fa5-add6-e1d6bc22a143.')\n"
     ]
    },
    {
     "data": {
      "text/plain": [
       "{'score': 'no'}"
      ]
     },
     "execution_count": 191,
     "metadata": {},
     "output_type": "execute_result"
    }
   ],
   "source": [
    "### Hallucination Grader using CLaude 3\n",
    "from langchain.callbacks.base import BaseCallbackHandler\n",
    "\n",
    "class MyCustomHandler(BaseCallbackHandler):\n",
    "    def on_llm_end(self, response, **kwargs):\n",
    "        print(f\"Response: {response}\")\n",
    "        \n",
    "# Prompt\n",
    "prompt = PromptTemplate(\n",
    "    template=\"\"\" <|begin_of_text|><|start_header_id|>system<|end_header_id|> You are a grader assessing whether\n",
    "    an answer is grounded in / supported by a set of facts. Give a binary score 'yes' or 'no' score to indicate\n",
    "    whether the answer is grounded in / supported by a set of facts. Provide the binary score as a JSON with a\n",
    "    single key 'score' and no preamble or explanation. <|eot_id|><|start_header_id|>user<|end_header_id|>\n",
    "    Here are the facts:\n",
    "    \\n ------- \\n\n",
    "    {documents}\n",
    "    \\n ------- \\n\n",
    "    Here is the answer: {generation}  <|eot_id|><|start_header_id|>assistant<|end_header_id|>\"\"\",\n",
    "    input_variables=[\"generation\", \"documents\"],\n",
    ")\n",
    "\n",
    "c3_template = \"\"\"You are a grader assessing whether an answer is grounded in supported by a set of facts. \n",
    "    Give a binary score 'yes' or 'no' score to indicate whether the answer is grounded in supported by a \n",
    "    set of facts. Provide the binary score as a JSON with a single key 'score' and no preamble or explanation.\n",
    "    \n",
    "    {documents} \n",
    "    \n",
    "    Here is the answer: {generation}\"\"\"\n",
    "c3_prompt = ChatPromptTemplate.from_template(c3_template)\n",
    "\n",
    "# Grade by a diff model in this case Claude 3\n",
    "hallucination_grader = prompt | llm_llama3  | JsonOutputParser() \n",
    "#hallucination_grader = c3_prompt | llm_claude3 | JsonOutputParser()\n",
    "hallucination_grader.invoke({\"documents\": docs, \"generation\": generation, \"callbacks\": [MyCustomHandler()]})"
   ]
  },
  {
   "cell_type": "markdown",
   "id": "1994d66b-d76c-41a4-b1ab-230225f8de3d",
   "metadata": {},
   "source": [
    "### 2.3 Establishing the Answer Grader\n",
    "To ensure answers are helpful and resolve the user's question, use an answer grader.\n",
    "\n",
    "Define a prompt with PromptTemplate that directs the LLM to output a binary 'yes' or 'no' score, indicating the answer's usefulness.\n",
    "\n",
    "Invoke the grader with the generated answer and user question to validate the relevance.\n",
    "\n",
    "This step ensures the RAG agent produces not only accurate but also helpful and relevant responses."
   ]
  },
  {
   "cell_type": "code",
   "execution_count": 192,
   "id": "676a3192-6cf2-4a76-a3ca-c4fa96d6a3d3",
   "metadata": {},
   "outputs": [
    {
     "name": "stderr",
     "output_type": "stream",
     "text": [
      "WARNING:langchain_core.callbacks.manager:Error in LangChainTracer.on_llm_end callback: TracerException('No indexed run ID 92c49896-2df7-44ee-bb0f-902449719020.')\n"
     ]
    },
    {
     "data": {
      "text/plain": [
       "{'score': 'yes'}"
      ]
     },
     "execution_count": 192,
     "metadata": {},
     "output_type": "execute_result"
    }
   ],
   "source": [
    "### Answer Grader for usefulness using Claude 3 / Llama -3\n",
    "\n",
    "# Prompt\n",
    "prompt = PromptTemplate(\n",
    "    template=\"\"\"<|begin_of_text|><|start_header_id|>system<|end_header_id|> You are a grader assessing whether an\n",
    "    answer is useful to resolve a question. Give a confidence binary score 'yes' or 'no' to indicate whether the answer is\n",
    "    useful to resolve a question. Provide the binary score as a JSON with a single key 'score' and no preamble or explanation.\n",
    "     <|eot_id|><|start_header_id|>user<|end_header_id|> Here is the answer:\n",
    "    \\n ------- \\n\n",
    "    {generation}\n",
    "    \\n ------- \\n\n",
    "    Here is the question: {question} <|eot_id|><|start_header_id|>assistant<|end_header_id|>\"\"\",\n",
    "    input_variables=[\"generation\", \"question\"],\n",
    ")\n",
    "\n",
    "c3_template = \"\"\"You are a grader assessing whether an\n",
    "    answer is useful to resolve a question. Give a confidence score plus a binary score 'yes' or 'no' to indicate whether the answer is\n",
    "    useful to resolve a question. Provide the binary score as a JSON with a single key 'score' and no preamble or explanation.\n",
    "    Here is the answer:\n",
    "    \n",
    "    {generation} \n",
    "    \n",
    "    Here is the question: {question} \"\"\"\n",
    "c3_prompt = ChatPromptTemplate.from_template(c3_template)\n",
    "\n",
    "answer_grader = prompt | llm_llama3 | JsonOutputParser()\n",
    "#answer_grader = c3_prompt | llm_claude3 | JsonOutputParser()\n",
    "answer_grader.invoke({\"question\": rewritten_question, \"generation\": generation})"
   ]
  },
  {
   "cell_type": "code",
   "execution_count": 193,
   "id": "d24753f0-2fe8-4257-bea2-0ba3eda4bb7e",
   "metadata": {},
   "outputs": [
    {
     "name": "stdout",
     "output_type": "stream",
     "text": [
      "Similarity score: -0.020275230124076504\n",
      "Similarity score: -0.020275230124076504\n",
      "Similarity score: -0.08120220856924298\n"
     ]
    },
    {
     "name": "stderr",
     "output_type": "stream",
     "text": [
      "/home/alfred/anaconda3/envs/dui/lib/python3.11/site-packages/langchain_core/vectorstores.py:330: UserWarning: Relevance scores must be between 0 and 1, got [(Document(page_content='AACE Clin Case Rep. 2024 May-Jun; 10(3): 109–112. Published online 2024 Mar 12.  doi:\\xa010.1016/j.aace.2024.03.003PMCID: PMC11127581PMID: 38799041Dopamine-Secreting Carotid Body Paraganglioma in a Patient With SDHB MutationKatherine Mustafa, MD,1 Sara Zadeh, MD,2 and  Silas A. Culver, MD1,∗Katherine Mustafa1Division of Endocrinology, Department of Medicine, University of Virginia Health System, Charlottesville, VirginiaFind articles by Katherine MustafaSara Zadeh2Department of Pathology, University of Virginia Health System, Charlottesville, VirginiaFind articles by Sara ZadehSilas A. Culver1Division of Endocrinology, Department of Medicine, University of Virginia Health System, Charlottesville, VirginiaFind articles by Silas A. CulverAuthor information Article notes Copyright and License information PMC Disclaimer1Division of Endocrinology, Department of Medicine, University of Virginia Health System, Charlottesville, Virginia2Department of Pathology, University of Virginia Health System, Charlottesville, VirginiaSilas A. Culver: gro.htlaehavu@uz7cas ∗Address correspondence to Dr Silas A. Culver, Division of Endocrinology and Metabolism, University of Virginia Health System, P.O. Box 801409, Charlottesville, VA 22908-1409. gro.htlaehavu@uz7casReceived 2023 Dec 8; Revised 2024 Mar 4; Accepted 2024 Mar 7.Copyright © 2024 AACE. Published by Elsevier Inc.This is an open access article under the CC BY-NC-ND license (http://creativecommons.org/licenses/by-nc-nd/4.0/).AbstractBackground/ObjectiveExclusively dopamine-secreting paragangliomas (PGLs) are rare, and the majority of head and neck PGLs are nonsecretory. Here, we describe a patient with succinate dehydrogenase subunit B (SDHB) mutation and a dopamine-secreting carotid body PGL to highlight the potential importance of screening for dopamine excess in patients with suspected PGL.Case ReportWe report a 34-year-old patient who presented with cranial nerve palsy and was found to have a cerebellopontine PGL. Biochemical testing demonstrated increased circulating dopamine levels with normal levels of other catecholamines. Dopamine excess improved with resection of the PGL, and subsequent genetic testing revealed an SDHB mutation.DiscussionSecretory head and neck PGLs and exclusively dopamine-secreting PGLs are both uncommon and rarely present together, although PGLs in patients with SDHB mutations often do produce dopamine. Although current guidelines do not recommend routine evaluation of the dopamine levels in patients at risk for PGL, dopamine-secreting PGLs are frequently locally invasive or metastatic.ConclusionScreening for dopamine excess in patients with a predisposition to PGL or with suspected PGL may aid in diagnosis and as a marker of successful treatment.Key words: paraganglioma, dopamine, SDHB mutation\\nHighlights\\n•Exclusively dopamine-secreting head and neck paragangliomas are extremely rare•Dopamine-secreting PGLs may be asymptomatic until they cause mass effect•Patients at risk for PGL may benefit from dopamine and metanephrine testing\\nClinical RelevanceExclusively dopamine-secreting head and neck paragangliomas (HNPGLs) are rare and often asymptomatic until they are large. Here, we present a case of a patient with a dopamine-secreting HNPGL and SDHB mutation, highlighting the need to consider dopamine testing in patients at risk for HNPGL.\\nIntroductionParagangliomas (PGLs) are rare neuroendocrine tumors arising from neural crest cells. The majority are located in the head and neck and are nonsecretory, with clinical presentation often incidental or associated with mass effect. Approximately 4% produce symptoms related to clinically significant catecholamine excess.1 Among hypersecretory PGLs, reports of exclusively dopamine-secreting PGLs are exceedingly rare in literature and often lack typical clinical symptoms. This presents a diagnostic challenge because these lesions can go undetected until they cause symptoms due to mass effect. Here, we present a case of an exclusively dopamine-secreting carotid body PGL associated with hereditary PGL-pheochromocytoma (PCC) syndrome. Of note, PGLs are divided by location and origin into adrenal PGLs (ie, PCC), sympathetic abdominal PGLs, sympathetic head and neck PGLs (HNPGLs), and parasympathetic HNPGLs. Because very few studies have provided separate data on sympathetic versus parasympathetic HNPGLs, we use the term HNPGL to encompass both subtypes unless stated otherwise.Case ReportA 34-year-old Caucasian man presented to an otolaryngologist with 1 year of hearing loss in the right ear and 6 months of hoarseness and dysphagia. Auditory function testing demonstrated moderately severe mixed hearing loss in the right ear. Laryngoscopy revealed right cranial nerve IX-XII neuropathy and complete right vocal cord paralysis. Magnetic resonance imaging (MRI) showed a 3.7-cm right cerebellopontine mass infiltrating the right petrous bone, right internal auditory canal, and jugular foramen (Fig.\\xa01\\nA), and he was referred to endocrinology for suspicion of an invasive right cerebellopontine PGL.Open in a separate windowFig.\\xa01A, T1 coronal magnetic resonance imaging showing the patient’s right cerebellopontine mass infiltrating the right petrous bone, right internal auditory canal, and jugular foramen. B, Gallium-68 DOTATATE positron emission tomography showing avidity of the right cerebellopontine mass and a right level II neck mass posterior to the carotid.The patient’s medical history included plaque psoriasis, generalized anxiety, and bipolar disorder with posttraumatic stress disorder. He was chronically on methotrexate 10 mg weekly, risperidone 2 mg nightly, and lithium 900 mg twice daily. He had no symptoms of catecholamine excess including headache, palpitations, diaphoresis, or hypertension. He had a paternal grandfather with glioblastoma, and his father had a history of renal oncocytoma; however, he had no other personal or family history of endocrine disorders or malignancy. Social history was unremarkable.On laboratory evaluation, the levels of fractionated plasma and 24-hour fractionated urine epinephrine, norepinephrine, metanephrine, and normetanephrine were normal. The level of fractionated plasma dopamine and 24-hour urine dopamine were increased at 1487 pg/mL (normal, <48 pg/mL) and 1262 μg/24 hours (normal, <510 μg /24 hours), respectively (Table). All plasma catecholamines, including dopamine, were obtained under supine resting conditions.TablePlasma and Urinary Metanephrine and Catecholamine MeasurementsBiochemical testResultReference valueBefore surgery\\xa0Plasma fractionated metanephrines\\xa0Normetanephrine67.2 pg/mL<210.1 pg/mL\\xa0Metanephrine30.3 pg/mL<88 pg/mL\\xa0Plasma fractionated catecholamines\\xa0Norepinephrine445 pg/mL<874 pg/mL\\xa0Epinephrine41 pg/mL<62 pg/mL\\xa0Dopamine1487 pg/mL<48 pg/mL\\xa024-h urinary fractionated metanephrines\\xa0Normetanephrine652 μg/24 h156-729 μg/24 h\\xa0Metanephrine183 μg/24 h58-276 μg/24 h\\xa024-h urinary fractionated catecholamines\\xa0Norepinephrine89 μg/24 h<135 μg/24 h\\xa0Epinephrine19 μg/24 h<20 μg/24 h\\xa0Dopamine1262 μg/24 h510 μg/24 hAfter surgery\\xa0Plasma fractionated catecholamines\\xa0Norepinephrine551 pg/mL<874 pg/mL\\xa0Epinephrine<25 pg/mL<62 pg/mL\\xa0Dopaminea264 pg/mL<48 pg/mLOpen in a separate windowaAbnormal laboratory values are bolded.Follow-up computed tomography of the chest, abdomen, and pelvis did not show further neoplastic disease. Gallium-68 DOTATATE positron emission tomography revealed an avid 3.4\\xa0× 2.6–cm right cerebellopontine mass and a separate focus of uptake at level II in the neck, posterior to the left carotid (Fig.\\xa01\\nB). The patient underwent surgical debulking with a right translabyrinthine and infratemporal fossa approach and right neck dissection with excisional biopsy of the neck mass. Debulking was limited by vascularity of the cerebellopontine mass and challenging hemostasis intraoperatively. The level II neck mass was fully excised from within the carotid sheath near the carotid bifurcation, and intraoperative frozen tissue analysis revealed a separate 0.8\\xa0× 0.5–cm right carotid sheath PGL. Histopathologic examination of both masses showed nested eosinophilic cells with mild nuclear atypia and delicate spindled sustentacular cells at the periphery of tumor nests consistent with carotid sheath PGLs (Fig.\\xa02\\nA). Synaptophysin staining showed diffuse expression, and S100 staining highlighted peripheral sustentacular cells, supporting the morphologic impression of PGLs (Fig.\\xa02\\nB and C). He had a residual tumor of 3.2\\xa0× 1.9\\xa0× 1.9 cm on immediately postoperative MRI and subsequently initiated adjuvant radiation therapy. On MRI at 6 and 12 months after completion of radiation therapy, the sizes of the residual tumor decreased to 3.0\\xa0× 1.7\\xa0× 2.9 and 2.9\\xa0× 1.6\\xa0× 2.7 cm, respectively. The plasma fractionated dopamine level 3 months postoperatively was 264 pg/mL.Open in a separate windowFig.\\xa02A, Hematoxylin and eosin–stained section of paraganglioma showing nests of bland tumor cells with round nuclei and abundant granular eosinophilic cytoplasm. B, Immunohistochemical staining for synaptophysin was diffusely positive. C, S100 showed sustentacular staining at the periphery of tumor cell nests, supporting the diagnosis. D, Staining for SDHB showed aberrant loss of expression within the tumor.Follow-up staining of the histopathologic specimen showed loss of succinate dehydrogenase subunit B (SDHB) expression, suggestive of a mutation in the succinate dehydrogenase enzyme complex (Fig.\\xa02\\nD). Genetic testing through Invitae Genetics was positive for hereditary PGL-PCC syndrome, with a pathogenic variant in SDHB, delEX1. His father and sister subsequently tested positive for the same pathogenic variant of SDHB, although their results for MRI of the skull base through the pelvis as well as plasma metanephrine and 24-hour urine dopamine levels were normal.DiscussionCarotid body tumors comprise the majority of HNPGLs, accounting for up to 60% of cases with an estimated annual incidence of 1 in 30\\u2009000.2 HNPGLs are typically nonsecretory. Only approximately 4% produce symptoms related to clinically significant catecholamine excess, usually identified as norepinephrine and/or epinephrine.1 Reports of exclusively dopamine-secreting tumors in the literature are rare. Miyamoto et\\xa0al3 reported only 33 total cases of exclusively dopamine-secreting PCC and PGL to date, with 12 of these located within the head and neck.The diagnosis of an exclusively dopamine-secreting PGL is challenging. Patients usually do not have a clinically distinct presentation. In a 2005 case study by Eisenhofer et\\xa0al,4,5 3 of 9 patients with a biochemically documented dopamine-secreting PGL presented with nausea and vomiting, although the patient in this case did not have these symptoms. As in our case, symptoms are frequently associated with local mass effect or are found incidentally. The paroxysmal sweating, palpitations, headaches, and hypertension usually ascribed to the adrenergic effects of excess norepinephrine and epinephrine are absent, and patients are often normotensive.3,6 The diagnostic standard for biochemical evaluation of PGL is the measurement of norepinephrine and epinephrine metabolites in plasma and urine. The sensitivity rates of fractionated and urinary plasma metanephrines are near 100%7; however, dopamine excess is not routinely measured, and current guidelines do not recommend routine screening of urine and plasma dopamine.8 Dopamine-secreting PGLs often have delayed presentation, leading to larger tumors at discovery with greater metastatic potential. The rate of metastatic dopamine-secreting tumors is reportedly as high as 66% to 90%, significantly higher than the 21% to 29% in norepinephrine- and epinephrine-secreting tumors.9 On one hand, this suggests that routine measurement of dopamine in patients at risk for PGL could aid in earlier diagnosis. Van Der Horst-Schrivers et\\xa0al8 reported that 14% of patients with HNPGLs had increased urine dopamine levels without increased metanephrine levels. Given how rarely dopamine-secreting HNPGLs are diagnosed, this implies that a significant number of these tumors remain undiagnosed due to lack of testing. Conversely, dopamine measurements can be affected by environmental factors and inaccurate collection methods, increasing the risk of false-positive results.10 As current guidelines already recommend regular MRI screening of patients at genetic risk for PGL, the added benefit of dopamine screening remains unknown. Measurement of dopamine metabolites, such as methoxytyramine, may also improve detection of HNPGLs, although this was not tested in this patient.11Diagnosis in our patient was further complicated by first-generation antipsychotic use and the question of whether these dopamine antagonists could have increased the peripheral dopamine levels. To our knowledge, no available study has investigated the effects of antipsychotic drugs on peripheral dopamine. Boyda et\\xa0al12 showed no change in the peripheral dopamine levels in rats treated with low-dose risperidone and only a moderate increase with high-dose risperidone. Despite remaining on stable risperidone dosing throughout his course, our patient experienced an 82% postoperative reduction in the dopamine level. Thus, we presumed the significant excess of dopamine in our patient derived from a tumoral source. This suggests that serial dopamine measurements aid in monitoring patients treated for exclusively dopamine-secreting HNPGL.Definitive management of a PGL includes surgical resection, with radiation therapy for residual or nonresectable disease. In contrast to management of epinephrine- or norepinephrine-secreting PGL, perioperative adrenergic blockade can be withheld during resection of exclusively dopamine-secreting PGL because there is minimal risk of periprocedural hypertension and cardiovascular collapse.9 Definitive diagnosis of a PGL requires assessment of tissue histopathology; however, we are not aware of any reliable method of supporting the diagnosis of an exclusively dopamine-secreting tumor on histopathology.Immunostaining of tissue for SDHB does assist with identifying patients with hereditary PGL-PCC syndromes associated with germline mutations of succinate dehydrogenase. Sympathetic PGLs are most often familial and commonly associated with the SDHB and SDHD gene mutations. SDHB mutations are inherited in an autosomal dominant pattern, with incomplete and age-dependent penetrance. The predominant biochemical phenotype is hypersecretion of norepinephrine or dopamine, with only 10% of tumors exhibiting biochemical silence. This is in contrast to the previously discussed behavior of sporadic HNPGLs or HNPGLs without succinyl dehydrogenase (SDH) mutations, which are rarely secretory. Importantly, those with SDHB mutations also have elevated chance of metastatic PGL compared with those with sporadic disease or other pathogenic SDH mutations, and screening for metastatic disease at time of presentation is recommended.4 Nonetheless, current international consensus guidelines do not recommend routine screening of the dopamine levels in patients with SDHB mutations.13ConclusionsExclusively dopamine-secreting PGLs remain an extremely rare clinical entity, with further rarity of those located within the head and neck. Although a guideline-based screening approach remains lacking, the increased risk of metastasis and the heritability associated with these tumors indicate the need for reassessment of current screening considerations. In a patient with presumed nonsecretory PGL based on normal norepinephrine and epinephrine metabolites or in the setting of a known SDH mutation, screening for dopamine hypersecretion could be considered to aid in diagnosis and monitoring.DisclosureThe authors have no conflicts of interest to disclose.AcknowledgmentThis study was supported by the National Institutes of Health', metadata={'language': 'en', 'source': 'https://www.ncbi.nlm.nih.gov/pmc/articles/PMC11127581/', 'title': 'Dopamine-Secreting Carotid Body Paraganglioma in a Patient With SDHB Mutation - PMC'}), -0.020275230124076504), (Document(page_content='AACE Clin Case Rep. 2024 May-Jun; 10(3): 109–112. Published online 2024 Mar 12.  doi:\\xa010.1016/j.aace.2024.03.003PMCID: PMC11127581PMID: 38799041Dopamine-Secreting Carotid Body Paraganglioma in a Patient With SDHB MutationKatherine Mustafa, MD,1 Sara Zadeh, MD,2 and  Silas A. Culver, MD1,∗Katherine Mustafa1Division of Endocrinology, Department of Medicine, University of Virginia Health System, Charlottesville, VirginiaFind articles by Katherine MustafaSara Zadeh2Department of Pathology, University of Virginia Health System, Charlottesville, VirginiaFind articles by Sara ZadehSilas A. Culver1Division of Endocrinology, Department of Medicine, University of Virginia Health System, Charlottesville, VirginiaFind articles by Silas A. CulverAuthor information Article notes Copyright and License information PMC Disclaimer1Division of Endocrinology, Department of Medicine, University of Virginia Health System, Charlottesville, Virginia2Department of Pathology, University of Virginia Health System, Charlottesville, VirginiaSilas A. Culver: gro.htlaehavu@uz7cas ∗Address correspondence to Dr Silas A. Culver, Division of Endocrinology and Metabolism, University of Virginia Health System, P.O. Box 801409, Charlottesville, VA 22908-1409. gro.htlaehavu@uz7casReceived 2023 Dec 8; Revised 2024 Mar 4; Accepted 2024 Mar 7.Copyright © 2024 AACE. Published by Elsevier Inc.This is an open access article under the CC BY-NC-ND license (http://creativecommons.org/licenses/by-nc-nd/4.0/).AbstractBackground/ObjectiveExclusively dopamine-secreting paragangliomas (PGLs) are rare, and the majority of head and neck PGLs are nonsecretory. Here, we describe a patient with succinate dehydrogenase subunit B (SDHB) mutation and a dopamine-secreting carotid body PGL to highlight the potential importance of screening for dopamine excess in patients with suspected PGL.Case ReportWe report a 34-year-old patient who presented with cranial nerve palsy and was found to have a cerebellopontine PGL. Biochemical testing demonstrated increased circulating dopamine levels with normal levels of other catecholamines. Dopamine excess improved with resection of the PGL, and subsequent genetic testing revealed an SDHB mutation.DiscussionSecretory head and neck PGLs and exclusively dopamine-secreting PGLs are both uncommon and rarely present together, although PGLs in patients with SDHB mutations often do produce dopamine. Although current guidelines do not recommend routine evaluation of the dopamine levels in patients at risk for PGL, dopamine-secreting PGLs are frequently locally invasive or metastatic.ConclusionScreening for dopamine excess in patients with a predisposition to PGL or with suspected PGL may aid in diagnosis and as a marker of successful treatment.Key words: paraganglioma, dopamine, SDHB mutation\\nHighlights\\n•Exclusively dopamine-secreting head and neck paragangliomas are extremely rare•Dopamine-secreting PGLs may be asymptomatic until they cause mass effect•Patients at risk for PGL may benefit from dopamine and metanephrine testing\\nClinical RelevanceExclusively dopamine-secreting head and neck paragangliomas (HNPGLs) are rare and often asymptomatic until they are large. Here, we present a case of a patient with a dopamine-secreting HNPGL and SDHB mutation, highlighting the need to consider dopamine testing in patients at risk for HNPGL.\\nIntroductionParagangliomas (PGLs) are rare neuroendocrine tumors arising from neural crest cells. The majority are located in the head and neck and are nonsecretory, with clinical presentation often incidental or associated with mass effect. Approximately 4% produce symptoms related to clinically significant catecholamine excess.1 Among hypersecretory PGLs, reports of exclusively dopamine-secreting PGLs are exceedingly rare in literature and often lack typical clinical symptoms. This presents a diagnostic challenge because these lesions can go undetected until they cause symptoms due to mass effect. Here, we present a case of an exclusively dopamine-secreting carotid body PGL associated with hereditary PGL-pheochromocytoma (PCC) syndrome. Of note, PGLs are divided by location and origin into adrenal PGLs (ie, PCC), sympathetic abdominal PGLs, sympathetic head and neck PGLs (HNPGLs), and parasympathetic HNPGLs. Because very few studies have provided separate data on sympathetic versus parasympathetic HNPGLs, we use the term HNPGL to encompass both subtypes unless stated otherwise.Case ReportA 34-year-old Caucasian man presented to an otolaryngologist with 1 year of hearing loss in the right ear and 6 months of hoarseness and dysphagia. Auditory function testing demonstrated moderately severe mixed hearing loss in the right ear. Laryngoscopy revealed right cranial nerve IX-XII neuropathy and complete right vocal cord paralysis. Magnetic resonance imaging (MRI) showed a 3.7-cm right cerebellopontine mass infiltrating the right petrous bone, right internal auditory canal, and jugular foramen (Fig.\\xa01\\nA), and he was referred to endocrinology for suspicion of an invasive right cerebellopontine PGL.Open in a separate windowFig.\\xa01A, T1 coronal magnetic resonance imaging showing the patient’s right cerebellopontine mass infiltrating the right petrous bone, right internal auditory canal, and jugular foramen. B, Gallium-68 DOTATATE positron emission tomography showing avidity of the right cerebellopontine mass and a right level II neck mass posterior to the carotid.The patient’s medical history included plaque psoriasis, generalized anxiety, and bipolar disorder with posttraumatic stress disorder. He was chronically on methotrexate 10 mg weekly, risperidone 2 mg nightly, and lithium 900 mg twice daily. He had no symptoms of catecholamine excess including headache, palpitations, diaphoresis, or hypertension. He had a paternal grandfather with glioblastoma, and his father had a history of renal oncocytoma; however, he had no other personal or family history of endocrine disorders or malignancy. Social history was unremarkable.On laboratory evaluation, the levels of fractionated plasma and 24-hour fractionated urine epinephrine, norepinephrine, metanephrine, and normetanephrine were normal. The level of fractionated plasma dopamine and 24-hour urine dopamine were increased at 1487 pg/mL (normal, <48 pg/mL) and 1262 μg/24 hours (normal, <510 μg /24 hours), respectively (Table). All plasma catecholamines, including dopamine, were obtained under supine resting conditions.TablePlasma and Urinary Metanephrine and Catecholamine MeasurementsBiochemical testResultReference valueBefore surgery\\xa0Plasma fractionated metanephrines\\xa0Normetanephrine67.2 pg/mL<210.1 pg/mL\\xa0Metanephrine30.3 pg/mL<88 pg/mL\\xa0Plasma fractionated catecholamines\\xa0Norepinephrine445 pg/mL<874 pg/mL\\xa0Epinephrine41 pg/mL<62 pg/mL\\xa0Dopamine1487 pg/mL<48 pg/mL\\xa024-h urinary fractionated metanephrines\\xa0Normetanephrine652 μg/24 h156-729 μg/24 h\\xa0Metanephrine183 μg/24 h58-276 μg/24 h\\xa024-h urinary fractionated catecholamines\\xa0Norepinephrine89 μg/24 h<135 μg/24 h\\xa0Epinephrine19 μg/24 h<20 μg/24 h\\xa0Dopamine1262 μg/24 h510 μg/24 hAfter surgery\\xa0Plasma fractionated catecholamines\\xa0Norepinephrine551 pg/mL<874 pg/mL\\xa0Epinephrine<25 pg/mL<62 pg/mL\\xa0Dopaminea264 pg/mL<48 pg/mLOpen in a separate windowaAbnormal laboratory values are bolded.Follow-up computed tomography of the chest, abdomen, and pelvis did not show further neoplastic disease. Gallium-68 DOTATATE positron emission tomography revealed an avid 3.4\\xa0× 2.6–cm right cerebellopontine mass and a separate focus of uptake at level II in the neck, posterior to the left carotid (Fig.\\xa01\\nB). The patient underwent surgical debulking with a right translabyrinthine and infratemporal fossa approach and right neck dissection with excisional biopsy of the neck mass. Debulking was limited by vascularity of the cerebellopontine mass and challenging hemostasis intraoperatively. The level II neck mass was fully excised from within the carotid sheath near the carotid bifurcation, and intraoperative frozen tissue analysis revealed a separate 0.8\\xa0× 0.5–cm right carotid sheath PGL. Histopathologic examination of both masses showed nested eosinophilic cells with mild nuclear atypia and delicate spindled sustentacular cells at the periphery of tumor nests consistent with carotid sheath PGLs (Fig.\\xa02\\nA). Synaptophysin staining showed diffuse expression, and S100 staining highlighted peripheral sustentacular cells, supporting the morphologic impression of PGLs (Fig.\\xa02\\nB and C). He had a residual tumor of 3.2\\xa0× 1.9\\xa0× 1.9 cm on immediately postoperative MRI and subsequently initiated adjuvant radiation therapy. On MRI at 6 and 12 months after completion of radiation therapy, the sizes of the residual tumor decreased to 3.0\\xa0× 1.7\\xa0× 2.9 and 2.9\\xa0× 1.6\\xa0× 2.7 cm, respectively. The plasma fractionated dopamine level 3 months postoperatively was 264 pg/mL.Open in a separate windowFig.\\xa02A, Hematoxylin and eosin–stained section of paraganglioma showing nests of bland tumor cells with round nuclei and abundant granular eosinophilic cytoplasm. B, Immunohistochemical staining for synaptophysin was diffusely positive. C, S100 showed sustentacular staining at the periphery of tumor cell nests, supporting the diagnosis. D, Staining for SDHB showed aberrant loss of expression within the tumor.Follow-up staining of the histopathologic specimen showed loss of succinate dehydrogenase subunit B (SDHB) expression, suggestive of a mutation in the succinate dehydrogenase enzyme complex (Fig.\\xa02\\nD). Genetic testing through Invitae Genetics was positive for hereditary PGL-PCC syndrome, with a pathogenic variant in SDHB, delEX1. His father and sister subsequently tested positive for the same pathogenic variant of SDHB, although their results for MRI of the skull base through the pelvis as well as plasma metanephrine and 24-hour urine dopamine levels were normal.DiscussionCarotid body tumors comprise the majority of HNPGLs, accounting for up to 60% of cases with an estimated annual incidence of 1 in 30\\u2009000.2 HNPGLs are typically nonsecretory. Only approximately 4% produce symptoms related to clinically significant catecholamine excess, usually identified as norepinephrine and/or epinephrine.1 Reports of exclusively dopamine-secreting tumors in the literature are rare. Miyamoto et\\xa0al3 reported only 33 total cases of exclusively dopamine-secreting PCC and PGL to date, with 12 of these located within the head and neck.The diagnosis of an exclusively dopamine-secreting PGL is challenging. Patients usually do not have a clinically distinct presentation. In a 2005 case study by Eisenhofer et\\xa0al,4,5 3 of 9 patients with a biochemically documented dopamine-secreting PGL presented with nausea and vomiting, although the patient in this case did not have these symptoms. As in our case, symptoms are frequently associated with local mass effect or are found incidentally. The paroxysmal sweating, palpitations, headaches, and hypertension usually ascribed to the adrenergic effects of excess norepinephrine and epinephrine are absent, and patients are often normotensive.3,6 The diagnostic standard for biochemical evaluation of PGL is the measurement of norepinephrine and epinephrine metabolites in plasma and urine. The sensitivity rates of fractionated and urinary plasma metanephrines are near 100%7; however, dopamine excess is not routinely measured, and current guidelines do not recommend routine screening of urine and plasma dopamine.8 Dopamine-secreting PGLs often have delayed presentation, leading to larger tumors at discovery with greater metastatic potential. The rate of metastatic dopamine-secreting tumors is reportedly as high as 66% to 90%, significantly higher than the 21% to 29% in norepinephrine- and epinephrine-secreting tumors.9 On one hand, this suggests that routine measurement of dopamine in patients at risk for PGL could aid in earlier diagnosis. Van Der Horst-Schrivers et\\xa0al8 reported that 14% of patients with HNPGLs had increased urine dopamine levels without increased metanephrine levels. Given how rarely dopamine-secreting HNPGLs are diagnosed, this implies that a significant number of these tumors remain undiagnosed due to lack of testing. Conversely, dopamine measurements can be affected by environmental factors and inaccurate collection methods, increasing the risk of false-positive results.10 As current guidelines already recommend regular MRI screening of patients at genetic risk for PGL, the added benefit of dopamine screening remains unknown. Measurement of dopamine metabolites, such as methoxytyramine, may also improve detection of HNPGLs, although this was not tested in this patient.11Diagnosis in our patient was further complicated by first-generation antipsychotic use and the question of whether these dopamine antagonists could have increased the peripheral dopamine levels. To our knowledge, no available study has investigated the effects of antipsychotic drugs on peripheral dopamine. Boyda et\\xa0al12 showed no change in the peripheral dopamine levels in rats treated with low-dose risperidone and only a moderate increase with high-dose risperidone. Despite remaining on stable risperidone dosing throughout his course, our patient experienced an 82% postoperative reduction in the dopamine level. Thus, we presumed the significant excess of dopamine in our patient derived from a tumoral source. This suggests that serial dopamine measurements aid in monitoring patients treated for exclusively dopamine-secreting HNPGL.Definitive management of a PGL includes surgical resection, with radiation therapy for residual or nonresectable disease. In contrast to management of epinephrine- or norepinephrine-secreting PGL, perioperative adrenergic blockade can be withheld during resection of exclusively dopamine-secreting PGL because there is minimal risk of periprocedural hypertension and cardiovascular collapse.9 Definitive diagnosis of a PGL requires assessment of tissue histopathology; however, we are not aware of any reliable method of supporting the diagnosis of an exclusively dopamine-secreting tumor on histopathology.Immunostaining of tissue for SDHB does assist with identifying patients with hereditary PGL-PCC syndromes associated with germline mutations of succinate dehydrogenase. Sympathetic PGLs are most often familial and commonly associated with the SDHB and SDHD gene mutations. SDHB mutations are inherited in an autosomal dominant pattern, with incomplete and age-dependent penetrance. The predominant biochemical phenotype is hypersecretion of norepinephrine or dopamine, with only 10% of tumors exhibiting biochemical silence. This is in contrast to the previously discussed behavior of sporadic HNPGLs or HNPGLs without succinyl dehydrogenase (SDH) mutations, which are rarely secretory. Importantly, those with SDHB mutations also have elevated chance of metastatic PGL compared with those with sporadic disease or other pathogenic SDH mutations, and screening for metastatic disease at time of presentation is recommended.4 Nonetheless, current international consensus guidelines do not recommend routine screening of the dopamine levels in patients with SDHB mutations.13ConclusionsExclusively dopamine-secreting PGLs remain an extremely rare clinical entity, with further rarity of those located within the head and neck. Although a guideline-based screening approach remains lacking, the increased risk of metastasis and the heritability associated with these tumors indicate the need for reassessment of current screening considerations. In a patient with presumed nonsecretory PGL based on normal norepinephrine and epinephrine metabolites or in the setting of a known SDH mutation, screening for dopamine hypersecretion could be considered to aid in diagnosis and monitoring.DisclosureThe authors have no conflicts of interest to disclose.AcknowledgmentThis study was supported by the National Institutes of Health', metadata={'language': 'en', 'source': 'https://www.ncbi.nlm.nih.gov/pmc/articles/PMC11127581/', 'title': 'Dopamine-Secreting Carotid Body Paraganglioma in a Patient With SDHB Mutation - PMC'}), -0.020275230124076504), (Document(page_content='Copy\\n\\n\\n\\n\\n\\n\\n\\n\\nRESOURCES\\n\\n\\n\\n\\n                        Similar articles\\n                    \\n\\n\\n\\n\\n\\n\\n\\n                        Cited by other articles\\n                    \\n\\n\\n\\n\\n\\n\\n\\n                        Links to NCBI Databases\\n                    \\n\\n\\n\\n\\n\\n\\n\\n\\n\\n\\n\\n\\n\\n\\n\\nJournal List\\n\\n\\nAACE Clin Case Rep\\n\\n\\nv.10(3); May-Jun 2024\\n\\n\\n                    PMC11127584\\n                \\n\\n\\n\\n    As a library, NLM provides access to scientific literature. Inclusion in an NLM database does not imply endorsement of, or agreement with,\\n    the contents by NLM or the National Institutes of Health.\\n    Learn more:\\n    PMC Disclaimer\\n    |\\n    \\n        PMC Copyright Notice\\n    \\n\\n\\n\\n\\n\\nAACE Clin Case Rep. 2024 May-Jun; 10(3): 97–100. Published online 2024 Feb 29.  doi:\\xa010.1016/j.aace.2024.02.008PMCID: PMC11127584PMID: 38799050A Case of Primary Hyperparathyroidism Secondary to Parathyroid Adenoma in a Pediatric PatientGannon J. Ray, MD,1,∗ Joe S. Liles, MD,2 and  Whei Ying Lim, MBBS3Gannon J. Ray1Department of Internal Medicine/Pediatrics, University of South Alabama, Mobile, AlabamaFind articles by Gannon J. RayJoe S. Liles2Department of Surgery, University of South Alabama, Mobile, AlabamaFind articles by Joe S. LilesWhei Ying Lim3Department of Pediatric Endocrinology, University of South Alabama, Mobile, AlabamaFind articles by Whei Ying LimAuthor information Article notes Copyright and License information PMC Disclaimer1Department of Internal Medicine/Pediatrics, University of South Alabama, Mobile, Alabama2Department of Surgery, University of South Alabama, Mobile, Alabama3Department of Pediatric Endocrinology, University of South Alabama, Mobile, AlabamaGannon J. Ray: ude.amabalahtuos.htlaeh@yarg ∗Address correspondence to Dr Gannon J. Ray, MD, Department of Internal Medicine/Pediatrics, University of South Alabama, 2451 University Hospital Dr, Mobile, AL 36617. ude.amabalahtuos.htlaeh@yargReceived 2023 Dec 12; Revised 2024 Feb 15; Accepted 2024 Feb 26.Copyright © 2024 AACE. Published by Elsevier Inc.This is an open access article under the CC BY-NC-ND license (http://creativecommons.org/licenses/by-nc-nd/4.0/).AbstractBackground/ObjectiveAlthough common in adults, primary hyperparathyroidism (PHPT) is a rare condition in children with the most common etiology being solitary parathyroid adenoma (PTA). The typical presentation is symptomatic hypercalcemia. Management of PHTP secondary to PTA requires excision of the adenoma.Case ReportA 13-year-old adolescent boy presented because of orbital cellulitis and was noted to have hypercalcemia. Despite this, the patient was curiously asymptomatic. Further investigations yielded an elevated parathyroid hormone (PTH) level and a normal urine calcium-to-creatinine ratio making the most likely cause of hypercalcemia PHTP secondary to PTA. Imaging demonstrated PTA. The patient underwent parathyroidectomy with the pathology demonstrating PTA. Postoperatively, the PTH levels were undetectable; hence, the patient was treated with calcitriol and calcium supplementation for 1 month and 4 months, respectively. Genetic work-up for multiple endocrine neoplasia 1 and rearranged during transfection mutations was negative.DiscussionSolitary PTA is the most common cause of PHPT. Adenomas are mostly sporadic or may be a manifestation of an inheritable syndrome, such as multiple endocrine neoplasia. Although symptomatic disease is more common in children, our patient denied any hypercalcemia symptoms. The distinguishing biochemical feature of PHPT because of PTA is high or inappropriately normal PTH level in the context of high-normal or elevated serum calcium levels. Urinary calcium excretion is usually normal or high. PTAs are localized by ultrasound and Tc-99m-Sestamibi scintigraphy. Management includes parathyroidectomy and monitoring for postoperative hypocalcemia.ConclusionIn a child or adolescent presenting with hypercalcemia and elevated PTH levels, it is important to consider PHPT secondary to PTA, because an early diagnosis will aid in preventing complications from hypercalcemia.Key words: hypercalcemia, primary hyperparathyroidism, parathyroid adenoma\\nHighlights\\n•Although common in adults, primary hyperparathyroidism is a rare condition in children.•The most common etiology of hyperparathyroidism in children or adolescent is single parathyroid adenoma.•Primary hyperparathyroidism in pediatrics commonly presents as symptomatic hypercalcemia.•The treatment for primary hyperparathyroidism secondary to adenoma is excision of the adenoma.\\nClinical RelevanceIn pediatric patients, primary hyperparathyroidism secondary to parathyroid adenoma is a rare condition. In a child or adolescent presenting with hypercalcemia and elevated PTH levels, it is important to consider this condition as an early diagnosis, which will help prevent complications related to hypercalcemia.\\nIntroductionAlthough common in adults, primary hyperparathyroidism (PHPT) is a rare condition in children or adolescents. The approximate incidence is 2 to 5 per 100 000 children.1 The most common etiology of PHPT in children or adolescents is solitary parathyroid adenoma (PTA) accounting for 70% to 80% of cases.2 In contrast to adults, in whom the most common presentation of PHPT is asymptomatic hypercalcemia, children and adolescents with PHPT are typically symptomatic.1 Excision of the PTA is the best treatment for children or adolescents with PHPT secondary to adenoma.3 Here, we present a pediatric patient with asymptomatic hypercalcemia subsequently found to have PTA on Tc-99m-Sestamibi scintigraphy and cured by parathyroidectomy.Case ReportA previously healthy 13-year-old African American adolescent boy was admitted for intravenous antibiotics due to left orbital cellulitis. He was noted to have elevated calcium levels (total calcium when corrected for albumin—14.8 mg/dL and ionized calcium 6.73 mg/dL) on initial laboratory tests. Despite this, the patient was curiously asymptomatic and denied any constipation, anorexia, nausea, polydipsia, polyuria, muscle weakness, or bone pain. The patient’s mother denied any family history of hypercalcemia. The patient was born full-term with an uncomplicated birth history. Previously, the patient was noted to have an abnormal head shape, underwent brain magnetic resonance imaging, and no further work-up was indicated. Other medical history included a diagnosis of attention-deficit or hyperactivity disorder. Medications included amphetamine or dextroamphetamine, guanfacine, and trazodone. In addition on presentation, the patient appeared well-hydrated with normal vital signs, moist mucous membranes, normal capillary refill, and normal skin turgor. This was further reflected by a normal blood urea nitrogen and serum creatinine level. Repeat calcium levels remained elevated, which prompted further investigations. He was found to have elevated parathyroid hormone (PTH), elevated 1-25 hydroxyvitamin D, low 25-hydroxyvitamin D, and the random urine calcium-to-creatinine ratio was 0.15 for a calcium of 14.2 mg/dL (See Table). Because these laboratory test results revealed PHPT and normal urine calcium-to-creatinine ratio, the most likely cause of hypercalcemia was PTA. Thyroid ultrasound showed right PTA vs thyroid nodule, and Tc-99m-Sestamibi scintigraphy showed right PTA measuring 2.3\\xa0× 0.8 cm (See Figs.\\xa01 and \\u200band2).2). The renal ultrasound was negative for nephrolithiasis and nephrocalcinosis.TableTimeline of Laboratory Values From Diagnosis to Postoperative Follow-upLaboratory valuesReference rangeAt diagnosisPost parathyroidectomy (3 mo after diagnosis)Last outpatient follow-up (8 mo after diagnosis)Calcium (mg/dL)8.5-10.114.29.29.9Phosphorus (mg/dL)3.3-5.42.63.54.6Parathyroid Hormone (pg/mL)13.8-85251.9<6.540.1BUN (mg/dL)7-1861412Creatinine (mg/dL)0.4-0.80.60.480.651,25-hydroxyvitamin D (pg/mL)19.9-79.3153Not availableNot available25-hydroxyvitamin D (pg/mL)>206Not available45Random urine calcium-to-creatinine ratio (inherently unitless)Not applicable0.15Not availableNot availableOpen in a separate windowAbbreviation: BUN\\xa0= blood urea nitrogen.Open in a separate windowFig.\\xa01Parathyroid or thyroid ultrasonography demonstrates a 0.9\\xa0× 0.4\\xa0× 0.6 cm isoechoic nodule inseparable from posterior or mid right thyroid lobe. No significant internal color flow.Open in a separate windowFig 2Parathyroid scintigraphy demonstrates radiotracer activity in both thyroid lobes within 15 minutes (left image) and with residual activity in the right thyroid lobe after 2 hour delay (right image).The patient underwent parathyroidectomy of the right superior parathyroid gland, and the remaining parathyroid glands were visualized and reported to be normal in size and left intact. Pathology report demonstrated a PTA weighing 1.3 g. (See Fig.\\xa03). Postoperatively, the PTH levels were undetectable (See Table), so the patient was treated with calcitriol, calcium, and Vitamin D supplementation. Calcitriol was weaned off after 1 month, calcium supplementation was weaned off after 4 months, and the patient continues to take a maintenance dose of Vitamin D 1000 units daily. In addition, the patient was evaluated for multiple endocrine neoplasia (MEN) with resultant genetic work-up negative for MEN1 and rearranged during transfection (RET) gene mutations.Open in a separate windowFig 3Hematoxylin and eosin stain of parathyroid adenoma at\\xa0×200 magnification. Histopathologic findings include tissue that is densely cellular, richly vascularized, predominantly composed of chief cells with a few scattered oxyphil cells, and focally prominent anisonucleosis.DiscussionPTA is the most common cause of PHPT. PTAs are more common in women.2 The female-to-male ratio of PHPT is about 3-4:1.4 Interestingly, our patient is an adolescent boy. Adenomas are predominately sporadic or may be a component of a syndrome, such as MEN types 1, 2A, and 4; hyperparathyroidism-jaw tumor syndrome (HPT-JT); and familial isolated hyperparathyroidism syndromes.2 Primary hyperparathyroidism can also be due to CaSR mutation, such as familial hypocalciuric hypercalcemia and neonatal severe hyperparathyroidism, which are distinguished by decreased calcium excretion with resultant hypocalciuria.2 Genetic basis for PHPT occurs in approximately 10% of all patients with PHPT.5Although symptomatic disease is more common in children or adolescents, our patient denied any hypercalcemia symptoms. Symptomatic patients will experience symptoms, such as nephrolithiasis, polydipsia, polyuria, bone pain, muscle weakness, anorexia, nausea, constipation, fatigue, depression, anxiety, and difficulty with memory and concentration.The critical biochemical features of PHPT due to PTA are high or inappropriately normal PTH level in the context of a high-normal or elevated serum calcium level. Urinary calcium excretion is usually normal or high in contrast to familial hypocalciuric hypercalcemia where it is characteristically low. The preoperative location of PTA is evaluated by neck ultrasound and Tc-99m-Sestamibi scintigraphy. The combined use of these imaging modalities for localization has demonstrated high sensitivities up to 94.5%.1 Once the PTA is localized by imaging, patients typically undergo parathyroidectomy. The cure rate and resolution of hypercalcemia symptoms after surgery is close to 97%.6 Postoperative hypocalcemia is a potential complication that needs to be monitored closely. In our case, the patient’s PTH was undetectable after surgery, but the serum calcium level was not low. However, he was preemptively treated with calcium and calcitriol to prevent this complication.The use of molecular biology testing for germline or somatic mutations or de novo mutations of PHPT can be of clinical value. Germline mutations in the MEN1 (MEN1), RET (MEN2), and CDKN1B (MEN4) genes lead to multigland hyperplasia.7 By testing individuals for these mutations, it aids in establishing a diagnosis in a patient presenting with isolated PHPT, screening asymptomatic relatives of a known carrier, and allowing for earlier detection of tumors in patients who carry a mutation. Our patient was only tested for MEN1 and RET gene mutations of which he tested negative. Similarly, testing for mutations of the CDC73 gene yields a genetic diagnosis of HPT-JT in a patient presenting with PHPT and a suggestible history as well as allows for screening of asymptomatic relatives of a known carrier, which aids in early diagnosis and treatment of PHPT and malignancy. Finally, testing for mutations of the CaSR gene helps make a genetic diagnosis of familial hypocalciuric hypercalcemia. This can prove useful when a confirmed diagnosis is needed to avoid parathyroid surgery; however, a negative test does not exclude the diagnosis.5ConclusionAlthough PHPT is common in adults, it is a rare condition in pediatric patients. The most common cause of PHPT in children or adolescents is single PTA, so it is important to consider PTA in children or adolescents who present with hypercalcemia and elevated PTH levels. Early diagnosis will help prevent complications related to hypercalcemia, such as arrhythmia, pancreatitis, and nephrolithiasis.DisclosureThe authors have no conflicts of interest to disclose.AcknowledgmentPatient’s guardian permission was obtained before the publishing of this manuscript.References1. Oh A., Lee Y., Yoo H.W., Choi J.H. Three pediatric patients with primary hyperparathyroidism caused by parathyroid adenoma. Ann Pediatr Endocrinol Metab. 2022;27(2):142–147. doi:\\xa010.6065/apem.2142006.003. [PMC free article] [PubMed] [CrossRef] [Google Scholar]2. Çetin S.K., Şıklar Z., Aycan Z., et al. Clinical profile of parathyroid adenoma in children and adolescents: a single-center experience. Turk Arch Pediatr. 2023;58(1):56–61. doi:\\xa010.5152/TurkArchPediatr.2022.22180. [PMC free article] [PubMed] [CrossRef] [Google Scholar]3. Sarafoglou K., Hoffmann G.F., Roth K.S.  2nd ed. McGraw Hill Professional; 2012. Pediatric Endocrinology and Inborn Errors of Metabolism; pp. 644–646. [Google Scholar]4. Bilezikian J.P., Bandeira L., Khan A., Cusano N.E. Hyperparathyroidism. Lancet. 2018;391(10116):168–178. doi:\\xa010.1016/S0140-6736(17)31430-7. [PubMed] [CrossRef] [Google Scholar]5. Minisola S., Arnold A., Belaya Z., et al. Epidemiology, pathophysiology, and genetics of primary hyperparathyroidism. J\\xa0Bone Miner Res. 2022;37(11):2315–2329. doi:\\xa010.1002/jbmr.4665. [PMC free article] [PubMed] [CrossRef] [Google Scholar]6. Sharanappa V., Mishra A., Bhatia V., et al. Pediatric primary hyperparathyroidism: experience in a tertiary care referral center in a developing country over three decades. World J Surg. 2020;45(2):488–495. doi:\\xa010.1007/s00268-020-05816-4. [PubMed] [CrossRef] [Google Scholar]7. Stokes V.J., Nielsen M.F., Hannan F.M., Thakker R.V. Hypercalcemic disorders in children. J\\xa0Bone Miner Res. 2017;32(11):2157–2170. doi:\\xa010.1002/jbmr.3296. [PMC free article] [PubMed] [CrossRef] [Google Scholar]Articles from AACE Clinical Case Reports are provided here courtesy of American Association of Clinical Endocrinology\\n\\n\\n\\n\\n\\nOther Formats\\n\\nPDF (867K)\\n\\n\\n\\nActions\\n\\n\\n\\nCite\\n\\n\\n\\n\\n\\n\\nCollections\\n\\n\\n\\nAdd to Collections', metadata={'language': 'en', 'source': 'https://www.ncbi.nlm.nih.gov/pmc/articles/PMC11127584/', 'title': 'A Case of Primary Hyperparathyroidism Secondary to Parathyroid Adenoma in a Pediatric Patient - PMC'}), -0.08120220856924298)]\n",
      "  warnings.warn(\n"
     ]
    }
   ],
   "source": [
    "# A different way to estimate epistemic score\n",
    "#retrievieval_results = vectorstore.similarity_search_with_score(original_question, k=5)\n",
    "retrievieval_results = vectorstore.similarity_search_with_relevance_scores(rewritten_question, k=3)\n",
    "for doc, score in retrievieval_results:\n",
    "    #print(f\"Document: {doc.page_content}\")\n",
    "    print(f\"Similarity score: {score}\")"
   ]
  },
  {
   "cell_type": "markdown",
   "id": "42541b17-5672-4ccf-8532-08b3471c3df1",
   "metadata": {},
   "source": [
    "### 2.4 Creating the Router\n",
    "The router decides whether to direct the question to document retrieval or perform a web search.\n",
    "\n",
    "Use PromptTemplate to instruct the LLM to make this decision based on the question's relevance to predefined topics.\n",
    "\n",
    "Invoke the router with the user question and route accordingly.\n",
    "\n",
    "Efficient routing ensures the most appropriate and effective method is used for each question, optimizing the RAG agent's performance.\n",
    "\n",
    "The following prompt template has the topics of the knowledge base hard coded. Ideally, we would add metadata fields containing the topic of each document that we add to our vector store to be able to dynamically expand the correct topics so that the router is up to date."
   ]
  },
  {
   "cell_type": "markdown",
   "id": "b9d7c5d4-f6f9-4654-a1cc-178044ecabab",
   "metadata": {},
   "source": [
    "### 2.1 Generating Answers\n",
    "Using PromptTemplate from LangChain, we create a prompt for the assistant to answer questions concisely, utilizing retrieved context.\n",
    "\n",
    "The prompt converts the user's question and relevant documents into an input format for the language model. The resulting answer is processed and returned.\n",
    "\n",
    "Here's the process:\n",
    "\n",
    "Define the prompt template.\n",
    "Format the documents as context.\n",
    "Chain the prompt, LLM, and output parser to generate the response.\n",
    "By integrating this chain, the RAG agent generates accurate, concise answers based on the retrieved context."
   ]
  },
  {
   "cell_type": "code",
   "execution_count": 194,
   "id": "f9eeea03-b4e6-4788-8fba-3464e6835980",
   "metadata": {},
   "outputs": [
    {
     "name": "stdout",
     "output_type": "stream",
     "text": [
      "{'datasource': 'vectorstore'}\n"
     ]
    }
   ],
   "source": [
    "### Router\n",
    "\n",
    "# Topics should be dynamically fetched and updated whenever a new topic gets put in the vector store\n",
    "#topics = [\"LLM Agents, Prompt Engineering, Adversarial Attacks on LLMs\"]\n",
    "topics = [\"Healthcare, Clinical, Patients, Mecial Research\"]\n",
    "\n",
    "prompt = PromptTemplate(\n",
    "    template=f\"\"\"<|begin_of_text|><|start_header_id|>system<|end_header_id|> You are an expert at routing a\n",
    "    user question to a vectorstore or web search. Use the vectorstore for questions on the following topics: {', '.join(topics)}. You do not need to be stringent with the keywords\n",
    "    in the question related to these topics. Otherwise, use web-search. Give a binary choice 'web_search'\n",
    "    or 'vectorstore' based on the question. Return the a JSON with a single key 'datasource' and\n",
    "    no premable or explaination. Question to route: {rewritten_question} <|eot_id|><|start_header_id|>assistant<|end_header_id|>\"\"\",\n",
    "    input_variables=[\"rewritten_question\"],\n",
    ")\n",
    "\n",
    "c3_template = f\"\"\"You are an expert at routing a\n",
    "    user question to a vectorstore or web search. Use the vectorstore for questions on the following topics: {', '.join(topics)}. You do not need to be stringent with the keywords\n",
    "    in the question related to these topics. Otherwise, use web-search. Give a binary choice 'web_search'\n",
    "    or 'vectorstore' based on the question. Return the a JSON with a single key 'datasource' and\n",
    "    no premable or explaination.\n",
    "    \n",
    "    \n",
    "    Question to route: {rewritten_question} \"\"\"\n",
    "c3_prompt = ChatPromptTemplate.from_template(c3_template)\n",
    "\n",
    "#question_router = prompt | llm_llama3 | JsonOutputParser()\n",
    "question_router = c3_prompt | llm_claude3 | JsonOutputParser()\n",
    "\n",
    "docs = retriever.get_relevant_documents(rewritten_question)\n",
    "doc_txt = docs[1].page_content\n",
    "print(question_router.invoke({\"question\": rewritten_question}))"
   ]
  },
  {
   "cell_type": "markdown",
   "id": "b9362585-bbf7-4f7f-8a87-e966e8cdecd6",
   "metadata": {},
   "source": [
    "### 2.5 Integrating Web Search with Tavily\n",
    "Set up environmental variables for the Tavily API and initialize the TavilySearchResults tool.\n",
    "\n",
    "When necessary, perform a web search to gather additional documents. Invoke the tool with the user query and append the results to the existing documents.\n",
    "\n",
    "Integrating web search complements the document retrieval system, covering a broader range of information for generating responses."
   ]
  },
  {
   "cell_type": "code",
   "execution_count": 195,
   "id": "cbd0b7eb-a5d6-48a1-9b05-b940bd07f23d",
   "metadata": {},
   "outputs": [],
   "source": [
    "### Search\n",
    "from langchain_community.tools.tavily_search import TavilySearchResults\n",
    "\n",
    "web_search_tool = TavilySearchResults(k=3)"
   ]
  },
  {
   "cell_type": "markdown",
   "id": "7a1daba9-49a0-4e02-a94a-1f48a5a6ca42",
   "metadata": {},
   "source": [
    "## 3. Defining the Control Flow with LangGraph Nodes and Edges\n",
    "Implement nodes representing key actions: document retrieval, document grading, web search, and answer generation.\n",
    "\n",
    "Define conditional edges for decision-making: route the question, decide on document relevance, and grade the generated answer.\n",
    "\n",
    "Set up the workflow graph with entry points, nodes, and edges to ensure a logical progression through the RAG agent's steps."
   ]
  },
  {
   "cell_type": "code",
   "execution_count": 196,
   "id": "629fc518-a0ab-4afa-a0d4-a882edd086b4",
   "metadata": {},
   "outputs": [],
   "source": [
    "from typing_extensions import TypedDict\n",
    "from typing import List\n",
    "import operator\n",
    "from langgraph.graph import END, StateGraph\n",
    "from langchain.schema import Document\n",
    "#from langchain_core.tools import tool\n",
    "from typing import TypedDict, Annotated, Sequence\n",
    "from langchain_core.messages import BaseMessage\n",
    "\n",
    "### State\n",
    "class GraphState(TypedDict):\n",
    "    \"\"\"\n",
    "    Represents the state of our graph.\n",
    "    Attributes:\n",
    "        question: question\n",
    "        generation: LLM generation\n",
    "        web_search: whether to add search\n",
    "        documents: list of documents\n",
    "    \"\"\"\n",
    "    question: str\n",
    "    generation: str\n",
    "    web_search: str\n",
    "    documents: List[str]\n",
    "\n",
    "# Define AgentState Class\n",
    "# This defines the object that is passed between each node\n",
    "# in the graph. We will create different nodes for each agent and tool\n",
    "class AgentState(TypedDict):\n",
    "    messages: Annotated[Sequence[BaseMessage], operator.add]\n",
    "    sender: str\n",
    "\n",
    "### Nodes\n",
    "\n",
    "def rewrite_question(state):\n",
    "    \"\"\"\n",
    "   REwrite question from query to match domain expert\n",
    "    Args:\n",
    "        question (str): The user query\n",
    "    Returns:\n",
    "        promt (str): rewrite question to form an expert prompt\n",
    "    \"\"\"\n",
    "    print(\"---REWRITE QUESTION---\")\n",
    "    question = state[\"question\"]\n",
    "    documents = state[\"documents\"]\n",
    "    # Rewrite\n",
    "    #question =  rewritten_chain.invoke({\"question\": question})\n",
    "    respons = generate_conversation(bedrock_client, model_id, system_text, question)\n",
    "    values = [list(d.values())[0] for d in response['output']['message']['content']]\n",
    "    question = values[0]\n",
    "    state[\"question\"] = question\n",
    "    print(question)\n",
    "    return {\"documents\": documents, \"question\": question}\n",
    "\n",
    "def retrieve(state):\n",
    "    \"\"\"\n",
    "    Retrieve documents from vectorstore\n",
    "    Args:\n",
    "        state (dict): The current graph state\n",
    "    Returns:\n",
    "        state (dict): New key added to state, documents, that contains retrieved documents\n",
    "    \"\"\"\n",
    "    print(\"---RETRIEVE---\")\n",
    "    question = state[\"question\"]\n",
    "    # Retrieval\n",
    "    documents = retriever.invoke(question)\n",
    "    return {\"documents\": documents, \"question\": question}\n",
    "\n",
    "\n",
    "def generate(state):\n",
    "    \"\"\"\n",
    "    Generate answer using RAG on retrieved documents\n",
    "    Args:\n",
    "        state (dict): The current graph state\n",
    "    Returns:\n",
    "        state (dict): New key added to state, generation, that contains LLM generation\n",
    "    \"\"\"\n",
    "    print(\"---GENERATE---\")\n",
    "    question = state[\"question\"]\n",
    "    documents = state[\"documents\"]\n",
    "    # RAG generation\n",
    "    generation = rag_chain.invoke({\"context\": documents, \"question\": question})\n",
    "    return {\"documents\": documents, \"question\": question, \"generation\": generation}\n",
    "\n",
    "\n",
    "def grade_documents(state):\n",
    "    \"\"\"\n",
    "    Determines whether the retrieved documents are relevant to the question\n",
    "    If any document is not relevant, we will set a flag to run web search\n",
    "    Args:\n",
    "        state (dict): The current graph state\n",
    "    Returns:\n",
    "        state (dict): Filtered out irrelevant documents and updated web_search state\n",
    "    \"\"\"\n",
    "    print(\"---CHECK DOCUMENT RELEVANCE TO QUESTION---\")\n",
    "    question = state[\"question\"]\n",
    "    documents = state[\"documents\"]\n",
    "    # Score each doc\n",
    "    filtered_docs = []\n",
    "    web_search = \"No\"\n",
    "    for d in documents:\n",
    "        score = retrieval_grader.invoke(\n",
    "            {\"question\": rewritten_question, \"document\": d.page_content}\n",
    "        )\n",
    "        grade = score[\"score\"]\n",
    "        print(f\"Retrieval grader score: {grade}\")\n",
    "        #print(f\"Question: {question}, Document: {d.page_content}\")\n",
    "        # Document relevant\n",
    "        if grade.lower() == \"yes\":\n",
    "            print(\"---GRADE: DOCUMENT RELEVANT---\")\n",
    "            filtered_docs.append(d)\n",
    "        # Document not relevant\n",
    "        else:\n",
    "            print(\"---GRADE: DOCUMENT NOT RELEVANT---\")\n",
    "            # We do not include the document in filtered_docs\n",
    "            # We set a flag to indicate that we want to run web search\n",
    "            web_search = \"Yes\"\n",
    "            continue\n",
    "    return {\"documents\": filtered_docs, \"question\": question, \"web_search\": web_search}\n",
    "\n",
    "\n",
    "def web_search(state):\n",
    "    \"\"\"\n",
    "    Web search based based on the question\n",
    "    Args:\n",
    "        state (dict): The current graph state\n",
    "    Returns:\n",
    "        state (dict): Appended web results to documents\n",
    "    \"\"\"\n",
    "    print(\"---WEB SEARCH---\")\n",
    "    question = state[\"question\"]\n",
    "    documents = state[\"documents\"]\n",
    "    # Web search\n",
    "    docs = web_search_tool.invoke({\"query\": question})\n",
    "    if '400 Client Error' not in docs:\n",
    "        print(f\"Web_search docs: {docs}\")\n",
    "        web_results = \"\\n\".join([d[\"content\"] for d in docs])\n",
    "        web_urls = \"\\n\".join([d[\"url\"] for d in docs])\n",
    "        web_results = f\"{web_results} based on sources: {web_urls}\"\n",
    "        web_results = Document(page_content=web_results)\n",
    "        if documents is not None:\n",
    "            documents.append(web_results)\n",
    "        else:\n",
    "            documents = [web_results]\n",
    "    return {\"documents\": documents, \"question\": question}\n",
    "\n",
    "### Conditional edge\n",
    "def route_question(state):\n",
    "    \"\"\"\n",
    "    Route question to web search or RAG.\n",
    "    Args:\n",
    "        state (dict): The current graph state\n",
    "    Returns:\n",
    "        str: Next node to call\n",
    "    \"\"\"\n",
    "    print(\"---ROUTE QUESTION---\")\n",
    "    question = state[\"question\"]\n",
    "    print(question)\n",
    "    source = question_router.invoke({\"question\": question})\n",
    "    print(source)\n",
    "    print(source[\"datasource\"])\n",
    "    if source[\"datasource\"] == \"web_search\":\n",
    "        print(\"---ROUTE QUESTION TO WEB SEARCH---\")\n",
    "        return \"websearch\"\n",
    "    elif source[\"datasource\"] == \"vectorstore\":\n",
    "        print(\"---ROUTE QUESTION TO RAG---\")\n",
    "        return \"vectorstore\"\n",
    "\n",
    "\n",
    "def decide_to_generate(state):\n",
    "    \"\"\"\n",
    "    Determines whether to generate an answer, or add web search\n",
    "    Args:\n",
    "        state (dict): The current graph state\n",
    "    Returns:\n",
    "        str: Binary decision for next node to call\n",
    "    \"\"\"\n",
    "    print(\"---ASSESS GRADED DOCUMENTS---\")\n",
    "    question = state[\"question\"]\n",
    "    web_search = state[\"web_search\"]\n",
    "    filtered_documents = state[\"documents\"]\n",
    "    if web_search == \"Yes\":\n",
    "        # All documents have been filtered check_relevance\n",
    "        # We will re-generate a new query\n",
    "        print(\n",
    "            \"---DECISION: ALL DOCUMENTS ARE NOT RELEVANT TO QUESTION, INCLUDE WEB SEARCH---\"\n",
    "        )\n",
    "        return \"websearch\"\n",
    "    else:\n",
    "        # We have relevant documents, so generate answer\n",
    "        print(\"---DECISION: GENERATE---\")\n",
    "        return \"generate\"\n",
    "\n",
    "### Conditional edge\n",
    "def grade_generation_v_documents_and_question(state):\n",
    "    \"\"\"\n",
    "    Determines whether the generation is grounded in the document and answers question.\n",
    "    Args:\n",
    "        state (dict): The current graph state\n",
    "    Returns:\n",
    "        str: Decision for next node to call\n",
    "    \"\"\"\n",
    "    print(\"---CHECK HALLUCINATIONS---\")\n",
    "    question = state[\"question\"]\n",
    "    documents = state[\"documents\"]\n",
    "    generation = state[\"generation\"]\n",
    "    score = hallucination_grader.invoke(\n",
    "        {\"documents\": documents, \"generation\": generation}\n",
    "    )\n",
    "    grade = score[\"score\"]\n",
    "    # Check hallucination\n",
    "    if grade == \"yes\":\n",
    "        print(\"---DECISION: GENERATION IS GROUNDED IN DOCUMENTS---\")\n",
    "        # Check question-answering\n",
    "        print(\"---GRADE GENERATION vs QUESTION---\")\n",
    "        score = answer_grader.invoke({\"question\": question, \"generation\": generation})\n",
    "        grade = score[\"score\"]\n",
    "        if grade == \"yes\":\n",
    "            print(\"---DECISION: GENERATION ADDRESSES QUESTION---\")\n",
    "            return \"useful\"\n",
    "        else:\n",
    "            print(\"---DECISION: GENERATION DOES NOT ADDRESS QUESTION---\")\n",
    "            return \"not useful\"\n",
    "    else:\n",
    "        pprint(\"---DECISION: GENERATION IS NOT GROUNDED IN DOCUMENTS, RE-TRY---\")\n",
    "        return \"not supported\"\n",
    "\n",
    "## scrape content from an url\n",
    "\n",
    "def scrape_webpages(urls: List[str]) -> str:\n",
    "    \"\"\"Use requests and bs4 to scrape the provided web pages for detailed information.\"\"\"\n",
    "    loader = WebBaseLoader(urls)\n",
    "    docs = loader.load()\n",
    "    return \"\\n\\n\".join(\n",
    "        [\n",
    "            f'<Document name=\"{doc.metadata.get(\"title\", \"\")}\">\\n{doc.page_content}\\n</Document>'\n",
    "            for doc in docs\n",
    "        ]\n",
    "    )\n",
    "    \n",
    "\n",
    "workflow = StateGraph(GraphState)  #Was AgentState, GraphState\n",
    "\n",
    "# Define the nodes\n",
    "#workflow.add_node(\"rewrite_question\", rewrite_question) # rewrite question\n",
    "workflow.add_node(\"websearch\", web_search)  # web search\n",
    "workflow.add_node(\"retrieve\", retrieve)  # retrieve\n",
    "workflow.add_node(\"grade_documents\", grade_documents)  # grade documents\n",
    "workflow.add_node(\"generate\", generate)  # generatae"
   ]
  },
  {
   "cell_type": "markdown",
   "id": "a73bbd96-15fa-4ca3-8ae7-02d9c207389f",
   "metadata": {},
   "source": [
    "### 3.1 Control flow\n",
    "Designing the control flow as a structured graph ensures a coherent and efficient pipeline for the RAG agent's operations."
   ]
  },
  {
   "cell_type": "code",
   "execution_count": 197,
   "id": "d9b1a091-68e5-4fb2-b639-b6267ac8b451",
   "metadata": {},
   "outputs": [],
   "source": [
    "# Build graph\n",
    "#workflow.set_entry_point(\"rewrite_question\")\n",
    "#workflow.add_edge(\"rewrite_question\", \"websearch\")\n",
    "#workflow.add_edge(\"rewrite_question\", \"retrieve\")\n",
    "\n",
    "workflow.set_conditional_entry_point(\n",
    "    route_question,\n",
    "    {\n",
    "        \"websearch\": \"websearch\",\n",
    "        \"vectorstore\": \"retrieve\",\n",
    "    },\n",
    ")\n",
    "workflow.add_edge(\"retrieve\", \"grade_documents\")\n",
    "workflow.add_conditional_edges(\n",
    "    \"grade_documents\",\n",
    "    decide_to_generate,\n",
    "    {\n",
    "        \"websearch\": \"websearch\",\n",
    "        \"generate\": \"generate\",\n",
    "    },\n",
    ")\n",
    "workflow.add_edge(\"websearch\", \"generate\")\n",
    "workflow.add_conditional_edges(\n",
    "    \"generate\",\n",
    "    grade_generation_v_documents_and_question,\n",
    "    {\n",
    "        \"not supported\": \"generate\",\n",
    "        \"useful\": END,\n",
    "        \"not useful\": \"websearch\",\n",
    "    },\n",
    ")"
   ]
  },
  {
   "cell_type": "markdown",
   "id": "c4a5f9b7-f0dd-491b-b58f-e30255a78d93",
   "metadata": {},
   "source": [
    "### 3.2  Compiling and Testing the Workflow\n",
    "Compile the LangGraph workflow and test it with sample inputs.\n",
    "\n",
    "Provide questions to the compiled application and track the output through each step.\n",
    "\n",
    "Debug and refine based on the results to ensure the RAG agent performs as expected and delivers accurate and relevant answers.\n",
    "\n",
    "Compiling and iterative testing ensure the RAG agent meets quality and performance standards before deployment."
   ]
  },
  {
   "cell_type": "code",
   "execution_count": 199,
   "id": "5dbc6b9a-7bf2-4533-98b1-8aa735397cc1",
   "metadata": {},
   "outputs": [
    {
     "name": "stdout",
     "output_type": "stream",
     "text": [
      "---ROUTE QUESTION---\n",
      "Granulomatosis with polyangiitis (GPA), formerly known as Wegener's granulomatosis, is a rare form of vasculitis characterized by necrotizing granulomatous inflammation of the upper and lower respiratory tracts, glomerulonephritis, and small-vessel vasculitis. In the context of an infiltrative pituitary process, it refers to the unusual presentation of GPA involving the pituitary gland, where the inflammatory cells infiltrate and cause mass effect within the pituitary, potentially leading to pituitary dysfunction and hormonal imbalances. This condition requires a multidisciplinary approach for accurate diagnosis and management, involving both endocrinologists and rheumatologists.\n",
      "{'datasource': 'vectorstore'}\n",
      "vectorstore\n",
      "---ROUTE QUESTION TO RAG---\n",
      "---RETRIEVE---\n",
      "'Finished running: retrieve:'\n",
      "---CHECK DOCUMENT RELEVANCE TO QUESTION---\n",
      "Retrieval grader score: yes\n",
      "---GRADE: DOCUMENT RELEVANT---\n",
      "Retrieval grader score: yes\n",
      "---GRADE: DOCUMENT RELEVANT---\n",
      "Retrieval grader score: yes\n",
      "---GRADE: DOCUMENT RELEVANT---\n",
      "---ASSESS GRADED DOCUMENTS---\n",
      "---DECISION: GENERATE---\n",
      "'Finished running: grade_documents:'\n",
      "---GENERATE---\n",
      "---CHECK HALLUCINATIONS---\n"
     ]
    },
    {
     "name": "stderr",
     "output_type": "stream",
     "text": [
      "WARNING:langchain_core.callbacks.manager:Error in LangChainTracer.on_llm_end callback: TracerException('No indexed run ID edf4821a-e128-40d7-8d57-4d67411623aa.')\n"
     ]
    },
    {
     "name": "stdout",
     "output_type": "stream",
     "text": [
      "'---DECISION: GENERATION IS NOT GROUNDED IN DOCUMENTS, RE-TRY---'\n",
      "'Finished running: generate:'\n",
      "---GENERATE---\n",
      "---CHECK HALLUCINATIONS---\n"
     ]
    },
    {
     "name": "stderr",
     "output_type": "stream",
     "text": [
      "WARNING:langchain_core.callbacks.manager:Error in LangChainTracer.on_llm_end callback: TracerException('No indexed run ID a48f1fbf-bf3f-4971-859f-e9bdb91def63.')\n"
     ]
    },
    {
     "name": "stdout",
     "output_type": "stream",
     "text": [
      "'---DECISION: GENERATION IS NOT GROUNDED IN DOCUMENTS, RE-TRY---'\n",
      "'Finished running: generate:'\n",
      "---GENERATE---\n",
      "---CHECK HALLUCINATIONS---\n"
     ]
    },
    {
     "name": "stderr",
     "output_type": "stream",
     "text": [
      "WARNING:langchain_core.callbacks.manager:Error in LangChainTracer.on_llm_end callback: TracerException('No indexed run ID d3b553f7-3aa5-4995-bdee-c2fc0bf2ed4c.')\n"
     ]
    },
    {
     "name": "stdout",
     "output_type": "stream",
     "text": [
      "'---DECISION: GENERATION IS NOT GROUNDED IN DOCUMENTS, RE-TRY---'\n",
      "'Finished running: generate:'\n",
      "---GENERATE---\n",
      "---CHECK HALLUCINATIONS---\n"
     ]
    },
    {
     "name": "stderr",
     "output_type": "stream",
     "text": [
      "WARNING:langchain_core.callbacks.manager:Error in LangChainTracer.on_llm_end callback: TracerException('No indexed run ID d5b0f4d9-0269-4b8d-ac1d-8c8763168186.')\n"
     ]
    },
    {
     "name": "stdout",
     "output_type": "stream",
     "text": [
      "'---DECISION: GENERATION IS NOT GROUNDED IN DOCUMENTS, RE-TRY---'\n",
      "'Finished running: generate:'\n",
      "---GENERATE---\n",
      "---CHECK HALLUCINATIONS---\n"
     ]
    },
    {
     "name": "stderr",
     "output_type": "stream",
     "text": [
      "WARNING:langchain_core.callbacks.manager:Error in LangChainTracer.on_llm_end callback: TracerException('No indexed run ID 0e195823-158b-41b4-b70f-88103ae0dd29.')\n"
     ]
    },
    {
     "name": "stdout",
     "output_type": "stream",
     "text": [
      "'---DECISION: GENERATION IS NOT GROUNDED IN DOCUMENTS, RE-TRY---'\n",
      "'Finished running: generate:'\n",
      "---GENERATE---\n",
      "---CHECK HALLUCINATIONS---\n"
     ]
    },
    {
     "name": "stderr",
     "output_type": "stream",
     "text": [
      "WARNING:langchain_core.callbacks.manager:Error in LangChainTracer.on_llm_end callback: TracerException('No indexed run ID 957fc124-1b77-4276-981e-0927bd3657fb.')\n"
     ]
    },
    {
     "name": "stdout",
     "output_type": "stream",
     "text": [
      "'---DECISION: GENERATION IS NOT GROUNDED IN DOCUMENTS, RE-TRY---'\n",
      "'Finished running: generate:'\n",
      "---GENERATE---\n",
      "---CHECK HALLUCINATIONS---\n"
     ]
    },
    {
     "name": "stderr",
     "output_type": "stream",
     "text": [
      "WARNING:langchain_core.callbacks.manager:Error in LangChainTracer.on_llm_end callback: TracerException('No indexed run ID a1037068-ad0d-49b4-bef5-f68058f16696.')\n"
     ]
    },
    {
     "name": "stdout",
     "output_type": "stream",
     "text": [
      "'---DECISION: GENERATION IS NOT GROUNDED IN DOCUMENTS, RE-TRY---'\n",
      "'Finished running: generate:'\n",
      "---GENERATE---\n",
      "---CHECK HALLUCINATIONS---\n"
     ]
    },
    {
     "name": "stderr",
     "output_type": "stream",
     "text": [
      "WARNING:langchain_core.callbacks.manager:Error in LangChainTracer.on_llm_end callback: TracerException('No indexed run ID 9afe6191-b6bf-421e-a64b-526d1f91b859.')\n"
     ]
    },
    {
     "name": "stdout",
     "output_type": "stream",
     "text": [
      "'---DECISION: GENERATION IS NOT GROUNDED IN DOCUMENTS, RE-TRY---'\n",
      "'Finished running: generate:'\n",
      "---GENERATE---\n",
      "---CHECK HALLUCINATIONS---\n"
     ]
    },
    {
     "name": "stderr",
     "output_type": "stream",
     "text": [
      "WARNING:langchain_core.callbacks.manager:Error in LangChainTracer.on_llm_end callback: TracerException('No indexed run ID 33b87363-d819-405d-a2ae-0b3ef730601f.')\n"
     ]
    },
    {
     "name": "stdout",
     "output_type": "stream",
     "text": [
      "'---DECISION: GENERATION IS NOT GROUNDED IN DOCUMENTS, RE-TRY---'\n",
      "'Finished running: generate:'\n",
      "---GENERATE---\n",
      "---CHECK HALLUCINATIONS---\n"
     ]
    },
    {
     "name": "stderr",
     "output_type": "stream",
     "text": [
      "WARNING:langchain_core.callbacks.manager:Error in LangChainTracer.on_llm_end callback: TracerException('No indexed run ID 48ae8af3-8fe9-48ae-8e68-980227a8aa05.')\n"
     ]
    },
    {
     "name": "stdout",
     "output_type": "stream",
     "text": [
      "'---DECISION: GENERATION IS NOT GROUNDED IN DOCUMENTS, RE-TRY---'\n",
      "'Finished running: generate:'\n",
      "---GENERATE---\n",
      "---CHECK HALLUCINATIONS---\n"
     ]
    },
    {
     "name": "stderr",
     "output_type": "stream",
     "text": [
      "WARNING:langchain_core.callbacks.manager:Error in LangChainTracer.on_llm_end callback: TracerException('No indexed run ID 30712917-599f-49d2-a262-42616a8aace0.')\n"
     ]
    },
    {
     "name": "stdout",
     "output_type": "stream",
     "text": [
      "'---DECISION: GENERATION IS NOT GROUNDED IN DOCUMENTS, RE-TRY---'\n",
      "'Finished running: generate:'\n",
      "---GENERATE---\n",
      "---CHECK HALLUCINATIONS---\n"
     ]
    },
    {
     "name": "stderr",
     "output_type": "stream",
     "text": [
      "WARNING:langchain_core.callbacks.manager:Error in LangChainTracer.on_llm_end callback: TracerException('No indexed run ID 43ffa746-a8d9-4152-99cb-c2a7ebedc4dd.')\n"
     ]
    },
    {
     "name": "stdout",
     "output_type": "stream",
     "text": [
      "'---DECISION: GENERATION IS NOT GROUNDED IN DOCUMENTS, RE-TRY---'\n",
      "'Finished running: generate:'\n",
      "---GENERATE---\n",
      "---CHECK HALLUCINATIONS---\n"
     ]
    },
    {
     "name": "stderr",
     "output_type": "stream",
     "text": [
      "WARNING:langchain_core.callbacks.manager:Error in LangChainTracer.on_llm_end callback: TracerException('No indexed run ID 3bbfb37f-d148-41b9-8e6a-9a6984db1a65.')\n"
     ]
    },
    {
     "name": "stdout",
     "output_type": "stream",
     "text": [
      "---DECISION: GENERATION IS GROUNDED IN DOCUMENTS---\n",
      "---GRADE GENERATION vs QUESTION---\n"
     ]
    },
    {
     "name": "stderr",
     "output_type": "stream",
     "text": [
      "WARNING:langchain_core.callbacks.manager:Error in LangChainTracer.on_llm_end callback: TracerException('No indexed run ID 2ab4fcbb-604e-4dae-b086-00e2e59b3b8b.')\n"
     ]
    },
    {
     "name": "stdout",
     "output_type": "stream",
     "text": [
      "---DECISION: GENERATION ADDRESSES QUESTION---\n",
      "'Finished running: generate:'\n",
      "(\"Granulomatosis with polyangiitis (GPA), formerly known as Wegener's \"\n",
      " 'granulomatosis, is a rare form of vasculitis that can involve the pituitary '\n",
      " 'gland. In this context, it refers to an infiltrative pituitary process where '\n",
      " 'the inflammatory cells of GPA infiltrate and cause mass effect within the '\n",
      " 'pituitary, potentially leading to pituitary dysfunction and hormonal '\n",
      " 'imbalances. This condition requires a multidisciplinary approach for '\n",
      " 'accurate diagnosis and management, involving both endocrinologists and '\n",
      " 'rheumatologists.')\n"
     ]
    },
    {
     "data": {
      "text/plain": [
       "'\\n# Test in AgentState\\nfrom pprint import pprint\\nmessages = [\\n            HumanMessage(\\n                content=rewritten_question,\\n            )]\\ninputs = {\"messages\": messages}\\nfor output in app.stream(inputs):\\n    for key, value in output.items():\\n        pprint(f\"Finished running: {key}:\")\\npprint(value[\"generation\"])\\n'"
      ]
     },
     "execution_count": 199,
     "metadata": {},
     "output_type": "execute_result"
    }
   ],
   "source": [
    "from langchain_core.messages import (\n",
    "    BaseMessage,\n",
    "    ToolMessage,\n",
    "    HumanMessage,\n",
    ")\n",
    "\n",
    "# Compile\n",
    "app = workflow.compile()\n",
    "\n",
    "# Test in GraphState\n",
    "from pprint import pprint\n",
    "inputs = {\"question\": rewritten_question}\n",
    "for output in app.stream(inputs):\n",
    "    for key, value in output.items():\n",
    "        pprint(f\"Finished running: {key}:\")\n",
    "pprint(value[\"generation\"])\n",
    "\n",
    "'''\n",
    "# Test in AgentState\n",
    "from pprint import pprint\n",
    "messages = [\n",
    "            HumanMessage(\n",
    "                content=rewritten_question,\n",
    "            )]\n",
    "inputs = {\"messages\": messages}\n",
    "for output in app.stream(inputs):\n",
    "    for key, value in output.items():\n",
    "        pprint(f\"Finished running: {key}:\")\n",
    "pprint(value[\"generation\"])\n",
    "'''"
   ]
  },
  {
   "cell_type": "markdown",
   "id": "450ef9c0-e1ad-4bb2-90d5-a5a44a7182ee",
   "metadata": {},
   "source": [
    "### 3.3 Testing the WebSearch\n",
    "For a test on the web search, we utilize the question, \"Who are the Bears expected to draft first in the NFL draft?\". As this request needs up-to-date information and should not be based on the knowledge base, we expect it to go directly to a web search."
   ]
  },
  {
   "cell_type": "code",
   "execution_count": 200,
   "id": "f8fce114-e0f0-4ceb-8f4e-e7d2a0dd71cd",
   "metadata": {},
   "outputs": [],
   "source": [
    "question = \"How many Raptor engines failed during fourth test of SpaceX's Startship?\""
   ]
  },
  {
   "cell_type": "code",
   "execution_count": 201,
   "id": "ef2d3f0f-2453-4fd6-aa7d-e8f5ad32c574",
   "metadata": {},
   "outputs": [
    {
     "name": "stdout",
     "output_type": "stream",
     "text": [
      "---ROUTE QUESTION---\n",
      "How many Raptor engines failed during fourth test of SpaceX's Startship?\n",
      "{'datasource': 'vectorstore'}\n",
      "vectorstore\n",
      "---ROUTE QUESTION TO RAG---\n",
      "---RETRIEVE---\n",
      "'Finished running: retrieve:'\n",
      "---CHECK DOCUMENT RELEVANCE TO QUESTION---\n",
      "Retrieval grader score: no\n",
      "---GRADE: DOCUMENT NOT RELEVANT---\n",
      "Retrieval grader score: no\n",
      "---GRADE: DOCUMENT NOT RELEVANT---\n",
      "Retrieval grader score: no\n",
      "---GRADE: DOCUMENT NOT RELEVANT---\n",
      "---ASSESS GRADED DOCUMENTS---\n",
      "---DECISION: ALL DOCUMENTS ARE NOT RELEVANT TO QUESTION, INCLUDE WEB SEARCH---\n",
      "'Finished running: grade_documents:'\n",
      "---WEB SEARCH---\n",
      "Web_search docs: [{'url': 'https://www.yahoo.com/tech/everything-noticed-during-spacexs-thrilling-210000875.html', 'content': \"The engines had been a concern following Starship's first test flight on April 20, 2023, when several engines failed during the launch and the rocket exploded just minutes after liftoff. This ...\"}, {'url': 'https://www.space.com/spacex-starship-flight-4-test-launch-success', 'content': \"A view of the Earth from space from SpaceX's Starship Flight 4 Ship during a test flight on June 6, 2024. ... SpaceX) Starship's two stages failed to separate ... fire 32 of its 33 Raptor engines ...\"}, {'url': 'https://arstechnica.com/space/2024/06/spacexs-starship-took-a-beating-but-held-on-for-first-return-from-space/', 'content': \"Enlarge / The fourth full-scale test flight of SpaceX's Starship rocket took off from Starbase, the company's privately owned spaceport near Brownsville, Texas. Two of the 33 methane-fueled Raptor ...\"}, {'url': 'https://www.extremetech.com/science/spacex-starship-completes-fourth-test-flight-splashes-down-in-ocean', 'content': \"SpaceX Starship Completes Fourth Test Flight, Splashes Down in Ocean ... One of Super Heavy's 33 Raptor engines failed to ignite on liftoff, and a second one failed during landing, but that didn't ...\"}, {'url': 'https://spacenews.com/starship-survives-reentry-during-fourth-test-flight/', 'content': 'CAPE CANAVERAL, Fla. — SpaceX conducted the fourth test flight of its Starship launch system June 6, with both the Super Heavy booster and Starship upper stage making it back to the surface ...'}]\n",
      "'Finished running: websearch:'\n",
      "---GENERATE---\n",
      "---CHECK HALLUCINATIONS---\n"
     ]
    },
    {
     "name": "stderr",
     "output_type": "stream",
     "text": [
      "WARNING:langchain_core.callbacks.manager:Error in LangChainTracer.on_llm_end callback: TracerException('No indexed run ID 8059c14d-73a4-4ff5-869b-a433bc1b59e5.')\n"
     ]
    },
    {
     "name": "stdout",
     "output_type": "stream",
     "text": [
      "---DECISION: GENERATION IS GROUNDED IN DOCUMENTS---\n",
      "---GRADE GENERATION vs QUESTION---\n"
     ]
    },
    {
     "name": "stderr",
     "output_type": "stream",
     "text": [
      "WARNING:langchain_core.callbacks.manager:Error in LangChainTracer.on_llm_end callback: TracerException('No indexed run ID f6fe50bd-0a33-4de3-92fe-9a4c8dab4d71.')\n"
     ]
    },
    {
     "name": "stdout",
     "output_type": "stream",
     "text": [
      "---DECISION: GENERATION ADDRESSES QUESTION---\n",
      "'Finished running: generate:'\n",
      "('According to the retrieved context, during the fourth test flight of '\n",
      " \"SpaceX's Starship on June 6, 2024, one of the 33 Raptor engines on the Super \"\n",
      " 'Heavy booster failed to ignite on liftoff, and a second one failed during '\n",
      " 'landing. Therefore, a total of two Raptor engines failed during the fourth '\n",
      " \"test of SpaceX's Starship.\")\n"
     ]
    }
   ],
   "source": [
    "inputs = {\"question\": question}\n",
    "for output in app.stream(inputs):\n",
    "    for key, value in output.items():\n",
    "        pprint(f\"Finished running: {key}:\")\n",
    "pprint(value[\"generation\"])"
   ]
  },
  {
   "cell_type": "markdown",
   "id": "c4183c2d-dec2-4f30-9d2d-4621a5d5ecc8",
   "metadata": {},
   "source": [
    "### 3.4 Further Improvements\n",
    "If you look to improve the above code further, here are a few suggestions:\n",
    "\n",
    "* Expand the Web Search Capabilities\n",
    "Currently, the web search capabilities only use the Tavily-AI Langchain tool, although Tavily AI has much more functionality to offer. You can, for example, include and exclude certain domains and websites, add the current date to target a specific timeframe of the results, and include a generic search on Google or DuckDuckGo to complement the Tavily-AI search.\n",
    "\n",
    "* Retrieve the topics dynamically\n",
    "We hard-code the topics represented in our knowledge base. If we know the topics ahead of time, this is a perfectly valid approach. However, for more fine-grained retrieval, we should consider including vector metadata in our vector store.\n",
    "\n",
    "* Change the knowledge base to a more scaleable option\n",
    "As the chromaDB vector store is running on our local instance, we have a scalability limit that is imposed upon us. We can use products like Pinecone or Amazon OpenSearch, just to name a few.\n",
    "Langgraph\n",
    "Langchain\n",
    "Agents\n",
    "Bedrock\n"
   ]
  },
  {
   "cell_type": "markdown",
   "id": "713194df-d2ff-4a99-95d8-0c316558a475",
   "metadata": {},
   "source": [
    "### 4. Display the graph"
   ]
  },
  {
   "cell_type": "code",
   "execution_count": 117,
   "id": "9de67fe0-b576-4f0f-9a65-8229e50600df",
   "metadata": {},
   "outputs": [
    {
     "data": {
      "image/jpeg": "[encoded data removed]",
      "text/plain": [
       "<IPython.core.display.Image object>"
      ]
     },
     "metadata": {},
     "output_type": "display_data"
    }
   ],
   "source": [
    "from IPython.display import Image, display\n",
    "from langchain_core.runnables.graph import CurveStyle, NodeColors, MermaidDrawMethod\n",
    "\n",
    "\n",
    "display(Image(app.get_graph().draw_mermaid_png(\n",
    "    curve_style=CurveStyle.LINEAR,\n",
    "    node_colors=NodeColors(start=\"#ffdfba\", end=\"#baffc9\", other=\"#fad7de\"),\n",
    "    wrap_label_n_words=9,\n",
    "    output_file_path=None,\n",
    "    draw_method=MermaidDrawMethod.API,\n",
    "    background_color=\"white\",\n",
    "    padding=20,\n",
    ")))"
   ]
  },
  {
   "cell_type": "code",
   "execution_count": null,
   "id": "e8d04454-33ab-4575-8878-d4460ea94f0c",
   "metadata": {},
   "outputs": [],
   "source": []
  }
 ],
 "metadata": {
  "kernelspec": {
   "display_name": "dui",
   "language": "python",
   "name": "dui"
  },
  "language_info": {
   "codemirror_mode": {
    "name": "ipython",
    "version": 3
   },
   "file_extension": ".py",
   "mimetype": "text/x-python",
   "name": "python",
   "nbconvert_exporter": "python",
   "pygments_lexer": "ipython3",
   "version": "3.11.5"
  }
 },
 "nbformat": 4,
 "nbformat_minor": 5
}
