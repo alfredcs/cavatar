{
 "cells": [
  {
   "cell_type": "markdown",
   "id": "7a432521-70e9-45a2-8b98-effd0ea47095",
   "metadata": {},
   "source": [
    "# Multimodal RAG with Amazon Bedrock Knowledge Base and AOSS\n",
    "\n",
    "In today's data-driven world, the ability to effectively retrieve and generate relevant information from diverse sources is becoming increasingly crucial. Retrieval-Augmented Generation (RAG) models have emerged as a powerful approach to tackle this challenge, combining the strengths of retrieval systems and language models. In this blog post, we'll explore how to build a multimodal RAG solution using Amazon Bedrock Knowledge Base, Claude 3 (an AI assistant), and Amazon OpenSearch Serverless.\n",
    "\n",
    "Amazon Bedrock Knowledge Base is a fully managed service that allows you to create and manage private knowledge bases from various data sources, including text, images, and videos. By leveraging Bedrock, we can create a centralized repository of information tailored to our specific needs.\n",
    "\n",
    "Anthropics Claude 3, an advanced visual language model available on Amazon Bedrock, brings its powerful visual and natural language processing capabilities to the table. With its ability to understand and generate human-like text, Claude 3 can effectively process and synthesize information from the knowledge base.\n",
    "\n",
    "Amazon OpenSearch Serverless, a fully managed service based on OpenSearch (a fork of Elasticsearch), provides a scalable and cost-effective solution for indexing and searching our knowledge base. Its serverless architecture ensures seamless scaling and eliminates the need for infrastructure management.\n",
    "\n",
    "By combining these three components, we can create a multimodal RAG solution that can retrieve relevant information from our knowledge base, process it using Claude 3, and generate coherent and contextual responses. This approach has numerous applications, ranging from customer support and knowledge management to research and content creation.\n",
    "\n",
    "In the following sections, we'll walk through the steps to set up and configure each component, integrate them into a cohesive solution, and demonstrate its capabilities with a practical example."
   ]
  },
  {
   "cell_type": "markdown",
   "id": "8a47e4f3-f108-4717-8ebc-d3ee25746fc9",
   "metadata": {},
   "source": [
    "## Prepare environment"
   ]
  },
  {
   "cell_type": "code",
   "execution_count": 1,
   "id": "008b4b62-6184-4555-b835-4d458081acf3",
   "metadata": {
    "scrolled": true
   },
   "outputs": [
    {
     "name": "stdout",
     "output_type": "stream",
     "text": [
      "Looking in indexes: https://pypi.org/simple, https://pip.repos.neuron.amazonaws.com\n",
      "Requirement already satisfied: streamlit in /home/alfred/anaconda3/envs/dui/lib/python3.11/site-packages (1.33.0)\n",
      "Requirement already satisfied: altair<6,>=4.0 in /home/alfred/anaconda3/envs/dui/lib/python3.11/site-packages (from streamlit) (5.2.0)\n",
      "Requirement already satisfied: blinker<2,>=1.0.0 in /home/alfred/anaconda3/envs/dui/lib/python3.11/site-packages (from streamlit) (1.7.0)\n",
      "Requirement already satisfied: cachetools<6,>=4.0 in /home/alfred/anaconda3/envs/dui/lib/python3.11/site-packages (from streamlit) (5.3.2)\n",
      "Requirement already satisfied: click<9,>=7.0 in /home/alfred/anaconda3/envs/dui/lib/python3.11/site-packages (from streamlit) (8.1.7)\n",
      "Requirement already satisfied: numpy<2,>=1.19.3 in /home/alfred/anaconda3/envs/dui/lib/python3.11/site-packages (from streamlit) (1.26.4)\n",
      "Requirement already satisfied: packaging<25,>=16.8 in /home/alfred/anaconda3/envs/dui/lib/python3.11/site-packages (from streamlit) (23.2)\n",
      "Requirement already satisfied: pandas<3,>=1.3.0 in /home/alfred/anaconda3/envs/dui/lib/python3.11/site-packages (from streamlit) (2.2.1)\n",
      "Requirement already satisfied: pillow<11,>=7.1.0 in /home/alfred/anaconda3/envs/dui/lib/python3.11/site-packages (from streamlit) (10.2.0)\n",
      "Requirement already satisfied: protobuf<5,>=3.20 in /home/alfred/anaconda3/envs/dui/lib/python3.11/site-packages (from streamlit) (4.25.3)\n",
      "Requirement already satisfied: pyarrow>=7.0 in /home/alfred/anaconda3/envs/dui/lib/python3.11/site-packages (from streamlit) (15.0.0)\n",
      "Requirement already satisfied: requests<3,>=2.27 in /home/alfred/anaconda3/envs/dui/lib/python3.11/site-packages (from streamlit) (2.31.0)\n",
      "Requirement already satisfied: rich<14,>=10.14.0 in /home/alfred/anaconda3/envs/dui/lib/python3.11/site-packages (from streamlit) (13.7.0)\n",
      "Requirement already satisfied: tenacity<9,>=8.1.0 in /home/alfred/anaconda3/envs/dui/lib/python3.11/site-packages (from streamlit) (8.2.3)\n",
      "Requirement already satisfied: toml<2,>=0.10.1 in /home/alfred/anaconda3/envs/dui/lib/python3.11/site-packages (from streamlit) (0.10.2)\n",
      "Requirement already satisfied: typing-extensions<5,>=4.3.0 in /home/alfred/anaconda3/envs/dui/lib/python3.11/site-packages (from streamlit) (4.8.0)\n",
      "Requirement already satisfied: gitpython!=3.1.19,<4,>=3.0.7 in /home/alfred/anaconda3/envs/dui/lib/python3.11/site-packages (from streamlit) (3.1.41)\n",
      "Requirement already satisfied: pydeck<1,>=0.8.0b4 in /home/alfred/anaconda3/envs/dui/lib/python3.11/site-packages (from streamlit) (0.8.1b0)\n",
      "Requirement already satisfied: tornado<7,>=6.0.3 in /home/alfred/anaconda3/envs/dui/lib/python3.11/site-packages (from streamlit) (6.4)\n",
      "Requirement already satisfied: watchdog>=2.1.5 in /home/alfred/anaconda3/envs/dui/lib/python3.11/site-packages (from streamlit) (4.0.0)\n",
      "Requirement already satisfied: jinja2 in /home/alfred/anaconda3/envs/dui/lib/python3.11/site-packages (from altair<6,>=4.0->streamlit) (3.1.2)\n",
      "Requirement already satisfied: jsonschema>=3.0 in /home/alfred/anaconda3/envs/dui/lib/python3.11/site-packages (from altair<6,>=4.0->streamlit) (4.19.1)\n",
      "Requirement already satisfied: toolz in /home/alfred/anaconda3/envs/dui/lib/python3.11/site-packages (from altair<6,>=4.0->streamlit) (0.12.0)\n",
      "Requirement already satisfied: gitdb<5,>=4.0.1 in /home/alfred/anaconda3/envs/dui/lib/python3.11/site-packages (from gitpython!=3.1.19,<4,>=3.0.7->streamlit) (4.0.10)\n",
      "Requirement already satisfied: python-dateutil>=2.8.2 in /home/alfred/anaconda3/envs/dui/lib/python3.11/site-packages (from pandas<3,>=1.3.0->streamlit) (2.9.0.post0)\n",
      "Requirement already satisfied: pytz>=2020.1 in /home/alfred/anaconda3/envs/dui/lib/python3.11/site-packages (from pandas<3,>=1.3.0->streamlit) (2024.1)\n",
      "Requirement already satisfied: tzdata>=2022.7 in /home/alfred/anaconda3/envs/dui/lib/python3.11/site-packages (from pandas<3,>=1.3.0->streamlit) (2024.1)\n",
      "Requirement already satisfied: charset-normalizer<4,>=2 in /home/alfred/anaconda3/envs/dui/lib/python3.11/site-packages (from requests<3,>=2.27->streamlit) (3.2.0)\n",
      "Requirement already satisfied: idna<4,>=2.5 in /home/alfred/anaconda3/envs/dui/lib/python3.11/site-packages (from requests<3,>=2.27->streamlit) (3.4)\n",
      "Requirement already satisfied: urllib3<3,>=1.21.1 in /home/alfred/anaconda3/envs/dui/lib/python3.11/site-packages (from requests<3,>=2.27->streamlit) (1.26.18)\n",
      "Requirement already satisfied: certifi>=2017.4.17 in /home/alfred/anaconda3/envs/dui/lib/python3.11/site-packages (from requests<3,>=2.27->streamlit) (2024.2.2)\n",
      "Requirement already satisfied: markdown-it-py>=2.2.0 in /home/alfred/anaconda3/envs/dui/lib/python3.11/site-packages (from rich<14,>=10.14.0->streamlit) (3.0.0)\n",
      "Requirement already satisfied: pygments<3.0.0,>=2.13.0 in /home/alfred/anaconda3/envs/dui/lib/python3.11/site-packages (from rich<14,>=10.14.0->streamlit) (2.17.2)\n",
      "Requirement already satisfied: smmap<6,>=3.0.1 in /home/alfred/anaconda3/envs/dui/lib/python3.11/site-packages (from gitdb<5,>=4.0.1->gitpython!=3.1.19,<4,>=3.0.7->streamlit) (5.0.1)\n",
      "Requirement already satisfied: MarkupSafe>=2.0 in /home/alfred/anaconda3/envs/dui/lib/python3.11/site-packages (from jinja2->altair<6,>=4.0->streamlit) (2.1.3)\n",
      "Requirement already satisfied: attrs>=22.2.0 in /home/alfred/anaconda3/envs/dui/lib/python3.11/site-packages (from jsonschema>=3.0->altair<6,>=4.0->streamlit) (23.1.0)\n",
      "Requirement already satisfied: jsonschema-specifications>=2023.03.6 in /home/alfred/anaconda3/envs/dui/lib/python3.11/site-packages (from jsonschema>=3.0->altair<6,>=4.0->streamlit) (2023.7.1)\n",
      "Requirement already satisfied: referencing>=0.28.4 in /home/alfred/anaconda3/envs/dui/lib/python3.11/site-packages (from jsonschema>=3.0->altair<6,>=4.0->streamlit) (0.30.2)\n",
      "Requirement already satisfied: rpds-py>=0.7.1 in /home/alfred/anaconda3/envs/dui/lib/python3.11/site-packages (from jsonschema>=3.0->altair<6,>=4.0->streamlit) (0.10.3)\n",
      "Requirement already satisfied: mdurl~=0.1 in /home/alfred/anaconda3/envs/dui/lib/python3.11/site-packages (from markdown-it-py>=2.2.0->rich<14,>=10.14.0->streamlit) (0.1.2)\n",
      "Requirement already satisfied: six>=1.5 in /home/alfred/anaconda3/envs/dui/lib/python3.11/site-packages (from python-dateutil>=2.8.2->pandas<3,>=1.3.0->streamlit) (1.16.0)\n",
      "Note: you may need to restart the kernel to use updated packages.\n",
      "Looking in indexes: https://pypi.org/simple, https://pip.repos.neuron.amazonaws.com\n",
      "Collecting streamlit_jupyter\n",
      "  Downloading streamlit_jupyter-0.2.1-py3-none-any.whl.metadata (8.1 kB)\n",
      "Collecting fastcore (from streamlit_jupyter)\n",
      "  Downloading fastcore-1.5.29-py3-none-any.whl.metadata (3.5 kB)\n",
      "Collecting ipywidgets==7.7.2 (from streamlit_jupyter)\n",
      "  Downloading ipywidgets-7.7.2-py2.py3-none-any.whl.metadata (1.9 kB)\n",
      "Collecting jupyter (from streamlit_jupyter)\n",
      "  Downloading jupyter-1.0.0-py2.py3-none-any.whl.metadata (995 bytes)\n",
      "Collecting stqdm (from streamlit_jupyter)\n",
      "  Downloading stqdm-0.0.5-py3-none-any.whl.metadata (3.0 kB)\n",
      "Requirement already satisfied: streamlit>=1.19 in /home/alfred/anaconda3/envs/dui/lib/python3.11/site-packages (from streamlit_jupyter) (1.33.0)\n",
      "Requirement already satisfied: tabulate in /home/alfred/anaconda3/envs/dui/lib/python3.11/site-packages (from streamlit_jupyter) (0.9.0)\n",
      "Requirement already satisfied: tqdm in /home/alfred/anaconda3/envs/dui/lib/python3.11/site-packages (from streamlit_jupyter) (4.66.1)\n",
      "Requirement already satisfied: ipykernel>=4.5.1 in /home/alfred/anaconda3/envs/dui/lib/python3.11/site-packages (from ipywidgets==7.7.2->streamlit_jupyter) (6.29.3)\n",
      "Requirement already satisfied: ipython-genutils~=0.2.0 in /home/alfred/anaconda3/envs/dui/lib/python3.11/site-packages (from ipywidgets==7.7.2->streamlit_jupyter) (0.2.0)\n",
      "Requirement already satisfied: traitlets>=4.3.1 in /home/alfred/anaconda3/envs/dui/lib/python3.11/site-packages (from ipywidgets==7.7.2->streamlit_jupyter) (5.7.1)\n",
      "Collecting widgetsnbextension~=3.6.0 (from ipywidgets==7.7.2->streamlit_jupyter)\n",
      "  Downloading widgetsnbextension-3.6.6-py2.py3-none-any.whl.metadata (1.3 kB)\n",
      "Requirement already satisfied: ipython>=4.0.0 in /home/alfred/anaconda3/envs/dui/lib/python3.11/site-packages (from ipywidgets==7.7.2->streamlit_jupyter) (8.15.0)\n",
      "Collecting jupyterlab-widgets<3,>=1.0.0 (from ipywidgets==7.7.2->streamlit_jupyter)\n",
      "  Downloading jupyterlab_widgets-1.1.7-py3-none-any.whl.metadata (3.7 kB)\n",
      "Requirement already satisfied: altair<6,>=4.0 in /home/alfred/anaconda3/envs/dui/lib/python3.11/site-packages (from streamlit>=1.19->streamlit_jupyter) (5.2.0)\n",
      "Requirement already satisfied: blinker<2,>=1.0.0 in /home/alfred/anaconda3/envs/dui/lib/python3.11/site-packages (from streamlit>=1.19->streamlit_jupyter) (1.7.0)\n",
      "Requirement already satisfied: cachetools<6,>=4.0 in /home/alfred/anaconda3/envs/dui/lib/python3.11/site-packages (from streamlit>=1.19->streamlit_jupyter) (5.3.2)\n",
      "Requirement already satisfied: click<9,>=7.0 in /home/alfred/anaconda3/envs/dui/lib/python3.11/site-packages (from streamlit>=1.19->streamlit_jupyter) (8.1.7)\n",
      "Requirement already satisfied: numpy<2,>=1.19.3 in /home/alfred/anaconda3/envs/dui/lib/python3.11/site-packages (from streamlit>=1.19->streamlit_jupyter) (1.26.4)\n",
      "Requirement already satisfied: packaging<25,>=16.8 in /home/alfred/anaconda3/envs/dui/lib/python3.11/site-packages (from streamlit>=1.19->streamlit_jupyter) (23.2)\n",
      "Requirement already satisfied: pandas<3,>=1.3.0 in /home/alfred/anaconda3/envs/dui/lib/python3.11/site-packages (from streamlit>=1.19->streamlit_jupyter) (2.2.1)\n",
      "Requirement already satisfied: pillow<11,>=7.1.0 in /home/alfred/anaconda3/envs/dui/lib/python3.11/site-packages (from streamlit>=1.19->streamlit_jupyter) (10.2.0)\n",
      "Requirement already satisfied: protobuf<5,>=3.20 in /home/alfred/anaconda3/envs/dui/lib/python3.11/site-packages (from streamlit>=1.19->streamlit_jupyter) (4.25.3)\n",
      "Requirement already satisfied: pyarrow>=7.0 in /home/alfred/anaconda3/envs/dui/lib/python3.11/site-packages (from streamlit>=1.19->streamlit_jupyter) (15.0.0)\n",
      "Requirement already satisfied: requests<3,>=2.27 in /home/alfred/anaconda3/envs/dui/lib/python3.11/site-packages (from streamlit>=1.19->streamlit_jupyter) (2.31.0)\n",
      "Requirement already satisfied: rich<14,>=10.14.0 in /home/alfred/anaconda3/envs/dui/lib/python3.11/site-packages (from streamlit>=1.19->streamlit_jupyter) (13.7.0)\n",
      "Requirement already satisfied: tenacity<9,>=8.1.0 in /home/alfred/anaconda3/envs/dui/lib/python3.11/site-packages (from streamlit>=1.19->streamlit_jupyter) (8.2.3)\n",
      "Requirement already satisfied: toml<2,>=0.10.1 in /home/alfred/anaconda3/envs/dui/lib/python3.11/site-packages (from streamlit>=1.19->streamlit_jupyter) (0.10.2)\n",
      "Requirement already satisfied: typing-extensions<5,>=4.3.0 in /home/alfred/anaconda3/envs/dui/lib/python3.11/site-packages (from streamlit>=1.19->streamlit_jupyter) (4.8.0)\n",
      "Requirement already satisfied: gitpython!=3.1.19,<4,>=3.0.7 in /home/alfred/anaconda3/envs/dui/lib/python3.11/site-packages (from streamlit>=1.19->streamlit_jupyter) (3.1.41)\n",
      "Requirement already satisfied: pydeck<1,>=0.8.0b4 in /home/alfred/anaconda3/envs/dui/lib/python3.11/site-packages (from streamlit>=1.19->streamlit_jupyter) (0.8.1b0)\n",
      "Requirement already satisfied: tornado<7,>=6.0.3 in /home/alfred/anaconda3/envs/dui/lib/python3.11/site-packages (from streamlit>=1.19->streamlit_jupyter) (6.4)\n",
      "Requirement already satisfied: watchdog>=2.1.5 in /home/alfred/anaconda3/envs/dui/lib/python3.11/site-packages (from streamlit>=1.19->streamlit_jupyter) (4.0.0)\n",
      "Requirement already satisfied: pip in /home/alfred/anaconda3/envs/dui/lib/python3.11/site-packages (from fastcore->streamlit_jupyter) (24.0)\n",
      "Requirement already satisfied: notebook in /home/alfred/anaconda3/envs/dui/lib/python3.11/site-packages (from jupyter->streamlit_jupyter) (7.0.4)\n",
      "Collecting qtconsole (from jupyter->streamlit_jupyter)\n",
      "  Downloading qtconsole-5.5.1-py3-none-any.whl.metadata (5.1 kB)\n",
      "Collecting jupyter-console (from jupyter->streamlit_jupyter)\n",
      "  Downloading jupyter_console-6.6.3-py3-none-any.whl.metadata (5.8 kB)\n",
      "Requirement already satisfied: nbconvert in /home/alfred/anaconda3/envs/dui/lib/python3.11/site-packages (from jupyter->streamlit_jupyter) (7.8.0)\n",
      "Requirement already satisfied: jinja2 in /home/alfred/anaconda3/envs/dui/lib/python3.11/site-packages (from altair<6,>=4.0->streamlit>=1.19->streamlit_jupyter) (3.1.2)\n",
      "Requirement already satisfied: jsonschema>=3.0 in /home/alfred/anaconda3/envs/dui/lib/python3.11/site-packages (from altair<6,>=4.0->streamlit>=1.19->streamlit_jupyter) (4.19.1)\n",
      "Requirement already satisfied: toolz in /home/alfred/anaconda3/envs/dui/lib/python3.11/site-packages (from altair<6,>=4.0->streamlit>=1.19->streamlit_jupyter) (0.12.0)\n",
      "Requirement already satisfied: gitdb<5,>=4.0.1 in /home/alfred/anaconda3/envs/dui/lib/python3.11/site-packages (from gitpython!=3.1.19,<4,>=3.0.7->streamlit>=1.19->streamlit_jupyter) (4.0.10)\n",
      "Requirement already satisfied: comm>=0.1.1 in /home/alfred/anaconda3/envs/dui/lib/python3.11/site-packages (from ipykernel>=4.5.1->ipywidgets==7.7.2->streamlit_jupyter) (0.1.4)\n",
      "Requirement already satisfied: debugpy>=1.6.5 in /home/alfred/anaconda3/envs/dui/lib/python3.11/site-packages (from ipykernel>=4.5.1->ipywidgets==7.7.2->streamlit_jupyter) (1.6.7)\n",
      "Requirement already satisfied: jupyter-client>=6.1.12 in /home/alfred/anaconda3/envs/dui/lib/python3.11/site-packages (from ipykernel>=4.5.1->ipywidgets==7.7.2->streamlit_jupyter) (8.6.1)\n",
      "Requirement already satisfied: jupyter-core!=5.0.*,>=4.12 in /home/alfred/anaconda3/envs/dui/lib/python3.11/site-packages (from ipykernel>=4.5.1->ipywidgets==7.7.2->streamlit_jupyter) (5.7.2)\n",
      "Requirement already satisfied: matplotlib-inline>=0.1 in /home/alfred/anaconda3/envs/dui/lib/python3.11/site-packages (from ipykernel>=4.5.1->ipywidgets==7.7.2->streamlit_jupyter) (0.1.2)\n",
      "Requirement already satisfied: nest-asyncio in /home/alfred/anaconda3/envs/dui/lib/python3.11/site-packages (from ipykernel>=4.5.1->ipywidgets==7.7.2->streamlit_jupyter) (1.6.0)\n",
      "Requirement already satisfied: psutil in /home/alfred/anaconda3/envs/dui/lib/python3.11/site-packages (from ipykernel>=4.5.1->ipywidgets==7.7.2->streamlit_jupyter) (5.9.0)\n",
      "Requirement already satisfied: pyzmq>=24 in /home/alfred/anaconda3/envs/dui/lib/python3.11/site-packages (from ipykernel>=4.5.1->ipywidgets==7.7.2->streamlit_jupyter) (25.1.0)\n",
      "Requirement already satisfied: backcall in /home/alfred/anaconda3/envs/dui/lib/python3.11/site-packages (from ipython>=4.0.0->ipywidgets==7.7.2->streamlit_jupyter) (0.2.0)\n",
      "Requirement already satisfied: decorator in /home/alfred/anaconda3/envs/dui/lib/python3.11/site-packages (from ipython>=4.0.0->ipywidgets==7.7.2->streamlit_jupyter) (5.1.1)\n",
      "Requirement already satisfied: jedi>=0.16 in /home/alfred/anaconda3/envs/dui/lib/python3.11/site-packages (from ipython>=4.0.0->ipywidgets==7.7.2->streamlit_jupyter) (0.18.1)\n",
      "Requirement already satisfied: pickleshare in /home/alfred/anaconda3/envs/dui/lib/python3.11/site-packages (from ipython>=4.0.0->ipywidgets==7.7.2->streamlit_jupyter) (0.7.5)\n",
      "Requirement already satisfied: prompt-toolkit!=3.0.37,<3.1.0,>=3.0.30 in /home/alfred/anaconda3/envs/dui/lib/python3.11/site-packages (from ipython>=4.0.0->ipywidgets==7.7.2->streamlit_jupyter) (3.0.36)\n",
      "Requirement already satisfied: pygments>=2.4.0 in /home/alfred/anaconda3/envs/dui/lib/python3.11/site-packages (from ipython>=4.0.0->ipywidgets==7.7.2->streamlit_jupyter) (2.17.2)\n",
      "Requirement already satisfied: stack-data in /home/alfred/anaconda3/envs/dui/lib/python3.11/site-packages (from ipython>=4.0.0->ipywidgets==7.7.2->streamlit_jupyter) (0.2.0)\n",
      "Requirement already satisfied: pexpect>4.3 in /home/alfred/anaconda3/envs/dui/lib/python3.11/site-packages (from ipython>=4.0.0->ipywidgets==7.7.2->streamlit_jupyter) (4.8.0)\n",
      "Requirement already satisfied: python-dateutil>=2.8.2 in /home/alfred/anaconda3/envs/dui/lib/python3.11/site-packages (from pandas<3,>=1.3.0->streamlit>=1.19->streamlit_jupyter) (2.9.0.post0)\n",
      "Requirement already satisfied: pytz>=2020.1 in /home/alfred/anaconda3/envs/dui/lib/python3.11/site-packages (from pandas<3,>=1.3.0->streamlit>=1.19->streamlit_jupyter) (2024.1)\n",
      "Requirement already satisfied: tzdata>=2022.7 in /home/alfred/anaconda3/envs/dui/lib/python3.11/site-packages (from pandas<3,>=1.3.0->streamlit>=1.19->streamlit_jupyter) (2024.1)\n",
      "Requirement already satisfied: charset-normalizer<4,>=2 in /home/alfred/anaconda3/envs/dui/lib/python3.11/site-packages (from requests<3,>=2.27->streamlit>=1.19->streamlit_jupyter) (3.2.0)\n",
      "Requirement already satisfied: idna<4,>=2.5 in /home/alfred/anaconda3/envs/dui/lib/python3.11/site-packages (from requests<3,>=2.27->streamlit>=1.19->streamlit_jupyter) (3.4)\n",
      "Requirement already satisfied: urllib3<3,>=1.21.1 in /home/alfred/anaconda3/envs/dui/lib/python3.11/site-packages (from requests<3,>=2.27->streamlit>=1.19->streamlit_jupyter) (1.26.18)\n",
      "Requirement already satisfied: certifi>=2017.4.17 in /home/alfred/anaconda3/envs/dui/lib/python3.11/site-packages (from requests<3,>=2.27->streamlit>=1.19->streamlit_jupyter) (2024.2.2)\n",
      "Requirement already satisfied: markdown-it-py>=2.2.0 in /home/alfred/anaconda3/envs/dui/lib/python3.11/site-packages (from rich<14,>=10.14.0->streamlit>=1.19->streamlit_jupyter) (3.0.0)\n",
      "Requirement already satisfied: jupyter-server<3,>=2.4.0 in /home/alfred/anaconda3/envs/dui/lib/python3.11/site-packages (from notebook->jupyter->streamlit_jupyter) (2.13.0)\n",
      "Requirement already satisfied: jupyterlab-server<3,>=2.22.1 in /home/alfred/anaconda3/envs/dui/lib/python3.11/site-packages (from notebook->jupyter->streamlit_jupyter) (2.25.4)\n",
      "Requirement already satisfied: jupyterlab<5,>=4.0.2 in /home/alfred/anaconda3/envs/dui/lib/python3.11/site-packages (from notebook->jupyter->streamlit_jupyter) (4.1.5)\n",
      "Requirement already satisfied: notebook-shim<0.3,>=0.2 in /home/alfred/anaconda3/envs/dui/lib/python3.11/site-packages (from notebook->jupyter->streamlit_jupyter) (0.2.3)\n",
      "Requirement already satisfied: beautifulsoup4 in /home/alfred/anaconda3/envs/dui/lib/python3.11/site-packages (from nbconvert->jupyter->streamlit_jupyter) (4.12.3)\n",
      "Requirement already satisfied: bleach!=5.0.0 in /home/alfred/anaconda3/envs/dui/lib/python3.11/site-packages (from nbconvert->jupyter->streamlit_jupyter) (6.0.0)\n",
      "Requirement already satisfied: defusedxml in /home/alfred/anaconda3/envs/dui/lib/python3.11/site-packages (from nbconvert->jupyter->streamlit_jupyter) (0.7.1)\n",
      "Requirement already satisfied: jupyterlab-pygments in /home/alfred/anaconda3/envs/dui/lib/python3.11/site-packages (from nbconvert->jupyter->streamlit_jupyter) (0.3.0)\n",
      "Requirement already satisfied: markupsafe>=2.0 in /home/alfred/anaconda3/envs/dui/lib/python3.11/site-packages (from nbconvert->jupyter->streamlit_jupyter) (2.1.3)\n",
      "Requirement already satisfied: mistune<4,>=2.0.3 in /home/alfred/anaconda3/envs/dui/lib/python3.11/site-packages (from nbconvert->jupyter->streamlit_jupyter) (3.0.1)\n",
      "Requirement already satisfied: nbclient>=0.5.0 in /home/alfred/anaconda3/envs/dui/lib/python3.11/site-packages (from nbconvert->jupyter->streamlit_jupyter) (0.8.0)\n",
      "Requirement already satisfied: nbformat>=5.7 in /home/alfred/anaconda3/envs/dui/lib/python3.11/site-packages (from nbconvert->jupyter->streamlit_jupyter) (5.9.2)\n",
      "Requirement already satisfied: pandocfilters>=1.4.1 in /home/alfred/anaconda3/envs/dui/lib/python3.11/site-packages (from nbconvert->jupyter->streamlit_jupyter) (1.5.0)\n",
      "Requirement already satisfied: tinycss2 in /home/alfred/anaconda3/envs/dui/lib/python3.11/site-packages (from nbconvert->jupyter->streamlit_jupyter) (1.2.1)\n",
      "Collecting qtpy>=2.4.0 (from qtconsole->jupyter->streamlit_jupyter)\n",
      "  Downloading QtPy-2.4.1-py3-none-any.whl.metadata (12 kB)\n",
      "Requirement already satisfied: six>=1.9.0 in /home/alfred/anaconda3/envs/dui/lib/python3.11/site-packages (from bleach!=5.0.0->nbconvert->jupyter->streamlit_jupyter) (1.16.0)\n",
      "Requirement already satisfied: webencodings in /home/alfred/anaconda3/envs/dui/lib/python3.11/site-packages (from bleach!=5.0.0->nbconvert->jupyter->streamlit_jupyter) (0.5.1)\n",
      "Requirement already satisfied: smmap<6,>=3.0.1 in /home/alfred/anaconda3/envs/dui/lib/python3.11/site-packages (from gitdb<5,>=4.0.1->gitpython!=3.1.19,<4,>=3.0.7->streamlit>=1.19->streamlit_jupyter) (5.0.1)\n",
      "Requirement already satisfied: parso<0.9.0,>=0.8.0 in /home/alfred/anaconda3/envs/dui/lib/python3.11/site-packages (from jedi>=0.16->ipython>=4.0.0->ipywidgets==7.7.2->streamlit_jupyter) (0.8.3)\n",
      "Requirement already satisfied: attrs>=22.2.0 in /home/alfred/anaconda3/envs/dui/lib/python3.11/site-packages (from jsonschema>=3.0->altair<6,>=4.0->streamlit>=1.19->streamlit_jupyter) (23.1.0)\n",
      "Requirement already satisfied: jsonschema-specifications>=2023.03.6 in /home/alfred/anaconda3/envs/dui/lib/python3.11/site-packages (from jsonschema>=3.0->altair<6,>=4.0->streamlit>=1.19->streamlit_jupyter) (2023.7.1)\n",
      "Requirement already satisfied: referencing>=0.28.4 in /home/alfred/anaconda3/envs/dui/lib/python3.11/site-packages (from jsonschema>=3.0->altair<6,>=4.0->streamlit>=1.19->streamlit_jupyter) (0.30.2)\n",
      "Requirement already satisfied: rpds-py>=0.7.1 in /home/alfred/anaconda3/envs/dui/lib/python3.11/site-packages (from jsonschema>=3.0->altair<6,>=4.0->streamlit>=1.19->streamlit_jupyter) (0.10.3)\n",
      "Requirement already satisfied: platformdirs>=2.5 in /home/alfred/anaconda3/envs/dui/lib/python3.11/site-packages (from jupyter-core!=5.0.*,>=4.12->ipykernel>=4.5.1->ipywidgets==7.7.2->streamlit_jupyter) (4.1.0)\n",
      "Requirement already satisfied: anyio>=3.1.0 in /home/alfred/anaconda3/envs/dui/lib/python3.11/site-packages (from jupyter-server<3,>=2.4.0->notebook->jupyter->streamlit_jupyter) (3.7.1)\n",
      "Requirement already satisfied: argon2-cffi in /home/alfred/anaconda3/envs/dui/lib/python3.11/site-packages (from jupyter-server<3,>=2.4.0->notebook->jupyter->streamlit_jupyter) (23.1.0)\n",
      "Requirement already satisfied: jupyter-events>=0.9.0 in /home/alfred/anaconda3/envs/dui/lib/python3.11/site-packages (from jupyter-server<3,>=2.4.0->notebook->jupyter->streamlit_jupyter) (0.10.0)\n",
      "Requirement already satisfied: jupyter-server-terminals in /home/alfred/anaconda3/envs/dui/lib/python3.11/site-packages (from jupyter-server<3,>=2.4.0->notebook->jupyter->streamlit_jupyter) (0.5.3)\n",
      "Requirement already satisfied: overrides in /home/alfred/anaconda3/envs/dui/lib/python3.11/site-packages (from jupyter-server<3,>=2.4.0->notebook->jupyter->streamlit_jupyter) (7.4.0)\n",
      "Requirement already satisfied: prometheus-client in /home/alfred/anaconda3/envs/dui/lib/python3.11/site-packages (from jupyter-server<3,>=2.4.0->notebook->jupyter->streamlit_jupyter) (0.17.1)\n",
      "Requirement already satisfied: send2trash>=1.8.2 in /home/alfred/anaconda3/envs/dui/lib/python3.11/site-packages (from jupyter-server<3,>=2.4.0->notebook->jupyter->streamlit_jupyter) (1.8.2)\n",
      "Requirement already satisfied: terminado>=0.8.3 in /home/alfred/anaconda3/envs/dui/lib/python3.11/site-packages (from jupyter-server<3,>=2.4.0->notebook->jupyter->streamlit_jupyter) (0.17.1)\n",
      "Requirement already satisfied: websocket-client in /home/alfred/anaconda3/envs/dui/lib/python3.11/site-packages (from jupyter-server<3,>=2.4.0->notebook->jupyter->streamlit_jupyter) (1.6.3)\n",
      "Requirement already satisfied: async-lru>=1.0.0 in /home/alfred/anaconda3/envs/dui/lib/python3.11/site-packages (from jupyterlab<5,>=4.0.2->notebook->jupyter->streamlit_jupyter) (2.0.4)\n",
      "Requirement already satisfied: httpx>=0.25.0 in /home/alfred/anaconda3/envs/dui/lib/python3.11/site-packages (from jupyterlab<5,>=4.0.2->notebook->jupyter->streamlit_jupyter) (0.25.2)\n",
      "Requirement already satisfied: jupyter-lsp>=2.0.0 in /home/alfred/anaconda3/envs/dui/lib/python3.11/site-packages (from jupyterlab<5,>=4.0.2->notebook->jupyter->streamlit_jupyter) (2.2.4)\n",
      "Requirement already satisfied: babel>=2.10 in /home/alfred/anaconda3/envs/dui/lib/python3.11/site-packages (from jupyterlab-server<3,>=2.22.1->notebook->jupyter->streamlit_jupyter) (2.12.1)\n",
      "Requirement already satisfied: json5>=0.9.0 in /home/alfred/anaconda3/envs/dui/lib/python3.11/site-packages (from jupyterlab-server<3,>=2.22.1->notebook->jupyter->streamlit_jupyter) (0.9.14)\n",
      "Requirement already satisfied: mdurl~=0.1 in /home/alfred/anaconda3/envs/dui/lib/python3.11/site-packages (from markdown-it-py>=2.2.0->rich<14,>=10.14.0->streamlit>=1.19->streamlit_jupyter) (0.1.2)\n",
      "Requirement already satisfied: fastjsonschema in /home/alfred/anaconda3/envs/dui/lib/python3.11/site-packages (from nbformat>=5.7->nbconvert->jupyter->streamlit_jupyter) (2.18.0)\n",
      "Requirement already satisfied: ptyprocess>=0.5 in /home/alfred/anaconda3/envs/dui/lib/python3.11/site-packages (from pexpect>4.3->ipython>=4.0.0->ipywidgets==7.7.2->streamlit_jupyter) (0.7.0)\n",
      "Requirement already satisfied: wcwidth in /home/alfred/anaconda3/envs/dui/lib/python3.11/site-packages (from prompt-toolkit!=3.0.37,<3.1.0,>=3.0.30->ipython>=4.0.0->ipywidgets==7.7.2->streamlit_jupyter) (0.2.13)\n",
      "Requirement already satisfied: soupsieve>1.2 in /home/alfred/anaconda3/envs/dui/lib/python3.11/site-packages (from beautifulsoup4->nbconvert->jupyter->streamlit_jupyter) (2.5)\n",
      "Requirement already satisfied: executing in /home/alfred/anaconda3/envs/dui/lib/python3.11/site-packages (from stack-data->ipython>=4.0.0->ipywidgets==7.7.2->streamlit_jupyter) (0.8.3)\n",
      "Requirement already satisfied: asttokens in /home/alfred/anaconda3/envs/dui/lib/python3.11/site-packages (from stack-data->ipython>=4.0.0->ipywidgets==7.7.2->streamlit_jupyter) (2.0.5)\n",
      "Requirement already satisfied: pure-eval in /home/alfred/anaconda3/envs/dui/lib/python3.11/site-packages (from stack-data->ipython>=4.0.0->ipywidgets==7.7.2->streamlit_jupyter) (0.2.2)\n",
      "Requirement already satisfied: sniffio>=1.1 in /home/alfred/anaconda3/envs/dui/lib/python3.11/site-packages (from anyio>=3.1.0->jupyter-server<3,>=2.4.0->notebook->jupyter->streamlit_jupyter) (1.3.0)\n",
      "Requirement already satisfied: httpcore==1.* in /home/alfred/anaconda3/envs/dui/lib/python3.11/site-packages (from httpx>=0.25.0->jupyterlab<5,>=4.0.2->notebook->jupyter->streamlit_jupyter) (1.0.2)\n",
      "Requirement already satisfied: h11<0.15,>=0.13 in /home/alfred/anaconda3/envs/dui/lib/python3.11/site-packages (from httpcore==1.*->httpx>=0.25.0->jupyterlab<5,>=4.0.2->notebook->jupyter->streamlit_jupyter) (0.14.0)\n",
      "Requirement already satisfied: python-json-logger>=2.0.4 in /home/alfred/anaconda3/envs/dui/lib/python3.11/site-packages (from jupyter-events>=0.9.0->jupyter-server<3,>=2.4.0->notebook->jupyter->streamlit_jupyter) (2.0.7)\n",
      "Requirement already satisfied: pyyaml>=5.3 in /home/alfred/anaconda3/envs/dui/lib/python3.11/site-packages (from jupyter-events>=0.9.0->jupyter-server<3,>=2.4.0->notebook->jupyter->streamlit_jupyter) (6.0.1)\n",
      "Requirement already satisfied: rfc3339-validator in /home/alfred/anaconda3/envs/dui/lib/python3.11/site-packages (from jupyter-events>=0.9.0->jupyter-server<3,>=2.4.0->notebook->jupyter->streamlit_jupyter) (0.1.4)\n",
      "Requirement already satisfied: rfc3986-validator>=0.1.1 in /home/alfred/anaconda3/envs/dui/lib/python3.11/site-packages (from jupyter-events>=0.9.0->jupyter-server<3,>=2.4.0->notebook->jupyter->streamlit_jupyter) (0.1.1)\n",
      "Requirement already satisfied: argon2-cffi-bindings in /home/alfred/anaconda3/envs/dui/lib/python3.11/site-packages (from argon2-cffi->jupyter-server<3,>=2.4.0->notebook->jupyter->streamlit_jupyter) (21.2.0)\n",
      "Requirement already satisfied: fqdn in /home/alfred/anaconda3/envs/dui/lib/python3.11/site-packages (from jsonschema[format-nongpl]>=4.18.0->jupyter-events>=0.9.0->jupyter-server<3,>=2.4.0->notebook->jupyter->streamlit_jupyter) (1.5.1)\n",
      "Requirement already satisfied: isoduration in /home/alfred/anaconda3/envs/dui/lib/python3.11/site-packages (from jsonschema[format-nongpl]>=4.18.0->jupyter-events>=0.9.0->jupyter-server<3,>=2.4.0->notebook->jupyter->streamlit_jupyter) (20.11.0)\n",
      "Requirement already satisfied: jsonpointer>1.13 in /home/alfred/anaconda3/envs/dui/lib/python3.11/site-packages (from jsonschema[format-nongpl]>=4.18.0->jupyter-events>=0.9.0->jupyter-server<3,>=2.4.0->notebook->jupyter->streamlit_jupyter) (2.4)\n",
      "Requirement already satisfied: uri-template in /home/alfred/anaconda3/envs/dui/lib/python3.11/site-packages (from jsonschema[format-nongpl]>=4.18.0->jupyter-events>=0.9.0->jupyter-server<3,>=2.4.0->notebook->jupyter->streamlit_jupyter) (1.3.0)\n",
      "Requirement already satisfied: webcolors>=1.11 in /home/alfred/anaconda3/envs/dui/lib/python3.11/site-packages (from jsonschema[format-nongpl]>=4.18.0->jupyter-events>=0.9.0->jupyter-server<3,>=2.4.0->notebook->jupyter->streamlit_jupyter) (1.13)\n",
      "Requirement already satisfied: cffi>=1.0.1 in /home/alfred/anaconda3/envs/dui/lib/python3.11/site-packages (from argon2-cffi-bindings->argon2-cffi->jupyter-server<3,>=2.4.0->notebook->jupyter->streamlit_jupyter) (1.15.1)\n",
      "Requirement already satisfied: pycparser in /home/alfred/anaconda3/envs/dui/lib/python3.11/site-packages (from cffi>=1.0.1->argon2-cffi-bindings->argon2-cffi->jupyter-server<3,>=2.4.0->notebook->jupyter->streamlit_jupyter) (2.21)\n",
      "Requirement already satisfied: arrow>=0.15.0 in /home/alfred/anaconda3/envs/dui/lib/python3.11/site-packages (from isoduration->jsonschema[format-nongpl]>=4.18.0->jupyter-events>=0.9.0->jupyter-server<3,>=2.4.0->notebook->jupyter->streamlit_jupyter) (1.3.0)\n",
      "Requirement already satisfied: types-python-dateutil>=2.8.10 in /home/alfred/anaconda3/envs/dui/lib/python3.11/site-packages (from arrow>=0.15.0->isoduration->jsonschema[format-nongpl]>=4.18.0->jupyter-events>=0.9.0->jupyter-server<3,>=2.4.0->notebook->jupyter->streamlit_jupyter) (2.8.19.14)\n",
      "Downloading streamlit_jupyter-0.2.1-py3-none-any.whl (13 kB)\n",
      "Downloading ipywidgets-7.7.2-py2.py3-none-any.whl (123 kB)\n",
      "\u001b[2K   \u001b[90m━━━━━━━━━━━━━━━━━━━━━━━━━━━━━━━━━━━━━━━━\u001b[0m \u001b[32m123.4/123.4 kB\u001b[0m \u001b[31m7.5 MB/s\u001b[0m eta \u001b[36m0:00:00\u001b[0m\n",
      "\u001b[?25hDownloading fastcore-1.5.29-py3-none-any.whl (67 kB)\n",
      "\u001b[2K   \u001b[90m━━━━━━━━━━━━━━━━━━━━━━━━━━━━━━━━━━━━━━━━\u001b[0m \u001b[32m67.6/67.6 kB\u001b[0m \u001b[31m12.7 MB/s\u001b[0m eta \u001b[36m0:00:00\u001b[0m\n",
      "\u001b[?25hDownloading jupyter-1.0.0-py2.py3-none-any.whl (2.7 kB)\n",
      "Downloading stqdm-0.0.5-py3-none-any.whl (11 kB)\n",
      "Downloading jupyterlab_widgets-1.1.7-py3-none-any.whl (295 kB)\n",
      "\u001b[2K   \u001b[90m━━━━━━━━━━━━━━━━━━━━━━━━━━━━━━━━━━━━━━━━\u001b[0m \u001b[32m295.4/295.4 kB\u001b[0m \u001b[31m17.8 MB/s\u001b[0m eta \u001b[36m0:00:00\u001b[0m\n",
      "\u001b[?25hDownloading widgetsnbextension-3.6.6-py2.py3-none-any.whl (1.6 MB)\n",
      "\u001b[2K   \u001b[90m━━━━━━━━━━━━━━━━━━━━━━━━━━━━━━━━━━━━━━━━\u001b[0m \u001b[32m1.6/1.6 MB\u001b[0m \u001b[31m71.5 MB/s\u001b[0m eta \u001b[36m0:00:00\u001b[0m\n",
      "\u001b[?25hDownloading jupyter_console-6.6.3-py3-none-any.whl (24 kB)\n",
      "Downloading qtconsole-5.5.1-py3-none-any.whl (123 kB)\n",
      "\u001b[2K   \u001b[90m━━━━━━━━━━━━━━━━━━━━━━━━━━━━━━━━━━━━━━━━\u001b[0m \u001b[32m123.4/123.4 kB\u001b[0m \u001b[31m21.4 MB/s\u001b[0m eta \u001b[36m0:00:00\u001b[0m\n",
      "\u001b[?25hDownloading QtPy-2.4.1-py3-none-any.whl (93 kB)\n",
      "\u001b[2K   \u001b[90m━━━━━━━━━━━━━━━━━━━━━━━━━━━━━━━━━━━━━━━━\u001b[0m \u001b[32m93.5/93.5 kB\u001b[0m \u001b[31m19.1 MB/s\u001b[0m eta \u001b[36m0:00:00\u001b[0m\n",
      "\u001b[?25hInstalling collected packages: qtpy, jupyterlab-widgets, fastcore, qtconsole, jupyter-console, stqdm, widgetsnbextension, ipywidgets, jupyter, streamlit_jupyter\n",
      "  Attempting uninstall: jupyterlab-widgets\n",
      "    Found existing installation: jupyterlab_widgets 3.0.10\n",
      "    Uninstalling jupyterlab_widgets-3.0.10:\n",
      "      Successfully uninstalled jupyterlab_widgets-3.0.10\n",
      "  Attempting uninstall: widgetsnbextension\n",
      "    Found existing installation: widgetsnbextension 4.0.9\n",
      "    Uninstalling widgetsnbextension-4.0.9:\n",
      "      Successfully uninstalled widgetsnbextension-4.0.9\n",
      "  Attempting uninstall: ipywidgets\n",
      "    Found existing installation: ipywidgets 8.1.1\n",
      "    Uninstalling ipywidgets-8.1.1:\n",
      "      Successfully uninstalled ipywidgets-8.1.1\n",
      "\u001b[31mERROR: pip's dependency resolver does not currently take into account all the packages that are installed. This behaviour is the source of the following dependency conflicts.\n",
      "langchain-benchmarks 0.0.10 requires ipywidgets<9,>=8, but you have ipywidgets 7.7.2 which is incompatible.\u001b[0m\u001b[31m\n",
      "\u001b[0mSuccessfully installed fastcore-1.5.29 ipywidgets-7.7.2 jupyter-1.0.0 jupyter-console-6.6.3 jupyterlab-widgets-1.1.7 qtconsole-5.5.1 qtpy-2.4.1 stqdm-0.0.5 streamlit_jupyter-0.2.1 widgetsnbextension-3.6.6\n"
     ]
    }
   ],
   "source": [
    "%pip install streamlit --upgrade\n",
    "!pip install streamlit_jupyter --upgrade"
   ]
  },
  {
   "cell_type": "code",
   "execution_count": 2,
   "id": "04fbec6f-5ede-4059-a14f-1b6dd1cc43ca",
   "metadata": {},
   "outputs": [
    {
     "data": {
      "text/html": [
       "<script>Jupyter.notebook.kernel.restart()</script>"
      ],
      "text/plain": [
       "<IPython.core.display.HTML object>"
      ]
     },
     "execution_count": 2,
     "metadata": {},
     "output_type": "execute_result"
    }
   ],
   "source": [
    "# restart kernel\n",
    "from IPython.core.display import HTML\n",
    "HTML(\"<script>Jupyter.notebook.kernel.restart()</script>\")"
   ]
  },
  {
   "cell_type": "code",
   "execution_count": 3,
   "id": "8673f206-a613-4bbf-9224-2cbb0597c02e",
   "metadata": {},
   "outputs": [],
   "source": [
    "%load_ext autoreload\n",
    "%autoreload 2"
   ]
  },
  {
   "cell_type": "markdown",
   "id": "dd22c7fc-5407-402b-b4e6-064c1196a563",
   "metadata": {},
   "source": [
    "## Import needed packages"
   ]
  },
  {
   "cell_type": "code",
   "execution_count": 4,
   "id": "19375b05-5ca0-4bbf-9586-138c0d1c6e26",
   "metadata": {},
   "outputs": [],
   "source": [
    "import streamlit as st\n",
    "from streamlit_jupyter import StreamlitPatcher, tqdm"
   ]
  },
  {
   "cell_type": "code",
   "execution_count": 5,
   "id": "db8fde10-ee3d-47f0-bdf8-14e328baa5d4",
   "metadata": {},
   "outputs": [],
   "source": [
    "sp = StreamlitPatcher()\n",
    "sp.jupyter()  # register patcher with streamlit"
   ]
  },
  {
   "cell_type": "markdown",
   "id": "78f39397-04c1-4e52-bef3-2315fc0be11c",
   "metadata": {},
   "source": [
    "## Start Streamlit UI"
   ]
  },
  {
   "cell_type": "code",
   "execution_count": 6,
   "id": "64397e9f-386e-4246-926e-1091924b0359",
   "metadata": {},
   "outputs": [
    {
     "data": {
      "text/markdown": [
       "# Multimodal Demo"
      ],
      "text/plain": [
       "<IPython.core.display.Markdown object>"
      ]
     },
     "metadata": {},
     "output_type": "display_data"
    }
   ],
   "source": [
    "st.set_page_config(page_title=\"MM-RAG Demo\",page_icon=\"🩺\",layout=\"wide\")\n",
    "st.title(\"Multimodal Demo\")"
   ]
  },
  {
   "cell_type": "markdown",
   "id": "e361b779-d2a3-450d-95e2-019261485b2b",
   "metadata": {},
   "source": [
    "## Integrate with mmRAG"
   ]
  },
  {
   "cell_type": "markdown",
   "id": "b0b7d1c2-8000-42b7-b12f-8ffc7ef87d37",
   "metadata": {},
   "source": [
    "### ST sidebar"
   ]
  },
  {
   "cell_type": "code",
   "execution_count": 11,
   "id": "e3ade310-0835-4bdc-bb80-2c628f6115e8",
   "metadata": {},
   "outputs": [
    {
     "data": {
      "text/markdown": [
       "# :orange[Multimodal Config] :pencil2:"
      ],
      "text/plain": [
       "<IPython.core.display.Markdown object>"
      ]
     },
     "metadata": {},
     "output_type": "display_data"
    },
    {
     "data": {
      "application/vnd.jupyter.widget-view+json": {
       "model_id": "6e2f12728e4545ac892a60191d5b54c1",
       "version_major": 2,
       "version_minor": 0
      },
      "text/plain": [
       "Dropdown(description='Choose Model', options=('anthropic.claude-3-haiku-20240307-v1:0', 'anthropic.claude-3-so…"
      ]
     },
     "metadata": {},
     "output_type": "display_data"
    },
    {
     "data": {
      "text/markdown": [
       "------- Default parameters ----------"
      ],
      "text/plain": [
       "<IPython.core.display.Markdown object>"
      ]
     },
     "metadata": {},
     "output_type": "display_data"
    },
    {
     "data": {
      "application/vnd.jupyter.widget-view+json": {
       "model_id": "5ad85ea2b6b54fc1a3e015c9d4111c23",
       "version_major": 2,
       "version_minor": 0
      },
      "text/plain": [
       "Textarea(value='\\n\\n\\n', description='The set of character sequences (up to 5) that will stop output generatio…"
      ]
     },
     "metadata": {},
     "output_type": "display_data"
    }
   ],
   "source": [
    "#@st.cache_data\n",
    "#@st.cache_resource\n",
    "st.title(':orange[Multimodal Config] :pencil2:')\n",
    "option = st.selectbox('Choose Model',('anthropic.claude-3-haiku-20240307-v1:0', \n",
    "                                      'anthropic.claude-3-sonnet-20240229-v1:0', \n",
    "                                      'mistral.mistral-large-2402-v1:0'))\n",
    "\n",
    "st.write(\"------- Default parameters ----------\")\n",
    "temperature = st.number_input(\"Temperature\", min_value=0.0, max_value=1.0, value=0.1, step=0.05)\n",
    "max_token = st.number_input(\"Maximum Output Token\", min_value=0, value=1024, step=64)\n",
    "top_p = st.number_input(\"Top_p: The cumulative probability cutoff for token selection\", min_value=0.1, value=0.85)\n",
    "top_k = st.number_input(\"Top_k: Sample from the k most likely next tokens at each step\", min_value=1, value=40)\n",
    "#candidate_count = st.number_input(\"Number of generated responses to return\", min_value=1, value=1)\n",
    "stop_sequences = st.text_input(\"The set of character sequences (up to 5) that will stop output generation\", value=\"\\n\\n\\n\")"
   ]
  },
  {
   "cell_type": "markdown",
   "id": "24febe0b-3740-4431-911e-f288707c9e00",
   "metadata": {},
   "source": [
    "### ST body"
   ]
  },
  {
   "cell_type": "code",
   "execution_count": 10,
   "id": "f69feee2-5633-49c7-9a17-66a6627329ff",
   "metadata": {},
   "outputs": [
    {
     "ename": "AttributeError",
     "evalue": "st.session_state has no attribute \"messages\". Did you forget to initialize it? More info: https://docs.streamlit.io/library/advanced-features/session-state#initialization",
     "output_type": "error",
     "traceback": [
      "\u001b[0;31m---------------------------------------------------------------------------\u001b[0m",
      "\u001b[0;31mKeyError\u001b[0m                                  Traceback (most recent call last)",
      "File \u001b[0;32m~/anaconda3/envs/dui/lib/python3.11/site-packages/streamlit/runtime/state/session_state.py:408\u001b[0m, in \u001b[0;36mSessionState.__getitem__\u001b[0;34m(self, key)\u001b[0m\n\u001b[1;32m    407\u001b[0m \u001b[38;5;28;01mtry\u001b[39;00m:\n\u001b[0;32m--> 408\u001b[0m     \u001b[38;5;28;01mreturn\u001b[39;00m \u001b[38;5;28mself\u001b[39m\u001b[38;5;241m.\u001b[39m_getitem(widget_id, key)\n\u001b[1;32m    409\u001b[0m \u001b[38;5;28;01mexcept\u001b[39;00m \u001b[38;5;167;01mKeyError\u001b[39;00m:\n",
      "File \u001b[0;32m~/anaconda3/envs/dui/lib/python3.11/site-packages/streamlit/runtime/state/session_state.py:453\u001b[0m, in \u001b[0;36mSessionState._getitem\u001b[0;34m(self, widget_id, user_key)\u001b[0m\n\u001b[1;32m    452\u001b[0m \u001b[38;5;66;03m# We'll never get here\u001b[39;00m\n\u001b[0;32m--> 453\u001b[0m \u001b[38;5;28;01mraise\u001b[39;00m \u001b[38;5;167;01mKeyError\u001b[39;00m\n",
      "\u001b[0;31mKeyError\u001b[0m: ",
      "\nDuring handling of the above exception, another exception occurred:\n",
      "\u001b[0;31mKeyError\u001b[0m                                  Traceback (most recent call last)",
      "File \u001b[0;32m~/anaconda3/envs/dui/lib/python3.11/site-packages/streamlit/runtime/state/session_state_proxy.py:119\u001b[0m, in \u001b[0;36mSessionStateProxy.__getattr__\u001b[0;34m(self, key)\u001b[0m\n\u001b[1;32m    118\u001b[0m \u001b[38;5;28;01mtry\u001b[39;00m:\n\u001b[0;32m--> 119\u001b[0m     \u001b[38;5;28;01mreturn\u001b[39;00m \u001b[38;5;28mself\u001b[39m[key]\n\u001b[1;32m    120\u001b[0m \u001b[38;5;28;01mexcept\u001b[39;00m \u001b[38;5;167;01mKeyError\u001b[39;00m:\n",
      "File \u001b[0;32m~/anaconda3/envs/dui/lib/python3.11/site-packages/streamlit/runtime/state/session_state_proxy.py:90\u001b[0m, in \u001b[0;36mSessionStateProxy.__getitem__\u001b[0;34m(self, key)\u001b[0m\n\u001b[1;32m     89\u001b[0m require_valid_user_key(key)\n\u001b[0;32m---> 90\u001b[0m \u001b[38;5;28;01mreturn\u001b[39;00m get_session_state()[key]\n",
      "File \u001b[0;32m~/anaconda3/envs/dui/lib/python3.11/site-packages/streamlit/runtime/state/safe_session_state.py:93\u001b[0m, in \u001b[0;36mSafeSessionState.__getitem__\u001b[0;34m(self, key)\u001b[0m\n\u001b[1;32m     92\u001b[0m \u001b[38;5;28;01mwith\u001b[39;00m \u001b[38;5;28mself\u001b[39m\u001b[38;5;241m.\u001b[39m_lock:\n\u001b[0;32m---> 93\u001b[0m     \u001b[38;5;28;01mreturn\u001b[39;00m \u001b[38;5;28mself\u001b[39m\u001b[38;5;241m.\u001b[39m_state[key]\n",
      "File \u001b[0;32m~/anaconda3/envs/dui/lib/python3.11/site-packages/streamlit/runtime/state/session_state.py:410\u001b[0m, in \u001b[0;36mSessionState.__getitem__\u001b[0;34m(self, key)\u001b[0m\n\u001b[1;32m    409\u001b[0m \u001b[38;5;28;01mexcept\u001b[39;00m \u001b[38;5;167;01mKeyError\u001b[39;00m:\n\u001b[0;32m--> 410\u001b[0m     \u001b[38;5;28;01mraise\u001b[39;00m \u001b[38;5;167;01mKeyError\u001b[39;00m(_missing_key_error_message(key))\n",
      "\u001b[0;31mKeyError\u001b[0m: 'st.session_state has no key \"messages\". Did you forget to initialize it? More info: https://docs.streamlit.io/library/advanced-features/session-state#initialization'",
      "\nDuring handling of the above exception, another exception occurred:\n",
      "\u001b[0;31mAttributeError\u001b[0m                            Traceback (most recent call last)",
      "Cell \u001b[0;32mIn[10], line 4\u001b[0m\n\u001b[1;32m      1\u001b[0m \u001b[38;5;28;01mif\u001b[39;00m \u001b[38;5;124m\"\u001b[39m\u001b[38;5;124mmessages\u001b[39m\u001b[38;5;124m\"\u001b[39m \u001b[38;5;129;01mnot\u001b[39;00m \u001b[38;5;129;01min\u001b[39;00m st\u001b[38;5;241m.\u001b[39msession_state:\n\u001b[1;32m      2\u001b[0m     st\u001b[38;5;241m.\u001b[39msession_state[\u001b[38;5;124m\"\u001b[39m\u001b[38;5;124mmessages\u001b[39m\u001b[38;5;124m\"\u001b[39m] \u001b[38;5;241m=\u001b[39m [{\u001b[38;5;124m\"\u001b[39m\u001b[38;5;124mrole\u001b[39m\u001b[38;5;124m\"\u001b[39m: \u001b[38;5;124m\"\u001b[39m\u001b[38;5;124massistant\u001b[39m\u001b[38;5;124m\"\u001b[39m, \u001b[38;5;124m\"\u001b[39m\u001b[38;5;124mcontent\u001b[39m\u001b[38;5;124m\"\u001b[39m: \u001b[38;5;124m\"\u001b[39m\u001b[38;5;124mI am your assistant. How can I help today?\u001b[39m\u001b[38;5;124m\"\u001b[39m}]\n\u001b[0;32m----> 4\u001b[0m \u001b[38;5;28;01mfor\u001b[39;00m msg \u001b[38;5;129;01min\u001b[39;00m st\u001b[38;5;241m.\u001b[39msession_state\u001b[38;5;241m.\u001b[39mmessages:\n\u001b[1;32m      5\u001b[0m     st\u001b[38;5;241m.\u001b[39mchat_message(msg[\u001b[38;5;124m\"\u001b[39m\u001b[38;5;124mrole\u001b[39m\u001b[38;5;124m\"\u001b[39m])\u001b[38;5;241m.\u001b[39mwrite(msg[\u001b[38;5;124m\"\u001b[39m\u001b[38;5;124mcontent\u001b[39m\u001b[38;5;124m\"\u001b[39m])\n",
      "File \u001b[0;32m~/anaconda3/envs/dui/lib/python3.11/site-packages/streamlit/runtime/state/session_state_proxy.py:121\u001b[0m, in \u001b[0;36mSessionStateProxy.__getattr__\u001b[0;34m(self, key)\u001b[0m\n\u001b[1;32m    119\u001b[0m     \u001b[38;5;28;01mreturn\u001b[39;00m \u001b[38;5;28mself\u001b[39m[key]\n\u001b[1;32m    120\u001b[0m \u001b[38;5;28;01mexcept\u001b[39;00m \u001b[38;5;167;01mKeyError\u001b[39;00m:\n\u001b[0;32m--> 121\u001b[0m     \u001b[38;5;28;01mraise\u001b[39;00m \u001b[38;5;167;01mAttributeError\u001b[39;00m(_missing_attr_error_message(key))\n",
      "\u001b[0;31mAttributeError\u001b[0m: st.session_state has no attribute \"messages\". Did you forget to initialize it? More info: https://docs.streamlit.io/library/advanced-features/session-state#initialization"
     ]
    }
   ],
   "source": [
    "if \"messages\" not in st.session_state:\n",
    "    st.session_state[\"messages\"] = [{\"role\": \"assistant\", \"content\": \"I am your assistant. How can I help today?\"}]\n",
    "\n",
    "for msg in st.session_state.messages:\n",
    "    st.chat_message(msg[\"role\"]).write(msg[\"content\"])"
   ]
  },
  {
   "cell_type": "markdown",
   "id": "f2847a98-93b0-4791-94e1-72af785bdb7d",
   "metadata": {},
   "source": [
    "## Test ReAct Agent"
   ]
  },
  {
   "cell_type": "code",
   "execution_count": 1,
   "id": "16da9d2e-1282-4eb5-874a-47b9e9fd5e51",
   "metadata": {},
   "outputs": [],
   "source": [
    "from langchain import hub\n",
    "from langchain.agents import AgentExecutor, create_react_agent, initialize_agent, AgentType,load_tools\n",
    "#from langchain_community.tools.tavily_search import TavilySearchResults\n",
    "#from langchain.utilities.tavily_search import TavilySearchAPIWrapper\n",
    "from langchain_community.embeddings import BedrockEmbeddings\n",
    "from langchain_community.utilities.serpapi import SerpAPIWrapper\n",
    "#from langchain_community.chat_models import BedrockChat\n",
    "from langchain_aws import ChatBedrock\n",
    "import os\n",
    "import boto3\n",
    "#os.environ['TAVILY_API_KEY'] = os.getenv('tavily_api_token')\n",
    "os.environ['SERPAPI_API_KEY'] = os.getenv('serp_api_token')"
   ]
  },
  {
   "cell_type": "markdown",
   "id": "46f6123f-ea0b-48d1-8c8e-744fa421a3ac",
   "metadata": {},
   "source": [
    "tavily_search = TavilySearchAPIWrapper()\n",
    "g_params = {\n",
    "    \"engine\": \"google\", \n",
    "    \"gl\": \"us\",\n",
    "    \"hl\": \"en\",\n",
    "    \"num_results\": 5,\n",
    "}\n",
    "b_params = {\n",
    "    \"engine\": \"bing\",\n",
    "    \"gl\": \"us\",\n",
    "    \"hl\": \"en\",\n",
    "    \"num_results\": 5,\n",
    "}\n",
    "google_search = SerpAPIWrapper(params=g_params)\n",
    "bing_search = SerpAPIWrapper(params=b_params)"
   ]
  },
  {
   "cell_type": "code",
   "execution_count": 2,
   "id": "7a6ad300-5f46-41f4-af0f-82ff9c660650",
   "metadata": {},
   "outputs": [],
   "source": [
    "def config_bedrock(embedding_model_id, model_id, max_tokens, temperature, top_p, top_k):\n",
    "    bedrock_client = boto3.client('bedrock-runtime')\n",
    "    embedding_bedrock = BedrockEmbeddings(client=bedrock_client, model_id=embedding_model_id)\n",
    "    model_kwargs =  { \n",
    "        \"max_tokens\": max_tokens,\n",
    "        \"temperature\": temperature,\n",
    "        \"top_k\": top_k,\n",
    "        \"top_p\": top_p,\n",
    "        #\"stop_sequences\": [\"\\n\\nHuman\"],\n",
    "    }\n",
    "    chat = ChatBedrock(\n",
    "        model_id=model_id, client=bedrock_client, model_kwargs=model_kwargs\n",
    "    )\n",
    "\n",
    "    return chat, embedding_bedrock\n",
    "    \n",
    "# Get the prompt to use - you can modify this!\n",
    "prompt = hub.pull(\"hwchase17/react\")\n",
    "\n",
    "# Choose the LLM to use\n",
    "llm, embedding = config_bedrock('amazon.titan-embed-g1-text-02', 'anthropic.claude-3-haiku-20240307-v1:0', max_tokens=1024, temperature=0.01, top_p=0.90, top_k=40)\n",
    "\n",
    "# Set up tools\n",
    "#tool1 = [TavilySearchResults(max_results=3, api_wrapper=tavily_search)]\n",
    "tool2 = load_tools([\"serpapi\"], llm=llm)\n",
    "\n",
    "# Construct the ReAct agent\n",
    "agent = create_react_agent(llm, tool2, prompt)\n",
    "\n",
    "# Create an agent executor by passing in the agent and tools\n",
    "agent_executor = AgentExecutor(agent=agent, tools=tool2, verbose=True, handle_parsing_errors=True)\n"
   ]
  },
  {
   "cell_type": "code",
   "execution_count": 8,
   "id": "e6555e76-86f2-4243-901a-16f2f289e7ef",
   "metadata": {},
   "outputs": [
    {
     "name": "stdout",
     "output_type": "stream",
     "text": [
      "\n",
      "\n",
      "\u001b[1m> Entering new AgentExecutor chain...\u001b[0m\n",
      "\u001b[32;1m\u001b[1;3mQuestion: Does generative AI impact Anyscale on their market cap?\n",
      "Thought: To answer this question, I will need to gather information about Anyscale and how generative AI might impact their business and market cap.\n",
      "Action: Search\n",
      "Action Input: Anyscale market cap\u001b[0m\u001b[36;1m\u001b[1;3m[\"Anyscale's valuation in December 2021 was $1,000M.\", \"The current revenue for Anyscale is 00000. How much funding has Anyscale raised over time? Anyscale has raised $260M. Who are Anyscale's investors?\", 'Anyscale accelerates the development and productionization of any AI app, on any cloud, at any scale.', 'Very Low Risk. >$1B in revenue. Large Market Cap. +6. Repeat Unicorn Founder. Repeat Unicorn Founder. Category Leader. Fundraised Since Market Downturn. Backed ...', 'SAN FRANCISCO - Anyscale, the distributed programming platform company, today announced $20.6M in Series A funding, led by Andreessen Horowitz (a16z) with ...', 'Market cap. -. Net debt. -. Enterprise valuation. $1.0b (Public information from Aug 2022). Berkeley California (HQ). https://www.anyscale.com/ · https:// ...', 'The company currently has a private-market valuation of more than $1 billion. The new $99 million in funding came from existing investors ...', 'Anyscale, developer of open-source Python framework Ray, raises $99M in funding for scalable multicloud solutions. Find out the latest ...', 'BERKELEY, Calif. - Anyscale, the company behind the Ray open source project, today announced it has raised $40 million in Series B funding.', 'Anyscale ; Industry: AI app deployment software ; Founded: 2019 ; Headquarters: San Francisco, California ; Country/Territory: United States ; CEO: Robert Nishihara.']\u001b[0m\u001b[32;1m\u001b[1;3mThought: The information gathered so far indicates that Anyscale is a company that provides a distributed programming platform for developing and deploying AI applications. They have raised significant funding over the years, reaching a valuation of over $1 billion, making them a \"unicorn\" startup. However, the information does not directly address how generative AI might impact Anyscale's market cap.\n",
      "\n",
      "To better understand the potential impact of generative AI on Anyscale, I will need to search for more information on how generative AI technologies could affect the AI application development and deployment market that Anyscale operates in.\n",
      "\n",
      "Action: Search\n",
      "Action Input: how does generative AI impact AI application development and deployment\u001b[0m\u001b[36;1m\u001b[1;3mBenefits of generative AI for software and app development By freeing developers from mundane tasks, generative AI unleashes their creative potential, enabling them to focus on tackling complex problems and driving innovation within their projects.\u001b[0m\u001b[32;1m\u001b[1;3mThought: The information gathered suggests that generative AI could have a positive impact on Anyscale's market cap by improving the efficiency and productivity of AI application development and deployment. Generative AI models can automate many of the repetitive and time-consuming tasks involved in building AI applications, allowing developers to focus on more high-level, creative aspects of the development process. This could make Anyscale's platform and services more valuable to customers, potentially driving increased adoption and revenue growth.\n",
      "\n",
      "However, it's important to note that the impact of generative AI on Anyscale's market cap would depend on a variety of factors, such as Anyscale's ability to effectively integrate and leverage generative AI technologies within their platform, the competitive landscape, and broader market conditions. The information available does not provide a definitive assessment of the specific impact on Anyscale's market cap.\n",
      "\n",
      "Final Answer: Based on the information gathered, generative AI technologies could have a positive impact on Anyscale's market cap by improving the efficiency and productivity of AI application development and deployment. Generative AI models can automate many repetitive tasks, allowing developers to focus on more high-level, creative aspects of the development process. This could make Anyscale's platform and services more valuable to customers, potentially driving increased adoption and revenue growth. However, the actual impact on Anyscale's market cap would depend on a variety of factors and cannot be definitively determined from the information available.\u001b[0m\n",
      "\n",
      "\u001b[1m> Finished chain.\u001b[0m\n",
      "CPU times: user 172 ms, sys: 28.2 ms, total: 200 ms\n",
      "Wall time: 8.62 s\n"
     ]
    }
   ],
   "source": [
    "%%time\n",
    "query = \"Does generative AI impact Anyscale on their market cap?\"\n",
    "results = agent_executor.invoke({\"input\": query})"
   ]
  },
  {
   "cell_type": "code",
   "execution_count": 10,
   "id": "152e409b-b6ec-460c-9672-eab87164478c",
   "metadata": {},
   "outputs": [
    {
     "data": {
      "text/plain": [
       "\"Based on the information gathered, generative AI technologies could have a positive impact on Anyscale's market cap by improving the efficiency and productivity of AI application development and deployment. Generative AI models can automate many repetitive tasks, allowing developers to focus on more high-level, creative aspects of the development process. This could make Anyscale's platform and services more valuable to customers, potentially driving increased adoption and revenue growth. However, the actual impact on Anyscale's market cap would depend on a variety of factors and cannot be definitively determined from the information available.\""
      ]
     },
     "execution_count": 10,
     "metadata": {},
     "output_type": "execute_result"
    }
   ],
   "source": [
    "results['output']"
   ]
  },
  {
   "cell_type": "code",
   "execution_count": 196,
   "id": "b4f0756f-43a0-4bf6-b748-9be6caab3203",
   "metadata": {},
   "outputs": [
    {
     "name": "stdout",
     "output_type": "stream",
     "text": [
      "\n",
      "\n",
      "\u001b[1m> Entering new AgentExecutor chain...\u001b[0m\n",
      "\u001b[32;1m\u001b[1;3mOkay, let's see what I can find about generative AI consultation companies in the San Francisco Bay Area.\n",
      "\n",
      "Action:\n",
      "{\n",
      "  \"action\": \"Search\",\n",
      "  \"action_input\": \"generative AI consultation companies in SF Bay Area\"\n",
      "}\n",
      "\n",
      "\u001b[0m\n",
      "\n",
      "\u001b[1m> Finished chain.\u001b[0m\n"
     ]
    },
    {
     "data": {
      "text/plain": [
       "'Okay, let\\'s see what I can find about generative AI consultation companies in the San Francisco Bay Area.\\n\\nAction:\\n{\\n  \"action\": \"Search\",\\n  \"action_input\": \"generative AI consultation companies in SF Bay Area\"\\n}\\n\\n'"
      ]
     },
     "execution_count": 196,
     "metadata": {},
     "output_type": "execute_result"
    }
   ],
   "source": [
    "# Initialize the agent\n",
    "agent = initialize_agent(\n",
    "    tool2,\n",
    "    llm,\n",
    "    agent=\"structured-chat-zero-shot-react-description\",#\"zero-shot-react-description\",\n",
    "    verbose=True,\n",
    "    handle_parsing_errors=True\n",
    ")\n",
    "\n",
    "# Execute the agent with a query\n",
    "result = agent.run(query)\n",
    "result"
   ]
  },
  {
   "cell_type": "code",
   "execution_count": 143,
   "id": "135f03d0-1fbd-4fc7-9a36-d2d2d207a906",
   "metadata": {},
   "outputs": [],
   "source": [
    "def extract_keywords(input_string):\n",
    "    # Remove punctuation and convert to lowercase\n",
    "    input_string = input_string.translate(str.maketrans('', '', string.punctuation)).lower()\n",
    "    # Split the string into words\n",
    "    words = input_string.split()\n",
    "    # Define a regular expression pattern to match web searchable keywords\n",
    "    pattern = r'^[a-z0-9]+$'\n",
    "    # Filter out non-keyword words\n",
    "    keywords = [word for word in words if re.match(pattern, word)]\n",
    "    # Join the keywords with '+'\n",
    "    output_string = '+'.join(keywords)\n",
    "    return output_string"
   ]
  },
  {
   "cell_type": "markdown",
   "id": "4e2c2b65-1ac7-442c-a909-819183f63eed",
   "metadata": {},
   "source": [
    "from langchain.agents import initialize_agent, AgentType\n",
    "from langchain.utilities import GoogleSearchAPIWrapper, BingSearchAPIWrapper\n",
    "from langchain_community.tools import DuckDuckGoSearchRun\n",
    "\n",
    "\n",
    "gsearch = GoogleSearchAPIWrapper(google_api_key=os.getenv(\"google_api_key\"), google_cse_id=os.getenv(\"google_cse_id\"))\n",
    "params = {\n",
    "    \"num_results\": 3,  # Number of results to return\n",
    "    #\"exclude\": \"youtube.com\"  # Exclude results from YouTube\n",
    "}\n",
    "google_results =  gsearch.results(query, **params)\n",
    "#bing_search = BingSearchAPIWrapper()\n",
    "#duckduckgo_search = DuckDuckGoSearchWrapper()\n",
    "\n",
    "tools = [\n",
    "    google_search,\n",
    "    tavily_search,\n",
    "    serp_search\n",
    "]\n",
    "\n",
    "agent = initialize_agent(tools, llm, agent=AgentType.ZERO_SHOT_REACT_DESCRIPTION, verbose=True)\n",
    "agent.run(\"What is the capital of France?\")"
   ]
  },
  {
   "cell_type": "code",
   "execution_count": 5,
   "id": "2364c46d-d44f-4529-9582-2552ce79bd5c",
   "metadata": {},
   "outputs": [],
   "source": [
    "from serpapi import BingSearch, GoogleSearch\n",
    "params = {\"engine\": \"google\", \"q\": query, \"api_key\": os.getenv(\"serp_api_token\"), \"num_results\": 3}\n",
    "#bing_search = BingSearch(params)\n",
    "goog_search = GoogleSearch(params)"
   ]
  },
  {
   "cell_type": "code",
   "execution_count": 7,
   "id": "9193769f-beee-439f-9825-61a3367581d8",
   "metadata": {
    "scrolled": true
   },
   "outputs": [
    {
     "name": "stdout",
     "output_type": "stream",
     "text": [
      "https://www.anyscale.com/resources/case-study/how-canva-built-a-modern-ai-platform-using-anyscale\n",
      "https://finance.yahoo.com/news/why-generative-ai-orchestration-startups-000000089.html\n",
      "https://ashugarg.substack.com/p/incumbents-vs-startups-the-showdown?utm_source=profile&utm_medium=reader2\n",
      "https://www.linkedin.com/pulse/reflection-how-businesses-actually-using-generative-ai-berkeleyhbsa-du6jc\n",
      "https://pixelplex.io/blog/generative-ai-market-map/\n",
      "https://www.v7labs.com/blog/generative-ai-guide\n",
      "https://www.techtarget.com/searchenterpriseai/definition/generative-AI\n",
      "https://foundationcapital.com/year-one-of-generative-ai-six-key-trends/\n",
      "https://www.globenewswire.com/news-release/2024/03/18/2848229/0/en/Anyscale-Teams-Up-With-NVIDIA-to-Scale-Generative-AI-Models-Into-Production.html\n",
      "CPU times: user 14.9 ms, sys: 0 ns, total: 14.9 ms\n",
      "Wall time: 351 ms\n"
     ]
    }
   ],
   "source": [
    "%%time\n",
    "data = goog_search.get_dict()\n",
    "urls = []\n",
    "for i in range(10):\n",
    "    url = data['organic_results'][i]['link']\n",
    "    if 'youtube.com' not in url:\n",
    "        print(url)\n",
    "        urls.append(url)"
   ]
  },
  {
   "cell_type": "code",
   "execution_count": 17,
   "id": "e109eb6e-55da-40c8-b42a-1f6934c38e57",
   "metadata": {},
   "outputs": [
    {
     "name": "stdout",
     "output_type": "stream",
     "text": [
      "https://www.builtinsf.com/companies/type/generative-ai-companies\n",
      "https://www.builtinsf.com/articles/ai-companies-san-francisco-bay-area\n",
      "https://www.ycombinator.com/companies/industry/generative-ai/san-francisco-bay-area\n",
      "CPU times: user 9.47 ms, sys: 5.95 ms, total: 15.4 ms\n",
      "Wall time: 360 ms\n"
     ]
    }
   ],
   "source": [
    "%%time\n",
    "data = bing_search.get_dict()\n",
    "urls = []\n",
    "for i in range(3):\n",
    "    print(data['organic_results'][i]['link'])\n",
    "    urls.append(data['organic_results'][i]['link']))"
   ]
  },
  {
   "cell_type": "markdown",
   "id": "3fc66c4b-f079-46c2-8f4f-af313ac9879b",
   "metadata": {},
   "source": [
    "## Use AsyncHtmlLoader to scrap the web content\n",
    "The AsyncHtmlLoader uses the aiohttp library to make asynchronous HTTP requests, suitable for simpler and lightweight scraping."
   ]
  },
  {
   "cell_type": "code",
   "execution_count": 27,
   "id": "3ccfda4e-c1b8-415c-ae1c-4fc88d697bb4",
   "metadata": {},
   "outputs": [],
   "source": [
    "from langchain_community.document_loaders import AsyncHtmlLoader\n",
    "loader = AsyncHtmlLoader(urls)"
   ]
  },
  {
   "cell_type": "code",
   "execution_count": 28,
   "id": "6f8f1f56-e181-4272-be9c-628ae68f1f55",
   "metadata": {},
   "outputs": [
    {
     "name": "stderr",
     "output_type": "stream",
     "text": [
      "Fetching pages: 100%|#####################################################################################################################################| 10/10 [00:01<00:00,  7.44it/s]\n"
     ]
    },
    {
     "name": "stdout",
     "output_type": "stream",
     "text": [
      "CPU times: user 4.39 s, sys: 15.4 ms, total: 4.41 s\n",
      "Wall time: 8.77 s\n"
     ]
    }
   ],
   "source": [
    "%%time\n",
    "docs = loader.load()"
   ]
  },
  {
   "cell_type": "code",
   "execution_count": 40,
   "id": "d1311ed7-0325-413d-a5ef-16778a050307",
   "metadata": {},
   "outputs": [],
   "source": [
    "from langchain_text_splitters import RecursiveCharacterTextSplitter\n",
    "from langchain_community.document_loaders.chromium import AsyncChromiumLoader\n",
    "from langchain.chains import create_extraction_chain\n",
    "import nest_asyncio\n",
    "\n",
    "schema = {\n",
    "    \"properties\": {\n",
    "        \"news_article_title\": {\"type\": \"string\"},\n",
    "        \"news_article_summary\": {\"type\": \"string\"},\n",
    "    },\n",
    "    \"required\": [\"news_article_title\", \"news_article_summary\"],\n",
    "}\n",
    "\n",
    "\n",
    "def extract(content: str, schema: dict):\n",
    "    return create_extraction_chain(schema=schema, llm=llm).run(content)\n",
    "    \n",
    "def scrape_with_playwright(urls, schema):\n",
    "    loader = AsyncChromiumLoader(urls)\n",
    "    nest_asyncio.apply()\n",
    "    docs = loader.load()\n",
    "    bs_transformer = BeautifulSoupTransformer()\n",
    "    docs_transformed = bs_transformer.transform_documents(\n",
    "        docs, tags_to_extract=[\"span\"]\n",
    "    )\n",
    "    print(\"Extracting content with LLM\")\n",
    "\n",
    "    # Grab the first 1000 tokens of the site\n",
    "    splitter = RecursiveCharacterTextSplitter.from_tiktoken_encoder(\n",
    "        chunk_size=1000, chunk_overlap=0\n",
    "    )\n",
    "    splits = splitter.split_documents(docs_transformed)\n",
    "\n",
    "    # Process the first split\n",
    "    extracted_content = extract(schema=schema, content=splits[0].page_content)\n",
    "    pprint.pprint(extracted_content)\n",
    "    return extracted_content"
   ]
  },
  {
   "cell_type": "code",
   "execution_count": 41,
   "id": "ac0a2023-e5a0-4232-994e-46c351bed11c",
   "metadata": {},
   "outputs": [
    {
     "ename": "Exception",
     "evalue": "Connection closed while reading from the driver",
     "output_type": "error",
     "traceback": [
      "\u001b[0;31m---------------------------------------------------------------------------\u001b[0m",
      "\u001b[0;31mException\u001b[0m                                 Traceback (most recent call last)",
      "Cell \u001b[0;32mIn[41], line 1\u001b[0m\n\u001b[0;32m----> 1\u001b[0m extracted_content \u001b[38;5;241m=\u001b[39m scrape_with_playwright(urls, schema\u001b[38;5;241m=\u001b[39mschema)\n",
      "Cell \u001b[0;32mIn[40], line 21\u001b[0m, in \u001b[0;36mscrape_with_playwright\u001b[0;34m(urls, schema)\u001b[0m\n\u001b[1;32m     19\u001b[0m loader \u001b[38;5;241m=\u001b[39m AsyncChromiumLoader(urls)\n\u001b[1;32m     20\u001b[0m nest_asyncio\u001b[38;5;241m.\u001b[39mapply()\n\u001b[0;32m---> 21\u001b[0m docs \u001b[38;5;241m=\u001b[39m loader\u001b[38;5;241m.\u001b[39mload()\n\u001b[1;32m     22\u001b[0m bs_transformer \u001b[38;5;241m=\u001b[39m BeautifulSoupTransformer()\n\u001b[1;32m     23\u001b[0m docs_transformed \u001b[38;5;241m=\u001b[39m bs_transformer\u001b[38;5;241m.\u001b[39mtransform_documents(\n\u001b[1;32m     24\u001b[0m     docs, tags_to_extract\u001b[38;5;241m=\u001b[39m[\u001b[38;5;124m\"\u001b[39m\u001b[38;5;124mspan\u001b[39m\u001b[38;5;124m\"\u001b[39m]\n\u001b[1;32m     25\u001b[0m )\n",
      "File \u001b[0;32m~/anaconda3/envs/dui/lib/python3.11/site-packages/langchain_core/document_loaders/base.py:29\u001b[0m, in \u001b[0;36mBaseLoader.load\u001b[0;34m(self)\u001b[0m\n\u001b[1;32m     27\u001b[0m \u001b[38;5;28;01mdef\u001b[39;00m \u001b[38;5;21mload\u001b[39m(\u001b[38;5;28mself\u001b[39m) \u001b[38;5;241m-\u001b[39m\u001b[38;5;241m>\u001b[39m List[Document]:\n\u001b[1;32m     28\u001b[0m \u001b[38;5;250m    \u001b[39m\u001b[38;5;124;03m\"\"\"Load data into Document objects.\"\"\"\u001b[39;00m\n\u001b[0;32m---> 29\u001b[0m     \u001b[38;5;28;01mreturn\u001b[39;00m \u001b[38;5;28mlist\u001b[39m(\u001b[38;5;28mself\u001b[39m\u001b[38;5;241m.\u001b[39mlazy_load())\n",
      "File \u001b[0;32m~/anaconda3/envs/dui/lib/python3.11/site-packages/langchain_community/document_loaders/chromium.py:82\u001b[0m, in \u001b[0;36mAsyncChromiumLoader.lazy_load\u001b[0;34m(self)\u001b[0m\n\u001b[1;32m     71\u001b[0m \u001b[38;5;250m\u001b[39m\u001b[38;5;124;03m\"\"\"\u001b[39;00m\n\u001b[1;32m     72\u001b[0m \u001b[38;5;124;03mLazily load text content from the provided URLs.\u001b[39;00m\n\u001b[1;32m     73\u001b[0m \n\u001b[0;32m   (...)\u001b[0m\n\u001b[1;32m     79\u001b[0m \n\u001b[1;32m     80\u001b[0m \u001b[38;5;124;03m\"\"\"\u001b[39;00m\n\u001b[1;32m     81\u001b[0m \u001b[38;5;28;01mfor\u001b[39;00m url \u001b[38;5;129;01min\u001b[39;00m \u001b[38;5;28mself\u001b[39m\u001b[38;5;241m.\u001b[39murls:\n\u001b[0;32m---> 82\u001b[0m     html_content \u001b[38;5;241m=\u001b[39m asyncio\u001b[38;5;241m.\u001b[39mrun(\u001b[38;5;28mself\u001b[39m\u001b[38;5;241m.\u001b[39mascrape_playwright(url))\n\u001b[1;32m     83\u001b[0m     metadata \u001b[38;5;241m=\u001b[39m {\u001b[38;5;124m\"\u001b[39m\u001b[38;5;124msource\u001b[39m\u001b[38;5;124m\"\u001b[39m: url}\n\u001b[1;32m     84\u001b[0m     \u001b[38;5;28;01myield\u001b[39;00m Document(page_content\u001b[38;5;241m=\u001b[39mhtml_content, metadata\u001b[38;5;241m=\u001b[39mmetadata)\n",
      "File \u001b[0;32m~/anaconda3/envs/dui/lib/python3.11/site-packages/nest_asyncio.py:30\u001b[0m, in \u001b[0;36m_patch_asyncio.<locals>.run\u001b[0;34m(main, debug)\u001b[0m\n\u001b[1;32m     28\u001b[0m task \u001b[38;5;241m=\u001b[39m asyncio\u001b[38;5;241m.\u001b[39mensure_future(main)\n\u001b[1;32m     29\u001b[0m \u001b[38;5;28;01mtry\u001b[39;00m:\n\u001b[0;32m---> 30\u001b[0m     \u001b[38;5;28;01mreturn\u001b[39;00m loop\u001b[38;5;241m.\u001b[39mrun_until_complete(task)\n\u001b[1;32m     31\u001b[0m \u001b[38;5;28;01mfinally\u001b[39;00m:\n\u001b[1;32m     32\u001b[0m     \u001b[38;5;28;01mif\u001b[39;00m \u001b[38;5;129;01mnot\u001b[39;00m task\u001b[38;5;241m.\u001b[39mdone():\n",
      "File \u001b[0;32m~/anaconda3/envs/dui/lib/python3.11/site-packages/nest_asyncio.py:98\u001b[0m, in \u001b[0;36m_patch_loop.<locals>.run_until_complete\u001b[0;34m(self, future)\u001b[0m\n\u001b[1;32m     95\u001b[0m \u001b[38;5;28;01mif\u001b[39;00m \u001b[38;5;129;01mnot\u001b[39;00m f\u001b[38;5;241m.\u001b[39mdone():\n\u001b[1;32m     96\u001b[0m     \u001b[38;5;28;01mraise\u001b[39;00m \u001b[38;5;167;01mRuntimeError\u001b[39;00m(\n\u001b[1;32m     97\u001b[0m         \u001b[38;5;124m'\u001b[39m\u001b[38;5;124mEvent loop stopped before Future completed.\u001b[39m\u001b[38;5;124m'\u001b[39m)\n\u001b[0;32m---> 98\u001b[0m \u001b[38;5;28;01mreturn\u001b[39;00m f\u001b[38;5;241m.\u001b[39mresult()\n",
      "File \u001b[0;32m~/anaconda3/envs/dui/lib/python3.11/asyncio/futures.py:203\u001b[0m, in \u001b[0;36mFuture.result\u001b[0;34m(self)\u001b[0m\n\u001b[1;32m    201\u001b[0m \u001b[38;5;28mself\u001b[39m\u001b[38;5;241m.\u001b[39m__log_traceback \u001b[38;5;241m=\u001b[39m \u001b[38;5;28;01mFalse\u001b[39;00m\n\u001b[1;32m    202\u001b[0m \u001b[38;5;28;01mif\u001b[39;00m \u001b[38;5;28mself\u001b[39m\u001b[38;5;241m.\u001b[39m_exception \u001b[38;5;129;01mis\u001b[39;00m \u001b[38;5;129;01mnot\u001b[39;00m \u001b[38;5;28;01mNone\u001b[39;00m:\n\u001b[0;32m--> 203\u001b[0m     \u001b[38;5;28;01mraise\u001b[39;00m \u001b[38;5;28mself\u001b[39m\u001b[38;5;241m.\u001b[39m_exception\u001b[38;5;241m.\u001b[39mwith_traceback(\u001b[38;5;28mself\u001b[39m\u001b[38;5;241m.\u001b[39m_exception_tb)\n\u001b[1;32m    204\u001b[0m \u001b[38;5;28;01mreturn\u001b[39;00m \u001b[38;5;28mself\u001b[39m\u001b[38;5;241m.\u001b[39m_result\n",
      "File \u001b[0;32m~/anaconda3/envs/dui/lib/python3.11/asyncio/tasks.py:267\u001b[0m, in \u001b[0;36mTask.__step\u001b[0;34m(***failed resolving arguments***)\u001b[0m\n\u001b[1;32m    263\u001b[0m \u001b[38;5;28;01mtry\u001b[39;00m:\n\u001b[1;32m    264\u001b[0m     \u001b[38;5;28;01mif\u001b[39;00m exc \u001b[38;5;129;01mis\u001b[39;00m \u001b[38;5;28;01mNone\u001b[39;00m:\n\u001b[1;32m    265\u001b[0m         \u001b[38;5;66;03m# We use the `send` method directly, because coroutines\u001b[39;00m\n\u001b[1;32m    266\u001b[0m         \u001b[38;5;66;03m# don't have `__iter__` and `__next__` methods.\u001b[39;00m\n\u001b[0;32m--> 267\u001b[0m         result \u001b[38;5;241m=\u001b[39m coro\u001b[38;5;241m.\u001b[39msend(\u001b[38;5;28;01mNone\u001b[39;00m)\n\u001b[1;32m    268\u001b[0m     \u001b[38;5;28;01melse\u001b[39;00m:\n\u001b[1;32m    269\u001b[0m         result \u001b[38;5;241m=\u001b[39m coro\u001b[38;5;241m.\u001b[39mthrow(exc)\n",
      "File \u001b[0;32m~/anaconda3/envs/dui/lib/python3.11/site-packages/langchain_community/document_loaders/chromium.py:58\u001b[0m, in \u001b[0;36mAsyncChromiumLoader.ascrape_playwright\u001b[0;34m(self, url)\u001b[0m\n\u001b[1;32m     56\u001b[0m logger\u001b[38;5;241m.\u001b[39minfo(\u001b[38;5;124m\"\u001b[39m\u001b[38;5;124mStarting scraping...\u001b[39m\u001b[38;5;124m\"\u001b[39m)\n\u001b[1;32m     57\u001b[0m results \u001b[38;5;241m=\u001b[39m \u001b[38;5;124m\"\u001b[39m\u001b[38;5;124m\"\u001b[39m\n\u001b[0;32m---> 58\u001b[0m \u001b[38;5;28;01masync\u001b[39;00m \u001b[38;5;28;01mwith\u001b[39;00m async_playwright() \u001b[38;5;28;01mas\u001b[39;00m p:\n\u001b[1;32m     59\u001b[0m     browser \u001b[38;5;241m=\u001b[39m \u001b[38;5;28;01mawait\u001b[39;00m p\u001b[38;5;241m.\u001b[39mchromium\u001b[38;5;241m.\u001b[39mlaunch(headless\u001b[38;5;241m=\u001b[39m\u001b[38;5;28mself\u001b[39m\u001b[38;5;241m.\u001b[39mheadless)\n\u001b[1;32m     60\u001b[0m     \u001b[38;5;28;01mtry\u001b[39;00m:\n",
      "File \u001b[0;32m~/anaconda3/envs/dui/lib/python3.11/site-packages/playwright/async_api/_context_manager.py:46\u001b[0m, in \u001b[0;36mPlaywrightContextManager.__aenter__\u001b[0;34m(self)\u001b[0m\n\u001b[1;32m     44\u001b[0m \u001b[38;5;28;01mif\u001b[39;00m \u001b[38;5;129;01mnot\u001b[39;00m playwright_future\u001b[38;5;241m.\u001b[39mdone():\n\u001b[1;32m     45\u001b[0m     playwright_future\u001b[38;5;241m.\u001b[39mcancel()\n\u001b[0;32m---> 46\u001b[0m playwright \u001b[38;5;241m=\u001b[39m AsyncPlaywright(\u001b[38;5;28mnext\u001b[39m(\u001b[38;5;28miter\u001b[39m(done))\u001b[38;5;241m.\u001b[39mresult())\n\u001b[1;32m     47\u001b[0m playwright\u001b[38;5;241m.\u001b[39mstop \u001b[38;5;241m=\u001b[39m \u001b[38;5;28mself\u001b[39m\u001b[38;5;241m.\u001b[39m\u001b[38;5;21m__aexit__\u001b[39m  \u001b[38;5;66;03m# type: ignore\u001b[39;00m\n\u001b[1;32m     48\u001b[0m \u001b[38;5;28;01mreturn\u001b[39;00m playwright\n",
      "File \u001b[0;32m~/anaconda3/envs/dui/lib/python3.11/asyncio/futures.py:203\u001b[0m, in \u001b[0;36mFuture.result\u001b[0;34m(self)\u001b[0m\n\u001b[1;32m    201\u001b[0m \u001b[38;5;28mself\u001b[39m\u001b[38;5;241m.\u001b[39m__log_traceback \u001b[38;5;241m=\u001b[39m \u001b[38;5;28;01mFalse\u001b[39;00m\n\u001b[1;32m    202\u001b[0m \u001b[38;5;28;01mif\u001b[39;00m \u001b[38;5;28mself\u001b[39m\u001b[38;5;241m.\u001b[39m_exception \u001b[38;5;129;01mis\u001b[39;00m \u001b[38;5;129;01mnot\u001b[39;00m \u001b[38;5;28;01mNone\u001b[39;00m:\n\u001b[0;32m--> 203\u001b[0m     \u001b[38;5;28;01mraise\u001b[39;00m \u001b[38;5;28mself\u001b[39m\u001b[38;5;241m.\u001b[39m_exception\u001b[38;5;241m.\u001b[39mwith_traceback(\u001b[38;5;28mself\u001b[39m\u001b[38;5;241m.\u001b[39m_exception_tb)\n\u001b[1;32m    204\u001b[0m \u001b[38;5;28;01mreturn\u001b[39;00m \u001b[38;5;28mself\u001b[39m\u001b[38;5;241m.\u001b[39m_result\n",
      "\u001b[0;31mException\u001b[0m: Connection closed while reading from the driver"
     ]
    }
   ],
   "source": [
    "extracted_content = scrape_with_playwright(urls, schema=schema)"
   ]
  },
  {
   "cell_type": "code",
   "execution_count": 30,
   "id": "10ef6219-bd47-4177-af9d-881eb8cf690f",
   "metadata": {},
   "outputs": [
    {
     "ename": "ValueError",
     "evalue": "Error raised by inference endpoint: An error occurred (ValidationException) when calling the InvokeModel operation: Malformed input request: expected maxLength: 50000, actual: 190567, please reformat your input and try again.",
     "output_type": "error",
     "traceback": [
      "\u001b[0;31m---------------------------------------------------------------------------\u001b[0m",
      "\u001b[0;31mValidationException\u001b[0m                       Traceback (most recent call last)",
      "File \u001b[0;32m~/anaconda3/envs/dui/lib/python3.11/site-packages/langchain_community/embeddings/bedrock.py:135\u001b[0m, in \u001b[0;36mBedrockEmbeddings._embedding_func\u001b[0;34m(self, text)\u001b[0m\n\u001b[1;32m    133\u001b[0m \u001b[38;5;28;01mtry\u001b[39;00m:\n\u001b[1;32m    134\u001b[0m     \u001b[38;5;66;03m# invoke bedrock API\u001b[39;00m\n\u001b[0;32m--> 135\u001b[0m     response \u001b[38;5;241m=\u001b[39m \u001b[38;5;28mself\u001b[39m\u001b[38;5;241m.\u001b[39mclient\u001b[38;5;241m.\u001b[39minvoke_model(\n\u001b[1;32m    136\u001b[0m         body\u001b[38;5;241m=\u001b[39mbody,\n\u001b[1;32m    137\u001b[0m         modelId\u001b[38;5;241m=\u001b[39m\u001b[38;5;28mself\u001b[39m\u001b[38;5;241m.\u001b[39mmodel_id,\n\u001b[1;32m    138\u001b[0m         accept\u001b[38;5;241m=\u001b[39m\u001b[38;5;124m\"\u001b[39m\u001b[38;5;124mapplication/json\u001b[39m\u001b[38;5;124m\"\u001b[39m,\n\u001b[1;32m    139\u001b[0m         contentType\u001b[38;5;241m=\u001b[39m\u001b[38;5;124m\"\u001b[39m\u001b[38;5;124mapplication/json\u001b[39m\u001b[38;5;124m\"\u001b[39m,\n\u001b[1;32m    140\u001b[0m     )\n\u001b[1;32m    142\u001b[0m     \u001b[38;5;66;03m# format output based on provider\u001b[39;00m\n",
      "File \u001b[0;32m~/anaconda3/envs/dui/lib/python3.11/site-packages/botocore/client.py:553\u001b[0m, in \u001b[0;36mClientCreator._create_api_method.<locals>._api_call\u001b[0;34m(self, *args, **kwargs)\u001b[0m\n\u001b[1;32m    552\u001b[0m \u001b[38;5;66;03m# The \"self\" in this scope is referring to the BaseClient.\u001b[39;00m\n\u001b[0;32m--> 553\u001b[0m \u001b[38;5;28;01mreturn\u001b[39;00m \u001b[38;5;28mself\u001b[39m\u001b[38;5;241m.\u001b[39m_make_api_call(operation_name, kwargs)\n",
      "File \u001b[0;32m~/anaconda3/envs/dui/lib/python3.11/site-packages/botocore/client.py:1009\u001b[0m, in \u001b[0;36mBaseClient._make_api_call\u001b[0;34m(self, operation_name, api_params)\u001b[0m\n\u001b[1;32m   1008\u001b[0m     error_class \u001b[38;5;241m=\u001b[39m \u001b[38;5;28mself\u001b[39m\u001b[38;5;241m.\u001b[39mexceptions\u001b[38;5;241m.\u001b[39mfrom_code(error_code)\n\u001b[0;32m-> 1009\u001b[0m     \u001b[38;5;28;01mraise\u001b[39;00m error_class(parsed_response, operation_name)\n\u001b[1;32m   1010\u001b[0m \u001b[38;5;28;01melse\u001b[39;00m:\n",
      "\u001b[0;31mValidationException\u001b[0m: An error occurred (ValidationException) when calling the InvokeModel operation: Malformed input request: expected maxLength: 50000, actual: 190567, please reformat your input and try again.",
      "\nDuring handling of the above exception, another exception occurred:\n",
      "\u001b[0;31mValueError\u001b[0m                                Traceback (most recent call last)",
      "Cell \u001b[0;32mIn[30], line 4\u001b[0m\n\u001b[1;32m      1\u001b[0m \u001b[38;5;66;03m# Try to get vectordb with FAISS\u001b[39;00m\n\u001b[1;32m      2\u001b[0m \u001b[38;5;28;01mfrom\u001b[39;00m \u001b[38;5;21;01mlangchain_community\u001b[39;00m\u001b[38;5;21;01m.\u001b[39;00m\u001b[38;5;21;01mvectorstores\u001b[39;00m \u001b[38;5;28;01mimport\u001b[39;00m FAISS\n\u001b[0;32m----> 4\u001b[0m db \u001b[38;5;241m=\u001b[39m FAISS\u001b[38;5;241m.\u001b[39mfrom_documents(docs, embedding)\n\u001b[1;32m      5\u001b[0m retriever \u001b[38;5;241m=\u001b[39m db\u001b[38;5;241m.\u001b[39mas_retriever(search_kwargs\u001b[38;5;241m=\u001b[39m{\u001b[38;5;124m\"\u001b[39m\u001b[38;5;124mk\u001b[39m\u001b[38;5;124m\"\u001b[39m: doc_num})\n\u001b[1;32m      8\u001b[0m \u001b[38;5;28;01mdef\u001b[39;00m \u001b[38;5;21mformat_docs\u001b[39m(docs):\n",
      "File \u001b[0;32m~/anaconda3/envs/dui/lib/python3.11/site-packages/langchain_core/vectorstores.py:550\u001b[0m, in \u001b[0;36mVectorStore.from_documents\u001b[0;34m(cls, documents, embedding, **kwargs)\u001b[0m\n\u001b[1;32m    548\u001b[0m texts \u001b[38;5;241m=\u001b[39m [d\u001b[38;5;241m.\u001b[39mpage_content \u001b[38;5;28;01mfor\u001b[39;00m d \u001b[38;5;129;01min\u001b[39;00m documents]\n\u001b[1;32m    549\u001b[0m metadatas \u001b[38;5;241m=\u001b[39m [d\u001b[38;5;241m.\u001b[39mmetadata \u001b[38;5;28;01mfor\u001b[39;00m d \u001b[38;5;129;01min\u001b[39;00m documents]\n\u001b[0;32m--> 550\u001b[0m \u001b[38;5;28;01mreturn\u001b[39;00m \u001b[38;5;28mcls\u001b[39m\u001b[38;5;241m.\u001b[39mfrom_texts(texts, embedding, metadatas\u001b[38;5;241m=\u001b[39mmetadatas, \u001b[38;5;241m*\u001b[39m\u001b[38;5;241m*\u001b[39mkwargs)\n",
      "File \u001b[0;32m~/anaconda3/envs/dui/lib/python3.11/site-packages/langchain_community/vectorstores/faiss.py:930\u001b[0m, in \u001b[0;36mFAISS.from_texts\u001b[0;34m(cls, texts, embedding, metadatas, ids, **kwargs)\u001b[0m\n\u001b[1;32m    903\u001b[0m \u001b[38;5;129m@classmethod\u001b[39m\n\u001b[1;32m    904\u001b[0m \u001b[38;5;28;01mdef\u001b[39;00m \u001b[38;5;21mfrom_texts\u001b[39m(\n\u001b[1;32m    905\u001b[0m     \u001b[38;5;28mcls\u001b[39m,\n\u001b[0;32m   (...)\u001b[0m\n\u001b[1;32m    910\u001b[0m     \u001b[38;5;241m*\u001b[39m\u001b[38;5;241m*\u001b[39mkwargs: Any,\n\u001b[1;32m    911\u001b[0m ) \u001b[38;5;241m-\u001b[39m\u001b[38;5;241m>\u001b[39m FAISS:\n\u001b[1;32m    912\u001b[0m \u001b[38;5;250m    \u001b[39m\u001b[38;5;124;03m\"\"\"Construct FAISS wrapper from raw documents.\u001b[39;00m\n\u001b[1;32m    913\u001b[0m \n\u001b[1;32m    914\u001b[0m \u001b[38;5;124;03m    This is a user friendly interface that:\u001b[39;00m\n\u001b[0;32m   (...)\u001b[0m\n\u001b[1;32m    928\u001b[0m \u001b[38;5;124;03m            faiss = FAISS.from_texts(texts, embeddings)\u001b[39;00m\n\u001b[1;32m    929\u001b[0m \u001b[38;5;124;03m    \"\"\"\u001b[39;00m\n\u001b[0;32m--> 930\u001b[0m     embeddings \u001b[38;5;241m=\u001b[39m embedding\u001b[38;5;241m.\u001b[39membed_documents(texts)\n\u001b[1;32m    931\u001b[0m     \u001b[38;5;28;01mreturn\u001b[39;00m \u001b[38;5;28mcls\u001b[39m\u001b[38;5;241m.\u001b[39m__from(\n\u001b[1;32m    932\u001b[0m         texts,\n\u001b[1;32m    933\u001b[0m         embeddings,\n\u001b[0;32m   (...)\u001b[0m\n\u001b[1;32m    937\u001b[0m         \u001b[38;5;241m*\u001b[39m\u001b[38;5;241m*\u001b[39mkwargs,\n\u001b[1;32m    938\u001b[0m     )\n",
      "File \u001b[0;32m~/anaconda3/envs/dui/lib/python3.11/site-packages/langchain_community/embeddings/bedrock.py:169\u001b[0m, in \u001b[0;36mBedrockEmbeddings.embed_documents\u001b[0;34m(self, texts)\u001b[0m\n\u001b[1;32m    167\u001b[0m results \u001b[38;5;241m=\u001b[39m []\n\u001b[1;32m    168\u001b[0m \u001b[38;5;28;01mfor\u001b[39;00m text \u001b[38;5;129;01min\u001b[39;00m texts:\n\u001b[0;32m--> 169\u001b[0m     response \u001b[38;5;241m=\u001b[39m \u001b[38;5;28mself\u001b[39m\u001b[38;5;241m.\u001b[39m_embedding_func(text)\n\u001b[1;32m    171\u001b[0m     \u001b[38;5;28;01mif\u001b[39;00m \u001b[38;5;28mself\u001b[39m\u001b[38;5;241m.\u001b[39mnormalize:\n\u001b[1;32m    172\u001b[0m         response \u001b[38;5;241m=\u001b[39m \u001b[38;5;28mself\u001b[39m\u001b[38;5;241m.\u001b[39m_normalize_vector(response)\n",
      "File \u001b[0;32m~/anaconda3/envs/dui/lib/python3.11/site-packages/langchain_community/embeddings/bedrock.py:150\u001b[0m, in \u001b[0;36mBedrockEmbeddings._embedding_func\u001b[0;34m(self, text)\u001b[0m\n\u001b[1;32m    148\u001b[0m         \u001b[38;5;28;01mreturn\u001b[39;00m response_body\u001b[38;5;241m.\u001b[39mget(\u001b[38;5;124m\"\u001b[39m\u001b[38;5;124membedding\u001b[39m\u001b[38;5;124m\"\u001b[39m)\n\u001b[1;32m    149\u001b[0m \u001b[38;5;28;01mexcept\u001b[39;00m \u001b[38;5;167;01mException\u001b[39;00m \u001b[38;5;28;01mas\u001b[39;00m e:\n\u001b[0;32m--> 150\u001b[0m     \u001b[38;5;28;01mraise\u001b[39;00m \u001b[38;5;167;01mValueError\u001b[39;00m(\u001b[38;5;124mf\u001b[39m\u001b[38;5;124m\"\u001b[39m\u001b[38;5;124mError raised by inference endpoint: \u001b[39m\u001b[38;5;132;01m{\u001b[39;00me\u001b[38;5;132;01m}\u001b[39;00m\u001b[38;5;124m\"\u001b[39m)\n",
      "\u001b[0;31mValueError\u001b[0m: Error raised by inference endpoint: An error occurred (ValidationException) when calling the InvokeModel operation: Malformed input request: expected maxLength: 50000, actual: 190567, please reformat your input and try again."
     ]
    }
   ],
   "source": [
    "# Try to get vectordb with FAISS\n",
    "from langchain_community.vectorstores import FAISS\n",
    "\n",
    "db = FAISS.from_documents(docs, embedding)\n",
    "retriever = db.as_retriever(search_kwargs={\"k\": doc_num})\n",
    "\n",
    "\n",
    "def format_docs(docs):\n",
    "    return \"\\n\\n\".join(doc.page_content for doc in docs)\n",
    "\n",
    "messages = [\n",
    "    (\"system\", \"\"\"Your are a helpful assistant to provide comprehensive and truthful answers to questions, \\n\n",
    "                drawing upon all relevant information contained within the specified in {context}. \\n \n",
    "                You add value by analyzing the situation and offering insights to enrich your answer. \\n\n",
    "                Simply say I don't know if you can not find any evidence to match the question. \\n\n",
    "                \"\"\"),\n",
    "    #MessagesPlaceholder(variable_name=\"chat_history\"),\n",
    "    (\"human\", \"{question}\"),\n",
    "]\n",
    "prompt_template = ChatPromptTemplate.from_messages(messages)\n",
    "\n",
    "# Reranker\n",
    "compression_retriever = ContextualCompressionRetriever(\n",
    "    base_compressor= FlashrankRerank(), base_retriever=retriever\n",
    ")\n",
    "\n",
    "rag_chain = (\n",
    "    #{\"context\": compression_retriever | format_docs, \"question\": RunnablePassthrough()}\n",
    "    #| RunnableParallel(answer=hub.pull(\"rlm/rag-prompt\") | chat |format_docs, question=itemgetter(\"question\") ) \n",
    "    RunnableParallel(context=compression_retriever | format_docs, question=RunnablePassthrough() )\n",
    "    | prompt_template\n",
    "    | chat\n",
    "    | StrOutputParser()\n",
    ")\n",
    "\n",
    "results = rag_chain.invoke(query)"
   ]
  },
  {
   "cell_type": "code",
   "execution_count": 23,
   "id": "dee77ec5-4cfe-4239-a4be-764c3654c388",
   "metadata": {},
   "outputs": [
    {
     "data": {
      "text/plain": [
       "'how to add hub.pull(\"hwchase17\\\\/react\") into ChatPromptTemplate?'"
      ]
     },
     "execution_count": 23,
     "metadata": {},
     "output_type": "execute_result"
    }
   ],
   "source": [
    "import re\n",
    "aa = 'how to add hub.pull(\"hwchase17/react\") into ChatPromptTemplate?'\n",
    "new_text = re.sub(r'/', '\\/', aa)\n",
    "new_text"
   ]
  },
  {
   "cell_type": "code",
   "execution_count": null,
   "id": "d3257238-40cb-4732-b1bf-2e1c0823f3c3",
   "metadata": {},
   "outputs": [],
   "source": []
  }
 ],
 "metadata": {
  "kernelspec": {
   "display_name": "dui",
   "language": "python",
   "name": "dui"
  },
  "language_info": {
   "codemirror_mode": {
    "name": "ipython",
    "version": 3
   },
   "file_extension": ".py",
   "mimetype": "text/x-python",
   "name": "python",
   "nbconvert_exporter": "python",
   "pygments_lexer": "ipython3",
   "version": "3.11.5"
  }
 },
 "nbformat": 4,
 "nbformat_minor": 5
}
