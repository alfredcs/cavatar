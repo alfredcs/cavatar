{
 "cells": [
  {
   "cell_type": "markdown",
   "id": "4b0c6791-e3de-4e1d-9129-f78dcb666f3d",
   "metadata": {},
   "source": [
    "# Instruct drug dataset\n",
    "\n",
    "Based on the FDA approved medications listed on drugs.com"
   ]
  },
  {
   "cell_type": "code",
   "execution_count": 1,
   "id": "2f5157e3-44fb-41ea-9ac1-20908511e02e",
   "metadata": {},
   "outputs": [],
   "source": [
    "from datasets import load_dataset"
   ]
  },
  {
   "cell_type": "code",
   "execution_count": 2,
   "id": "fb04358e-e88b-4fd6-a04e-e2989ef7fd36",
   "metadata": {},
   "outputs": [],
   "source": [
    "def format_instruction(sample):\n",
    "\treturn f\"\"\"### Instruction:\n",
    "Formulate an instruction to answer inquiries truthfully and accurately related to prescription medication, tailored for doctors, pharmacists, or patients.\n",
    "### Input:\n",
    "What is the clinical purpose of {sample['name']}?\n",
    "### Response:\n",
    "{sample['prescribed']}\n",
    "\n",
    "### Instruction:\n",
    "Formulate an instruction to address inquiries related to prescription medication, tailored for doctors, pharmacists, or patients.\n",
    "### Input:\n",
    "What is the appropriate dosage and frequency for a patient to take {sample['name']} medication?\n",
    "### Response:\n",
    "{sample['usage']}\n",
    "\n",
    "### Instruction:\n",
    "Formulate an instruction to address inquiries related to prescription medication, tailored for doctors, pharmacists, or patients.\n",
    "### Input:\n",
    "What are the potential adverse effects or side effects of {sample['name']} medication?\n",
    "### Response:\n",
    "{sample['side_effects']}\n",
    "\n",
    "\n",
    "### Instruction:\n",
    "Formulate an instruction to address inquiries related to prescription medication, tailored for doctors, pharmacists, or patients.\n",
    "### Input:\n",
    "Can the {sample['name']} medication be priscribed for other usages?\n",
    "### Response:\n",
    "{sample['other_uses']}\n",
    "\n",
    "### Instruction:\n",
    "Formulate an instruction to address inquiries related to prescription medication, tailored for doctors, pharmacists, or patients.\n",
    "### Input:\n",
    "Are there notifications patients need to be aware of about the prescription drug {sample['name']}?\n",
    "### Response:\n",
    "{sample['notice']}\n",
    "\n",
    "### Instruction:\n",
    "Formulate an instruction to address inquiries related to prescription medication, tailored for doctors, pharmacists, or patients.\n",
    "### Input:\n",
    "What are the contraindications or precautions associated with {sample['name']} medication?\n",
    "### Response:\n",
    "{sample['precautions']}\n",
    "\n",
    "### Instruction:\n",
    "Formulate an instruction to address inquiries related to prescription medication, tailored for doctors, pharmacists, or patients.\n",
    "### Input:\n",
    "Should the patient avoid any specific foods, beverages, or activities while taking {sample['name']} medication?\n",
    "### Response:\n",
    "{sample['dietary']}\n",
    "\n",
    "### Instruction:\n",
    "Formulate an instruction to address inquiries related to prescription medication, tailored for doctors, pharmacists, or patients.\n",
    "### Input:\n",
    "What should the patient do if they miss a dose of {sample['name']} medication?\n",
    "### Response:\n",
    "{sample['forgotten']}\n",
    "\n",
    "### Instruction:\n",
    "Formulate an instruction to address inquiries related to prescription medication, tailored for doctors, pharmacists, or patients.\n",
    "### Input:\n",
    "How should the the {sample['name']} medication be stored to maintain its efficacy?\n",
    "### Response:\n",
    "{sample['storage_disposal']}\n",
    "\n",
    "### Instruction:\n",
    "Formulate an instruction to address inquiries related to prescription medication, tailored for doctors, pharmacists, or patients.\n",
    "### Input:\n",
    "What are the signs and recommended actions to take in the event of an overdose on {sample['name']} medication?\n",
    "### Response:\n",
    "{sample['overdose']}\n",
    "\n",
    "### Instruction:\n",
    "Formulate an instruction to address inquiries related to prescription medication, tailored for doctors, pharmacists, or patients.\n",
    "### Input:\n",
    "Are there any additional info regarding {sample['name']} medication?\n",
    "### Response:\n",
    "{sample['other_info']}\n",
    "\n",
    "\n",
    "### Instruction:\n",
    "Formulate an instruction to address inquiries related to prescription medication, tailored for doctors, pharmacists, or patients.\n",
    "### Input:\n",
    "What alternative treatment options including over-the-counter alternatives or supplements are available to supplyment {sample['name']} medication?\n",
    "### Response:\n",
    "{sample['brand_names']}\n",
    "\"\"\""
   ]
  },
  {
   "cell_type": "code",
   "execution_count": 146,
   "id": "514bf20c-35f6-4af6-b1d3-529c146847b4",
   "metadata": {},
   "outputs": [],
   "source": [
    "import re\n",
    "def remove_chars(input_string, chars_to_remove):\n",
    "    return ''.join([char for char in input_string if char not in chars_to_remove])\n",
    "\n",
    "def format_instruction_jsonl(sample):\n",
    "    instructs = []\n",
    "    inputs = {}\n",
    "    inputs['prescribed']= f\"What is the clinical purpose of {sample['name']} and how does it help patients?\"\n",
    "    inputs['usage'] = f\"What is the appropriate dosage and frequency for a patient to take {sample['name']} medication?\"\n",
    "    inputs['side_effects'] = f\"What are the potential adverse effects or side effects of {sample['name']} medication?\",\n",
    "    inputs['other_uses'] = f\"Can the {sample['name']} medication be priscribed for other usages?\",\n",
    "    inputs['notice'] = f\"Are there notifications patients need to be aware of about the prescription drug {sample['name']}?\"\n",
    "    inputs['precautions'] = f\"What are the contraindications or precautions associated with {sample['name']} medication?\"\n",
    "    inputs['dietary'] = f\"Should the patient avoid any specific foods, beverages, or activities while taking {sample['name']} medication?\"\n",
    "    inputs['forgotten'] = f\"What should the patient do if they miss a dose of {sample['name']} medication?\"\n",
    "    inputs['storage_disposal'] = f\"How should the the {sample['name']} medication be stored to maintain its efficacy?\"\n",
    "    inputs['overdose'] = f\"What are the signs and recommended actions to take in the event of an overdose on {sample['name']} medication?\"\n",
    "    inputs['other_info'] = f\"Are there any additional info regarding {sample['name']} medication?\"\n",
    "    inputs['brand_names'] = f\"What alternative treatment options including over-the-counter alternatives or supplements are available to supplyment {sample['name']} medication?\"\n",
    "\n",
    "    chars_to_remove = ['[', ']']\n",
    "    for key, value in inputs.items():\n",
    "        value = remove_chars(value, chars_to_remove)\n",
    "        instruct = {\"Instruction\":f\"Formulate an instruction to answer inquiries truthfully and accurately related to {sample['name']} medication, tailored for doctors, pharmacists, or patients.\",\"Input\":value,\"Response\":sample[key]}\n",
    "        '''\n",
    "        if type(value) == str:\n",
    "            instruct[key.strip()] = value.strip().replace(\"\\r\\n\",\"\")\n",
    "        else:\n",
    "            instruct[key.strip()] = value\n",
    "        '''\n",
    "        instructs.append(instruct)\n",
    "    \n",
    "    return instructs"
   ]
  },
  {
   "cell_type": "markdown",
   "id": "b8cabd92-9dff-4294-a179-011d292f8577",
   "metadata": {},
   "source": [
    "import json\n",
    "\n",
    "def format_instruction(sample):\n",
    "\treturn f\"\"\"### Instruction:\n",
    "Use the Input below to create an instruction, which could have been used to generate the input using an LLM. \n",
    "\n",
    "### Input:\n",
    "What is the clinical purpose of {sample['name']} and how should the patient take this medication?\n",
    "\n",
    "### Response:\n",
    "{sample['usage']}\n",
    "\"\"\"\n",
    "\n",
    "\n",
    "def parse_jsonl(input_file, output_file):\n",
    "    \"\"\"\n",
    "    Parses a JSONL file, extracts keys and values, and saves them as instructions in a new JSONL file.\n",
    "\n",
    "    :param input_file: Path to the input JSONL file.\n",
    "    :param output_file: Path to the output JSONL file.\n",
    "    \"\"\"\n",
    "    # Ensure the input file has a .jsonl extension\n",
    "    if not input_file.endswith('.jsonl'):\n",
    "        raise ValueError('Input file must have a .jsonl extension')\n",
    "\n",
    "    # Prepare to save the instructions\n",
    "    instructions = []\n",
    "\n",
    "    # Open and read the input JSONL file\n",
    "    with open(input_file, 'r') as infile:\n",
    "        for line in infile:\n",
    "            record = json.loads(line)\n",
    "            \n",
    "            \n",
    "            # Extract keys and values from each record\n",
    "            for key, value in record.items():\n",
    "                #record.pop('url', None)\n",
    "                instruction = {\n",
    "                    if (key == 'name'):\n",
    "                        'instruction': f\"What is the clinical purpose of '{value}' and how should the patient take this medication?\",\n",
    "                        #'context': value\n",
    "                }\n",
    "                instructions.append(instruction)\n",
    "\n",
    "    # Save the instructions in a new JSONL file\n",
    "    with open(output_file, 'w') as outfile:\n",
    "        for instruction in instructions:\n",
    "            outfile.write(json.dumps(instruction) + '\\n')\n",
    "\n",
    "    print(f\"Instructions saved in {output_file}\")"
   ]
  },
  {
   "cell_type": "code",
   "execution_count": 159,
   "id": "88a96d7e-c02d-4557-bf37-03905e2f9249",
   "metadata": {},
   "outputs": [],
   "source": [
    "# Example usage\n",
    "input_file = './raw/drugs_output.jsonl'\n",
    "output_file = './output/drugs_instruct.jsonl'\n",
    "#parse_jsonl(input_file, output_file)"
   ]
  },
  {
   "cell_type": "code",
   "execution_count": 160,
   "id": "199b5785-21c0-4b44-892a-b4c2e6ac4b2b",
   "metadata": {},
   "outputs": [],
   "source": [
    "# Load .jsonl file into a Dataset\n",
    "dataset = load_dataset('json', data_files=input_file, split='train')"
   ]
  },
  {
   "cell_type": "markdown",
   "id": "e15d14f2-4b50-407b-996f-23b57d0e62f1",
   "metadata": {},
   "source": [
    "from random import randrange\n",
    "#m_list = format_instruction_jsonl(dataset[randrange(len(dataset))])\n",
    "m_list = format_instruction_jsonl(dataset[randrange(len(dataset))])\n",
    "#drug_str = ''.join(map(str,format_instruction_jsonl(dataset[randrange(len(dataset))])))\n",
    "m_json = json.dumps(m_list)"
   ]
  },
  {
   "cell_type": "code",
   "execution_count": 163,
   "id": "a5eb6c96-953d-46ab-8912-d96925a01feb",
   "metadata": {},
   "outputs": [],
   "source": [
    "with open(output_file, \"w\") as jsonl_file:\n",
    "    for i in range(len(dataset)):\n",
    "        my_list = format_instruction_jsonl(dataset[i])\n",
    "        for item in m_list:\n",
    "            json.dump(item, jsonl_file)\n",
    "            jsonl_file.write(\"\\n\") "
   ]
  },
  {
   "cell_type": "code",
   "execution_count": 164,
   "id": "efc7371b-1cc4-4e45-8906-cb95bf655cc0",
   "metadata": {},
   "outputs": [
    {
     "data": {
      "application/vnd.jupyter.widget-view+json": {
       "model_id": "9075d1a418e645fcbfef22c5b0e97df1",
       "version_major": 2,
       "version_minor": 0
      },
      "text/plain": [
       "Downloading data files:   0%|          | 0/1 [00:00<?, ?it/s]"
      ]
     },
     "metadata": {},
     "output_type": "display_data"
    },
    {
     "data": {
      "application/vnd.jupyter.widget-view+json": {
       "model_id": "9107f74500c24cd386de438527d9af87",
       "version_major": 2,
       "version_minor": 0
      },
      "text/plain": [
       "Extracting data files:   0%|          | 0/1 [00:00<?, ?it/s]"
      ]
     },
     "metadata": {},
     "output_type": "display_data"
    },
    {
     "data": {
      "application/vnd.jupyter.widget-view+json": {
       "model_id": "f92c80991fe24067a1c0609e03d65ce8",
       "version_major": 2,
       "version_minor": 0
      },
      "text/plain": [
       "Generating train split: 0 examples [00:00, ? examples/s]"
      ]
     },
     "metadata": {},
     "output_type": "display_data"
    }
   ],
   "source": [
    "# Load back the instruct dataste\n",
    "# Load .jsonl file into a Dataset\n",
    "dataset_2 = load_dataset('json', data_files=output_file, split='train')"
   ]
  },
  {
   "cell_type": "code",
   "execution_count": 165,
   "id": "a136ce2f-ce9f-4226-9396-948027740d88",
   "metadata": {},
   "outputs": [
    {
     "data": {
      "text/plain": [
       "Dataset({\n",
       "    features: ['Instruction', 'Input', 'Response'],\n",
       "    num_rows: 16500\n",
       "})"
      ]
     },
     "execution_count": 165,
     "metadata": {},
     "output_type": "execute_result"
    }
   ],
   "source": [
    "dataset_2"
   ]
  },
  {
   "cell_type": "code",
   "execution_count": null,
   "id": "7fe86f5a-8b56-469f-98a2-01b7ac281ad0",
   "metadata": {},
   "outputs": [],
   "source": []
  }
 ],
 "metadata": {
  "kernelspec": {
   "display_name": "openai",
   "language": "python",
   "name": "myenv"
  },
  "language_info": {
   "codemirror_mode": {
    "name": "ipython",
    "version": 3
   },
   "file_extension": ".py",
   "mimetype": "text/x-python",
   "name": "python",
   "nbconvert_exporter": "python",
   "pygments_lexer": "ipython3",
   "version": "3.10.8"
  }
 },
 "nbformat": 4,
 "nbformat_minor": 5
}
