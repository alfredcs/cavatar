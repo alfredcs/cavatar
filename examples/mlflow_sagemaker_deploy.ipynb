{
 "cells": [
  {
   "cell_type": "markdown",
   "id": "e56f0569-53b0-4922-9f0a-19a2f0da694e",
   "metadata": {},
   "source": [
    "# Deploying an MLflow trained model using Sagemkaer"
   ]
  },
  {
   "cell_type": "markdown",
   "id": "9f501914-9756-4f1e-8b08-deae1cfd1f62",
   "metadata": {},
   "source": [
    "## Prep env"
   ]
  },
  {
   "cell_type": "markdown",
   "id": "6cb5fd21-86bc-4dbd-80b3-45efcd923d6c",
   "metadata": {},
   "source": [
    "### Install mlflow and SageMaker packages"
   ]
  },
  {
   "cell_type": "code",
   "execution_count": null,
   "id": "9b197519-b251-4652-8aac-62f813c42328",
   "metadata": {},
   "outputs": [],
   "source": [
    "!pip install mlflow\n",
    "!pip install awscli\n",
    "!pip install boto3"
   ]
  },
  {
   "cell_type": "code",
   "execution_count": 1,
   "id": "6b9d448e-2372-4a64-a1b2-0aac30e09721",
   "metadata": {},
   "outputs": [
    {
     "name": "stdout",
     "output_type": "stream",
     "text": [
      "{\n",
      "    \"UserId\": \"AIDAWBMCXFXXOLO77UXD4\",\n",
      "    \"Account\": \"415275363822\",\n",
      "    \"Arn\": \"arn:aws:iam::415275363822:user/qa\"\n",
      "}\n"
     ]
    }
   ],
   "source": [
    "!aws sts get-caller-identity"
   ]
  },
  {
   "cell_type": "code",
   "execution_count": 2,
   "id": "b9267a30-fe37-416b-8be9-7a9c2939da56",
   "metadata": {},
   "outputs": [
    {
     "data": {
      "text/plain": [
       "'arn:aws:iam::415275363822:user/qa'"
      ]
     },
     "execution_count": 2,
     "metadata": {},
     "output_type": "execute_result"
    }
   ],
   "source": [
    "import boto3\n",
    "client = boto3.client(\"sts\")\n",
    "client.get_caller_identity()[\"Arn\"]"
   ]
  },
  {
   "cell_type": "markdown",
   "id": "aca2dd56-3435-43ca-8839-49b8ed550b65",
   "metadata": {},
   "source": [
    "### Creat a SageMaker\n",
    "Navigate to AWS console and choose Identity and Access Management tool (IAM)”, where it provides the required permissions to deploy and use models to users.\n",
    "\n",
    "* Create a user with specific set of permissions for model deployment.\n",
    "    * Add another 3 policies to this user:\n",
    "        1. AmazonEC2ContainerRegistryFullAccess; \n",
    "        2. AmazonSageMakerFullAccess; \n",
    "        3. S3_Full_Access_Policy (this is manually created)\n",
    "* Create a S3 bucket save our model artifacts\n",
    "* Create Access Key from AWS Console or CLI\n",
    "* Create a role to acces AWS service such as SageMaker\n",
    "* Install Docker engine to containerize the model"
   ]
  },
  {
   "cell_type": "code",
   "execution_count": 3,
   "id": "d59176d2-b617-4ece-8e0f-100d5effc663",
   "metadata": {},
   "outputs": [
    {
     "name": "stdout",
     "output_type": "stream",
     "text": [
      "            \"Arn\": \"arn:aws:iam::415275363822:role/service-role/AmazonSageMaker-ExecutionRole-20220118T174575\",\n",
      "            \"Arn\": \"arn:aws:iam::415275363822:role/service-role/AmazonSagemakerCanvasForecastRole-20230728T085948\",\n",
      "            \"Arn\": \"arn:aws:iam::415275363822:role/service-role/AmazonSagemakerCanvasForecastRole-DataScientist1\",\n",
      "            \"Arn\": \"arn:aws:iam::415275363822:role/service-role/AmazonSageMakerServiceCatalogProductsApiGatewayRole\",\n",
      "            \"Arn\": \"arn:aws:iam::415275363822:role/service-role/AmazonSageMakerServiceCatalogProductsCloudformationRole\",\n",
      "            \"Arn\": \"arn:aws:iam::415275363822:role/service-role/AmazonSageMakerServiceCatalogProductsCodeBuildRole\",\n",
      "            \"Arn\": \"arn:aws:iam::415275363822:role/service-role/AmazonSageMakerServiceCatalogProductsCodePipelineRole\",\n",
      "            \"Arn\": \"arn:aws:iam::415275363822:role/service-role/AmazonSageMakerServiceCatalogProductsEventsRole\",\n",
      "            \"Arn\": \"arn:aws:iam::415275363822:role/service-role/AmazonSageMakerServiceCatalogProductsExecutionRole\",\n",
      "            \"Arn\": \"arn:aws:iam::415275363822:role/service-role/AmazonSageMakerServiceCatalogProductsFirehoseRole\",\n",
      "            \"Arn\": \"arn:aws:iam::415275363822:role/service-role/AmazonSageMakerServiceCatalogProductsGlueRole\",\n",
      "            \"Arn\": \"arn:aws:iam::415275363822:role/service-role/AmazonSageMakerServiceCatalogProductsLambdaRole\",\n",
      "            \"Arn\": \"arn:aws:iam::415275363822:role/service-role/AmazonSageMakerServiceCatalogProductsLaunchRole\",\n",
      "            \"Arn\": \"arn:aws:iam::415275363822:role/service-role/AmazonSageMakerServiceCatalogProductsUseRole\",\n",
      "            \"Arn\": \"arn:aws:iam::415275363822:role/aws-service-role/sagemaker.amazonaws.com/AWSServiceRoleForAmazonSageMakerNotebooks\",\n",
      "            \"Arn\": \"arn:aws:iam::415275363822:role/aws-service-role/sagemaker.application-autoscaling.amazonaws.com/AWSServiceRoleForApplicationAutoScaling_SageMakerEndpoint\",\n",
      "            \"Arn\": \"arn:aws:iam::415275363822:role/sagemaker-pipelines-model-deployment-role\",\n"
     ]
    }
   ],
   "source": [
    "!aws iam list-roles| grep -i sagemaker| grep Arn"
   ]
  },
  {
   "cell_type": "markdown",
   "id": "e38f81c2-f3d0-42d9-b85d-56c194c286d4",
   "metadata": {},
   "source": [
    "## Train a sample model using Mlflow"
   ]
  },
  {
   "cell_type": "code",
   "execution_count": 4,
   "id": "c44dd3c8-091c-4343-92f2-25dbaa26c207",
   "metadata": {},
   "outputs": [
    {
     "name": "stdout",
     "output_type": "stream",
     "text": [
      "mse: 0.106600\n"
     ]
    }
   ],
   "source": [
    "import mlflow\n",
    "import mlflow.sklearn\n",
    "\n",
    "from sklearn.metrics import mean_squared_error\n",
    "from sklearn.model_selection import train_test_split\n",
    "\n",
    "from sklearn.datasets import make_classification\n",
    "from sklearn.linear_model import LogisticRegression\n",
    "# define dataset\n",
    "X, y = make_classification(n_samples=50000, n_features=3, n_informative=3, n_redundant=0, n_classes=2, random_state=1)\n",
    "\n",
    "X_train, X_test, y_train, y_test = train_test_split(X, y, test_size=0.3, random_state=42)\n",
    "\n",
    "mlflow.set_experiment('classification_model')\n",
    "\n",
    "with mlflow.start_run(run_name='My model experiment') as run:\n",
    "    \n",
    "    # add parameters for tuning\n",
    "    c = 0.1\n",
    "    solver = 'liblinear'\n",
    "    \n",
    "    # Log parameters to MLFlow\n",
    "    mlflow.log_param('c', c)\n",
    "    mlflow.log_param('solver', solver)\n",
    "\n",
    "    # train the model\n",
    "    lr = LogisticRegression(C = c, solver = solver)\n",
    "    lr.fit(X_train, y_train)\n",
    "    predictions = lr.predict(X_test)\n",
    "\n",
    "    # Log the model to MLFlow\n",
    "    mlflow.sklearn.log_model(lr, 'logistic-regression-model')\n",
    "    \n",
    "    # log model performance to MLFlow\n",
    "    mse = mean_squared_error(y_test, predictions)\n",
    "    mlflow.log_metric('mse', mse)\n",
    "    print('mse: %f' % mse)"
   ]
  },
  {
   "cell_type": "markdown",
   "id": "b874d448-dfac-47ad-846f-180a7b50b73a",
   "metadata": {},
   "source": [
    "### Export the training datatset to a csv for future experiments (Optional)"
   ]
  },
  {
   "cell_type": "code",
   "execution_count": 5,
   "id": "823e5353-e9cb-43ae-b909-1211e6f716a9",
   "metadata": {},
   "outputs": [],
   "source": [
    "import numpy as np\n",
    "import pandas as pd\n",
    "\n",
    "# Create a DataFrame with X_train and y_train\n",
    "data = np.hstack((X_train, y_train.reshape(-1, 1)))\n",
    "df = pd.DataFrame(data)\n",
    "\n",
    "# Define the file path\n",
    "train_data_file_path = 'mlflow_train_data.csv'\n",
    "\n",
    "# Save the DataFrame as a CSV file\n",
    "df.to_csv(train_data_file_path, index=False, header=False)"
   ]
  },
  {
   "cell_type": "markdown",
   "id": "0ca7c060-0f8a-4437-bc65-f2831a518cf0",
   "metadata": {},
   "source": [
    "### Access mlflow via UI"
   ]
  },
  {
   "cell_type": "code",
   "execution_count": 57,
   "id": "1f93571e-8c8a-40b3-916d-268a0b10b531",
   "metadata": {
    "scrolled": true
   },
   "outputs": [
    {
     "name": "stdout",
     "output_type": "stream",
     "text": [
      "/home/alfred/anaconda3/envs/dui/lib/python3.11/site-packages/pydantic/_internal/_fields.py:128: UserWarning: Field \"model_server_url\" has conflict with protected namespace \"model_\".\n",
      "\n",
      "You may be able to resolve this warning by setting `model_config['protected_namespaces'] = ()`.\n",
      "  warnings.warn(\n",
      "/home/alfred/anaconda3/envs/dui/lib/python3.11/site-packages/pydantic/_internal/_config.py:317: UserWarning: Valid config keys have changed in V2:\n",
      "* 'schema_extra' has been renamed to 'json_schema_extra'\n",
      "  warnings.warn(message, UserWarning)\n",
      "[2023-10-26 18:47:31 +0000] [11988] [INFO] Starting gunicorn 21.2.0\n",
      "[2023-10-26 18:47:31 +0000] [11988] [INFO] Listening at: http://0.0.0.0:7868 (11988)\n",
      "[2023-10-26 18:47:31 +0000] [11988] [INFO] Using worker: sync\n",
      "[2023-10-26 18:47:31 +0000] [11989] [INFO] Booting worker with pid: 11989\n",
      "[2023-10-26 18:47:31 +0000] [11990] [INFO] Booting worker with pid: 11990\n",
      "[2023-10-26 18:47:32 +0000] [11991] [INFO] Booting worker with pid: 11991\n",
      "[2023-10-26 18:47:32 +0000] [11992] [INFO] Booting worker with pid: 11992\n",
      "/home/alfred/anaconda3/envs/dui/lib/python3.11/site-packages/pydantic/_internal/_fields.py:128: UserWarning: Field \"model_server_url\" has conflict with protected namespace \"model_\".\n",
      "\n",
      "You may be able to resolve this warning by setting `model_config['protected_namespaces'] = ()`.\n",
      "  warnings.warn(\n",
      "/home/alfred/anaconda3/envs/dui/lib/python3.11/site-packages/pydantic/_internal/_config.py:317: UserWarning: Valid config keys have changed in V2:\n",
      "* 'schema_extra' has been renamed to 'json_schema_extra'\n",
      "  warnings.warn(message, UserWarning)\n",
      "/home/alfred/anaconda3/envs/dui/lib/python3.11/site-packages/pydantic/_internal/_fields.py:128: UserWarning: Field \"model_server_url\" has conflict with protected namespace \"model_\".\n",
      "\n",
      "You may be able to resolve this warning by setting `model_config['protected_namespaces'] = ()`.\n",
      "  warnings.warn(\n",
      "/home/alfred/anaconda3/envs/dui/lib/python3.11/site-packages/pydantic/_internal/_config.py:317: UserWarning: Valid config keys have changed in V2:\n",
      "* 'schema_extra' has been renamed to 'json_schema_extra'\n",
      "  warnings.warn(message, UserWarning)\n",
      "/home/alfred/anaconda3/envs/dui/lib/python3.11/site-packages/pydantic/_internal/_fields.py:128: UserWarning: Field \"model_server_url\" has conflict with protected namespace \"model_\".\n",
      "\n",
      "You may be able to resolve this warning by setting `model_config['protected_namespaces'] = ()`.\n",
      "  warnings.warn(\n",
      "/home/alfred/anaconda3/envs/dui/lib/python3.11/site-packages/pydantic/_internal/_config.py:317: UserWarning: Valid config keys have changed in V2:\n",
      "* 'schema_extra' has been renamed to 'json_schema_extra'\n",
      "  warnings.warn(message, UserWarning)\n",
      "/home/alfred/anaconda3/envs/dui/lib/python3.11/site-packages/pydantic/_internal/_fields.py:128: UserWarning: Field \"model_server_url\" has conflict with protected namespace \"model_\".\n",
      "\n",
      "You may be able to resolve this warning by setting `model_config['protected_namespaces'] = ()`.\n",
      "  warnings.warn(\n",
      "/home/alfred/anaconda3/envs/dui/lib/python3.11/site-packages/pydantic/_internal/_config.py:317: UserWarning: Valid config keys have changed in V2:\n",
      "* 'schema_extra' has been renamed to 'json_schema_extra'\n",
      "  warnings.warn(message, UserWarning)\n",
      "^C\n",
      "[2023-10-26 18:49:37 +0000] [11988] [INFO] Handling signal: int\n",
      "[2023-10-26 18:49:37 +0000] [11989] [INFO] Worker exiting (pid: 11989)\n",
      "[2023-10-26 18:49:37 +0000] [11990] [INFO] Worker exiting (pid: 11990)\n",
      "[2023-10-26 18:49:37 +0000] [11991] [INFO] Worker exiting (pid: 11991)\n",
      "[2023-10-26 18:49:37 +0000] [11992] [INFO] Worker exiting (pid: 11992)\n"
     ]
    }
   ],
   "source": [
    "!mlflow ui --port 7868 --host 0.0.0.0"
   ]
  },
  {
   "cell_type": "code",
   "execution_count": 58,
   "id": "6278acc6-69e4-4699-9940-0f48f74d2eeb",
   "metadata": {},
   "outputs": [],
   "source": [
    "!cd /home/alfred/databricks-ml-examples/mlruns/546196553103136246/8bc0f39b38404cb1b68d0c64d71df4cd/artifacts/logistic-regression-model"
   ]
  },
  {
   "cell_type": "markdown",
   "id": "68eacc99-050b-445c-b6c8-c3a31e6c01c2",
   "metadata": {},
   "source": [
    "## Push the trained model to ECR "
   ]
  },
  {
   "cell_type": "code",
   "execution_count": null,
   "id": "91f186bf-b0f8-46b4-82ce-f4e651d08fe8",
   "metadata": {},
   "outputs": [],
   "source": [
    "!mlflow sagemaker build-and-push-container"
   ]
  },
  {
   "cell_type": "markdown",
   "id": "027b148e-7de6-4881-a79e-f803a9981f00",
   "metadata": {},
   "source": [
    "......\n",
    "\n",
    "Successfully built b06895e6648a\n",
    "Successfully tagged mlflow-pyfunc:latest\n",
    "2023/10/23 19:03:35 INFO mlflow.sagemaker: Pushing image to ECR\n",
    "2023/10/23 19:03:35 INFO mlflow.sagemaker: Pushing docker image mlflow-pyfunc to 415275363822.dkr.ecr.us-west-2.amazonaws.com/mlflow-pyfunc:2.7.1\n",
    "2023/10/23 19:03:36 INFO mlflow.sagemaker: Created new ECR repository: mlflow-pyfunc\n",
    "2023/10/23 19:03:36 INFO mlflow.sagemaker: Executing: aws ecr get-login-password | docker login  --username AWS --password-stdin 415275363822.dkr.ecr.us-west-2.amazonaws.com;\n",
    "docker tag mlflow-pyfunc 415275363822.dkr.ecr.us-west-2.amazonaws.com/mlflow-pyfunc:2.7.1;\n",
    "docker push 415275363822.dkr.ecr.us-west-2.amazonaws.com/mlflow-pyfunc:2.7.1\n",
    "WARNING! Your password will be stored unencrypted in /home/alfred/.docker/config.json.\n",
    "Configure a credential helper to remove this warning. See\n",
    "https://docs.docker.com/engine/reference/commandline/login/#credentials-store\n",
    "\n",
    "Login Succeeded\n",
    "The push refers to repository [415275363822.dkr.ecr.us-west-2.amazonaws.com/mlflow-pyfunc]\n",
    "dabb74b7228c: Pushed \n",
    "fb207a1e2297: Pushed \n",
    "c7d2c1b01e89: Pushed \n",
    "d83ee2f0e942: Pushed \n",
    "cb73c5f95ea3: Pushed \n",
    "b058a144849e: Pushed \n",
    "ab3377661fad: Pushed \n",
    "86a2582c70b8: Pushed \n",
    "8d8fc1d7c90e: Pushed \n",
    "d083867fc724: Pushed \n",
    "b17b4398c6d2: Pushed \n",
    "a46e51725894: Pushed \n",
    "9c11ebf3daf1: Pushed \n",
    "54da92f070b6: Pushed \n",
    "0d72c8d03be4: Pushed \n",
    "f24e5b689ad1: Pushed \n",
    "dc0fc6335310: Pushed \n",
    "074cb65e9492: Pushed \n",
    "e1f8c00343c5: Pushed \n",
    "6c3e7df31590: Pushed \n",
    "2.7.1: digest: sha256:c8e7266df9c8646c6f3135f98f4ae9d090a4de79c4c1c328ca448bea3bf77266 size: 4529"
   ]
  },
  {
   "cell_type": "code",
   "execution_count": 32,
   "id": "c66bffdf-d68b-4f48-9006-3b6980e0f6a2",
   "metadata": {},
   "outputs": [
    {
     "name": "stdout",
     "output_type": "stream",
     "text": [
      "REPOSITORY                                                              TAG                            IMAGE ID       CREATED         SIZE\n",
      "415275363822.dkr.ecr.us-west-2.amazonaws.com/mlflow-pyfunc              2.7.1                          b06895e6648a   45 hours ago    2.62GB\n",
      "mlflow-pyfunc                                                           latest                         b06895e6648a   45 hours ago    2.62GB\n",
      "ubuntu                                                                  20.04                          bf40b7bc7a11   3 weeks ago     72.8MB\n",
      "gsa                                                                     v0                             7b171a5c3709   7 weeks ago     19.2GB\n",
      "ghcr.io/huggingface/text-generation-inference                           1.0.2                          ff5ecf561e97   2 months ago    10.1GB\n",
      "415275363822.dkr.ecr.us-west-2.amazonaws.com/sagemaker-decision-trees   latest                         0e43a9b29b04   2 months ago    380MB\n",
      "sagemaker-decision-trees                                                latest                         0e43a9b29b04   2 months ago    380MB\n",
      "ubuntu                                                                  18.04                          f9a80a55f492   4 months ago    63.2MB\n",
      "public.ecr.aws/o7x6j3x6/sd-dreambooth-finetuning-v2                     latest                         1247d3df8c63   8 months ago    14.8GB\n",
      "pytorch/pytorch                                                         1.13.1-cuda11.6-cudnn8-devel   8426c5657bef   10 months ago   17.5GB\n"
     ]
    }
   ],
   "source": [
    "!docker images"
   ]
  },
  {
   "cell_type": "code",
   "execution_count": 33,
   "id": "c67d55f3-8070-4256-8bd1-aee08460cdfb",
   "metadata": {},
   "outputs": [
    {
     "name": "stdout",
     "output_type": "stream",
     "text": [
      "{\n",
      "    \"repositories\": [\n",
      "        {\n",
      "            \"repositoryArn\": \"arn:aws:ecr:us-west-2:415275363822:repository/sagemaker-decision-trees\",\n",
      "            \"registryId\": \"415275363822\",\n",
      "            \"repositoryName\": \"sagemaker-decision-trees\",\n",
      "            \"repositoryUri\": \"415275363822.dkr.ecr.us-west-2.amazonaws.com/sagemaker-decision-trees\",\n",
      "            \"createdAt\": \"2023-07-28T18:45:47+00:00\",\n",
      "            \"imageTagMutability\": \"MUTABLE\",\n",
      "            \"imageScanningConfiguration\": {\n",
      "                \"scanOnPush\": false\n",
      "            },\n",
      "            \"encryptionConfiguration\": {\n",
      "                \"encryptionType\": \"AES256\"\n",
      "            }\n",
      "        },\n",
      "        {\n",
      "            \"repositoryArn\": \"arn:aws:ecr:us-west-2:415275363822:repository/sagemaker-snowflake-workshop\",\n",
      "            \"registryId\": \"415275363822\",\n",
      "            \"repositoryName\": \"sagemaker-snowflake-workshop\",\n",
      "            \"repositoryUri\": \"415275363822.dkr.ecr.us-west-2.amazonaws.com/sagemaker-snowflake-workshop\",\n",
      "            \"createdAt\": \"2023-03-24T22:40:00+00:00\",\n",
      "            \"imageTagMutability\": \"MUTABLE\",\n",
      "            \"imageScanningConfiguration\": {\n",
      "                \"scanOnPush\": false\n",
      "            },\n",
      "            \"encryptionConfiguration\": {\n",
      "                \"encryptionType\": \"AES256\"\n",
      "            }\n",
      "        },\n",
      "        {\n",
      "            \"repositoryArn\": \"arn:aws:ecr:us-west-2:415275363822:repository/sdxl-inference-v2\",\n",
      "            \"registryId\": \"415275363822\",\n",
      "            \"repositoryName\": \"sdxl-inference-v2\",\n",
      "            \"repositoryUri\": \"415275363822.dkr.ecr.us-west-2.amazonaws.com/sdxl-inference-v2\",\n",
      "            \"createdAt\": \"2023-09-18T15:41:28+00:00\",\n",
      "            \"imageTagMutability\": \"MUTABLE\",\n",
      "            \"imageScanningConfiguration\": {\n",
      "                \"scanOnPush\": false\n",
      "            },\n",
      "            \"encryptionConfiguration\": {\n",
      "                \"encryptionType\": \"AES256\"\n",
      "            }\n",
      "        },\n",
      "        {\n",
      "            \"repositoryArn\": \"arn:aws:ecr:us-west-2:415275363822:repository/mlflow-pyfunc\",\n",
      "            \"registryId\": \"415275363822\",\n",
      "            \"repositoryName\": \"mlflow-pyfunc\",\n",
      "            \"repositoryUri\": \"415275363822.dkr.ecr.us-west-2.amazonaws.com/mlflow-pyfunc\",\n",
      "            \"createdAt\": \"2023-10-23T19:03:36+00:00\",\n",
      "            \"imageTagMutability\": \"MUTABLE\",\n",
      "            \"imageScanningConfiguration\": {\n",
      "                \"scanOnPush\": false\n",
      "            },\n",
      "            \"encryptionConfiguration\": {\n",
      "                \"encryptionType\": \"AES256\"\n",
      "            }\n",
      "        },\n",
      "        {\n",
      "            \"repositoryArn\": \"arn:aws:ecr:us-west-2:415275363822:repository/cavatar\",\n",
      "            \"registryId\": \"415275363822\",\n",
      "            \"repositoryName\": \"cavatar\",\n",
      "            \"repositoryUri\": \"415275363822.dkr.ecr.us-west-2.amazonaws.com/cavatar\",\n",
      "            \"createdAt\": \"2023-09-25T01:45:12+00:00\",\n",
      "            \"imageTagMutability\": \"MUTABLE\",\n",
      "            \"imageScanningConfiguration\": {\n",
      "                \"scanOnPush\": false\n",
      "            },\n",
      "            \"encryptionConfiguration\": {\n",
      "                \"encryptionType\": \"AES256\"\n",
      "            }\n",
      "        }\n",
      "    ]\n",
      "}\n"
     ]
    }
   ],
   "source": [
    "!aws ecr describe-repositories"
   ]
  },
  {
   "cell_type": "code",
   "execution_count": null,
   "id": "246014a1-d941-4622-928f-e5e555efad78",
   "metadata": {},
   "outputs": [],
   "source": [
    "!aws ecr describe-images --repository-name mlflow-pyfunc"
   ]
  },
  {
   "cell_type": "markdown",
   "id": "bae4edc7-a714-443d-95c5-e569c46ade47",
   "metadata": {},
   "source": [
    "{\n",
    "    \"imageDetails\": [\n",
    "        {\n",
    "            \"registryId\": \"415275363822\",\n",
    "            \"repositoryName\": \"mlflow-pyfunc\",\n",
    "            \"imageDigest\": \"sha256:c8e7266df9c8646c6f3135f98f4ae9d090a4de79c4c1c328ca448bea3bf77266\",\n",
    "            \"imageTags\": [\n",
    "                \"2.7.1\"\n",
    "            ],\n",
    "            \"imageSizeInBytes\": 1090875471,\n",
    "            \"imagePushedAt\": \"2023-10-23T19:04:26+00:00\",\n",
    "            \"imageManifestMediaType\": \"application/vnd.docker.distribution.manifest.v2+json\",\n",
    "            \"artifactMediaType\": \"application/vnd.docker.container.image.v1+json\"\n",
    "        }\n",
    "    ]\n",
    "}"
   ]
  },
  {
   "cell_type": "markdown",
   "id": "1af87f43-4392-419f-9776-8ae96732427e",
   "metadata": {},
   "source": [
    "## Push a mlflow model to a SageMaker Model Registry\n",
    "Push an MLflow model to Sagemaker model registry. Current active AWS account needs to have correct permissions setup."
   ]
  },
  {
   "cell_type": "code",
   "execution_count": null,
   "id": "dab0c91c-7c61-45cd-9930-7f8b27cba6f3",
   "metadata": {},
   "outputs": [],
   "source": []
  },
  {
   "cell_type": "markdown",
   "id": "d994868f-a48d-46e1-8877-ed169fc7e0ab",
   "metadata": {},
   "source": [
    "## Deploy model using SageMaker\n",
    "\n",
    "As we have the container ready, we can deploy a model to the Sagemaker.\n",
    "\n",
    "To keep all the deployment details in one place I‘m’ creating a new file “deployment.py” in the folder with the model training file.\n",
    "\n",
    "It’s almost fully copy-pasted from the MLFlow documentation, and you can refer to it.\n",
    "\n",
    "Now all what we have to do is provide mlflow our image URL and desired model and then we can deploy these models to SageMaker.\n",
    "Important: Before doing all following steps, you should create a special CLI token between your terminal and AWS. For this boto3 package is responsible, and you can do it in very simple way, just by setting your environment variables in your terminal like following:\n",
    "\n",
    "Type AWS_ACCESS_KEY=XXXXXXXXX, where XXXXXXXXX is your AWS Access Key for your User in AWS.\n",
    "Type AWS_SECRET_ACCESS_KEY=XXXXXXXXX, where XXXXXXXXX is your AWS Secret Access Key for your User in AWS.\n",
    "Ocje you set your virtual environment, the terminal with active CLI is able to communicate with AWS services and make required operations.\n",
    "Create a new Python script in your root project directory by terminal command touch deploy.py. This command will create a new file deploy.py.\n",
    "Write the following script logic in the deploy.py you have just created.\n",
    "\n",
    "<b>model_uri</b> – tag supports the following formats\n",
    "\n",
    "* The location, in URI format, of the MLflow model to deploy to SageMaker. For example:\n",
    "* /Users/me/path/to/local/model\n",
    "* relative/path/to/local/model\n",
    "* s3://my_bucket/path/to/model\n",
    "* runs:/<mlflow_run_id>/run-relative/path/to/model\n",
    "* models:/<model_name>/<model_version>\n",
    "* models:/<model_name>/<stage>"
   ]
  },
  {
   "cell_type": "code",
   "execution_count": 28,
   "id": "052ebe2e-30a0-406a-8baf-bb4eb504bc46",
   "metadata": {},
   "outputs": [],
   "source": [
    "from mlflow.deployments import get_deploy_client\n",
    "\n",
    "experiment_id = '546196553103136246'\n",
    "run_id = '8bc0f39b38404cb1b68d0c64d71df4cd'\n",
    "model_name = 'logistic-regression-model'\n",
    "region = 'us-west-2'\n",
    "aws_id = '415275363822'\n",
    "user_arn = f'arn:aws:iam::{aws_id}:user/qa'\n",
    "exec_arn = f'arn:aws:iam::{aws_id}:role/service-role/AmazonSageMaker-ExecutionRole-20220118T174575'\n",
    "deployment_name = 'mlflow-sagemaker-deploy-02'\n",
    "model_uri = '/home/alfred/databricks-ml-examples/mlruns/%s/%s/artifacts/%s' % (experiment_id, run_id, model_name)\n",
    "tag_id = '2.7.1'\n",
    "\n",
    "image_url = aws_id + '.dkr.ecr.' + region + '.amazonaws.com/mlflow-pyfunc:' + tag_id"
   ]
  },
  {
   "cell_type": "code",
   "execution_count": 29,
   "id": "c99e53ed-65e9-44ec-bfd2-e3d78bbfb4bc",
   "metadata": {},
   "outputs": [
    {
     "data": {
      "text/plain": [
       "'/home/alfred/databricks-ml-examples/mlruns/546196553103136246/8bc0f39b38404cb1b68d0c64d71df4cd/artifacts/logistic-regression-model'"
      ]
     },
     "execution_count": 29,
     "metadata": {},
     "output_type": "execute_result"
    }
   ],
   "source": [
    "model_uri"
   ]
  },
  {
   "cell_type": "markdown",
   "id": "acb9511c-69af-47fe-b499-969f6340e0e8",
   "metadata": {},
   "source": [
    "# Mode granular configuration for deployment\n",
    "\n",
    "config = dict(\n",
    "    #assume_role_arn=exec_arn,\n",
    "    execution_role_arn=exec_arn,\n",
    "    bucket_name=\"mlflow-sagemaker-delme\",\n",
    "    image_url=image_url,\n",
    "    region_name=region,\n",
    "    archive=False,\n",
    "    instance_type=\"ml.t2.medium\",\n",
    "    instance_count=1,\n",
    "    synchronous=True,\n",
    "    timeout_seconds=3600,\n",
    "    variant_name=\"mlflow-variant-1\",\n",
    "    tags={\"training_timestamp\": \"2023-10-23\"},\n",
    ")\n",
    "\n",
    "client = get_deploy_client(\"sagemaker:/\" + region)\n",
    "\n",
    "client.create_deployment(\n",
    "    #you can use any name you want to see in Sagemaker\"\n",
    "    name=deployment_name,\n",
    "    model_uri=model_uri,\n",
    "    flavor=\"python_function\",\n",
    "    config=config,\n",
    ")"
   ]
  },
  {
   "cell_type": "code",
   "execution_count": 52,
   "id": "fabad407-4012-4ab1-a0e9-6146a42d8c6a",
   "metadata": {},
   "outputs": [
    {
     "name": "stderr",
     "output_type": "stream",
     "text": [
      "2023/10/25 16:53:34 INFO mlflow.sagemaker: Using the python_function flavor for deployment!\n",
      "2023/10/25 16:53:35 INFO mlflow.sagemaker: No model data bucket specified, using the default bucket\n",
      "INFO:botocore.credentials:Found credentials in shared credentials file: ~/.aws/credentials\n",
      "INFO:botocore.credentials:Found credentials in shared credentials file: ~/.aws/credentials\n",
      "2023/10/25 16:53:35 INFO mlflow.sagemaker: Default bucket `mlflow-sagemaker-us-west-2-415275363822` already exists. Skipping creation.\n",
      "INFO:botocore.credentials:Found credentials in shared credentials file: ~/.aws/credentials\n",
      "2023/10/25 16:53:36 INFO mlflow.sagemaker: tag response: {'ResponseMetadata': {'RequestId': '6CH3BT0PBBD9W50K', 'HostId': 'BqKoghSAELgq7+6WkdtkdJ6NaJ9x0OT3+YaX+6qobfnbtHatothNKvIz2ulzizqop5dUEWTkZd4=', 'HTTPStatusCode': 200, 'HTTPHeaders': {'x-amz-id-2': 'BqKoghSAELgq7+6WkdtkdJ6NaJ9x0OT3+YaX+6qobfnbtHatothNKvIz2ulzizqop5dUEWTkZd4=', 'x-amz-request-id': '6CH3BT0PBBD9W50K', 'date': 'Wed, 25 Oct 2023 16:53:37 GMT', 'server': 'AmazonS3', 'content-length': '0'}, 'RetryAttempts': 0}}\n",
      "2023/10/25 16:53:36 INFO mlflow.sagemaker: Creating new endpoint with name: mlflow-sagemaker-deploy-02 ...\n",
      "2023/10/25 16:53:37 INFO mlflow.sagemaker: Created model with arn: arn:aws:sagemaker:us-west-2:415275363822:model/mlflow-sagemaker-deploy-02-model-xhxyzsu1qyikcyjt46abzsg\n",
      "2023/10/25 16:53:37 INFO mlflow.sagemaker: Created endpoint configuration with arn: arn:aws:sagemaker:us-west-2:415275363822:endpoint-config/mlflow-sagemaker-deploy-02-config-ynzabezslsgq6rntcq6cisa\n",
      "2023/10/25 16:53:38 INFO mlflow.sagemaker: Created endpoint with arn: arn:aws:sagemaker:us-west-2:415275363822:endpoint/mlflow-sagemaker-deploy-02\n",
      "2023/10/25 16:53:38 INFO mlflow.sagemaker: Waiting for the deployment operation to complete...\n",
      "2023/10/25 16:53:38 INFO mlflow.sagemaker: Waiting for endpoint to reach the \"InService\" state. Current endpoint status: \"Creating\"\n",
      "2023/10/25 16:53:58 INFO mlflow.sagemaker: Waiting for endpoint to reach the \"InService\" state. Current endpoint status: \"Creating\"\n",
      "2023/10/25 16:54:19 INFO mlflow.sagemaker: Waiting for endpoint to reach the \"InService\" state. Current endpoint status: \"Creating\"\n",
      "2023/10/25 16:54:39 INFO mlflow.sagemaker: Waiting for endpoint to reach the \"InService\" state. Current endpoint status: \"Creating\"\n",
      "2023/10/25 16:54:59 INFO mlflow.sagemaker: Waiting for endpoint to reach the \"InService\" state. Current endpoint status: \"Creating\"\n",
      "2023/10/25 16:55:20 INFO mlflow.sagemaker: Waiting for endpoint to reach the \"InService\" state. Current endpoint status: \"Creating\"\n",
      "2023/10/25 16:55:40 INFO mlflow.sagemaker: Waiting for endpoint to reach the \"InService\" state. Current endpoint status: \"Creating\"\n",
      "2023/10/25 16:56:00 INFO mlflow.sagemaker: Waiting for endpoint to reach the \"InService\" state. Current endpoint status: \"Creating\"\n",
      "2023/10/25 16:56:21 INFO mlflow.sagemaker: Waiting for endpoint to reach the \"InService\" state. Current endpoint status: \"Creating\"\n",
      "2023/10/25 16:56:41 INFO mlflow.sagemaker: Waiting for endpoint to reach the \"InService\" state. Current endpoint status: \"Creating\"\n",
      "2023/10/25 16:57:02 INFO mlflow.sagemaker: Waiting for endpoint to reach the \"InService\" state. Current endpoint status: \"Creating\"\n",
      "2023/10/25 16:57:22 INFO mlflow.sagemaker: Waiting for endpoint to reach the \"InService\" state. Current endpoint status: \"Creating\"\n",
      "2023/10/25 16:57:43 INFO mlflow.sagemaker: Waiting for endpoint to reach the \"InService\" state. Current endpoint status: \"Creating\"\n",
      "2023/10/25 16:58:03 INFO mlflow.sagemaker: Waiting for endpoint to reach the \"InService\" state. Current endpoint status: \"Creating\"\n",
      "2023/10/25 16:58:23 INFO mlflow.sagemaker: Waiting for endpoint to reach the \"InService\" state. Current endpoint status: \"Creating\"\n",
      "2023/10/25 16:58:44 INFO mlflow.sagemaker: Waiting for endpoint to reach the \"InService\" state. Current endpoint status: \"Creating\"\n",
      "2023/10/25 16:59:04 INFO mlflow.sagemaker: Waiting for endpoint to reach the \"InService\" state. Current endpoint status: \"Creating\"\n",
      "2023/10/25 16:59:25 INFO mlflow.sagemaker: Waiting for endpoint to reach the \"InService\" state. Current endpoint status: \"Creating\"\n",
      "2023/10/25 16:59:45 INFO mlflow.sagemaker: Waiting for endpoint to reach the \"InService\" state. Current endpoint status: \"Creating\"\n",
      "2023/10/25 16:59:55 INFO mlflow.sagemaker: The deployment operation completed successfully with message: \"The SageMaker endpoint was created successfully.\"\n"
     ]
    },
    {
     "data": {
      "text/plain": [
       "{'name': 'mlflow-sagemaker-deploy-02', 'flavor': 'python_function'}"
      ]
     },
     "execution_count": 52,
     "metadata": {},
     "output_type": "execute_result"
    }
   ],
   "source": [
    "# Simple deployment\n",
    "client.create_deployment(\n",
    "    name=deployment_name,\n",
    "    model_uri=model_uri,\n",
    "    config={\n",
    "        \"image_url\": image_url,\n",
    "        \"execution_role_arn\": exec_arn\n",
    "    }\n",
    ")"
   ]
  },
  {
   "cell_type": "markdown",
   "id": "a54e2a4b-37fc-4c58-90be-9536c311792f",
   "metadata": {},
   "source": [
    "### Deploy using CLI (optional)"
   ]
  },
  {
   "cell_type": "code",
   "execution_count": null,
   "id": "11bbab06-5962-44ef-98e4-f27164bff872",
   "metadata": {},
   "outputs": [],
   "source": [
    "!mlflow deployments create --target sagemaker:/us-west-2/arn:aws:415275363822:role/assumed_role \\\n",
    "        --name my-deployment \\\n",
    "        --model-uri /mlruns/0/abc/model \\\n",
    "        --flavor python_function\\\n",
    "        -C execution_role_arn=arn:aws:456:role/execution_role \\\n",
    "        -C bucket_name=my-s3-bucket \\\n",
    "        -C image_url=1234.dkr.ecr.us-east-1.amazonaws.com/mlflow-test:1.23.1 \\\n",
    "        -C region_name=us-east-1 \\\n",
    "        -C archive=False \\\n",
    "        -C instance_type=ml.m5.4xlarge \\\n",
    "        -C instance_count=1 \\\n",
    "        -C synchronous=True \\\n",
    "        -C timeout_seconds=300 \\\n",
    "        -C variant_name=prod-variant-1 \\\n",
    "        -C vpc_config='{\"SecurityGroupIds\": [\"sg-123456abc\"], \\\n",
    "        \"Subnets\": [\"subnet-123456abc\"]}' \\\n",
    "        -C data_capture_config='{\"EnableCapture\": True, \\\n",
    "        'InitalSamplingPercentage': 100, 'DestinationS3Uri\": 's3://my-bucket/path', \\\n",
    "        'CaptureOptions': [{'CaptureMode': 'Output'}]}'\n",
    "        -C env='{\"DISABLE_NGINX\": \"true\", \"GUNICORN_CMD_ARGS\": \"\"--timeout 60\"\"}' \\\n",
    "        -C tags='{\"training_timestamp\": \"2022-11-01T05:12:26\"}' \\"
   ]
  },
  {
   "cell_type": "markdown",
   "id": "a222cd62-f2c0-424a-ba46-1dce94e16f38",
   "metadata": {},
   "source": [
    "### Deploy your own container using SageMaker (Optional)\n",
    "With Amazon SageMaker, you can package your own algorithms that can than be trained and deployed in the SageMaker environment. This notebook will guide you through an example that shows you how to build a Docker container for SageMaker and use it for training and inference.\n",
    "\n",
    "By packaging an algorithm in a container, you can bring almost any code to the Amazon SageMaker environment, regardless of programming language, environment, framework, or dependencies.\n",
    "\n",
    "![image](https://raw.githubusercontent.com/aws/amazon-sagemaker-examples/5daada592797be296c1aa7e7964e73900473dddd/advanced_functionality/scikit_bring_your_own/stack.png)\n",
    "\n",
    "Note: SageMaker now includes a pre-built scikit container. We recommend the pre-built container be used for almost all cases requiring a scikit algorithm. However, this example remains relevant as an outline for bringing in other libraries to SageMaker as your own container.\n",
    "\n",
    "Here is a more comprehensive <a>[code sample](https://github.com/aws/amazon-sagemaker-examples/blob/main/advanced_functionality/scikit_bring_your_own/scikit_bring_your_own.ipynb)</a> for your reference."
   ]
  },
  {
   "cell_type": "code",
   "execution_count": 47,
   "id": "67b0eed1-1e5e-4409-89e8-5cb535092c90",
   "metadata": {
    "collapsed": true,
    "jupyter": {
     "outputs_hidden": true
    }
   },
   "outputs": [
    {
     "name": "stderr",
     "output_type": "stream",
     "text": [
      "INFO:sagemaker:Creating training-job with name: mlflow-pyfunc-2023-10-25-16-33-55-739\n"
     ]
    },
    {
     "name": "stdout",
     "output_type": "stream",
     "text": [
      "2023-10-25 16:33:56 Starting - Starting the training job...\n",
      "2023-10-25 16:34:13 Starting - Preparing the instances for training.........\n",
      "2023-10-25 16:35:57 Downloading - Downloading input data........\u001b[34mTraceback (most recent call last):\n",
      "  File \"<string>\", line 1, in <module>\n",
      "  File \"/usr/local/lib/python3.8/dist-packages/mlflow/models/container/__init__.py\", line 55, in _init\n",
      "    _train()\n",
      "  File \"/usr/local/lib/python3.8/dist-packages/mlflow/models/container/__init__.py\", line 228, in _train\n",
      "    raise Exception(\"Train is not implemented.\")\u001b[0m\n",
      "\u001b[34mException: Train is not implemented.\u001b[0m\n",
      "\n",
      "2023-10-25 16:37:25 Training - Training image download completed. Training in progress.\n",
      "2023-10-25 16:37:25 Uploading - Uploading generated training model\n",
      "2023-10-25 16:37:25 Failed - Training job failed\n"
     ]
    },
    {
     "ename": "UnexpectedStatusException",
     "evalue": "Error for Training job mlflow-pyfunc-2023-10-25-16-33-55-739: Failed. Reason: AlgorithmError: , exit code: 1",
     "output_type": "error",
     "traceback": [
      "\u001b[0;31m---------------------------------------------------------------------------\u001b[0m",
      "\u001b[0;31mUnexpectedStatusException\u001b[0m                 Traceback (most recent call last)",
      "Cell \u001b[0;32mIn[47], line 18\u001b[0m\n\u001b[1;32m      9\u001b[0m sm_model \u001b[38;5;241m=\u001b[39m sage\u001b[38;5;241m.\u001b[39mestimator\u001b[38;5;241m.\u001b[39mEstimator(\n\u001b[1;32m     10\u001b[0m     image_url,\n\u001b[1;32m     11\u001b[0m     exec_arn,\n\u001b[0;32m   (...)\u001b[0m\n\u001b[1;32m     15\u001b[0m     sagemaker_session\u001b[38;5;241m=\u001b[39msess,\n\u001b[1;32m     16\u001b[0m )\n\u001b[1;32m     17\u001b[0m \u001b[38;5;66;03m# Run the train program because it is expected\u001b[39;00m\n\u001b[0;32m---> 18\u001b[0m sm_model\u001b[38;5;241m.\u001b[39mfit(uri)\n\u001b[1;32m     20\u001b[0m \u001b[38;5;66;03m# Deploy the model.\u001b[39;00m\n\u001b[1;32m     21\u001b[0m predictor \u001b[38;5;241m=\u001b[39m sm_model\u001b[38;5;241m.\u001b[39mdeploy(\u001b[38;5;241m1\u001b[39m, \u001b[38;5;124m'\u001b[39m\u001b[38;5;124mml.m4.xlarge\u001b[39m\u001b[38;5;124m'\u001b[39m, serializer\u001b[38;5;241m=\u001b[39mcsv_serializer)\n",
      "File \u001b[0;32m~/anaconda3/envs/dui/lib/python3.11/site-packages/sagemaker/workflow/pipeline_context.py:311\u001b[0m, in \u001b[0;36mrunnable_by_pipeline.<locals>.wrapper\u001b[0;34m(*args, **kwargs)\u001b[0m\n\u001b[1;32m    307\u001b[0m         \u001b[38;5;28;01mreturn\u001b[39;00m context\n\u001b[1;32m    309\u001b[0m     \u001b[38;5;28;01mreturn\u001b[39;00m _StepArguments(retrieve_caller_name(self_instance), run_func, \u001b[38;5;241m*\u001b[39margs, \u001b[38;5;241m*\u001b[39m\u001b[38;5;241m*\u001b[39mkwargs)\n\u001b[0;32m--> 311\u001b[0m \u001b[38;5;28;01mreturn\u001b[39;00m run_func(\u001b[38;5;241m*\u001b[39margs, \u001b[38;5;241m*\u001b[39m\u001b[38;5;241m*\u001b[39mkwargs)\n",
      "File \u001b[0;32m~/anaconda3/envs/dui/lib/python3.11/site-packages/sagemaker/estimator.py:1292\u001b[0m, in \u001b[0;36mEstimatorBase.fit\u001b[0;34m(self, inputs, wait, logs, job_name, experiment_config)\u001b[0m\n\u001b[1;32m   1290\u001b[0m \u001b[38;5;28mself\u001b[39m\u001b[38;5;241m.\u001b[39mjobs\u001b[38;5;241m.\u001b[39mappend(\u001b[38;5;28mself\u001b[39m\u001b[38;5;241m.\u001b[39mlatest_training_job)\n\u001b[1;32m   1291\u001b[0m \u001b[38;5;28;01mif\u001b[39;00m wait:\n\u001b[0;32m-> 1292\u001b[0m     \u001b[38;5;28mself\u001b[39m\u001b[38;5;241m.\u001b[39mlatest_training_job\u001b[38;5;241m.\u001b[39mwait(logs\u001b[38;5;241m=\u001b[39mlogs)\n",
      "File \u001b[0;32m~/anaconda3/envs/dui/lib/python3.11/site-packages/sagemaker/estimator.py:2474\u001b[0m, in \u001b[0;36m_TrainingJob.wait\u001b[0;34m(self, logs)\u001b[0m\n\u001b[1;32m   2472\u001b[0m \u001b[38;5;66;03m# If logs are requested, call logs_for_jobs.\u001b[39;00m\n\u001b[1;32m   2473\u001b[0m \u001b[38;5;28;01mif\u001b[39;00m logs \u001b[38;5;241m!=\u001b[39m \u001b[38;5;124m\"\u001b[39m\u001b[38;5;124mNone\u001b[39m\u001b[38;5;124m\"\u001b[39m:\n\u001b[0;32m-> 2474\u001b[0m     \u001b[38;5;28mself\u001b[39m\u001b[38;5;241m.\u001b[39msagemaker_session\u001b[38;5;241m.\u001b[39mlogs_for_job(\u001b[38;5;28mself\u001b[39m\u001b[38;5;241m.\u001b[39mjob_name, wait\u001b[38;5;241m=\u001b[39m\u001b[38;5;28;01mTrue\u001b[39;00m, log_type\u001b[38;5;241m=\u001b[39mlogs)\n\u001b[1;32m   2475\u001b[0m \u001b[38;5;28;01melse\u001b[39;00m:\n\u001b[1;32m   2476\u001b[0m     \u001b[38;5;28mself\u001b[39m\u001b[38;5;241m.\u001b[39msagemaker_session\u001b[38;5;241m.\u001b[39mwait_for_job(\u001b[38;5;28mself\u001b[39m\u001b[38;5;241m.\u001b[39mjob_name)\n",
      "File \u001b[0;32m~/anaconda3/envs/dui/lib/python3.11/site-packages/sagemaker/session.py:4849\u001b[0m, in \u001b[0;36mSession.logs_for_job\u001b[0;34m(self, job_name, wait, poll, log_type, timeout)\u001b[0m\n\u001b[1;32m   4828\u001b[0m \u001b[38;5;28;01mdef\u001b[39;00m \u001b[38;5;21mlogs_for_job\u001b[39m(\u001b[38;5;28mself\u001b[39m, job_name, wait\u001b[38;5;241m=\u001b[39m\u001b[38;5;28;01mFalse\u001b[39;00m, poll\u001b[38;5;241m=\u001b[39m\u001b[38;5;241m10\u001b[39m, log_type\u001b[38;5;241m=\u001b[39m\u001b[38;5;124m\"\u001b[39m\u001b[38;5;124mAll\u001b[39m\u001b[38;5;124m\"\u001b[39m, timeout\u001b[38;5;241m=\u001b[39m\u001b[38;5;28;01mNone\u001b[39;00m):\n\u001b[1;32m   4829\u001b[0m \u001b[38;5;250m    \u001b[39m\u001b[38;5;124;03m\"\"\"Display logs for a given training job, optionally tailing them until job is complete.\u001b[39;00m\n\u001b[1;32m   4830\u001b[0m \n\u001b[1;32m   4831\u001b[0m \u001b[38;5;124;03m    If the output is a tty or a Jupyter cell, it will be color-coded\u001b[39;00m\n\u001b[0;32m   (...)\u001b[0m\n\u001b[1;32m   4847\u001b[0m \u001b[38;5;124;03m        exceptions.UnexpectedStatusException: If waiting and the training job fails.\u001b[39;00m\n\u001b[1;32m   4848\u001b[0m \u001b[38;5;124;03m    \"\"\"\u001b[39;00m\n\u001b[0;32m-> 4849\u001b[0m     _logs_for_job(\u001b[38;5;28mself\u001b[39m\u001b[38;5;241m.\u001b[39mboto_session, job_name, wait, poll, log_type, timeout)\n",
      "File \u001b[0;32m~/anaconda3/envs/dui/lib/python3.11/site-packages/sagemaker/session.py:6760\u001b[0m, in \u001b[0;36m_logs_for_job\u001b[0;34m(boto_session, job_name, wait, poll, log_type, timeout)\u001b[0m\n\u001b[1;32m   6757\u001b[0m             last_profiler_rule_statuses \u001b[38;5;241m=\u001b[39m profiler_rule_statuses\n\u001b[1;32m   6759\u001b[0m \u001b[38;5;28;01mif\u001b[39;00m wait:\n\u001b[0;32m-> 6760\u001b[0m     _check_job_status(job_name, description, \u001b[38;5;124m\"\u001b[39m\u001b[38;5;124mTrainingJobStatus\u001b[39m\u001b[38;5;124m\"\u001b[39m)\n\u001b[1;32m   6761\u001b[0m     \u001b[38;5;28;01mif\u001b[39;00m dot:\n\u001b[1;32m   6762\u001b[0m         \u001b[38;5;28mprint\u001b[39m()\n",
      "File \u001b[0;32m~/anaconda3/envs/dui/lib/python3.11/site-packages/sagemaker/session.py:6813\u001b[0m, in \u001b[0;36m_check_job_status\u001b[0;34m(job, desc, status_key_name)\u001b[0m\n\u001b[1;32m   6807\u001b[0m \u001b[38;5;28;01mif\u001b[39;00m \u001b[38;5;124m\"\u001b[39m\u001b[38;5;124mCapacityError\u001b[39m\u001b[38;5;124m\"\u001b[39m \u001b[38;5;129;01min\u001b[39;00m \u001b[38;5;28mstr\u001b[39m(reason):\n\u001b[1;32m   6808\u001b[0m     \u001b[38;5;28;01mraise\u001b[39;00m exceptions\u001b[38;5;241m.\u001b[39mCapacityError(\n\u001b[1;32m   6809\u001b[0m         message\u001b[38;5;241m=\u001b[39mmessage,\n\u001b[1;32m   6810\u001b[0m         allowed_statuses\u001b[38;5;241m=\u001b[39m[\u001b[38;5;124m\"\u001b[39m\u001b[38;5;124mCompleted\u001b[39m\u001b[38;5;124m\"\u001b[39m, \u001b[38;5;124m\"\u001b[39m\u001b[38;5;124mStopped\u001b[39m\u001b[38;5;124m\"\u001b[39m],\n\u001b[1;32m   6811\u001b[0m         actual_status\u001b[38;5;241m=\u001b[39mstatus,\n\u001b[1;32m   6812\u001b[0m     )\n\u001b[0;32m-> 6813\u001b[0m \u001b[38;5;28;01mraise\u001b[39;00m exceptions\u001b[38;5;241m.\u001b[39mUnexpectedStatusException(\n\u001b[1;32m   6814\u001b[0m     message\u001b[38;5;241m=\u001b[39mmessage,\n\u001b[1;32m   6815\u001b[0m     allowed_statuses\u001b[38;5;241m=\u001b[39m[\u001b[38;5;124m\"\u001b[39m\u001b[38;5;124mCompleted\u001b[39m\u001b[38;5;124m\"\u001b[39m, \u001b[38;5;124m\"\u001b[39m\u001b[38;5;124mStopped\u001b[39m\u001b[38;5;124m\"\u001b[39m],\n\u001b[1;32m   6816\u001b[0m     actual_status\u001b[38;5;241m=\u001b[39mstatus,\n\u001b[1;32m   6817\u001b[0m )\n",
      "\u001b[0;31mUnexpectedStatusException\u001b[0m: Error for Training job mlflow-pyfunc-2023-10-25-16-33-55-739: Failed. Reason: AlgorithmError: , exit code: 1"
     ]
    }
   ],
   "source": [
    "# Create a SageMaker session\n",
    "import sagemaker as sage\n",
    "from time import gmtime, strftime\n",
    "\n",
    "sess = sage.Session()\n",
    "# this is just a dummy location. The model is called with train data. We use the current notebook as dummy train data.\n",
    "uri = sess.upload_data(train_data_file_path)\n",
    "\n",
    "sm_model = sage.estimator.Estimator(\n",
    "    image_url,\n",
    "    exec_arn,\n",
    "    1,\n",
    "    \"ml.c4.2xlarge\",\n",
    "    output_path=\"s3://{}/output\".format(sess.default_bucket()),\n",
    "    sagemaker_session=sess,\n",
    ")\n",
    "# Run the train program because it is expected\n",
    "sm_model.fit(uri)\n",
    "\n",
    "# Deploy the model.\n",
    "predictor = sm_model.deploy(1, 'ml.m4.xlarge', serializer=csv_serializer)"
   ]
  },
  {
   "cell_type": "markdown",
   "id": "63fcca45-ae56-42a4-a536-94ccf78179ed",
   "metadata": {},
   "source": [
    "## Verify SageMaker endpoint by sending a query"
   ]
  },
  {
   "cell_type": "code",
   "execution_count": 17,
   "id": "9efd0133-058b-45ac-bf10-378da1d3b30e",
   "metadata": {},
   "outputs": [
    {
     "name": "stdout",
     "output_type": "stream",
     "text": [
      "{\n",
      "    \"Endpoints\": [\n",
      "        {\n",
      "            \"EndpointName\": \"mlflow-sagemaker-deploy-01\",\n",
      "            \"EndpointArn\": \"arn:aws:sagemaker:us-west-2:415275363822:endpoint/mlflow-sagemaker-deploy-01\",\n",
      "            \"CreationTime\": \"2023-10-23T23:31:02.728000+00:00\",\n",
      "            \"LastModifiedTime\": \"2023-10-23T23:37:22.784000+00:00\",\n",
      "            \"EndpointStatus\": \"InService\"\n",
      "        },\n",
      "        {\n",
      "            \"EndpointName\": \"huggingface-pytorch-tgi-inference-2023-08-07-18-58-14-306\",\n",
      "            \"EndpointArn\": \"arn:aws:sagemaker:us-west-2:415275363822:endpoint/huggingface-pytorch-tgi-inference-2023-08-07-18-58-14-306\",\n",
      "            \"CreationTime\": \"2023-08-07T18:58:15.087000+00:00\",\n",
      "            \"LastModifiedTime\": \"2023-08-07T19:06:56.207000+00:00\",\n",
      "            \"EndpointStatus\": \"Failed\"\n",
      "        },\n",
      "        {\n",
      "            \"EndpointName\": \"huggingface-pytorch-tgi-inference-2023-08-07-18-57-55-411\",\n",
      "            \"EndpointArn\": \"arn:aws:sagemaker:us-west-2:415275363822:endpoint/huggingface-pytorch-tgi-inference-2023-08-07-18-57-55-411\",\n",
      "            \"CreationTime\": \"2023-08-07T18:57:56.090000+00:00\",\n",
      "            \"LastModifiedTime\": \"2023-08-07T19:06:58.293000+00:00\",\n",
      "            \"EndpointStatus\": \"Failed\"\n",
      "        }\n",
      "    ]\n",
      "}\n"
     ]
    }
   ],
   "source": [
    "!aws sagemaker list-endpoints"
   ]
  },
  {
   "cell_type": "code",
   "execution_count": 53,
   "id": "3236a704-1d88-4373-a9a0-5198a60c906b",
   "metadata": {},
   "outputs": [
    {
     "name": "stderr",
     "output_type": "stream",
     "text": [
      "INFO:botocore.credentials:Found credentials in shared credentials file: ~/.aws/credentials\n"
     ]
    },
    {
     "name": "stdout",
     "output_type": "stream",
     "text": [
      "Application status is InService\n",
      "{'index': [0, 1], 'columns': [0, 1, 2], 'data': [[1.276052127730331, -1.0328733404598451, -1.1620296910871757], [-1.596586482223551, 0.5859066495738939, -0.4625818296076901]]}\n",
      "Received response: {'predictions': [1, 1]}\n",
      "{'predictions': [1, 1]}\n"
     ]
    }
   ],
   "source": [
    "import pandas as pd\n",
    "import numpy as np\n",
    "import json\n",
    "import boto3\n",
    "\n",
    "global app_name\n",
    "global region\n",
    "region = 'us-west-2'\n",
    "\n",
    "def check_status(app_name):\n",
    "    sage_client = boto3.client('sagemaker', region_name=region)\n",
    "    endpoint_description = sage_client.describe_endpoint(EndpointName=deployment_name)\n",
    "    endpoint_status = endpoint_description['EndpointStatus']\n",
    "    return endpoint_status\n",
    "\n",
    "def query_endpoint(app_name, input_json):\n",
    "    client = boto3.session.Session().client('sagemaker-runtime', region)\n",
    "\n",
    "    response = client.invoke_endpoint(\n",
    "        EndpointName = app_name,\n",
    "        Body = input_json,\n",
    "        ContentType = 'application/json'#'; format=pandas-split',\n",
    "        )\n",
    "\n",
    "    preds = response['Body'].read().decode('ascii')\n",
    "    preds = json.loads(preds)\n",
    "    print('Received response: {}'.format(preds))\n",
    "    return preds\n",
    "\n",
    "# Check endpoint status\n",
    "print('Application status is {}'.format(check_status(deployment_name)))\n",
    "\n",
    "#Let's create a test array that we'll use to test our model\n",
    "arr_predict = np.random.randn(2,3)\n",
    "\n",
    "# Create test data and make inference from endpoint\n",
    "query_input = pd.DataFrame(arr_predict).to_dict(orient='split')\n",
    "print(query_input)\n",
    "\n",
    "data = {\"dataframe_split\": query_input}\n",
    "\n",
    "byte_data = json.dumps(data).encode('utf-8')\n",
    "\n",
    "predictions = query_endpoint(app_name=deployment_name, input_json=byte_data)\n",
    "print(predictions)"
   ]
  },
  {
   "cell_type": "markdown",
   "id": "25d69c80-db3f-4bf1-92a9-025026402407",
   "metadata": {},
   "source": [
    "## Mangeing deployment\n",
    "\n",
    "You can query an existing deployment by name and update the deployed model by replacing it with the output of a different run. Specify the run ID associated with a different training run."
   ]
  },
  {
   "cell_type": "code",
   "execution_count": 54,
   "id": "1f75d1a0-47cc-4d82-bf06-7565586d5a00",
   "metadata": {},
   "outputs": [
    {
     "name": "stdout",
     "output_type": "stream",
     "text": [
      "MLflow SageMaker Deployment status is: InService\n"
     ]
    }
   ],
   "source": [
    "deployment_info = client.get_deployment(name=deployment_name)\n",
    "print(f\"MLflow SageMaker Deployment status is: {deployment_info['EndpointStatus']}\")"
   ]
  },
  {
   "cell_type": "code",
   "execution_count": null,
   "id": "b7d6a1aa-af27-4f2b-b91c-49600f0070d5",
   "metadata": {},
   "outputs": [],
   "source": [
    "run_id2 = \"<run-id2>\"\n",
    "new_model_uri = \"runs:/\" + run_id2 + \"/model\"\n",
    "\n",
    "deployment_client.update_deployment(\n",
    "  name=deployment_name,\n",
    "  model_uri=new_model_uri,\n",
    "  config={\n",
    "    \"image_url\": image_ecr_url,\n",
    "    \"mode\": \"replace\",\n",
    "  }\n",
    ")"
   ]
  },
  {
   "cell_type": "code",
   "execution_count": 55,
   "id": "d211bd90-9e42-45f2-91d7-177a98f60adb",
   "metadata": {},
   "outputs": [],
   "source": [
    "## Clean up"
   ]
  },
  {
   "cell_type": "code",
   "execution_count": 23,
   "id": "0e98d6a2-6d90-4822-bd1e-958531ac2008",
   "metadata": {},
   "outputs": [
    {
     "name": "stderr",
     "output_type": "stream",
     "text": [
      "2023/10/23 23:43:27 INFO mlflow.sagemaker: Deleted endpoint with arn: arn:aws:sagemaker:us-west-2:415275363822:endpoint/mlflow-sagemaker-deploy-01\n",
      "2023/10/23 23:43:27 INFO mlflow.sagemaker: Waiting for the delete operation to complete...\n",
      "2023/10/23 23:43:27 INFO mlflow.sagemaker: Deletion is still in progress. Current endpoint status: Deleting\n",
      "2023/10/23 23:43:32 INFO mlflow.sagemaker: The deletion operation completed successfully with message: \"The SageMaker endpoint was deleted successfully.\"\n",
      "2023/10/23 23:43:32 INFO mlflow.sagemaker: Cleaning up unused resources...\n",
      "2023/10/23 23:43:32 INFO mlflow.sagemaker: Deleted associated endpoint configuration with arn: arn:aws:sagemaker:us-west-2:415275363822:endpoint-config/mlflow-sagemaker-deploy-01-config-q5maywp6soc7dx6jp8otgq\n",
      "2023/10/23 23:43:33 INFO mlflow.sagemaker: Deleted associated model with arn: arn:aws:sagemaker:us-west-2:415275363822:model/mlflow-sagemaker-deploy-01-model-nga-dp8qsrabekinvzanuuw\n"
     ]
    }
   ],
   "source": [
    "client.delete_deployment(deployment_name)"
   ]
  },
  {
   "cell_type": "code",
   "execution_count": null,
   "id": "a4227a56-bb47-44ae-b47d-68009e2cea92",
   "metadata": {},
   "outputs": [],
   "source": []
  }
 ],
 "metadata": {
  "kernelspec": {
   "display_name": "tsam",
   "language": "python",
   "name": "tsam"
  },
  "language_info": {
   "codemirror_mode": {
    "name": "ipython",
    "version": 3
   },
   "file_extension": ".py",
   "mimetype": "text/x-python",
   "name": "python",
   "nbconvert_exporter": "python",
   "pygments_lexer": "ipython3",
   "version": "3.8.17"
  }
 },
 "nbformat": 4,
 "nbformat_minor": 5
}
