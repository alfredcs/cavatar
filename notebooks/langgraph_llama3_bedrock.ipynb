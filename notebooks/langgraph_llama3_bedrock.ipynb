{
 "cells": [
  {
   "cell_type": "markdown",
   "id": "52b30b6b-e2c4-4c9c-905f-530125707d29",
   "metadata": {},
   "source": [
    "# Building a RAG Agent with LangGraph, LLaMA3–70b/Claude-3, and Scaling with Amazon Bedrock\n",
    "\n",
    "Explore how to build an intelligent using agent, langgraph and Claude-3/LLaMA-3 from Amazon Bedrock. This advanced RAG agent integrates several cutting-edge ideas from recent research to enhance its capabilities.\n",
    "\n",
    "* Adaptive Routing (paper): Based on the Adaptive RAG paper, our agent intelligently routes questions to different retrieval approaches, leveraging the strengths of each method for optimal performance.\n",
    "* Fallback to Web Search (paper): Inspired by the Corrective RAG paper, our agent falls back to web search if the retrieved documents are not relevant, ensuring comprehensive coverage.\n",
    "* Self-Correction (paper): Incorporating concepts from the Self-RAG paper, our agent identifies and corrects hallucinations or incomplete answers.\n",
    "\n",
    "We'll use LangGraph to build complex, multi-step workflows that involve language models and other components. By combining these research ideas, our agent will provide accurate and informative responses to challenging queries.\n",
    "This blog post expands on the work presented in Langchain-ai's notebook, illustrating how you can scale with cloud processing power. We will port the original notebook to utilize Amazon Bedrock for LLM inference to scale our embedding and text generation capabilities. The choice of vector stores (local chromaDB) will remain unchanged, and we will discover how to scale this part in future blog posts."
   ]
  },
  {
   "cell_type": "code",
   "execution_count": 1,
   "id": "f1665046-6a6e-43f8-a6d7-46e41c13ed18",
   "metadata": {
    "collapsed": true,
    "jupyter": {
     "outputs_hidden": true
    },
    "scrolled": true
   },
   "outputs": [
    {
     "name": "stdout",
     "output_type": "stream",
     "text": [
      "\u001b[33mWARNING: Package(s) not found: tavily-python\u001b[0m\u001b[33m\n",
      "\u001b[0mName: langchain-community\n",
      "Version: 0.0.34\n",
      "Summary: Community contributed LangChain integrations.\n",
      "Home-page: https://github.com/langchain-ai/langchain\n",
      "Author: \n",
      "Author-email: \n",
      "License: MIT\n",
      "Location: /home/alfred/anaconda3/envs/dui/lib/python3.11/site-packages\n",
      "Requires: aiohttp, dataclasses-json, langchain-core, langsmith, numpy, PyYAML, requests, SQLAlchemy, tenacity\n",
      "Required-by: langchain, ragas\n",
      "---\n",
      "Name: tiktoken\n",
      "Version: 0.6.0\n",
      "Summary: tiktoken is a fast BPE tokeniser for use with OpenAI's models\n",
      "Home-page: \n",
      "Author: Shantanu Jain\n",
      "Author-email: shantanu@openai.com\n",
      "License: MIT License\n",
      "\n",
      "Copyright (c) 2022 OpenAI, Shantanu Jain\n",
      "\n",
      "Permission is hereby granted, free of charge, to any person obtaining a copy\n",
      "of this software and associated documentation files (the \"Software\"), to deal\n",
      "in the Software without restriction, including without limitation the rights\n",
      "to use, copy, modify, merge, publish, distribute, sublicense, and/or sell\n",
      "copies of the Software, and to permit persons to whom the Software is\n",
      "furnished to do so, subject to the following conditions:\n",
      "\n",
      "The above copyright notice and this permission notice shall be included in all\n",
      "copies or substantial portions of the Software.\n",
      "\n",
      "THE SOFTWARE IS PROVIDED \"AS IS\", WITHOUT WARRANTY OF ANY KIND, EXPRESS OR\n",
      "IMPLIED, INCLUDING BUT NOT LIMITED TO THE WARRANTIES OF MERCHANTABILITY,\n",
      "FITNESS FOR A PARTICULAR PURPOSE AND NONINFRINGEMENT. IN NO EVENT SHALL THE\n",
      "AUTHORS OR COPYRIGHT HOLDERS BE LIABLE FOR ANY CLAIM, DAMAGES OR OTHER\n",
      "LIABILITY, WHETHER IN AN ACTION OF CONTRACT, TORT OR OTHERWISE, ARISING FROM,\n",
      "OUT OF OR IN CONNECTION WITH THE SOFTWARE OR THE USE OR OTHER DEALINGS IN THE\n",
      "SOFTWARE.\n",
      "\n",
      "Location: /home/alfred/anaconda3/envs/dui/lib/python3.11/site-packages\n",
      "Requires: regex, requests\n",
      "Required-by: langchain-openai, llama-index-core, llama-index-legacy, ragas\n",
      "---\n",
      "Name: chromadb\n",
      "Version: 0.4.24\n",
      "Summary: Chroma.\n",
      "Home-page: \n",
      "Author: \n",
      "Author-email: Jeff Huber <jeff@trychroma.com>, Anton Troynikov <anton@trychroma.com>\n",
      "License: \n",
      "Location: /home/alfred/anaconda3/envs/dui/lib/python3.11/site-packages\n",
      "Requires: bcrypt, build, chroma-hnswlib, fastapi, grpcio, importlib-resources, kubernetes, mmh3, numpy, onnxruntime, opentelemetry-api, opentelemetry-exporter-otlp-proto-grpc, opentelemetry-instrumentation-fastapi, opentelemetry-sdk, orjson, overrides, posthog, pulsar-client, pydantic, pypika, PyYAML, requests, tenacity, tokenizers, tqdm, typer, typing-extensions, uvicorn\n",
      "Required-by: langchain-chroma, llama-index-vector-stores-chroma\n",
      "---\n",
      "Name: langchain\n",
      "Version: 0.1.15\n",
      "Summary: Building applications with LLMs through composability\n",
      "Home-page: https://github.com/langchain-ai/langchain\n",
      "Author: \n",
      "Author-email: \n",
      "License: MIT\n",
      "Location: /home/alfred/anaconda3/envs/dui/lib/python3.11/site-packages\n",
      "Requires: aiohttp, dataclasses-json, jsonpatch, langchain-community, langchain-core, langchain-text-splitters, langsmith, numpy, pydantic, PyYAML, requests, SQLAlchemy, tenacity\n",
      "Required-by: deepeval, langchain-benchmarks, langchain-experimental, langserve, llama-index-llms-langchain, ragas\n",
      "---\n",
      "Name: langgraph\n",
      "Version: 0.0.26\n",
      "Summary: langgraph\n",
      "Home-page: https://www.github.com/langchain-ai/langgraph\n",
      "Author: \n",
      "Author-email: \n",
      "License: LangGraph License\n",
      "Location: /home/alfred/anaconda3/envs/dui/lib/python3.11/site-packages\n",
      "Requires: langchain-core\n",
      "Required-by: \n",
      "---\n",
      "Name: langchain-aws\n",
      "Version: 0.1.6\n",
      "Summary: An integration package connecting AWS and LangChain\n",
      "Home-page: https://github.com/langchain-ai/langchain-aws\n",
      "Author: \n",
      "Author-email: \n",
      "License: MIT\n",
      "Location: /home/alfred/anaconda3/envs/dui/lib/python3.11/site-packages\n",
      "Requires: boto3, langchain-core, numpy\n",
      "Required-by: \n",
      "---\n",
      "Name: chromadb\n",
      "Version: 0.4.24\n",
      "Summary: Chroma.\n",
      "Home-page: \n",
      "Author: \n",
      "Author-email: Jeff Huber <jeff@trychroma.com>, Anton Troynikov <anton@trychroma.com>\n",
      "License: \n",
      "Location: /home/alfred/anaconda3/envs/dui/lib/python3.11/site-packages\n",
      "Requires: bcrypt, build, chroma-hnswlib, fastapi, grpcio, importlib-resources, kubernetes, mmh3, numpy, onnxruntime, opentelemetry-api, opentelemetry-exporter-otlp-proto-grpc, opentelemetry-instrumentation-fastapi, opentelemetry-sdk, orjson, overrides, posthog, pulsar-client, pydantic, pypika, PyYAML, requests, tenacity, tokenizers, tqdm, typer, typing-extensions, uvicorn\n",
      "Required-by: langchain-chroma, llama-index-vector-stores-chroma\n"
     ]
    }
   ],
   "source": [
    "#! pip install -U langchain_community tiktoken chromadb langchain langgraph tavily-python langchain-aws\n",
    "!pip show langchain_community tiktoken chromadb langchain langgraph tavily-python langchain-aws chromadb"
   ]
  },
  {
   "cell_type": "markdown",
   "id": "ee6fa942-0a95-40a1-87f7-c3d98806a015",
   "metadata": {},
   "source": [
    "## 0. Setting Up LangSmith Tracing\n",
    "LangSmith is a powerful tracing tool that allows you to monitor and debug LangChain-based applications. Setting up a connection to LangSmith in this notebook will give us valuable insights into the inner workings of our RAG agent.\n",
    "\n",
    "To enable tracing, set the LANGCHAIN_TRACING_V2 environment variable to \"true\". Then specify the LANGCHAIN_ENDPOINT and LANGCHAIN_API_KEY with the appropriate values for your LangSmith account. If you don't have an account, sign up at LangSmith Signup and obtain your API key.\n",
    "\n",
    "If you are looking for a self-hosted alternative to LangSmith, check out Langfuse.\n",
    "\n",
    "Furthermore, we will set our keys to connect to the AWS cloud.\n",
    "\n",
    "If you work on an AWS resource, like Amazon SageMaker, your Execution Role already has the default connection set for you. To give you a broad place to play with the tech, find below a method for Google Colab as well as your local computer (with AWS CLI setup through the aws configure command).\n",
    "\n"
   ]
  },
  {
   "cell_type": "code",
   "execution_count": 1,
   "id": "c41bbfd4-9225-4747-9e3a-262af2b8dca7",
   "metadata": {},
   "outputs": [],
   "source": [
    "import os\n",
    "#from google.colab import userdata\n",
    "\n",
    "\n",
    "def _set_if_undefined(var: str):\n",
    "    if not os.environ.get(var):\n",
    "        #os.environ[var] = getpass.getpass(f\"Please provide your {var}\")\n",
    "        os.environ[var] = os.getenv(var.replace(\"KEY\", \"token\").lower())\n",
    "\n",
    "_set_if_undefined(\"OPENAI_API_KEY\")\n",
    "_set_if_undefined(\"LANGCHAIN_API_KEY\")\n",
    "_set_if_undefined(\"TAVILY_API_KEY\")\n",
    "\n",
    "# Optional, add tracing in LangSmith.\n",
    "# This will help you visualize and debug the control flow\n",
    "\n",
    "\n",
    "# if you work on Google Colab use the following to retrieve your API keys\n",
    "langchain_api_key = os.getenv('langchain_api_token')\n",
    "tavily_ai_api_key = os.getenv('tavily_api_token')\n",
    "#aws_access_key_id = userdata.get('aws_access_key_id')\n",
    "#aws_secret_access_key = userdata.get('aws_secret_access_key')\n",
    "aws_region = \"us-west-2\" # choose your region you operate in\n",
    "\n",
    "# # otherwise initialize your credentials as need be by uncommenting below:\n",
    "# langchain_api_key = <YOUR API KEY>\n",
    "# aws_access_key_id = <YOUR SECRETS KEY ID>\n",
    "# aws_secret_access_key =  <YOUR SECRETS KEY SECRET>\n",
    "### Tracing (optional)\n",
    "\n",
    "os.environ[\"LANGCHAIN_TRACING_V2\"] = \"true\"\n",
    "os.environ[\"LANGCHAIN_ENDPOINT\"] = \"https://api.smith.langchain.com\"\n",
    "os.environ[\"LANGCHAIN_API_KEY\"] = langchain_api_key"
   ]
  },
  {
   "cell_type": "markdown",
   "id": "c1a16bda-dd03-4e7a-abb4-1da18f0f55af",
   "metadata": {},
   "source": [
    "## 0.1 Creating a Bedrock Runtime Client\n",
    "We'll create a Bedrock runtime client to connect to the Amazon Bedrock service. Bedrock, a fully managed service by AWS, allows developers to build and deploy generative AI models like large language models (LLMs). This client will enable us to leverage pre-trained LLMs from Amazon, such as the powerful LLaMA3 model from Meta.\n",
    "\n",
    "Connecting to Bedrock is crucial for building our scalable and secure RAG agent, as it provides the necessary language model for generation capabilities. With the Bedrock runtime client in place, we can integrate LLaMA3 into our workflow and use its advanced natural language processing capabilities to generate accurate responses."
   ]
  },
  {
   "cell_type": "code",
   "execution_count": 2,
   "id": "4079a904-b5d7-42c4-a17d-24dd56850ee7",
   "metadata": {},
   "outputs": [],
   "source": [
    "import boto3\n",
    "from langchain_aws import BedrockLLM, ChatBedrock\n",
    "#from langchain_community.llms import Bedrock\n",
    "from langchain_aws import BedrockLLM\n",
    "\n",
    "\n",
    "bedrock_client = boto3.client(\"bedrock-runtime\")\n",
    "model_id_c3 = 'anthropic.claude-3-haiku-20240307-v1:0'\n",
    "model_id_c3 = 'anthropic.claude-3-sonnet-20240229-v1:0'\n",
    "\n",
    "model_id_l3= 'meta.llama3-70b-instruct-v1:0'\n",
    "model_id_c2 = 'anthropic.claude-v2:1'\n",
    "inference_modifier = {\n",
    "    \"max_tokens\": 2048,\n",
    "    \"temperature\": 0.01,\n",
    "    \"top_k\": 50,\n",
    "    \"top_p\": 0.95,\n",
    "    \"stop_sequences\": [\"\\n\\n\\nHuman\"],\n",
    "}\n",
    "    \n",
    "llm_c3 = bedrock_claude3_chat = ChatBedrock(\n",
    "    model_id=model_id_c3,\n",
    "    client=bedrock_client,\n",
    "    model_kwargs=inference_modifier,\n",
    "    region_name=aws_region,\n",
    ")  \n",
    "llm = bedrock_llama3_llm = BedrockLLM(\n",
    "    model_id=model_id_l3,\n",
    "    client=bedrock_client,\n",
    "    model_kwargs={\"temperature\": 0.1, \"max_gen_len\":1024},\n",
    ")  "
   ]
  },
  {
   "cell_type": "markdown",
   "id": "94fcca90-305f-4d08-9efc-3e2779978adf",
   "metadata": {},
   "source": [
    "## 1. RAG Injection"
   ]
  },
  {
   "cell_type": "code",
   "execution_count": 3,
   "id": "1c299bdf-582e-419c-b236-91d39d6afe0e",
   "metadata": {},
   "outputs": [],
   "source": [
    "from langchain_community.embeddings import BedrockEmbeddings\n",
    "\n",
    "# Choose from a set of embedding models hosted on Amazon Bedrock\n",
    "# Provider  | Model Name                        | Model ID\n",
    "# -------------------------------------------------------------------------------\n",
    "# Amazon    | Titan Embeddings G1 - Text 1.x   | amazon.titan-embed-text-v1\n",
    "# Amazon    | Titan Embedding Text v2 1.x       | amazon.titan-embed-text-v2:0:8k\n",
    "# Cohere    | Embed English 3.x                 | cohere.embed-english-v3\n",
    "# Cohere   | Embed Multilingual 3.x           | cohere.embed-multilingual-v3\n",
    "embedding_model_id = \"amazon.titan-embed-text-v2:0\"\n",
    "embeddings = BedrockEmbeddings(client=bedrock_client, model_id=embedding_model_id)"
   ]
  },
  {
   "cell_type": "code",
   "execution_count": 56,
   "id": "e111c692-670f-49f2-9737-404e0075823f",
   "metadata": {},
   "outputs": [],
   "source": [
    "from chromadb import Documents, EmbeddingFunction, Embeddings\n",
    "from langchain_community.embeddings.bedrock import BedrockEmbeddings\n",
    "from langchain.text_splitter import RecursiveCharacterTextSplitter\n",
    "from langchain_community.document_loaders import WebBaseLoader\n",
    "from langchain_community.vectorstores import Chroma\n",
    "\n",
    "class MyEmbeddingFunction(EmbeddingFunction):\n",
    "    def __init__(self, client, region_name: str, model_id: str):\n",
    "        self.embedder = BedrockEmbeddings(\n",
    "            client=client,\n",
    "            region_name=region_name,\n",
    "            model_id=model_id\n",
    "        )\n",
    "    def embed_query(self, query: str) -> Embeddings:\n",
    "        return self.embedder.embed_query(query)\n",
    "    def embed_documents(self, documents: list[str]) -> Embeddings:\n",
    "        return self.embedder.embed_documents(documents)\n",
    "\n",
    "urls = [\n",
    "    \"https://www.ncbi.nlm.nih.gov/pmc/articles/PMC11127599/\",\n",
    "    \"https://www.ncbi.nlm.nih.gov/pmc/articles/PMC11127585/\",\n",
    "    \"https://www.ncbi.nlm.nih.gov/pmc/articles/PMC11127587/\",\n",
    "    \"https://www.ncbi.nlm.nih.gov/pmc/articles/PMC11127583\",\n",
    "    \"https://www.ncbi.nlm.nih.gov/pmc/articles/PMC11127584/\",\n",
    "    \"https://www.ncbi.nlm.nih.gov/pmc/articles/PMC11127593/\",\n",
    "    \"https://www.ncbi.nlm.nih.gov/pmc/articles/PMC11127580/\",\n",
    "    \"https://www.ncbi.nlm.nih.gov/pmc/articles/PMC11127581/\"\n",
    "]\n",
    "docs = [WebBaseLoader(url).load() for url in urls]    \n",
    "docs_list = [item for sublist in docs for item in sublist]\n",
    "text_splitter = RecursiveCharacterTextSplitter.from_tiktoken_encoder(\n",
    "    chunk_size=4000, chunk_overlap=400\n",
    ")\n",
    "doc_splits = text_splitter.split_documents(docs_list)\n",
    "\n",
    "embedding_function = MyEmbeddingFunction(client = bedrock_client,\n",
    "                                         region_name=aws_region,\n",
    "                                         model_id=embedding_model_id)\n",
    "# Add to vectorDB\n",
    "vectorstore = Chroma.from_documents(\n",
    "    documents=doc_splits,\n",
    "    embedding=embedding_function,\n",
    "    collection_name=\"rag-chroma-titan-embed-text-v2-0\",\n",
    ")\n",
    "retriever = vectorstore.as_retriever(\n",
    "    search_type=\"mmr\",\n",
    "    search_kwargs={'k': 3, 'lambda_mult': 0.25})"
   ]
  },
  {
   "cell_type": "markdown",
   "id": "85946239-7afb-4026-a784-4cc99ceef7b6",
   "metadata": {},
   "source": [
    "### 1.1 RAG retrieval"
   ]
  },
  {
   "cell_type": "code",
   "execution_count": 75,
   "id": "7827d424-f084-4a75-bd46-6f05b4529c67",
   "metadata": {},
   "outputs": [],
   "source": [
    "original_question = \"Explain what is granulomatosis with polyangiitis (GPA) with an infiltrative pituitary process?\"\n",
    "original_question = \"Explain what are typical symptoms for patient With SDHB Mutation?\""
   ]
  },
  {
   "cell_type": "code",
   "execution_count": 76,
   "id": "1e3bc1b0-a34d-42b4-99fa-a6f6fbad821a",
   "metadata": {},
   "outputs": [
    {
     "data": {
      "text/plain": [
       "'What are the most commonly reported clinical manifestations and associated symptoms observed in patients diagnosed with succinate dehydrogenase subunit B (SDHB) gene mutations, which are known to predispose individuals to the development of various neuroendocrine tumors and paragangliomas?'"
      ]
     },
     "execution_count": 76,
     "metadata": {},
     "output_type": "execute_result"
    }
   ],
   "source": [
    "### Rewrite query\n",
    "### Retrieval Grader using a diff model Claude 3\n",
    "from langchain.prompts import PromptTemplate\n",
    "from langchain_core.output_parsers import JsonOutputParser, StrOutputParser\n",
    "from langchain.prompts import PromptTemplate, ChatPromptTemplate\n",
    "\n",
    "c3_template = \"\"\"As a seasoned healthcare researcher, please rewrite the {question} for the prompt with better reasoning.  \\n\n",
    "    The reqritten prompt will be used to search medical journals for accurate, up-to-date information. \\n\n",
    "    Make sure don't answer the {question}. Please output the rewritten question only in one single text paragraph. \\n\n",
    "    \"\"\"\n",
    "\n",
    "c3_prompt = ChatPromptTemplate.from_template(c3_template)\n",
    "#chain = ( c3_prompt | llm_c3 | StrOutputParser() | (lambda x: x.split(\"\\n\")))\n",
    "rewritten_chain = ( c3_prompt | llm_c3 | StrOutputParser() )\n",
    "rewritten_question = rewritten_chain.invoke({\"question\": original_question})\n",
    "rewritten_question"
   ]
  },
  {
   "cell_type": "code",
   "execution_count": 77,
   "id": "154fb904-b472-4e5b-9eca-6c4078c0f116",
   "metadata": {},
   "outputs": [
    {
     "name": "stdout",
     "output_type": "stream",
     "text": [
      "{'score': 'yes'}\n"
     ]
    }
   ],
   "source": [
    "### Retrieval Grader using a diff model Claude 3\n",
    "prompt = PromptTemplate(\n",
    "    template=\"\"\"<|begin_of_text|><|start_header_id|>system<|end_header_id|> You are a grader assessing relevance\n",
    "    of a retrieved document to a user question. If the document contains keywords related to the user question,\n",
    "    grade it as relevant. It does not need to be a stringent test. The goal is to filter out erroneous retrievals. \\n\n",
    "    Give a binary score 'yes' or 'no' score to indicate whether the document is relevant to the question. \\n\n",
    "    Provide the binary score as a JSON with a single key 'score' and no premable or explaination.\n",
    "     <|eot_id|><|start_header_id|>user<|end_header_id|>\n",
    "    Here is the retrieved document: \\n\\n {document} \\n\\n\n",
    "    Here is the user question: {question} \\n <|eot_id|><|start_header_id|>assistant<|end_header_id|>\n",
    "    \"\"\",\n",
    "    input_variables=[\"question\", \"document\"],\n",
    ")\n",
    "\n",
    "c3_template = \"\"\"You are a grader assessing relevance\n",
    "    of a retrieved document to a user question. If the document contains keywords related to the user question,\n",
    "    grade it as relevant. It does not need to be a stringent test. The goal is to filter out erroneous retrievals. \\n\n",
    "    Give a binary score 'yes' or 'no' score to indicate whether the document is relevant to the question. \\n\n",
    "    Provide the binary score as a JSON with a single key 'score' and no premable or explaination.\n",
    "    \n",
    "    Here is the retrieved document: {document} \n",
    "    \n",
    "    Here is the user question: {question}\"\"\"\n",
    "c3_prompt = ChatPromptTemplate.from_template(c3_template)\n",
    "\n",
    "#retrieval_grader = prompt | llm | JsonOutputParser()\n",
    "retrieval_grader = c3_prompt | llm_c3 | JsonOutputParser()\n",
    "\n",
    "docs = retriever.invoke(rewritten_question)\n",
    "doc_txt = docs[0].page_content\n",
    "print(retrieval_grader.invoke({\"question\": rewritten_question, \"document\": doc_txt}))"
   ]
  },
  {
   "cell_type": "markdown",
   "id": "8bfdbefd-bcc8-48aa-9e29-9f6d88572107",
   "metadata": {},
   "source": [
    "## 2. Building the Control Flow with LangGraph\n",
    "LangGraph allows us to define a graph-based workflow for our RAG agent, integrating document retrieval, question routing, answer generation, and self-correction into an efficient pipeline.\n",
    "\n",
    "Key steps include:\n",
    "\n",
    "* Question Routing: Deciding whether the question should go to the document retrieval system or a web search.\n",
    "* Document Retrieval: Fetching relevant documents from the vector database.\n",
    "* Document Grading: Evaluating the relevance of retrieved documents.\n",
    "* Answer Generation: Generating an answer using the retrieved documents and the language model.\n",
    "* Hallucination Grading: Ensuring the generated answer is grounded in the retrieved documents.\n",
    "* Answer Grading: Checking the usefulness of the generated answer.\n",
    "* Web Search: Supplement with a web search if necessary.\n",
    "\n",
    "LangGraph lets us seamlessly integrate these steps into a modular, adaptable workflow, enhancing the agent's ability to handle diverse queries."
   ]
  },
  {
   "cell_type": "markdown",
   "id": "8ec5e8aa-ba53-4282-9dde-f62be457b31d",
   "metadata": {},
   "source": [
    "### 2.1 Generating Answers\n",
    "Using PromptTemplate from LangChain, we create a prompt for the assistant to answer questions concisely, utilizing retrieved context.\n",
    "\n",
    "The prompt converts the user's question and relevant documents into an input format for the language model. The resulting answer is processed and returned.\n",
    "\n",
    "Here's the process:\n",
    "\n",
    "* 1.Define the prompt template.\n",
    "* 2.Format the documents as context.\n",
    "* 3.Chain the prompt, LLM, and output parser to generate the response.\n",
    "\n",
    "    By integrating this chain, the RAG agent generates accurate, concise answers based on the retrieved context."
   ]
  },
  {
   "cell_type": "code",
   "execution_count": 78,
   "id": "02a351c1-9878-42ad-83a5-730d257191d2",
   "metadata": {},
   "outputs": [
    {
     "name": "stdout",
     "output_type": "stream",
     "text": [
      "Answer: Unfortunately, the provided context does not contain any information specifically about the clinical manifestations and symptoms associated with succinate dehydrogenase subunit B (SDHB) gene mutations. The documents discuss cases of pheochromocytoma, parathyroid adenoma, and carotid body paraganglioma, but do not mention SDHB mutations or their associated symptoms. \n",
      "\n",
      "Sources: ['https://www.ncbi.nlm.nih.gov/pmc/articles/PMC11127581/', 'https://www.ncbi.nlm.nih.gov/pmc/articles/PMC11127584/', 'https://www.ncbi.nlm.nih.gov/pmc/articles/PMC11127583']\n"
     ]
    }
   ],
   "source": [
    "### Generate using Llama 3\n",
    "\n",
    "#from langchain.prompts import PromptTemplate, ChatPromptTemplate\n",
    "from langchain_core.output_parsers import StrOutputParser\n",
    "from langchain_core.runnables import RunnableMap, RunnablePassthrough\n",
    " \n",
    "# Prompt\n",
    "prompt = PromptTemplate(\n",
    "    template=\"\"\"<|begin_of_text|><|start_header_id|>system<|end_header_id|> You are an assistant for question-answering tasks.\n",
    "    Use the following pieces of retrieved context to answer the question. Use three sentences maximum and keep the answer concise <|eot_id|><|start_header_id|>user<|end_header_id|>\n",
    "    Question: {question}\n",
    "    Context: {context}\n",
    "    Answer: <|eot_id|><|start_header_id|>assistant<|end_header_id|>\"\"\",\n",
    "    input_variables=[\"question\", \"document\"],\n",
    ")\n",
    "\n",
    "c3_template = \"\"\"You are an assistant for question-answering tasks. Use the following pieces of retrieved context to answer the question. Use three sentences maximum and keep the answer concise. \n",
    "    \n",
    "    {context} \n",
    "    \n",
    "    Use these to craft an answer to the question: {question}\"\"\"\n",
    "c3_prompt = ChatPromptTemplate.from_template(c3_template)\n",
    "\n",
    "# Post-processing\n",
    "def format_docs(docs):\n",
    "    return \"\\n\\n\".join(doc.page_content for doc in docs)\n",
    "\n",
    "# Chain generated by using Llama 3\n",
    "#rag_chain = prompt | llm | StrOutputParser()\n",
    "rag_chain = c3_prompt | llm_c3 | StrOutputParser()\n",
    "\n",
    "\n",
    "# Run\n",
    "docs = retriever.invoke(rewritten_question)\n",
    "generation = rag_chain.invoke({\"context\": docs, \"question\": rewritten_question})\n",
    "print(f\"Answer: {generation} \\n\\nSources: {[doc.metadata['source'] for doc in docs]}\")"
   ]
  },
  {
   "cell_type": "markdown",
   "id": "867d296a-3feb-4b9d-ab52-5f63f55d9161",
   "metadata": {},
   "source": [
    "## 2.2 Setting Up the Hallucination Grader\n",
    "To ensure that generated answers are grounded in retrieved documents, use a hallucination grader. This grader assesses whether the answer is supported by the provided facts.\n",
    "\n",
    "Define a prompt using PromptTemplate to instruct the LLM to output a binary 'yes' or 'no' score in JSON, indicating if the answer is grounded in the documents.\n",
    "\n",
    "Invoke the grader with the generated answer and documents to validate the accuracy.\n",
    "\n",
    "Incorporating this grader helps maintain the factual accuracy of the RAG agent's responses, ensuring high-quality outputs."
   ]
  },
  {
   "cell_type": "code",
   "execution_count": 79,
   "id": "a0c60022-1d76-4828-be7d-fbbfe88e93e9",
   "metadata": {},
   "outputs": [
    {
     "name": "stderr",
     "output_type": "stream",
     "text": [
      "Error in LangChainTracer.on_llm_end callback: TracerException('No indexed run ID 43ee3b8d-83c4-4e76-8392-cc3209a2483b.')\n"
     ]
    },
    {
     "data": {
      "text/plain": [
       "{'score': 'yes'}"
      ]
     },
     "execution_count": 79,
     "metadata": {},
     "output_type": "execute_result"
    }
   ],
   "source": [
    "### Hallucination Grader using CLaude 3\n",
    "from langchain.callbacks.base import BaseCallbackHandler\n",
    "\n",
    "class MyCustomHandler(BaseCallbackHandler):\n",
    "    def on_llm_end(self, response, **kwargs):\n",
    "        print(f\"Response: {response}\")\n",
    "        \n",
    "# Prompt\n",
    "prompt = PromptTemplate(\n",
    "    template=\"\"\" <|begin_of_text|><|start_header_id|>system<|end_header_id|> You are a grader assessing whether\n",
    "    an answer is grounded in / supported by a set of facts. Give a binary score 'yes' or 'no' score to indicate\n",
    "    whether the answer is grounded in / supported by a set of facts. Provide the binary score as a JSON with a\n",
    "    single key 'score' and no preamble or explanation. <|eot_id|><|start_header_id|>user<|end_header_id|>\n",
    "    Here are the facts:\n",
    "    \\n ------- \\n\n",
    "    {documents}\n",
    "    \\n ------- \\n\n",
    "    Here is the answer: {generation}  <|eot_id|><|start_header_id|>assistant<|end_header_id|>\"\"\",\n",
    "    input_variables=[\"generation\", \"documents\"],\n",
    ")\n",
    "\n",
    "c3_template = \"\"\"You are a grader assessing whether an answer is grounded in supported by a set of facts. \n",
    "    Give a binary score 'yes' or 'no' score to indicate whether the answer is grounded in supported by a \n",
    "    set of facts. Provide the binary score as a JSON with a single key 'score' and no preamble or explanation.\n",
    "    \n",
    "    {documents} \n",
    "    \n",
    "    Here is the answer: {generation}\"\"\"\n",
    "c3_prompt = ChatPromptTemplate.from_template(c3_template)\n",
    "\n",
    "# Grade by a diff model in this case Claude 3\n",
    "hallucination_grader = prompt | llm  | JsonOutputParser() \n",
    "#hallucination_grader = c3_prompt | llm_c3 | JsonOutputParser()\n",
    "hallucination_grader.invoke({\"documents\": docs, \"generation\": rewritten_question, \"callbacks\": [MyCustomHandler()]})"
   ]
  },
  {
   "cell_type": "markdown",
   "id": "1994d66b-d76c-41a4-b1ab-230225f8de3d",
   "metadata": {},
   "source": [
    "### 2.3 Establishing the Answer Grader\n",
    "To ensure answers are helpful and resolve the user's question, use an answer grader.\n",
    "\n",
    "Define a prompt with PromptTemplate that directs the LLM to output a binary 'yes' or 'no' score, indicating the answer's usefulness.\n",
    "\n",
    "Invoke the grader with the generated answer and user question to validate the relevance.\n",
    "\n",
    "This step ensures the RAG agent produces not only accurate but also helpful and relevant responses."
   ]
  },
  {
   "cell_type": "code",
   "execution_count": 80,
   "id": "676a3192-6cf2-4a76-a3ca-c4fa96d6a3d3",
   "metadata": {},
   "outputs": [
    {
     "name": "stderr",
     "output_type": "stream",
     "text": [
      "Error in LangChainTracer.on_llm_end callback: TracerException('No indexed run ID b36e61d4-7708-4d0c-b173-94fae3a1585d.')\n"
     ]
    },
    {
     "data": {
      "text/plain": [
       "{'score': 'no'}"
      ]
     },
     "execution_count": 80,
     "metadata": {},
     "output_type": "execute_result"
    }
   ],
   "source": [
    "### Answer Grader for usefulness using Claude 3\n",
    "\n",
    "# Prompt\n",
    "prompt = PromptTemplate(\n",
    "    template=\"\"\"<|begin_of_text|><|start_header_id|>system<|end_header_id|> You are a grader assessing whether an\n",
    "    answer is useful to resolve a question. Give a binary score 'yes' or 'no' to indicate whether the answer is\n",
    "    useful to resolve a question. Provide the binary score as a JSON with a single key 'score' and no preamble or explanation.\n",
    "     <|eot_id|><|start_header_id|>user<|end_header_id|> Here is the answer:\n",
    "    \\n ------- \\n\n",
    "    {generation}\n",
    "    \\n ------- \\n\n",
    "    Here is the question: {question} <|eot_id|><|start_header_id|>assistant<|end_header_id|>\"\"\",\n",
    "    input_variables=[\"generation\", \"question\"],\n",
    ")\n",
    "\n",
    "c3_template = \"\"\"You are a grader assessing whether an\n",
    "    answer is useful to resolve a question. Give a binary score 'yes' or 'no' to indicate whether the answer is\n",
    "    useful to resolve a question. Provide the binary score as a JSON with a single key 'score' and no preamble or explanation.\n",
    "    Here is the answer:\n",
    "    \n",
    "    {generation} \n",
    "    \n",
    "    Here is the question: {question} \"\"\"\n",
    "c3_prompt = ChatPromptTemplate.from_template(c3_template)\n",
    "\n",
    "answer_grader = prompt | llm | JsonOutputParser()\n",
    "#answer_grader = c3_prompt | llm_c3 | JsonOutputParser()\n",
    "answer_grader.invoke({\"question\": rewritten_question, \"generation\": generation})"
   ]
  },
  {
   "cell_type": "markdown",
   "id": "42541b17-5672-4ccf-8532-08b3471c3df1",
   "metadata": {},
   "source": [
    "### 2.4 Creating the Router\n",
    "The router decides whether to direct the question to document retrieval or perform a web search.\n",
    "\n",
    "Use PromptTemplate to instruct the LLM to make this decision based on the question's relevance to predefined topics.\n",
    "\n",
    "Invoke the router with the user question and route accordingly.\n",
    "\n",
    "Efficient routing ensures the most appropriate and effective method is used for each question, optimizing the RAG agent's performance.\n",
    "\n",
    "The following prompt template has the topics of the knowledge base hard coded. Ideally, we would add metadata fields containing the topic of each document that we add to our vector store to be able to dynamically expand the correct topics so that the router is up to date."
   ]
  },
  {
   "cell_type": "markdown",
   "id": "b9d7c5d4-f6f9-4654-a1cc-178044ecabab",
   "metadata": {},
   "source": [
    "### 2.1 Generating Answers\n",
    "Using PromptTemplate from LangChain, we create a prompt for the assistant to answer questions concisely, utilizing retrieved context.\n",
    "\n",
    "The prompt converts the user's question and relevant documents into an input format for the language model. The resulting answer is processed and returned.\n",
    "\n",
    "Here's the process:\n",
    "\n",
    "Define the prompt template.\n",
    "Format the documents as context.\n",
    "Chain the prompt, LLM, and output parser to generate the response.\n",
    "By integrating this chain, the RAG agent generates accurate, concise answers based on the retrieved context."
   ]
  },
  {
   "cell_type": "code",
   "execution_count": 82,
   "id": "f9eeea03-b4e6-4788-8fba-3464e6835980",
   "metadata": {},
   "outputs": [
    {
     "name": "stdout",
     "output_type": "stream",
     "text": [
      "{'datasource': 'web_search'}\n"
     ]
    }
   ],
   "source": [
    "### Router\n",
    "\n",
    "# Topics should be dynamically fetched and updated whenever a new topic gets put in the vector store\n",
    "topics = [\"LLM Agents, Prompt Engineering, Adversarial Attacks on LLMs\"]\n",
    "\n",
    "prompt = PromptTemplate(\n",
    "    template=f\"\"\"<|begin_of_text|><|start_header_id|>system<|end_header_id|> You are an expert at routing a\n",
    "    user question to a vectorstore or web search. Use the vectorstore for questions on the following topics: {', '.join(topics)}. You do not need to be stringent with the keywords\n",
    "    in the question related to these topics. Otherwise, use web-search. Give a binary choice 'web_search'\n",
    "    or 'vectorstore' based on the question. Return the a JSON with a single key 'datasource' and\n",
    "    no premable or explaination. Question to route: {rewritten_question} <|eot_id|><|start_header_id|>assistant<|end_header_id|>\"\"\",\n",
    "    input_variables=[\"rewritten_question\"],\n",
    ")\n",
    "\n",
    "c3_template = f\"\"\"You are an expert at routing a\n",
    "    user question to a vectorstore or web search. Use the vectorstore for questions on the following topics: {', '.join(topics)}. You do not need to be stringent with the keywords\n",
    "    in the question related to these topics. Otherwise, use web-search. Give a binary choice 'web_search'\n",
    "    or 'vectorstore' based on the question. Return the a JSON with a single key 'datasource' and\n",
    "    no premable or explaination.\n",
    "    \n",
    "    \n",
    "    Question to route: {rewritten_question} \"\"\"\n",
    "c3_prompt = ChatPromptTemplate.from_template(c3_template)\n",
    "\n",
    "#question_router = prompt | llm | JsonOutputParser()\n",
    "question_router = c3_prompt | llm_c3 | JsonOutputParser()\n",
    "\n",
    "docs = retriever.get_relevant_documents(rewritten_question)\n",
    "doc_txt = docs[1].page_content\n",
    "print(question_router.invoke({\"question\": rewritten_question}))"
   ]
  },
  {
   "cell_type": "markdown",
   "id": "b9362585-bbf7-4f7f-8a87-e966e8cdecd6",
   "metadata": {},
   "source": [
    "### 2.5 Integrating Web Search with Tavily\n",
    "Set up environmental variables for the Tavily API and initialize the TavilySearchResults tool.\n",
    "\n",
    "When necessary, perform a web search to gather additional documents. Invoke the tool with the user query and append the results to the existing documents.\n",
    "\n",
    "Integrating web search complements the document retrieval system, covering a broader range of information for generating responses."
   ]
  },
  {
   "cell_type": "code",
   "execution_count": 83,
   "id": "cbd0b7eb-a5d6-48a1-9b05-b940bd07f23d",
   "metadata": {},
   "outputs": [],
   "source": [
    "### Search\n",
    "from langchain_community.tools.tavily_search import TavilySearchResults\n",
    "\n",
    "web_search_tool = TavilySearchResults(k=3)"
   ]
  },
  {
   "cell_type": "markdown",
   "id": "7a1daba9-49a0-4e02-a94a-1f48a5a6ca42",
   "metadata": {},
   "source": [
    "## 3. Defining the Control Flow with LangGraph Nodes and Edges\n",
    "Implement nodes representing key actions: document retrieval, document grading, web search, and answer generation.\n",
    "\n",
    "Define conditional edges for decision-making: route the question, decide on document relevance, and grade the generated answer.\n",
    "\n",
    "Set up the workflow graph with entry points, nodes, and edges to ensure a logical progression through the RAG agent's steps."
   ]
  },
  {
   "cell_type": "code",
   "execution_count": 85,
   "id": "629fc518-a0ab-4afa-a0d4-a882edd086b4",
   "metadata": {},
   "outputs": [],
   "source": [
    "from typing_extensions import TypedDict\n",
    "from typing import List\n",
    "import operator\n",
    "from langgraph.graph import END, StateGraph\n",
    "from langchain.schema import Document\n",
    "#from langchain_core.tools import tool\n",
    "from typing import TypedDict, Annotated, Sequence\n",
    "from langchain_core.messages import BaseMessage\n",
    "\n",
    "### State\n",
    "class GraphState(TypedDict):\n",
    "    \"\"\"\n",
    "    Represents the state of our graph.\n",
    "    Attributes:\n",
    "        question: question\n",
    "        generation: LLM generation\n",
    "        web_search: whether to add search\n",
    "        documents: list of documents\n",
    "    \"\"\"\n",
    "    question: str\n",
    "    generation: str\n",
    "    web_search: str\n",
    "    documents: List[str]\n",
    "\n",
    "# Define AgentState Class\n",
    "class AgentState(TypedDict):\n",
    "    messages: Annotated[Sequence[BaseMessage], operator.add]\n",
    "\n",
    "### Nodes\n",
    "\n",
    "def rewrite_question(state):\n",
    "    \"\"\"\n",
    "   REwrite question from query to match domain expert\n",
    "    Args:\n",
    "        question (str): The user query\n",
    "    Returns:\n",
    "        promt (str): rewrite question to form an expert prompt\n",
    "    \"\"\"\n",
    "    print(\"---REWRITE QUESTION---\")\n",
    "    question = state[\"question\"]\n",
    "    # Retrieval\n",
    "    question =  rewritten_chain.invoke({\"question\": question})\n",
    "    print(question)\n",
    "    return question\n",
    "\n",
    "def retrieve(state):\n",
    "    \"\"\"\n",
    "    Retrieve documents from vectorstore\n",
    "    Args:\n",
    "        state (dict): The current graph state\n",
    "    Returns:\n",
    "        state (dict): New key added to state, documents, that contains retrieved documents\n",
    "    \"\"\"\n",
    "    print(\"---RETRIEVE---\")\n",
    "    question = state[\"question\"]\n",
    "    # Retrieval\n",
    "    documents = retriever.invoke(question)\n",
    "    return {\"documents\": documents, \"question\": question}\n",
    "\n",
    "\n",
    "def generate(state):\n",
    "    \"\"\"\n",
    "    Generate answer using RAG on retrieved documents\n",
    "    Args:\n",
    "        state (dict): The current graph state\n",
    "    Returns:\n",
    "        state (dict): New key added to state, generation, that contains LLM generation\n",
    "    \"\"\"\n",
    "    print(\"---GENERATE---\")\n",
    "    question = state[\"question\"]\n",
    "    documents = state[\"documents\"]\n",
    "    # RAG generation\n",
    "    generation = rag_chain.invoke({\"context\": documents, \"question\": question})\n",
    "    return {\"documents\": documents, \"question\": question, \"generation\": generation}\n",
    "\n",
    "\n",
    "def grade_documents(state):\n",
    "    \"\"\"\n",
    "    Determines whether the retrieved documents are relevant to the question\n",
    "    If any document is not relevant, we will set a flag to run web search\n",
    "    Args:\n",
    "        state (dict): The current graph state\n",
    "    Returns:\n",
    "        state (dict): Filtered out irrelevant documents and updated web_search state\n",
    "    \"\"\"\n",
    "    print(\"---CHECK DOCUMENT RELEVANCE TO QUESTION---\")\n",
    "    question = state[\"question\"]\n",
    "    documents = state[\"documents\"]\n",
    "    # Score each doc\n",
    "    filtered_docs = []\n",
    "    web_search = \"No\"\n",
    "    for d in documents:\n",
    "        score = retrieval_grader.invoke(\n",
    "            {\"question\": question, \"document\": d.page_content}\n",
    "        )\n",
    "        grade = score[\"score\"]\n",
    "        # Document relevant\n",
    "        if grade.lower() == \"yes\":\n",
    "            print(\"---GRADE: DOCUMENT RELEVANT---\")\n",
    "            filtered_docs.append(d)\n",
    "        # Document not relevant\n",
    "        else:\n",
    "            print(\"---GRADE: DOCUMENT NOT RELEVANT---\")\n",
    "            # We do not include the document in filtered_docs\n",
    "            # We set a flag to indicate that we want to run web search\n",
    "            web_search = \"Yes\"\n",
    "            continue\n",
    "    return {\"documents\": filtered_docs, \"question\": question, \"web_search\": web_search}\n",
    "\n",
    "\n",
    "def web_search(state):\n",
    "    \"\"\"\n",
    "    Web search based based on the question\n",
    "    Args:\n",
    "        state (dict): The current graph state\n",
    "    Returns:\n",
    "        state (dict): Appended web results to documents\n",
    "    \"\"\"\n",
    "    print(\"---WEB SEARCH---\")\n",
    "    question = state[\"question\"]\n",
    "    documents = state[\"documents\"]\n",
    "    # Web search\n",
    "    docs = web_search_tool.invoke({\"query\": question})\n",
    "    web_results = \"\\n\".join([d[\"content\"] for d in docs])\n",
    "    web_urls = \"\\n\".join([d[\"url\"] for d in docs])\n",
    "    web_results += web_urls\n",
    "    web_results = Document(page_content=web_results)\n",
    "    if documents is not None:\n",
    "        documents.append(web_results)\n",
    "    else:\n",
    "        documents = [web_results]\n",
    "    return {\"documents\": documents, \"question\": question}\n",
    "\n",
    "### Conditional edge\n",
    "def route_question(state):\n",
    "    \"\"\"\n",
    "    Route question to web search or RAG.\n",
    "    Args:\n",
    "        state (dict): The current graph state\n",
    "    Returns:\n",
    "        str: Next node to call\n",
    "    \"\"\"\n",
    "    print(\"---ROUTE QUESTION---\")\n",
    "    question = state[\"question\"]\n",
    "    print(question)\n",
    "    source = question_router.invoke({\"question\": question})\n",
    "    print(source)\n",
    "    print(source[\"datasource\"])\n",
    "    if source[\"datasource\"] == \"web_search\":\n",
    "        print(\"---ROUTE QUESTION TO WEB SEARCH---\")\n",
    "        return \"websearch\"\n",
    "    elif source[\"datasource\"] == \"vectorstore\":\n",
    "        print(\"---ROUTE QUESTION TO RAG---\")\n",
    "        return \"vectorstore\"\n",
    "\n",
    "\n",
    "def decide_to_generate(state):\n",
    "    \"\"\"\n",
    "    Determines whether to generate an answer, or add web search\n",
    "    Args:\n",
    "        state (dict): The current graph state\n",
    "    Returns:\n",
    "        str: Binary decision for next node to call\n",
    "    \"\"\"\n",
    "    print(\"---ASSESS GRADED DOCUMENTS---\")\n",
    "    question = state[\"question\"]\n",
    "    web_search = state[\"web_search\"]\n",
    "    filtered_documents = state[\"documents\"]\n",
    "    if web_search == \"Yes\":\n",
    "        # All documents have been filtered check_relevance\n",
    "        # We will re-generate a new query\n",
    "        print(\n",
    "            \"---DECISION: ALL DOCUMENTS ARE NOT RELEVANT TO QUESTION, INCLUDE WEB SEARCH---\"\n",
    "        )\n",
    "        return \"websearch\"\n",
    "    else:\n",
    "        # We have relevant documents, so generate answer\n",
    "        print(\"---DECISION: GENERATE---\")\n",
    "        return \"generate\"\n",
    "\n",
    "### Conditional edge\n",
    "def grade_generation_v_documents_and_question(state):\n",
    "    \"\"\"\n",
    "    Determines whether the generation is grounded in the document and answers question.\n",
    "    Args:\n",
    "        state (dict): The current graph state\n",
    "    Returns:\n",
    "        str: Decision for next node to call\n",
    "    \"\"\"\n",
    "    print(\"---CHECK HALLUCINATIONS---\")\n",
    "    question = state[\"question\"]\n",
    "    documents = state[\"documents\"]\n",
    "    generation = state[\"generation\"]\n",
    "    score = hallucination_grader.invoke(\n",
    "        {\"documents\": documents, \"generation\": generation}\n",
    "    )\n",
    "    grade = score[\"score\"]\n",
    "    # Check hallucination\n",
    "    if grade == \"yes\":\n",
    "        print(\"---DECISION: GENERATION IS GROUNDED IN DOCUMENTS---\")\n",
    "        # Check question-answering\n",
    "        print(\"---GRADE GENERATION vs QUESTION---\")\n",
    "        score = answer_grader.invoke({\"question\": question, \"generation\": generation})\n",
    "        grade = score[\"score\"]\n",
    "        if grade == \"yes\":\n",
    "            print(\"---DECISION: GENERATION ADDRESSES QUESTION---\")\n",
    "            return \"useful\"\n",
    "        else:\n",
    "            print(\"---DECISION: GENERATION DOES NOT ADDRESS QUESTION---\")\n",
    "            return \"not useful\"\n",
    "    else:\n",
    "        pprint(\"---DECISION: GENERATION IS NOT GROUNDED IN DOCUMENTS, RE-TRY---\")\n",
    "        return \"not supported\"\n",
    "\n",
    "## scrape content from an url\n",
    "\n",
    "def scrape_webpages(urls: List[str]) -> str:\n",
    "    \"\"\"Use requests and bs4 to scrape the provided web pages for detailed information.\"\"\"\n",
    "    loader = WebBaseLoader(urls)\n",
    "    docs = loader.load()\n",
    "    return \"\\n\\n\".join(\n",
    "        [\n",
    "            f'<Document name=\"{doc.metadata.get(\"title\", \"\")}\">\\n{doc.page_content}\\n</Document>'\n",
    "            for doc in docs\n",
    "        ]\n",
    "    )\n",
    "    \n",
    "\n",
    "workflow = StateGraph(GraphState)\n",
    "# Define the nodes\n",
    "#workflow.add_node(\"rewrite_question\", rewrite_question) # rewrite question\n",
    "workflow.add_node(\"websearch\", web_search)  # web search\n",
    "workflow.add_node(\"retrieve\", retrieve)  # retrieve\n",
    "workflow.add_node(\"grade_documents\", grade_documents)  # grade documents\n",
    "workflow.add_node(\"generate\", generate)  # generatae"
   ]
  },
  {
   "cell_type": "markdown",
   "id": "a73bbd96-15fa-4ca3-8ae7-02d9c207389f",
   "metadata": {},
   "source": [
    "### 3.1 Control flow\n",
    "Designing the control flow as a structured graph ensures a coherent and efficient pipeline for the RAG agent's operations."
   ]
  },
  {
   "cell_type": "code",
   "execution_count": 86,
   "id": "d9b1a091-68e5-4fb2-b639-b6267ac8b451",
   "metadata": {},
   "outputs": [],
   "source": [
    "# Build graph\n",
    "workflow.set_conditional_entry_point(\n",
    "    route_question,\n",
    "    {\n",
    "        \"websearch\": \"websearch\",\n",
    "        \"vectorstore\": \"retrieve\",\n",
    "    },\n",
    ")\n",
    "workflow.add_edge(\"retrieve\", \"grade_documents\")\n",
    "workflow.add_conditional_edges(\n",
    "    \"grade_documents\",\n",
    "    decide_to_generate,\n",
    "    {\n",
    "        \"websearch\": \"websearch\",\n",
    "        \"generate\": \"generate\",\n",
    "    },\n",
    ")\n",
    "workflow.add_edge(\"websearch\", \"generate\")\n",
    "workflow.add_conditional_edges(\n",
    "    \"generate\",\n",
    "    grade_generation_v_documents_and_question,\n",
    "    {\n",
    "        \"not supported\": \"generate\",\n",
    "        \"useful\": END,\n",
    "        \"not useful\": \"websearch\",\n",
    "    },\n",
    ")"
   ]
  },
  {
   "cell_type": "markdown",
   "id": "c4a5f9b7-f0dd-491b-b58f-e30255a78d93",
   "metadata": {},
   "source": [
    "### 3.2  Compiling and Testing the Workflow\n",
    "Compile the LangGraph workflow and test it with sample inputs.\n",
    "\n",
    "Provide questions to the compiled application and track the output through each step.\n",
    "\n",
    "Debug and refine based on the results to ensure the RAG agent performs as expected and delivers accurate and relevant answers.\n",
    "\n",
    "Compiling and iterative testing ensure the RAG agent meets quality and performance standards before deployment."
   ]
  },
  {
   "cell_type": "code",
   "execution_count": 87,
   "id": "5dbc6b9a-7bf2-4533-98b1-8aa735397cc1",
   "metadata": {},
   "outputs": [
    {
     "name": "stdout",
     "output_type": "stream",
     "text": [
      "---ROUTE QUESTION---\n",
      "Explain what are typical symptoms for patient With SDHB Mutation?\n",
      "{'datasource': 'web_search'}\n",
      "web_search\n",
      "---ROUTE QUESTION TO WEB SEARCH---\n",
      "---WEB SEARCH---\n",
      "'Finished running: websearch:'\n",
      "---GENERATE---\n",
      "'Finished running: generate:'\n",
      "---CHECK HALLUCINATIONS---\n"
     ]
    },
    {
     "name": "stderr",
     "output_type": "stream",
     "text": [
      "Error in LangChainTracer.on_llm_end callback: TracerException('No indexed run ID 37de680f-23d0-4ab1-bbee-1b87336809cf.')\n"
     ]
    },
    {
     "name": "stdout",
     "output_type": "stream",
     "text": [
      "---DECISION: GENERATION IS GROUNDED IN DOCUMENTS---\n",
      "---GRADE GENERATION vs QUESTION---\n"
     ]
    },
    {
     "name": "stderr",
     "output_type": "stream",
     "text": [
      "Error in LangChainTracer.on_llm_end callback: TracerException('No indexed run ID e3b6637d-19e3-4f26-abc0-86d6df954ed4.')\n"
     ]
    },
    {
     "name": "stdout",
     "output_type": "stream",
     "text": [
      "---DECISION: GENERATION ADDRESSES QUESTION---\n",
      "'Finished running: __end__:'\n",
      "('Patients with SDHB gene mutations have an increased risk of developing '\n",
      " 'paraganglioma, phaeochromocytoma, and renal cell cancer. Typical symptoms '\n",
      " 'may include high blood pressure, headaches, sweating, and abdominal pain due '\n",
      " 'to the presence of these tumors. It is important for individuals with SDHB '\n",
      " 'mutations to undergo regular screening and monitoring for early detection of '\n",
      " 'these cancers.')\n"
     ]
    }
   ],
   "source": [
    "# Compile\n",
    "app = workflow.compile()\n",
    "\n",
    "# Test\n",
    "from pprint import pprint\n",
    "inputs = {\"question\": original_question}\n",
    "for output in app.stream(inputs):\n",
    "    for key, value in output.items():\n",
    "        pprint(f\"Finished running: {key}:\")\n",
    "pprint(value[\"generation\"])"
   ]
  },
  {
   "cell_type": "markdown",
   "id": "450ef9c0-e1ad-4bb2-90d5-a5a44a7182ee",
   "metadata": {},
   "source": [
    "### 3.3 Testing the WebSearch\n",
    "For a test on the web search, we utilize the question, \"Who are the Bears expected to draft first in the NFL draft?\". As this request needs up-to-date information and should not be based on the knowledge base, we expect it to go directly to a web search."
   ]
  },
  {
   "cell_type": "code",
   "execution_count": 88,
   "id": "ef2d3f0f-2453-4fd6-aa7d-e8f5ad32c574",
   "metadata": {},
   "outputs": [
    {
     "name": "stdout",
     "output_type": "stream",
     "text": [
      "---ROUTE QUESTION---\n",
      "What are the most commonly reported clinical manifestations and associated symptoms observed in patients diagnosed with succinate dehydrogenase subunit B (SDHB) gene mutations, which are known to predispose individuals to the development of various neuroendocrine tumors and paragangliomas?\n",
      "{'datasource': 'web_search'}\n",
      "web_search\n",
      "---ROUTE QUESTION TO WEB SEARCH---\n",
      "---WEB SEARCH---\n",
      "'Finished running: websearch:'\n",
      "---GENERATE---\n",
      "'Finished running: generate:'\n",
      "---CHECK HALLUCINATIONS---\n"
     ]
    },
    {
     "name": "stderr",
     "output_type": "stream",
     "text": [
      "Error in LangChainTracer.on_llm_end callback: TracerException('No indexed run ID 482a3313-2ba3-4d98-93d3-8571b0799051.')\n"
     ]
    },
    {
     "name": "stdout",
     "output_type": "stream",
     "text": [
      "---DECISION: GENERATION IS GROUNDED IN DOCUMENTS---\n",
      "---GRADE GENERATION vs QUESTION---\n"
     ]
    },
    {
     "name": "stderr",
     "output_type": "stream",
     "text": [
      "Error in LangChainTracer.on_llm_end callback: TracerException('No indexed run ID 9daf5436-3c65-4b1f-b0b0-9084d5fee039.')\n"
     ]
    },
    {
     "name": "stdout",
     "output_type": "stream",
     "text": [
      "---DECISION: GENERATION ADDRESSES QUESTION---\n",
      "'Finished running: __end__:'\n",
      "('The most commonly reported clinical manifestations and associated symptoms '\n",
      " 'observed in patients diagnosed with succinate dehydrogenase subunit B (SDHB) '\n",
      " 'gene mutations include locally aggressive, recurrent or metastatic '\n",
      " 'pheochromocytomas and paragangliomas. These tumors originate from neural '\n",
      " 'crest-derived neuroendocrine cells and can be highly vascular. Patients may '\n",
      " 'experience symptoms related to excess catecholamine secretion, such as '\n",
      " 'hypertension, palpitations, and sweating.')\n"
     ]
    }
   ],
   "source": [
    "inputs = {\"question\": rewritten_question}\n",
    "for output in app.stream(inputs):\n",
    "    for key, value in output.items():\n",
    "        pprint(f\"Finished running: {key}:\")\n",
    "pprint(value[\"generation\"])"
   ]
  },
  {
   "cell_type": "markdown",
   "id": "c4183c2d-dec2-4f30-9d2d-4621a5d5ecc8",
   "metadata": {},
   "source": [
    "### 3.4 Further Improvements\n",
    "If you look to improve the above code further, here are a few suggestions:\n",
    "\n",
    "* Expand the Web Search Capabilities\n",
    "Currently, the web search capabilities only use the Tavily-AI Langchain tool, although Tavily AI has much more functionality to offer. You can, for example, include and exclude certain domains and websites, add the current date to target a specific timeframe of the results, and include a generic search on Google or DuckDuckGo to complement the Tavily-AI search.\n",
    "\n",
    "* Retrieve the topics dynamically\n",
    "We hard-code the topics represented in our knowledge base. If we know the topics ahead of time, this is a perfectly valid approach. However, for more fine-grained retrieval, we should consider including vector metadata in our vector store.\n",
    "\n",
    "* Change the knowledge base to a more scaleable option\n",
    "As the chromaDB vector store is running on our local instance, we have a scalability limit that is imposed upon us. We can use products like Pinecone or Amazon OpenSearch, just to name a few.\n",
    "Langgraph\n",
    "Langchain\n",
    "Agents\n",
    "Bedrock\n"
   ]
  },
  {
   "cell_type": "markdown",
   "id": "713194df-d2ff-4a99-95d8-0c316558a475",
   "metadata": {},
   "source": [
    "### 4. Display the graph"
   ]
  },
  {
   "cell_type": "code",
   "execution_count": 89,
   "id": "9de67fe0-b576-4f0f-9a65-8229e50600df",
   "metadata": {},
   "outputs": [
    {
     "data": {
      "image/jpeg": "[encoded data removed]",
      "text/plain": [
       "<IPython.core.display.Image object>"
      ]
     },
     "metadata": {},
     "output_type": "display_data"
    }
   ],
   "source": [
    "from IPython.display import Image, display\n",
    "from langchain_core.runnables.graph import CurveStyle, NodeColors, MermaidDrawMethod\n",
    "\n",
    "\n",
    "display(Image(app.get_graph().draw_mermaid_png(\n",
    "    curve_style=CurveStyle.LINEAR,\n",
    "    node_colors=NodeColors(start=\"#ffdfba\", end=\"#baffc9\", other=\"#fad7de\"),\n",
    "    wrap_label_n_words=9,\n",
    "    output_file_path=None,\n",
    "    draw_method=MermaidDrawMethod.API,\n",
    "    background_color=\"white\",\n",
    "    padding=20,\n",
    ")))"
   ]
  },
  {
   "cell_type": "code",
   "execution_count": null,
   "id": "e8d04454-33ab-4575-8878-d4460ea94f0c",
   "metadata": {},
   "outputs": [],
   "source": []
  }
 ],
 "metadata": {
  "kernelspec": {
   "display_name": "dui",
   "language": "python",
   "name": "dui"
  },
  "language_info": {
   "codemirror_mode": {
    "name": "ipython",
    "version": 3
   },
   "file_extension": ".py",
   "mimetype": "text/x-python",
   "name": "python",
   "nbconvert_exporter": "python",
   "pygments_lexer": "ipython3",
   "version": "3.11.5"
  }
 },
 "nbformat": 4,
 "nbformat_minor": 5
}
