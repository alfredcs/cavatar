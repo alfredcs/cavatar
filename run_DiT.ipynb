{
  "cells": [
    {
      "cell_type": "markdown",
      "metadata": {
        "id": "355UKMUQJxFd"
      },
      "source": [
        "# Scalable Diffusion Models with Transformer (DiT)\n",
        "\n",
        "This notebook samples from pre-trained DiT models. DiTs are class-conditional latent diffusion models trained on ImageNet that use transformers in place of U-Nets as the DDPM backbone. DiT outperforms all prior diffusion models on the ImageNet benchmarks.\n",
        "\n",
        "[Project Page](https://www.wpeebles.com/DiT) | [HuggingFace Space](https://huggingface.co/spaces/wpeebles/DiT) | [Paper](http://arxiv.org/abs/2212.09748) | [GitHub](github.com/facebookresearch/DiT)"
      ]
    },
    {
      "cell_type": "markdown",
      "metadata": {
        "id": "zJlgLkSaKn7u"
      },
      "source": [
        "# 1. Setup\n",
        "\n",
        "We recommend using GPUs (Runtime > Change runtime type > Hardware accelerator > GPU). Run this cell to clone the DiT GitHub repo and setup PyTorch. You only have to run this once."
      ]
    },
    {
      "cell_type": "code",
      "execution_count": 1,
      "metadata": {
        "id": "rme95edIVpBH",
        "outputId": "67a928de-8721-4c62-9b84-5f5c60996b1d",
        "colab": {
          "base_uri": "https://localhost:8080/"
        }
      },
      "outputs": [
        {
          "output_type": "stream",
          "name": "stdout",
          "text": [
            "Cloning into 'DiT'...\n",
            "remote: Enumerating objects: 102, done.\u001b[K\n",
            "remote: Counting objects: 100% (78/78), done.\u001b[K\n",
            "remote: Compressing objects: 100% (41/41), done.\u001b[K\n",
            "remote: Total 102 (delta 55), reused 37 (delta 37), pack-reused 24\u001b[K\n",
            "Receiving objects: 100% (102/102), 6.37 MiB | 25.17 MiB/s, done.\n",
            "Resolving deltas: 100% (56/56), done.\n",
            "Collecting diffusers\n",
            "  Downloading diffusers-0.26.3-py3-none-any.whl (1.9 MB)\n",
            "\u001b[2K     \u001b[90m━━━━━━━━━━━━━━━━━━━━━━━━━━━━━━━━━━━━━━━━\u001b[0m \u001b[32m1.9/1.9 MB\u001b[0m \u001b[31m9.2 MB/s\u001b[0m eta \u001b[36m0:00:00\u001b[0m\n",
            "\u001b[?25hCollecting timm\n",
            "  Downloading timm-0.9.16-py3-none-any.whl (2.2 MB)\n",
            "\u001b[2K     \u001b[90m━━━━━━━━━━━━━━━━━━━━━━━━━━━━━━━━━━━━━━━━\u001b[0m \u001b[32m2.2/2.2 MB\u001b[0m \u001b[31m15.8 MB/s\u001b[0m eta \u001b[36m0:00:00\u001b[0m\n",
            "\u001b[?25hRequirement already satisfied: importlib-metadata in /usr/local/lib/python3.10/dist-packages (from diffusers) (7.0.1)\n",
            "Requirement already satisfied: filelock in /usr/local/lib/python3.10/dist-packages (from diffusers) (3.13.1)\n",
            "Requirement already satisfied: huggingface-hub>=0.20.2 in /usr/local/lib/python3.10/dist-packages (from diffusers) (0.20.3)\n",
            "Requirement already satisfied: numpy in /usr/local/lib/python3.10/dist-packages (from diffusers) (1.25.2)\n",
            "Requirement already satisfied: regex!=2019.12.17 in /usr/local/lib/python3.10/dist-packages (from diffusers) (2023.12.25)\n",
            "Requirement already satisfied: requests in /usr/local/lib/python3.10/dist-packages (from diffusers) (2.31.0)\n",
            "Requirement already satisfied: safetensors>=0.3.1 in /usr/local/lib/python3.10/dist-packages (from diffusers) (0.4.2)\n",
            "Requirement already satisfied: Pillow in /usr/local/lib/python3.10/dist-packages (from diffusers) (9.4.0)\n",
            "Requirement already satisfied: torch in /usr/local/lib/python3.10/dist-packages (from timm) (2.1.0+cu121)\n",
            "Requirement already satisfied: torchvision in /usr/local/lib/python3.10/dist-packages (from timm) (0.16.0+cu121)\n",
            "Requirement already satisfied: pyyaml in /usr/local/lib/python3.10/dist-packages (from timm) (6.0.1)\n",
            "Requirement already satisfied: fsspec>=2023.5.0 in /usr/local/lib/python3.10/dist-packages (from huggingface-hub>=0.20.2->diffusers) (2023.6.0)\n",
            "Requirement already satisfied: tqdm>=4.42.1 in /usr/local/lib/python3.10/dist-packages (from huggingface-hub>=0.20.2->diffusers) (4.66.2)\n",
            "Requirement already satisfied: typing-extensions>=3.7.4.3 in /usr/local/lib/python3.10/dist-packages (from huggingface-hub>=0.20.2->diffusers) (4.10.0)\n",
            "Requirement already satisfied: packaging>=20.9 in /usr/local/lib/python3.10/dist-packages (from huggingface-hub>=0.20.2->diffusers) (23.2)\n",
            "Requirement already satisfied: zipp>=0.5 in /usr/local/lib/python3.10/dist-packages (from importlib-metadata->diffusers) (3.17.0)\n",
            "Requirement already satisfied: charset-normalizer<4,>=2 in /usr/local/lib/python3.10/dist-packages (from requests->diffusers) (3.3.2)\n",
            "Requirement already satisfied: idna<4,>=2.5 in /usr/local/lib/python3.10/dist-packages (from requests->diffusers) (3.6)\n",
            "Requirement already satisfied: urllib3<3,>=1.21.1 in /usr/local/lib/python3.10/dist-packages (from requests->diffusers) (2.0.7)\n",
            "Requirement already satisfied: certifi>=2017.4.17 in /usr/local/lib/python3.10/dist-packages (from requests->diffusers) (2024.2.2)\n",
            "Requirement already satisfied: sympy in /usr/local/lib/python3.10/dist-packages (from torch->timm) (1.12)\n",
            "Requirement already satisfied: networkx in /usr/local/lib/python3.10/dist-packages (from torch->timm) (3.2.1)\n",
            "Requirement already satisfied: jinja2 in /usr/local/lib/python3.10/dist-packages (from torch->timm) (3.1.3)\n",
            "Requirement already satisfied: triton==2.1.0 in /usr/local/lib/python3.10/dist-packages (from torch->timm) (2.1.0)\n",
            "Requirement already satisfied: MarkupSafe>=2.0 in /usr/local/lib/python3.10/dist-packages (from jinja2->torch->timm) (2.1.5)\n",
            "Requirement already satisfied: mpmath>=0.19 in /usr/local/lib/python3.10/dist-packages (from sympy->torch->timm) (1.3.0)\n",
            "Installing collected packages: diffusers, timm\n",
            "Successfully installed diffusers-0.26.3 timm-0.9.16\n",
            "GPU not found. Using CPU instead.\n"
          ]
        }
      ],
      "source": [
        "!git clone https://github.com/facebookresearch/DiT.git\n",
        "import DiT, os\n",
        "os.chdir('DiT')\n",
        "os.environ['PYTHONPATH'] = '/env/python:/content/DiT'\n",
        "!pip install diffusers timm --upgrade\n",
        "# DiT imports:\n",
        "import torch\n",
        "from torchvision.utils import save_image\n",
        "from diffusion import create_diffusion\n",
        "from diffusers.models import AutoencoderKL\n",
        "from download import find_model\n",
        "from models import DiT_XL_2\n",
        "from PIL import Image\n",
        "from IPython.display import display\n",
        "torch.set_grad_enabled(False)\n",
        "device = \"cuda\" if torch.cuda.is_available() else \"cpu\"\n",
        "if device == \"cpu\":\n",
        "    print(\"GPU not found. Using CPU instead.\")"
      ]
    },
    {
      "cell_type": "markdown",
      "metadata": {
        "id": "AXpziRkoOvV9"
      },
      "source": [
        "# Download DiT-XL/2 Models\n",
        "\n",
        "You can choose between a 512x512 model and a 256x256 model. You can swap-out the LDM VAE, too."
      ]
    },
    {
      "cell_type": "code",
      "execution_count": null,
      "metadata": {
        "id": "EWG-WNimO59K"
      },
      "outputs": [],
      "source": [
        "image_size = 256 #@param [256, 512]\n",
        "vae_model = \"stabilityai/sd-vae-ft-ema\" #@param [\"stabilityai/sd-vae-ft-mse\", \"stabilityai/sd-vae-ft-ema\"]\n",
        "latent_size = int(image_size) // 8\n",
        "# Load model:\n",
        "model = DiT_XL_2(input_size=latent_size).to(device)\n",
        "state_dict = find_model(f\"DiT-XL-2-{image_size}x{image_size}.pt\")\n",
        "model.load_state_dict(state_dict)\n",
        "model.eval() # important!\n",
        "vae = AutoencoderKL.from_pretrained(vae_model).to(device)"
      ]
    },
    {
      "cell_type": "markdown",
      "metadata": {
        "id": "5JTNyzNZKb9E"
      },
      "source": [
        "# 2. Sample from Pre-trained DiT Models\n",
        "\n",
        "You can customize several sampling options. For the full list of ImageNet classes, [check out this](https://gist.github.com/yrevar/942d3a0ac09ec9e5eb3a)."
      ]
    },
    {
      "cell_type": "code",
      "execution_count": null,
      "metadata": {
        "id": "-Hw7B5h4Kk4p"
      },
      "outputs": [],
      "source": [
        "# Set user inputs:\n",
        "seed = 0 #@param {type:\"number\"}\n",
        "torch.manual_seed(seed)\n",
        "num_sampling_steps = 250 #@param {type:\"slider\", min:0, max:1000, step:1}\n",
        "cfg_scale = 4 #@param {type:\"slider\", min:1, max:10, step:0.1}\n",
        "class_labels = 207, 360, 387, 974, 88, 979, 417, 279 #@param {type:\"raw\"}\n",
        "samples_per_row = 4 #@param {type:\"number\"}\n",
        "\n",
        "# Create diffusion object:\n",
        "diffusion = create_diffusion(str(num_sampling_steps))\n",
        "\n",
        "# Create sampling noise:\n",
        "n = len(class_labels)\n",
        "z = torch.randn(n, 4, latent_size, latent_size, device=device)\n",
        "y = torch.tensor(class_labels, device=device)\n",
        "\n",
        "# Setup classifier-free guidance:\n",
        "z = torch.cat([z, z], 0)\n",
        "y_null = torch.tensor([1000] * n, device=device)\n",
        "y = torch.cat([y, y_null], 0)\n",
        "model_kwargs = dict(y=y, cfg_scale=cfg_scale)\n",
        "\n",
        "# Sample images:\n",
        "samples = diffusion.p_sample_loop(\n",
        "    model.forward_with_cfg, z.shape, z, clip_denoised=False,\n",
        "    model_kwargs=model_kwargs, progress=True, device=device\n",
        ")\n",
        "samples, _ = samples.chunk(2, dim=0)  # Remove null class samples\n",
        "samples = vae.decode(samples / 0.18215).sample\n",
        "\n",
        "# Save and display images:\n",
        "save_image(samples, \"sample.png\", nrow=int(samples_per_row),\n",
        "           normalize=True, value_range=(-1, 1))\n",
        "samples = Image.open(\"sample.png\")\n",
        "display(samples)"
      ]
    }
  ],
  "metadata": {
    "colab": {
      "provenance": []
    },
    "kernelspec": {
      "display_name": "Python 3.8.10 64-bit",
      "language": "python",
      "name": "python3"
    },
    "language_info": {
      "name": "python",
      "version": "3.8.10"
    },
    "vscode": {
      "interpreter": {
        "hash": "31f2aee4e71d21fbe5cf8b01ff0e069b9275f58929596ceb00d14d90e3e16cd6"
      }
    }
  },
  "nbformat": 4,
  "nbformat_minor": 0
}