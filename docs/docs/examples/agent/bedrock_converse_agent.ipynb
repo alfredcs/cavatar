{
 "cells": [
  {
   "cell_type": "markdown",
   "id": "99cea58c-48bc-4af6-8358-df9695659983",
   "metadata": {
    "id": "99cea58c-48bc-4af6-8358-df9695659983"
   },
   "source": [
    "# Function Calling AWS Bedrock Converse Agent"
   ]
  },
  {
   "cell_type": "markdown",
   "id": "673df1fe-eb6c-46ea-9a73-a96e7ae7942e",
   "metadata": {
    "id": "673df1fe-eb6c-46ea-9a73-a96e7ae7942e"
   },
   "source": [
    "This notebook shows you how to use our AWS Bedrock Converse agent, powered by function calling capabilities."
   ]
  },
  {
   "cell_type": "markdown",
   "id": "54b7bc2e-606f-411a-9490-fcfab9236dfc",
   "metadata": {
    "id": "54b7bc2e-606f-411a-9490-fcfab9236dfc"
   },
   "source": [
    "## Initial Setup"
   ]
  },
  {
   "cell_type": "markdown",
   "id": "23e80e5b-aaee-4f23-b338-7ae62b08141f",
   "metadata": {
    "id": "23e80e5b-aaee-4f23-b338-7ae62b08141f"
   },
   "source": [
    "Let's start by importing some simple building blocks.  \n",
    "\n",
    "The main thing we need is:\n",
    "1. AWS credentials with access to Bedrock and the Claude Haiku LLM\n",
    "2. a place to keep conversation history\n",
    "3. a definition for tools that our agent can use."
   ]
  },
  {
   "cell_type": "markdown",
   "id": "41101795",
   "metadata": {
    "id": "41101795"
   },
   "source": [
    "If you're opening this Notebook on colab, you will probably need to install LlamaIndex 🦙.\n"
   ]
  },
  {
   "cell_type": "code",
   "execution_count": 1,
   "id": "4985c578",
   "metadata": {
    "id": "4985c578",
    "scrolled": true
   },
   "outputs": [
    {
     "name": "stdout",
     "output_type": "stream",
     "text": [
      "Looking in indexes: https://pypi.org/simple, https://pip.repos.neuron.amazonaws.com\n",
      "Collecting llama-index-llms-bedrock-converse\n",
      "  Downloading llama_index_llms_bedrock_converse-0.1.5-py3-none-any.whl.metadata (809 bytes)\n",
      "Collecting aioboto3<14.0.0,>=13.1.1 (from llama-index-llms-bedrock-converse)\n",
      "  Downloading aioboto3-13.1.1-py3-none-any.whl.metadata (8.8 kB)\n",
      "Collecting boto3<2.0.0,>=1.34.122 (from llama-index-llms-bedrock-converse)\n",
      "  Downloading boto3-1.34.146-py3-none-any.whl.metadata (6.6 kB)\n",
      "Requirement already satisfied: llama-index-core<0.11.0,>=0.10.1 in /home/alfred/anaconda3/envs/dui/lib/python3.11/site-packages (from llama-index-llms-bedrock-converse) (0.10.15)\n",
      "Collecting llama-index-llms-anthropic<0.2.0,>=0.1.7 (from llama-index-llms-bedrock-converse)\n",
      "  Downloading llama_index_llms_anthropic-0.1.15-py3-none-any.whl.metadata (690 bytes)\n",
      "Collecting aiobotocore==2.13.1 (from aiobotocore[boto3]==2.13.1->aioboto3<14.0.0,>=13.1.1->llama-index-llms-bedrock-converse)\n",
      "  Using cached aiobotocore-2.13.1-py3-none-any.whl.metadata (22 kB)\n",
      "Requirement already satisfied: aiofiles>=23.2.1 in /home/alfred/anaconda3/envs/dui/lib/python3.11/site-packages (from aioboto3<14.0.0,>=13.1.1->llama-index-llms-bedrock-converse) (23.2.1)\n",
      "Requirement already satisfied: botocore<1.34.132,>=1.34.70 in /home/alfred/anaconda3/envs/dui/lib/python3.11/site-packages (from aiobotocore==2.13.1->aiobotocore[boto3]==2.13.1->aioboto3<14.0.0,>=13.1.1->llama-index-llms-bedrock-converse) (1.34.120)\n",
      "Requirement already satisfied: aiohttp<4.0.0,>=3.9.2 in /home/alfred/anaconda3/envs/dui/lib/python3.11/site-packages (from aiobotocore==2.13.1->aiobotocore[boto3]==2.13.1->aioboto3<14.0.0,>=13.1.1->llama-index-llms-bedrock-converse) (3.9.3)\n",
      "Requirement already satisfied: wrapt<2.0.0,>=1.10.10 in /home/alfred/anaconda3/envs/dui/lib/python3.11/site-packages (from aiobotocore==2.13.1->aiobotocore[boto3]==2.13.1->aioboto3<14.0.0,>=13.1.1->llama-index-llms-bedrock-converse) (1.16.0)\n",
      "Requirement already satisfied: aioitertools<1.0.0,>=0.5.1 in /home/alfred/anaconda3/envs/dui/lib/python3.11/site-packages (from aiobotocore==2.13.1->aiobotocore[boto3]==2.13.1->aioboto3<14.0.0,>=13.1.1->llama-index-llms-bedrock-converse) (0.11.0)\n",
      "Collecting boto3<2.0.0,>=1.34.122 (from llama-index-llms-bedrock-converse)\n",
      "  Downloading boto3-1.34.131-py3-none-any.whl.metadata (6.6 kB)\n",
      "Collecting botocore<1.34.132,>=1.34.70 (from aiobotocore==2.13.1->aiobotocore[boto3]==2.13.1->aioboto3<14.0.0,>=13.1.1->llama-index-llms-bedrock-converse)\n",
      "  Downloading botocore-1.34.131-py3-none-any.whl.metadata (5.7 kB)\n",
      "Requirement already satisfied: jmespath<2.0.0,>=0.7.1 in /home/alfred/anaconda3/envs/dui/lib/python3.11/site-packages (from boto3<2.0.0,>=1.34.122->llama-index-llms-bedrock-converse) (1.0.1)\n",
      "Requirement already satisfied: s3transfer<0.11.0,>=0.10.0 in /home/alfred/anaconda3/envs/dui/lib/python3.11/site-packages (from boto3<2.0.0,>=1.34.122->llama-index-llms-bedrock-converse) (0.10.0)\n",
      "Requirement already satisfied: PyYAML>=6.0.1 in /home/alfred/anaconda3/envs/dui/lib/python3.11/site-packages (from llama-index-core<0.11.0,>=0.10.1->llama-index-llms-bedrock-converse) (6.0.1)\n",
      "Requirement already satisfied: SQLAlchemy>=1.4.49 in /home/alfred/anaconda3/envs/dui/lib/python3.11/site-packages (from SQLAlchemy[asyncio]>=1.4.49->llama-index-core<0.11.0,>=0.10.1->llama-index-llms-bedrock-converse) (2.0.21)\n",
      "Requirement already satisfied: dataclasses-json in /home/alfred/anaconda3/envs/dui/lib/python3.11/site-packages (from llama-index-core<0.11.0,>=0.10.1->llama-index-llms-bedrock-converse) (0.6.4)\n",
      "Requirement already satisfied: deprecated>=1.2.9.3 in /home/alfred/anaconda3/envs/dui/lib/python3.11/site-packages (from llama-index-core<0.11.0,>=0.10.1->llama-index-llms-bedrock-converse) (1.2.14)\n",
      "Requirement already satisfied: dirtyjson<2.0.0,>=1.0.8 in /home/alfred/anaconda3/envs/dui/lib/python3.11/site-packages (from llama-index-core<0.11.0,>=0.10.1->llama-index-llms-bedrock-converse) (1.0.8)\n",
      "Requirement already satisfied: fsspec>=2023.5.0 in /home/alfred/anaconda3/envs/dui/lib/python3.11/site-packages (from llama-index-core<0.11.0,>=0.10.1->llama-index-llms-bedrock-converse) (2024.3.1)\n",
      "Requirement already satisfied: httpx in /home/alfred/anaconda3/envs/dui/lib/python3.11/site-packages (from llama-index-core<0.11.0,>=0.10.1->llama-index-llms-bedrock-converse) (0.27.0)\n",
      "Requirement already satisfied: llamaindex-py-client<0.2.0,>=0.1.13 in /home/alfred/anaconda3/envs/dui/lib/python3.11/site-packages (from llama-index-core<0.11.0,>=0.10.1->llama-index-llms-bedrock-converse) (0.1.13)\n",
      "Requirement already satisfied: nest-asyncio<2.0.0,>=1.5.8 in /home/alfred/anaconda3/envs/dui/lib/python3.11/site-packages (from llama-index-core<0.11.0,>=0.10.1->llama-index-llms-bedrock-converse) (1.6.0)\n",
      "Collecting networkx>=3.0 (from llama-index-core<0.11.0,>=0.10.1->llama-index-llms-bedrock-converse)\n",
      "  Downloading networkx-3.3-py3-none-any.whl.metadata (5.1 kB)\n",
      "Requirement already satisfied: nltk<4.0.0,>=3.8.1 in /home/alfred/anaconda3/envs/dui/lib/python3.11/site-packages (from llama-index-core<0.11.0,>=0.10.1->llama-index-llms-bedrock-converse) (3.8.1)\n",
      "Requirement already satisfied: numpy in /home/alfred/anaconda3/envs/dui/lib/python3.11/site-packages (from llama-index-core<0.11.0,>=0.10.1->llama-index-llms-bedrock-converse) (1.26.4)\n",
      "Requirement already satisfied: openai>=1.1.0 in /home/alfred/anaconda3/envs/dui/lib/python3.11/site-packages (from llama-index-core<0.11.0,>=0.10.1->llama-index-llms-bedrock-converse) (1.35.10)\n",
      "Requirement already satisfied: pandas in /home/alfred/anaconda3/envs/dui/lib/python3.11/site-packages (from llama-index-core<0.11.0,>=0.10.1->llama-index-llms-bedrock-converse) (2.2.2)\n",
      "Requirement already satisfied: pillow>=9.0.0 in /home/alfred/anaconda3/envs/dui/lib/python3.11/site-packages (from llama-index-core<0.11.0,>=0.10.1->llama-index-llms-bedrock-converse) (10.2.0)\n",
      "Requirement already satisfied: requests>=2.31.0 in /home/alfred/anaconda3/envs/dui/lib/python3.11/site-packages (from llama-index-core<0.11.0,>=0.10.1->llama-index-llms-bedrock-converse) (2.32.3)\n",
      "Requirement already satisfied: tenacity<9.0.0,>=8.2.0 in /home/alfred/anaconda3/envs/dui/lib/python3.11/site-packages (from llama-index-core<0.11.0,>=0.10.1->llama-index-llms-bedrock-converse) (8.2.3)\n",
      "Requirement already satisfied: tiktoken>=0.3.3 in /home/alfred/anaconda3/envs/dui/lib/python3.11/site-packages (from llama-index-core<0.11.0,>=0.10.1->llama-index-llms-bedrock-converse) (0.7.0)\n",
      "Requirement already satisfied: tqdm<5.0.0,>=4.66.1 in /home/alfred/anaconda3/envs/dui/lib/python3.11/site-packages (from llama-index-core<0.11.0,>=0.10.1->llama-index-llms-bedrock-converse) (4.66.4)\n",
      "Requirement already satisfied: typing-extensions>=4.5.0 in /home/alfred/anaconda3/envs/dui/lib/python3.11/site-packages (from llama-index-core<0.11.0,>=0.10.1->llama-index-llms-bedrock-converse) (4.12.2)\n",
      "Requirement already satisfied: typing-inspect>=0.8.0 in /home/alfred/anaconda3/envs/dui/lib/python3.11/site-packages (from llama-index-core<0.11.0,>=0.10.1->llama-index-llms-bedrock-converse) (0.9.0)\n",
      "Collecting anthropic<0.29.0,>=0.26.2 (from llama-index-llms-anthropic<0.2.0,>=0.1.7->llama-index-llms-bedrock-converse)\n",
      "  Downloading anthropic-0.28.1-py3-none-any.whl.metadata (18 kB)\n",
      "Requirement already satisfied: aiosignal>=1.1.2 in /home/alfred/anaconda3/envs/dui/lib/python3.11/site-packages (from aiohttp<4.0.0,>=3.9.2->aiobotocore==2.13.1->aiobotocore[boto3]==2.13.1->aioboto3<14.0.0,>=13.1.1->llama-index-llms-bedrock-converse) (1.3.1)\n",
      "Requirement already satisfied: attrs>=17.3.0 in /home/alfred/anaconda3/envs/dui/lib/python3.11/site-packages (from aiohttp<4.0.0,>=3.9.2->aiobotocore==2.13.1->aiobotocore[boto3]==2.13.1->aioboto3<14.0.0,>=13.1.1->llama-index-llms-bedrock-converse) (23.2.0)\n",
      "Requirement already satisfied: frozenlist>=1.1.1 in /home/alfred/anaconda3/envs/dui/lib/python3.11/site-packages (from aiohttp<4.0.0,>=3.9.2->aiobotocore==2.13.1->aiobotocore[boto3]==2.13.1->aioboto3<14.0.0,>=13.1.1->llama-index-llms-bedrock-converse) (1.4.0)\n",
      "Requirement already satisfied: multidict<7.0,>=4.5 in /home/alfred/anaconda3/envs/dui/lib/python3.11/site-packages (from aiohttp<4.0.0,>=3.9.2->aiobotocore==2.13.1->aiobotocore[boto3]==2.13.1->aioboto3<14.0.0,>=13.1.1->llama-index-llms-bedrock-converse) (6.0.4)\n",
      "Requirement already satisfied: yarl<2.0,>=1.0 in /home/alfred/anaconda3/envs/dui/lib/python3.11/site-packages (from aiohttp<4.0.0,>=3.9.2->aiobotocore==2.13.1->aiobotocore[boto3]==2.13.1->aioboto3<14.0.0,>=13.1.1->llama-index-llms-bedrock-converse) (1.9.2)\n",
      "Requirement already satisfied: anyio<5,>=3.5.0 in /home/alfred/anaconda3/envs/dui/lib/python3.11/site-packages (from anthropic<0.29.0,>=0.26.2->llama-index-llms-anthropic<0.2.0,>=0.1.7->llama-index-llms-bedrock-converse) (3.7.1)\n",
      "Requirement already satisfied: distro<2,>=1.7.0 in /home/alfred/anaconda3/envs/dui/lib/python3.11/site-packages (from anthropic<0.29.0,>=0.26.2->llama-index-llms-anthropic<0.2.0,>=0.1.7->llama-index-llms-bedrock-converse) (1.9.0)\n",
      "Collecting jiter<1,>=0.4.0 (from anthropic<0.29.0,>=0.26.2->llama-index-llms-anthropic<0.2.0,>=0.1.7->llama-index-llms-bedrock-converse)\n",
      "  Downloading jiter-0.5.0-cp311-cp311-manylinux_2_17_x86_64.manylinux2014_x86_64.whl.metadata (3.6 kB)\n",
      "Requirement already satisfied: pydantic<3,>=1.9.0 in /home/alfred/anaconda3/envs/dui/lib/python3.11/site-packages (from anthropic<0.29.0,>=0.26.2->llama-index-llms-anthropic<0.2.0,>=0.1.7->llama-index-llms-bedrock-converse) (2.6.3)\n",
      "Requirement already satisfied: sniffio in /home/alfred/anaconda3/envs/dui/lib/python3.11/site-packages (from anthropic<0.29.0,>=0.26.2->llama-index-llms-anthropic<0.2.0,>=0.1.7->llama-index-llms-bedrock-converse) (1.3.0)\n",
      "Requirement already satisfied: tokenizers>=0.13.0 in /home/alfred/anaconda3/envs/dui/lib/python3.11/site-packages (from anthropic<0.29.0,>=0.26.2->llama-index-llms-anthropic<0.2.0,>=0.1.7->llama-index-llms-bedrock-converse) (0.19.1)\n",
      "Requirement already satisfied: python-dateutil<3.0.0,>=2.1 in /home/alfred/anaconda3/envs/dui/lib/python3.11/site-packages (from botocore<1.34.132,>=1.34.70->aiobotocore==2.13.1->aiobotocore[boto3]==2.13.1->aioboto3<14.0.0,>=13.1.1->llama-index-llms-bedrock-converse) (2.9.0.post0)\n",
      "Requirement already satisfied: urllib3!=2.2.0,<3,>=1.25.4 in /home/alfred/anaconda3/envs/dui/lib/python3.11/site-packages (from botocore<1.34.132,>=1.34.70->aiobotocore==2.13.1->aiobotocore[boto3]==2.13.1->aioboto3<14.0.0,>=13.1.1->llama-index-llms-bedrock-converse) (2.2.1)\n",
      "Requirement already satisfied: certifi in /home/alfred/anaconda3/envs/dui/lib/python3.11/site-packages (from httpx->llama-index-core<0.11.0,>=0.10.1->llama-index-llms-bedrock-converse) (2024.6.2)\n",
      "Requirement already satisfied: httpcore==1.* in /home/alfred/anaconda3/envs/dui/lib/python3.11/site-packages (from httpx->llama-index-core<0.11.0,>=0.10.1->llama-index-llms-bedrock-converse) (1.0.2)\n",
      "Requirement already satisfied: idna in /home/alfred/anaconda3/envs/dui/lib/python3.11/site-packages (from httpx->llama-index-core<0.11.0,>=0.10.1->llama-index-llms-bedrock-converse) (3.4)\n",
      "Requirement already satisfied: h11<0.15,>=0.13 in /home/alfred/anaconda3/envs/dui/lib/python3.11/site-packages (from httpcore==1.*->httpx->llama-index-core<0.11.0,>=0.10.1->llama-index-llms-bedrock-converse) (0.14.0)\n",
      "Requirement already satisfied: click in /home/alfred/anaconda3/envs/dui/lib/python3.11/site-packages (from nltk<4.0.0,>=3.8.1->llama-index-core<0.11.0,>=0.10.1->llama-index-llms-bedrock-converse) (8.1.7)\n",
      "Requirement already satisfied: joblib in /home/alfred/anaconda3/envs/dui/lib/python3.11/site-packages (from nltk<4.0.0,>=3.8.1->llama-index-core<0.11.0,>=0.10.1->llama-index-llms-bedrock-converse) (1.3.2)\n",
      "Requirement already satisfied: regex>=2021.8.3 in /home/alfred/anaconda3/envs/dui/lib/python3.11/site-packages (from nltk<4.0.0,>=3.8.1->llama-index-core<0.11.0,>=0.10.1->llama-index-llms-bedrock-converse) (2023.8.8)\n",
      "Requirement already satisfied: charset-normalizer<4,>=2 in /home/alfred/anaconda3/envs/dui/lib/python3.11/site-packages (from requests>=2.31.0->llama-index-core<0.11.0,>=0.10.1->llama-index-llms-bedrock-converse) (3.2.0)\n",
      "Requirement already satisfied: greenlet!=0.4.17 in /home/alfred/anaconda3/envs/dui/lib/python3.11/site-packages (from SQLAlchemy>=1.4.49->SQLAlchemy[asyncio]>=1.4.49->llama-index-core<0.11.0,>=0.10.1->llama-index-llms-bedrock-converse) (3.0.3)\n",
      "Requirement already satisfied: mypy-extensions>=0.3.0 in /home/alfred/anaconda3/envs/dui/lib/python3.11/site-packages (from typing-inspect>=0.8.0->llama-index-core<0.11.0,>=0.10.1->llama-index-llms-bedrock-converse) (1.0.0)\n",
      "Requirement already satisfied: marshmallow<4.0.0,>=3.18.0 in /home/alfred/anaconda3/envs/dui/lib/python3.11/site-packages (from dataclasses-json->llama-index-core<0.11.0,>=0.10.1->llama-index-llms-bedrock-converse) (3.20.1)\n",
      "Requirement already satisfied: pytz>=2020.1 in /home/alfred/anaconda3/envs/dui/lib/python3.11/site-packages (from pandas->llama-index-core<0.11.0,>=0.10.1->llama-index-llms-bedrock-converse) (2024.1)\n",
      "Requirement already satisfied: tzdata>=2022.7 in /home/alfred/anaconda3/envs/dui/lib/python3.11/site-packages (from pandas->llama-index-core<0.11.0,>=0.10.1->llama-index-llms-bedrock-converse) (2024.1)\n",
      "Requirement already satisfied: packaging>=17.0 in /home/alfred/anaconda3/envs/dui/lib/python3.11/site-packages (from marshmallow<4.0.0,>=3.18.0->dataclasses-json->llama-index-core<0.11.0,>=0.10.1->llama-index-llms-bedrock-converse) (23.2)\n",
      "Requirement already satisfied: annotated-types>=0.4.0 in /home/alfred/anaconda3/envs/dui/lib/python3.11/site-packages (from pydantic<3,>=1.9.0->anthropic<0.29.0,>=0.26.2->llama-index-llms-anthropic<0.2.0,>=0.1.7->llama-index-llms-bedrock-converse) (0.6.0)\n",
      "Requirement already satisfied: pydantic-core==2.16.3 in /home/alfred/anaconda3/envs/dui/lib/python3.11/site-packages (from pydantic<3,>=1.9.0->anthropic<0.29.0,>=0.26.2->llama-index-llms-anthropic<0.2.0,>=0.1.7->llama-index-llms-bedrock-converse) (2.16.3)\n",
      "Requirement already satisfied: six>=1.5 in /home/alfred/anaconda3/envs/dui/lib/python3.11/site-packages (from python-dateutil<3.0.0,>=2.1->botocore<1.34.132,>=1.34.70->aiobotocore==2.13.1->aiobotocore[boto3]==2.13.1->aioboto3<14.0.0,>=13.1.1->llama-index-llms-bedrock-converse) (1.16.0)\n",
      "Requirement already satisfied: huggingface-hub<1.0,>=0.16.4 in /home/alfred/anaconda3/envs/dui/lib/python3.11/site-packages (from tokenizers>=0.13.0->anthropic<0.29.0,>=0.26.2->llama-index-llms-anthropic<0.2.0,>=0.1.7->llama-index-llms-bedrock-converse) (0.23.5)\n",
      "Requirement already satisfied: filelock in /home/alfred/anaconda3/envs/dui/lib/python3.11/site-packages (from huggingface-hub<1.0,>=0.16.4->tokenizers>=0.13.0->anthropic<0.29.0,>=0.26.2->llama-index-llms-anthropic<0.2.0,>=0.1.7->llama-index-llms-bedrock-converse) (3.13.1)\n",
      "Downloading llama_index_llms_bedrock_converse-0.1.5-py3-none-any.whl (9.1 kB)\n",
      "Downloading aioboto3-13.1.1-py3-none-any.whl (34 kB)\n",
      "Downloading aiobotocore-2.13.1-py3-none-any.whl (76 kB)\n",
      "\u001b[2K   \u001b[90m━━━━━━━━━━━━━━━━━━━━━━━━━━━━━━━━━━━━━━━━\u001b[0m \u001b[32m76.9/76.9 kB\u001b[0m \u001b[31m7.6 MB/s\u001b[0m eta \u001b[36m0:00:00\u001b[0m\n",
      "\u001b[?25hDownloading boto3-1.34.131-py3-none-any.whl (139 kB)\n",
      "\u001b[2K   \u001b[90m━━━━━━━━━━━━━━━━━━━━━━━━━━━━━━━━━━━━━━━━\u001b[0m \u001b[32m139.2/139.2 kB\u001b[0m \u001b[31m27.5 MB/s\u001b[0m eta \u001b[36m0:00:00\u001b[0m\n",
      "\u001b[?25hDownloading llama_index_llms_anthropic-0.1.15-py3-none-any.whl (6.1 kB)\n",
      "Downloading anthropic-0.28.1-py3-none-any.whl (862 kB)\n",
      "\u001b[2K   \u001b[90m━━━━━━━━━━━━━━━━━━━━━━━━━━━━━━━━━━━━━━━━\u001b[0m \u001b[32m862.7/862.7 kB\u001b[0m \u001b[31m42.5 MB/s\u001b[0m eta \u001b[36m0:00:00\u001b[0m\n",
      "\u001b[?25hDownloading botocore-1.34.131-py3-none-any.whl (12.3 MB)\n",
      "\u001b[2K   \u001b[90m━━━━━━━━━━━━━━━━━━━━━━━━━━━━━━━━━━━━━━━━\u001b[0m \u001b[32m12.3/12.3 MB\u001b[0m \u001b[31m138.6 MB/s\u001b[0m eta \u001b[36m0:00:00\u001b[0m00:01\u001b[0m0:01\u001b[0m\n",
      "\u001b[?25hDownloading networkx-3.3-py3-none-any.whl (1.7 MB)\n",
      "\u001b[2K   \u001b[90m━━━━━━━━━━━━━━━━━━━━━━━━━━━━━━━━━━━━━━━━\u001b[0m \u001b[32m1.7/1.7 MB\u001b[0m \u001b[31m127.7 MB/s\u001b[0m eta \u001b[36m0:00:00\u001b[0m\n",
      "\u001b[?25hDownloading jiter-0.5.0-cp311-cp311-manylinux_2_17_x86_64.manylinux2014_x86_64.whl (319 kB)\n",
      "\u001b[2K   \u001b[90m━━━━━━━━━━━━━━━━━━━━━━━━━━━━━━━━━━━━━━━━\u001b[0m \u001b[32m319.2/319.2 kB\u001b[0m \u001b[31m56.8 MB/s\u001b[0m eta \u001b[36m0:00:00\u001b[0m\n",
      "\u001b[?25hInstalling collected packages: networkx, jiter, botocore, aiobotocore, boto3, anthropic, llama-index-llms-anthropic, aioboto3, llama-index-llms-bedrock-converse\n",
      "  Attempting uninstall: networkx\n",
      "    Found existing installation: networkx 2.6.3\n",
      "    Uninstalling networkx-2.6.3:\n",
      "      Successfully uninstalled networkx-2.6.3\n",
      "  Attempting uninstall: botocore\n",
      "    Found existing installation: botocore 1.34.120\n",
      "    Uninstalling botocore-1.34.120:\n",
      "      Successfully uninstalled botocore-1.34.120\n",
      "  Attempting uninstall: aiobotocore\n",
      "    Found existing installation: aiobotocore 2.12.3\n",
      "    Uninstalling aiobotocore-2.12.3:\n",
      "      Successfully uninstalled aiobotocore-2.12.3\n",
      "  Attempting uninstall: boto3\n",
      "    Found existing installation: boto3 1.34.120\n",
      "    Uninstalling boto3-1.34.120:\n",
      "      Successfully uninstalled boto3-1.34.120\n",
      "  Attempting uninstall: anthropic\n",
      "    Found existing installation: anthropic 0.18.1\n",
      "    Uninstalling anthropic-0.18.1:\n",
      "      Successfully uninstalled anthropic-0.18.1\n",
      "  Attempting uninstall: llama-index-llms-anthropic\n",
      "    Found existing installation: llama-index-llms-anthropic 0.1.3\n",
      "    Uninstalling llama-index-llms-anthropic-0.1.3:\n",
      "      Successfully uninstalled llama-index-llms-anthropic-0.1.3\n",
      "\u001b[31mERROR: pip's dependency resolver does not currently take into account all the packages that are installed. This behaviour is the source of the following dependency conflicts.\n",
      "awscli 1.29.62 requires botocore==1.31.62, but you have botocore 1.34.131 which is incompatible.\n",
      "awscli 1.29.62 requires colorama<0.4.5,>=0.2.5, but you have colorama 0.4.6 which is incompatible.\n",
      "awscli 1.29.62 requires s3transfer<0.8.0,>=0.7.0, but you have s3transfer 0.10.0 which is incompatible.\n",
      "uptrain 0.5.0 requires pydantic<1.10.10, but you have pydantic 2.6.3 which is incompatible.\n",
      "langchain-anthropic 0.1.1 requires langchain-core<0.2,>=0.1, but you have langchain-core 0.2.13 which is incompatible.\n",
      "neuronx-cc 2.12.68.0+4480452af requires networkx<=2.6.3, but you have networkx 3.3 which is incompatible.\n",
      "neuronx-cc 2.12.68.0+4480452af requires numpy<=1.25.2,>=1.24.3, but you have numpy 1.26.4 which is incompatible.\n",
      "neuronx-cc 2.12.68.0+4480452af requires protobuf<3.20, but you have protobuf 4.25.3 which is incompatible.\u001b[0m\u001b[31m\n",
      "\u001b[0mSuccessfully installed aioboto3-13.1.1 aiobotocore-2.13.1 anthropic-0.28.1 boto3-1.34.131 botocore-1.34.131 jiter-0.5.0 llama-index-llms-anthropic-0.1.15 llama-index-llms-bedrock-converse-0.1.5 networkx-3.3\n",
      "Note: you may need to restart the kernel to use updated packages.\n",
      "Looking in indexes: https://pypi.org/simple, https://pip.repos.neuron.amazonaws.com\n",
      "Requirement already satisfied: llama-index-embeddings-huggingface in /home/alfred/anaconda3/envs/dui/lib/python3.11/site-packages (0.1.4)\n",
      "Requirement already satisfied: huggingface-hub>=0.19.0 in /home/alfred/anaconda3/envs/dui/lib/python3.11/site-packages (from huggingface-hub[inference]>=0.19.0->llama-index-embeddings-huggingface) (0.23.5)\n",
      "Requirement already satisfied: llama-index-core<0.11.0,>=0.10.1 in /home/alfred/anaconda3/envs/dui/lib/python3.11/site-packages (from llama-index-embeddings-huggingface) (0.10.15)\n",
      "Requirement already satisfied: torch<3.0.0,>=2.1.2 in /home/alfred/anaconda3/envs/dui/lib/python3.11/site-packages (from llama-index-embeddings-huggingface) (2.2.1)\n",
      "Requirement already satisfied: transformers<5.0.0,>=4.37.0 in /home/alfred/anaconda3/envs/dui/lib/python3.11/site-packages (from llama-index-embeddings-huggingface) (4.42.4)\n",
      "Requirement already satisfied: filelock in /home/alfred/anaconda3/envs/dui/lib/python3.11/site-packages (from huggingface-hub>=0.19.0->huggingface-hub[inference]>=0.19.0->llama-index-embeddings-huggingface) (3.13.1)\n",
      "Requirement already satisfied: fsspec>=2023.5.0 in /home/alfred/anaconda3/envs/dui/lib/python3.11/site-packages (from huggingface-hub>=0.19.0->huggingface-hub[inference]>=0.19.0->llama-index-embeddings-huggingface) (2024.3.1)\n",
      "Requirement already satisfied: packaging>=20.9 in /home/alfred/anaconda3/envs/dui/lib/python3.11/site-packages (from huggingface-hub>=0.19.0->huggingface-hub[inference]>=0.19.0->llama-index-embeddings-huggingface) (23.2)\n",
      "Requirement already satisfied: pyyaml>=5.1 in /home/alfred/anaconda3/envs/dui/lib/python3.11/site-packages (from huggingface-hub>=0.19.0->huggingface-hub[inference]>=0.19.0->llama-index-embeddings-huggingface) (6.0.1)\n",
      "Requirement already satisfied: requests in /home/alfred/anaconda3/envs/dui/lib/python3.11/site-packages (from huggingface-hub>=0.19.0->huggingface-hub[inference]>=0.19.0->llama-index-embeddings-huggingface) (2.32.3)\n",
      "Requirement already satisfied: tqdm>=4.42.1 in /home/alfred/anaconda3/envs/dui/lib/python3.11/site-packages (from huggingface-hub>=0.19.0->huggingface-hub[inference]>=0.19.0->llama-index-embeddings-huggingface) (4.66.4)\n",
      "Requirement already satisfied: typing-extensions>=3.7.4.3 in /home/alfred/anaconda3/envs/dui/lib/python3.11/site-packages (from huggingface-hub>=0.19.0->huggingface-hub[inference]>=0.19.0->llama-index-embeddings-huggingface) (4.12.2)\n",
      "Requirement already satisfied: aiohttp in /home/alfred/anaconda3/envs/dui/lib/python3.11/site-packages (from huggingface-hub[inference]>=0.19.0->llama-index-embeddings-huggingface) (3.9.3)\n",
      "Collecting minijinja>=1.0 (from huggingface-hub[inference]>=0.19.0->llama-index-embeddings-huggingface)\n",
      "  Downloading minijinja-2.0.1-cp38-abi3-manylinux_2_17_x86_64.manylinux2014_x86_64.whl.metadata (8.8 kB)\n",
      "Requirement already satisfied: SQLAlchemy>=1.4.49 in /home/alfred/anaconda3/envs/dui/lib/python3.11/site-packages (from SQLAlchemy[asyncio]>=1.4.49->llama-index-core<0.11.0,>=0.10.1->llama-index-embeddings-huggingface) (2.0.21)\n",
      "Requirement already satisfied: dataclasses-json in /home/alfred/anaconda3/envs/dui/lib/python3.11/site-packages (from llama-index-core<0.11.0,>=0.10.1->llama-index-embeddings-huggingface) (0.6.4)\n",
      "Requirement already satisfied: deprecated>=1.2.9.3 in /home/alfred/anaconda3/envs/dui/lib/python3.11/site-packages (from llama-index-core<0.11.0,>=0.10.1->llama-index-embeddings-huggingface) (1.2.14)\n",
      "Requirement already satisfied: dirtyjson<2.0.0,>=1.0.8 in /home/alfred/anaconda3/envs/dui/lib/python3.11/site-packages (from llama-index-core<0.11.0,>=0.10.1->llama-index-embeddings-huggingface) (1.0.8)\n",
      "Requirement already satisfied: httpx in /home/alfred/anaconda3/envs/dui/lib/python3.11/site-packages (from llama-index-core<0.11.0,>=0.10.1->llama-index-embeddings-huggingface) (0.27.0)\n",
      "Requirement already satisfied: llamaindex-py-client<0.2.0,>=0.1.13 in /home/alfred/anaconda3/envs/dui/lib/python3.11/site-packages (from llama-index-core<0.11.0,>=0.10.1->llama-index-embeddings-huggingface) (0.1.13)\n",
      "Requirement already satisfied: nest-asyncio<2.0.0,>=1.5.8 in /home/alfred/anaconda3/envs/dui/lib/python3.11/site-packages (from llama-index-core<0.11.0,>=0.10.1->llama-index-embeddings-huggingface) (1.6.0)\n",
      "Requirement already satisfied: networkx>=3.0 in /home/alfred/anaconda3/envs/dui/lib/python3.11/site-packages (from llama-index-core<0.11.0,>=0.10.1->llama-index-embeddings-huggingface) (3.3)\n",
      "Requirement already satisfied: nltk<4.0.0,>=3.8.1 in /home/alfred/anaconda3/envs/dui/lib/python3.11/site-packages (from llama-index-core<0.11.0,>=0.10.1->llama-index-embeddings-huggingface) (3.8.1)\n",
      "Requirement already satisfied: numpy in /home/alfred/anaconda3/envs/dui/lib/python3.11/site-packages (from llama-index-core<0.11.0,>=0.10.1->llama-index-embeddings-huggingface) (1.26.4)\n",
      "Requirement already satisfied: openai>=1.1.0 in /home/alfred/anaconda3/envs/dui/lib/python3.11/site-packages (from llama-index-core<0.11.0,>=0.10.1->llama-index-embeddings-huggingface) (1.35.10)\n",
      "Requirement already satisfied: pandas in /home/alfred/anaconda3/envs/dui/lib/python3.11/site-packages (from llama-index-core<0.11.0,>=0.10.1->llama-index-embeddings-huggingface) (2.2.2)\n",
      "Requirement already satisfied: pillow>=9.0.0 in /home/alfred/anaconda3/envs/dui/lib/python3.11/site-packages (from llama-index-core<0.11.0,>=0.10.1->llama-index-embeddings-huggingface) (10.2.0)\n",
      "Requirement already satisfied: tenacity<9.0.0,>=8.2.0 in /home/alfred/anaconda3/envs/dui/lib/python3.11/site-packages (from llama-index-core<0.11.0,>=0.10.1->llama-index-embeddings-huggingface) (8.2.3)\n",
      "Requirement already satisfied: tiktoken>=0.3.3 in /home/alfred/anaconda3/envs/dui/lib/python3.11/site-packages (from llama-index-core<0.11.0,>=0.10.1->llama-index-embeddings-huggingface) (0.7.0)\n",
      "Requirement already satisfied: typing-inspect>=0.8.0 in /home/alfred/anaconda3/envs/dui/lib/python3.11/site-packages (from llama-index-core<0.11.0,>=0.10.1->llama-index-embeddings-huggingface) (0.9.0)\n",
      "Requirement already satisfied: sympy in /home/alfred/anaconda3/envs/dui/lib/python3.11/site-packages (from torch<3.0.0,>=2.1.2->llama-index-embeddings-huggingface) (1.12)\n",
      "Requirement already satisfied: jinja2 in /home/alfred/anaconda3/envs/dui/lib/python3.11/site-packages (from torch<3.0.0,>=2.1.2->llama-index-embeddings-huggingface) (3.1.2)\n",
      "Requirement already satisfied: nvidia-cuda-nvrtc-cu12==12.1.105 in /home/alfred/anaconda3/envs/dui/lib/python3.11/site-packages (from torch<3.0.0,>=2.1.2->llama-index-embeddings-huggingface) (12.1.105)\n",
      "Requirement already satisfied: nvidia-cuda-runtime-cu12==12.1.105 in /home/alfred/anaconda3/envs/dui/lib/python3.11/site-packages (from torch<3.0.0,>=2.1.2->llama-index-embeddings-huggingface) (12.1.105)\n",
      "Requirement already satisfied: nvidia-cuda-cupti-cu12==12.1.105 in /home/alfred/anaconda3/envs/dui/lib/python3.11/site-packages (from torch<3.0.0,>=2.1.2->llama-index-embeddings-huggingface) (12.1.105)\n",
      "Requirement already satisfied: nvidia-cudnn-cu12==8.9.2.26 in /home/alfred/anaconda3/envs/dui/lib/python3.11/site-packages (from torch<3.0.0,>=2.1.2->llama-index-embeddings-huggingface) (8.9.2.26)\n",
      "Requirement already satisfied: nvidia-cublas-cu12==12.1.3.1 in /home/alfred/anaconda3/envs/dui/lib/python3.11/site-packages (from torch<3.0.0,>=2.1.2->llama-index-embeddings-huggingface) (12.1.3.1)\n",
      "Requirement already satisfied: nvidia-cufft-cu12==11.0.2.54 in /home/alfred/anaconda3/envs/dui/lib/python3.11/site-packages (from torch<3.0.0,>=2.1.2->llama-index-embeddings-huggingface) (11.0.2.54)\n",
      "Requirement already satisfied: nvidia-curand-cu12==10.3.2.106 in /home/alfred/anaconda3/envs/dui/lib/python3.11/site-packages (from torch<3.0.0,>=2.1.2->llama-index-embeddings-huggingface) (10.3.2.106)\n",
      "Requirement already satisfied: nvidia-cusolver-cu12==11.4.5.107 in /home/alfred/anaconda3/envs/dui/lib/python3.11/site-packages (from torch<3.0.0,>=2.1.2->llama-index-embeddings-huggingface) (11.4.5.107)\n",
      "Requirement already satisfied: nvidia-cusparse-cu12==12.1.0.106 in /home/alfred/anaconda3/envs/dui/lib/python3.11/site-packages (from torch<3.0.0,>=2.1.2->llama-index-embeddings-huggingface) (12.1.0.106)\n",
      "Requirement already satisfied: nvidia-nccl-cu12==2.19.3 in /home/alfred/anaconda3/envs/dui/lib/python3.11/site-packages (from torch<3.0.0,>=2.1.2->llama-index-embeddings-huggingface) (2.19.3)\n",
      "Requirement already satisfied: nvidia-nvtx-cu12==12.1.105 in /home/alfred/anaconda3/envs/dui/lib/python3.11/site-packages (from torch<3.0.0,>=2.1.2->llama-index-embeddings-huggingface) (12.1.105)\n",
      "Requirement already satisfied: triton==2.2.0 in /home/alfred/anaconda3/envs/dui/lib/python3.11/site-packages (from torch<3.0.0,>=2.1.2->llama-index-embeddings-huggingface) (2.2.0)\n",
      "Requirement already satisfied: nvidia-nvjitlink-cu12 in /home/alfred/anaconda3/envs/dui/lib/python3.11/site-packages (from nvidia-cusolver-cu12==11.4.5.107->torch<3.0.0,>=2.1.2->llama-index-embeddings-huggingface) (12.3.101)\n",
      "Requirement already satisfied: regex!=2019.12.17 in /home/alfred/anaconda3/envs/dui/lib/python3.11/site-packages (from transformers<5.0.0,>=4.37.0->llama-index-embeddings-huggingface) (2023.8.8)\n",
      "Requirement already satisfied: safetensors>=0.4.1 in /home/alfred/anaconda3/envs/dui/lib/python3.11/site-packages (from transformers<5.0.0,>=4.37.0->llama-index-embeddings-huggingface) (0.4.2)\n",
      "Requirement already satisfied: tokenizers<0.20,>=0.19 in /home/alfred/anaconda3/envs/dui/lib/python3.11/site-packages (from transformers<5.0.0,>=4.37.0->llama-index-embeddings-huggingface) (0.19.1)\n",
      "Requirement already satisfied: aiosignal>=1.1.2 in /home/alfred/anaconda3/envs/dui/lib/python3.11/site-packages (from aiohttp->huggingface-hub[inference]>=0.19.0->llama-index-embeddings-huggingface) (1.3.1)\n",
      "Requirement already satisfied: attrs>=17.3.0 in /home/alfred/anaconda3/envs/dui/lib/python3.11/site-packages (from aiohttp->huggingface-hub[inference]>=0.19.0->llama-index-embeddings-huggingface) (23.2.0)\n",
      "Requirement already satisfied: frozenlist>=1.1.1 in /home/alfred/anaconda3/envs/dui/lib/python3.11/site-packages (from aiohttp->huggingface-hub[inference]>=0.19.0->llama-index-embeddings-huggingface) (1.4.0)\n",
      "Requirement already satisfied: multidict<7.0,>=4.5 in /home/alfred/anaconda3/envs/dui/lib/python3.11/site-packages (from aiohttp->huggingface-hub[inference]>=0.19.0->llama-index-embeddings-huggingface) (6.0.4)\n",
      "Requirement already satisfied: yarl<2.0,>=1.0 in /home/alfred/anaconda3/envs/dui/lib/python3.11/site-packages (from aiohttp->huggingface-hub[inference]>=0.19.0->llama-index-embeddings-huggingface) (1.9.2)\n",
      "Requirement already satisfied: wrapt<2,>=1.10 in /home/alfred/anaconda3/envs/dui/lib/python3.11/site-packages (from deprecated>=1.2.9.3->llama-index-core<0.11.0,>=0.10.1->llama-index-embeddings-huggingface) (1.16.0)\n",
      "Requirement already satisfied: pydantic>=1.10 in /home/alfred/anaconda3/envs/dui/lib/python3.11/site-packages (from llamaindex-py-client<0.2.0,>=0.1.13->llama-index-core<0.11.0,>=0.10.1->llama-index-embeddings-huggingface) (2.6.3)\n",
      "Requirement already satisfied: anyio in /home/alfred/anaconda3/envs/dui/lib/python3.11/site-packages (from httpx->llama-index-core<0.11.0,>=0.10.1->llama-index-embeddings-huggingface) (3.7.1)\n",
      "Requirement already satisfied: certifi in /home/alfred/anaconda3/envs/dui/lib/python3.11/site-packages (from httpx->llama-index-core<0.11.0,>=0.10.1->llama-index-embeddings-huggingface) (2024.6.2)\n",
      "Requirement already satisfied: httpcore==1.* in /home/alfred/anaconda3/envs/dui/lib/python3.11/site-packages (from httpx->llama-index-core<0.11.0,>=0.10.1->llama-index-embeddings-huggingface) (1.0.2)\n",
      "Requirement already satisfied: idna in /home/alfred/anaconda3/envs/dui/lib/python3.11/site-packages (from httpx->llama-index-core<0.11.0,>=0.10.1->llama-index-embeddings-huggingface) (3.4)\n",
      "Requirement already satisfied: sniffio in /home/alfred/anaconda3/envs/dui/lib/python3.11/site-packages (from httpx->llama-index-core<0.11.0,>=0.10.1->llama-index-embeddings-huggingface) (1.3.0)\n",
      "Requirement already satisfied: h11<0.15,>=0.13 in /home/alfred/anaconda3/envs/dui/lib/python3.11/site-packages (from httpcore==1.*->httpx->llama-index-core<0.11.0,>=0.10.1->llama-index-embeddings-huggingface) (0.14.0)\n",
      "Requirement already satisfied: click in /home/alfred/anaconda3/envs/dui/lib/python3.11/site-packages (from nltk<4.0.0,>=3.8.1->llama-index-core<0.11.0,>=0.10.1->llama-index-embeddings-huggingface) (8.1.7)\n",
      "Requirement already satisfied: joblib in /home/alfred/anaconda3/envs/dui/lib/python3.11/site-packages (from nltk<4.0.0,>=3.8.1->llama-index-core<0.11.0,>=0.10.1->llama-index-embeddings-huggingface) (1.3.2)\n",
      "Requirement already satisfied: distro<2,>=1.7.0 in /home/alfred/anaconda3/envs/dui/lib/python3.11/site-packages (from openai>=1.1.0->llama-index-core<0.11.0,>=0.10.1->llama-index-embeddings-huggingface) (1.9.0)\n",
      "Requirement already satisfied: charset-normalizer<4,>=2 in /home/alfred/anaconda3/envs/dui/lib/python3.11/site-packages (from requests->huggingface-hub>=0.19.0->huggingface-hub[inference]>=0.19.0->llama-index-embeddings-huggingface) (3.2.0)\n",
      "Requirement already satisfied: urllib3<3,>=1.21.1 in /home/alfred/anaconda3/envs/dui/lib/python3.11/site-packages (from requests->huggingface-hub>=0.19.0->huggingface-hub[inference]>=0.19.0->llama-index-embeddings-huggingface) (2.2.1)\n",
      "Requirement already satisfied: greenlet!=0.4.17 in /home/alfred/anaconda3/envs/dui/lib/python3.11/site-packages (from SQLAlchemy>=1.4.49->SQLAlchemy[asyncio]>=1.4.49->llama-index-core<0.11.0,>=0.10.1->llama-index-embeddings-huggingface) (3.0.3)\n",
      "Requirement already satisfied: mypy-extensions>=0.3.0 in /home/alfred/anaconda3/envs/dui/lib/python3.11/site-packages (from typing-inspect>=0.8.0->llama-index-core<0.11.0,>=0.10.1->llama-index-embeddings-huggingface) (1.0.0)\n",
      "Requirement already satisfied: marshmallow<4.0.0,>=3.18.0 in /home/alfred/anaconda3/envs/dui/lib/python3.11/site-packages (from dataclasses-json->llama-index-core<0.11.0,>=0.10.1->llama-index-embeddings-huggingface) (3.20.1)\n",
      "Requirement already satisfied: MarkupSafe>=2.0 in /home/alfred/anaconda3/envs/dui/lib/python3.11/site-packages (from jinja2->torch<3.0.0,>=2.1.2->llama-index-embeddings-huggingface) (2.1.3)\n",
      "Requirement already satisfied: python-dateutil>=2.8.2 in /home/alfred/anaconda3/envs/dui/lib/python3.11/site-packages (from pandas->llama-index-core<0.11.0,>=0.10.1->llama-index-embeddings-huggingface) (2.9.0.post0)\n",
      "Requirement already satisfied: pytz>=2020.1 in /home/alfred/anaconda3/envs/dui/lib/python3.11/site-packages (from pandas->llama-index-core<0.11.0,>=0.10.1->llama-index-embeddings-huggingface) (2024.1)\n",
      "Requirement already satisfied: tzdata>=2022.7 in /home/alfred/anaconda3/envs/dui/lib/python3.11/site-packages (from pandas->llama-index-core<0.11.0,>=0.10.1->llama-index-embeddings-huggingface) (2024.1)\n",
      "Requirement already satisfied: mpmath>=0.19 in /home/alfred/anaconda3/envs/dui/lib/python3.11/site-packages (from sympy->torch<3.0.0,>=2.1.2->llama-index-embeddings-huggingface) (1.3.0)\n",
      "Requirement already satisfied: annotated-types>=0.4.0 in /home/alfred/anaconda3/envs/dui/lib/python3.11/site-packages (from pydantic>=1.10->llamaindex-py-client<0.2.0,>=0.1.13->llama-index-core<0.11.0,>=0.10.1->llama-index-embeddings-huggingface) (0.6.0)\n",
      "Requirement already satisfied: pydantic-core==2.16.3 in /home/alfred/anaconda3/envs/dui/lib/python3.11/site-packages (from pydantic>=1.10->llamaindex-py-client<0.2.0,>=0.1.13->llama-index-core<0.11.0,>=0.10.1->llama-index-embeddings-huggingface) (2.16.3)\n",
      "Requirement already satisfied: six>=1.5 in /home/alfred/anaconda3/envs/dui/lib/python3.11/site-packages (from python-dateutil>=2.8.2->pandas->llama-index-core<0.11.0,>=0.10.1->llama-index-embeddings-huggingface) (1.16.0)\n",
      "Downloading minijinja-2.0.1-cp38-abi3-manylinux_2_17_x86_64.manylinux2014_x86_64.whl (853 kB)\n",
      "\u001b[2K   \u001b[90m━━━━━━━━━━━━━━━━━━━━━━━━━━━━━━━━━━━━━━━━\u001b[0m \u001b[32m853.2/853.2 kB\u001b[0m \u001b[31m21.2 MB/s\u001b[0m eta \u001b[36m0:00:00\u001b[0m00:01\u001b[0m\n",
      "\u001b[?25hInstalling collected packages: minijinja\n",
      "Successfully installed minijinja-2.0.1\n",
      "Note: you may need to restart the kernel to use updated packages.\n"
     ]
    }
   ],
   "source": [
    "%pip install llama-index-llms-bedrock-converse\n",
    "%pip install llama-index-embeddings-huggingface"
   ]
  },
  {
   "cell_type": "code",
   "execution_count": 2,
   "id": "c61c873d",
   "metadata": {
    "collapsed": true,
    "id": "c61c873d",
    "jupyter": {
     "outputs_hidden": true
    }
   },
   "outputs": [
    {
     "name": "stdout",
     "output_type": "stream",
     "text": [
      "\u001b[33mWARNING: Skipping /home/alfred/anaconda3/envs/medf/lib/python3.11/site-packages/requests-2.31.0.dist-info due to invalid metadata entry 'name'\u001b[0m\u001b[33m\n",
      "\u001b[0mLooking in indexes: https://pypi.org/simple, https://pip.repos.neuron.amazonaws.com\n",
      "Collecting llama-index\n",
      "  Downloading llama_index-0.10.56-py3-none-any.whl.metadata (11 kB)\n",
      "Collecting llama-index-agent-openai<0.3.0,>=0.1.4 (from llama-index)\n",
      "  Downloading llama_index_agent_openai-0.2.9-py3-none-any.whl.metadata (729 bytes)\n",
      "Collecting llama-index-cli<0.2.0,>=0.1.2 (from llama-index)\n",
      "  Downloading llama_index_cli-0.1.12-py3-none-any.whl.metadata (1.5 kB)\n",
      "Collecting llama-index-core==0.10.56 (from llama-index)\n",
      "  Downloading llama_index_core-0.10.56-py3-none-any.whl.metadata (2.5 kB)\n",
      "Collecting llama-index-embeddings-openai<0.2.0,>=0.1.5 (from llama-index)\n",
      "  Downloading llama_index_embeddings_openai-0.1.11-py3-none-any.whl.metadata (655 bytes)\n",
      "Collecting llama-index-indices-managed-llama-cloud>=0.2.0 (from llama-index)\n",
      "  Downloading llama_index_indices_managed_llama_cloud-0.2.5-py3-none-any.whl.metadata (3.8 kB)\n",
      "Collecting llama-index-legacy<0.10.0,>=0.9.48 (from llama-index)\n",
      "  Using cached llama_index_legacy-0.9.48-py3-none-any.whl.metadata (8.5 kB)\n",
      "Collecting llama-index-llms-openai<0.2.0,>=0.1.13 (from llama-index)\n",
      "  Downloading llama_index_llms_openai-0.1.26-py3-none-any.whl.metadata (610 bytes)\n",
      "Collecting llama-index-multi-modal-llms-openai<0.2.0,>=0.1.3 (from llama-index)\n",
      "  Downloading llama_index_multi_modal_llms_openai-0.1.8-py3-none-any.whl.metadata (728 bytes)\n",
      "Collecting llama-index-program-openai<0.2.0,>=0.1.3 (from llama-index)\n",
      "  Downloading llama_index_program_openai-0.1.6-py3-none-any.whl.metadata (715 bytes)\n",
      "Collecting llama-index-question-gen-openai<0.2.0,>=0.1.2 (from llama-index)\n",
      "  Using cached llama_index_question_gen_openai-0.1.3-py3-none-any.whl.metadata (785 bytes)\n",
      "Collecting llama-index-readers-file<0.2.0,>=0.1.4 (from llama-index)\n",
      "  Downloading llama_index_readers_file-0.1.30-py3-none-any.whl.metadata (5.4 kB)\n",
      "Collecting llama-index-readers-llama-parse>=0.1.2 (from llama-index)\n",
      "  Downloading llama_index_readers_llama_parse-0.1.6-py3-none-any.whl.metadata (3.6 kB)\n",
      "Collecting PyYAML>=6.0.1 (from llama-index-core==0.10.56->llama-index)\n",
      "  Using cached PyYAML-6.0.1-cp311-cp311-manylinux_2_17_x86_64.manylinux2014_x86_64.whl.metadata (2.1 kB)\n",
      "Requirement already satisfied: SQLAlchemy>=1.4.49 in /home/alfred/anaconda3/envs/medf/lib/python3.11/site-packages (from SQLAlchemy[asyncio]>=1.4.49->llama-index-core==0.10.56->llama-index) (2.0.25)\n",
      "Collecting aiohttp<4.0.0,>=3.8.6 (from llama-index-core==0.10.56->llama-index)\n",
      "  Downloading aiohttp-3.9.5-cp311-cp311-manylinux_2_17_x86_64.manylinux2014_x86_64.whl.metadata (7.5 kB)\n",
      "Requirement already satisfied: dataclasses-json in /home/alfred/anaconda3/envs/medf/lib/python3.11/site-packages (from llama-index-core==0.10.56->llama-index) (0.6.3)\n",
      "Collecting deprecated>=1.2.9.3 (from llama-index-core==0.10.56->llama-index)\n",
      "  Downloading Deprecated-1.2.14-py2.py3-none-any.whl.metadata (5.4 kB)\n",
      "Collecting dirtyjson<2.0.0,>=1.0.8 (from llama-index-core==0.10.56->llama-index)\n",
      "  Downloading dirtyjson-1.0.8-py3-none-any.whl.metadata (11 kB)\n",
      "Requirement already satisfied: fsspec>=2023.5.0 in /home/alfred/anaconda3/envs/medf/lib/python3.11/site-packages (from llama-index-core==0.10.56->llama-index) (2023.6.0)\n",
      "Requirement already satisfied: httpx in /home/alfred/anaconda3/envs/medf/lib/python3.11/site-packages (from llama-index-core==0.10.56->llama-index) (0.25.0)\n",
      "Collecting nest-asyncio<2.0.0,>=1.5.8 (from llama-index-core==0.10.56->llama-index)\n",
      "  Using cached nest_asyncio-1.6.0-py3-none-any.whl.metadata (2.8 kB)\n",
      "Collecting networkx>=3.0 (from llama-index-core==0.10.56->llama-index)\n",
      "  Using cached networkx-3.3-py3-none-any.whl.metadata (5.1 kB)\n",
      "Requirement already satisfied: nltk<4.0.0,>=3.8.1 in /home/alfred/anaconda3/envs/medf/lib/python3.11/site-packages (from llama-index-core==0.10.56->llama-index) (3.8.1)\n",
      "Requirement already satisfied: numpy<2.0.0 in /home/alfred/anaconda3/envs/medf/lib/python3.11/site-packages (from llama-index-core==0.10.56->llama-index) (1.25.2)\n",
      "Requirement already satisfied: openai>=1.1.0 in /home/alfred/anaconda3/envs/medf/lib/python3.11/site-packages (from llama-index-core==0.10.56->llama-index) (1.10.0)\n",
      "Requirement already satisfied: pandas in /home/alfred/anaconda3/envs/medf/lib/python3.11/site-packages (from llama-index-core==0.10.56->llama-index) (1.5.3)\n",
      "Requirement already satisfied: pillow>=9.0.0 in /home/alfred/anaconda3/envs/medf/lib/python3.11/site-packages (from llama-index-core==0.10.56->llama-index) (9.4.0)\n",
      "Requirement already satisfied: requests>=2.31.0 in /home/alfred/anaconda3/envs/medf/lib/python3.11/site-packages (from llama-index-core==0.10.56->llama-index) (2.32.3)\n",
      "Requirement already satisfied: tenacity!=8.4.0,<9.0.0,>=8.2.0 in /home/alfred/anaconda3/envs/medf/lib/python3.11/site-packages (from llama-index-core==0.10.56->llama-index) (8.2.2)\n",
      "Requirement already satisfied: tiktoken>=0.3.3 in /home/alfred/anaconda3/envs/medf/lib/python3.11/site-packages (from llama-index-core==0.10.56->llama-index) (0.6.0)\n",
      "Requirement already satisfied: tqdm<5.0.0,>=4.66.1 in /home/alfred/anaconda3/envs/medf/lib/python3.11/site-packages (from llama-index-core==0.10.56->llama-index) (4.66.4)\n",
      "Requirement already satisfied: typing-extensions>=4.5.0 in /home/alfred/anaconda3/envs/medf/lib/python3.11/site-packages (from llama-index-core==0.10.56->llama-index) (4.8.0)\n",
      "Requirement already satisfied: typing-inspect>=0.8.0 in /home/alfred/anaconda3/envs/medf/lib/python3.11/site-packages (from llama-index-core==0.10.56->llama-index) (0.9.0)\n",
      "Collecting wrapt (from llama-index-core==0.10.56->llama-index)\n",
      "  Downloading wrapt-1.16.0-cp311-cp311-manylinux_2_5_x86_64.manylinux1_x86_64.manylinux_2_17_x86_64.manylinux2014_x86_64.whl.metadata (6.6 kB)\n",
      "Collecting openai>=1.1.0 (from llama-index-core==0.10.56->llama-index)\n",
      "  Downloading openai-1.37.0-py3-none-any.whl.metadata (22 kB)\n",
      "Collecting llama-cloud>=0.0.9 (from llama-index-indices-managed-llama-cloud>=0.2.0->llama-index)\n",
      "  Downloading llama_cloud-0.0.9-py3-none-any.whl.metadata (750 bytes)\n",
      "Collecting beautifulsoup4<5.0.0,>=4.12.3 (from llama-index-readers-file<0.2.0,>=0.1.4->llama-index)\n",
      "  Using cached beautifulsoup4-4.12.3-py3-none-any.whl.metadata (3.8 kB)\n",
      "Collecting pypdf<5.0.0,>=4.0.1 (from llama-index-readers-file<0.2.0,>=0.1.4->llama-index)\n",
      "  Downloading pypdf-4.3.1-py3-none-any.whl.metadata (7.4 kB)\n",
      "Collecting striprtf<0.0.27,>=0.0.26 (from llama-index-readers-file<0.2.0,>=0.1.4->llama-index)\n",
      "  Downloading striprtf-0.0.26-py3-none-any.whl.metadata (2.1 kB)\n",
      "Collecting llama-parse>=0.4.0 (from llama-index-readers-llama-parse>=0.1.2->llama-index)\n",
      "  Downloading llama_parse-0.4.9-py3-none-any.whl.metadata (4.4 kB)\n",
      "Requirement already satisfied: aiosignal>=1.1.2 in /home/alfred/anaconda3/envs/medf/lib/python3.11/site-packages (from aiohttp<4.0.0,>=3.8.6->llama-index-core==0.10.56->llama-index) (1.3.1)\n",
      "Requirement already satisfied: attrs>=17.3.0 in /home/alfred/anaconda3/envs/medf/lib/python3.11/site-packages (from aiohttp<4.0.0,>=3.8.6->llama-index-core==0.10.56->llama-index) (23.1.0)\n",
      "Requirement already satisfied: frozenlist>=1.1.1 in /home/alfred/anaconda3/envs/medf/lib/python3.11/site-packages (from aiohttp<4.0.0,>=3.8.6->llama-index-core==0.10.56->llama-index) (1.3.3)\n",
      "Requirement already satisfied: multidict<7.0,>=4.5 in /home/alfred/anaconda3/envs/medf/lib/python3.11/site-packages (from aiohttp<4.0.0,>=3.8.6->llama-index-core==0.10.56->llama-index) (6.0.4)\n",
      "Requirement already satisfied: yarl<2.0,>=1.0 in /home/alfred/anaconda3/envs/medf/lib/python3.11/site-packages (from aiohttp<4.0.0,>=3.8.6->llama-index-core==0.10.56->llama-index) (1.9.2)\n",
      "Requirement already satisfied: soupsieve>1.2 in /home/alfred/anaconda3/envs/medf/lib/python3.11/site-packages (from beautifulsoup4<5.0.0,>=4.12.3->llama-index-readers-file<0.2.0,>=0.1.4->llama-index) (2.5)\n",
      "Requirement already satisfied: pydantic>=1.10 in /home/alfred/anaconda3/envs/medf/lib/python3.11/site-packages (from llama-cloud>=0.0.9->llama-index-indices-managed-llama-cloud>=0.2.0->llama-index) (2.6.0)\n",
      "Requirement already satisfied: certifi in /home/alfred/anaconda3/envs/medf/lib/python3.11/site-packages (from httpx->llama-index-core==0.10.56->llama-index) (2023.5.7)\n",
      "Requirement already satisfied: httpcore<0.19.0,>=0.18.0 in /home/alfred/anaconda3/envs/medf/lib/python3.11/site-packages (from httpx->llama-index-core==0.10.56->llama-index) (0.18.0)\n",
      "Requirement already satisfied: idna in /home/alfred/anaconda3/envs/medf/lib/python3.11/site-packages (from httpx->llama-index-core==0.10.56->llama-index) (3.4)\n",
      "Requirement already satisfied: sniffio in /home/alfred/anaconda3/envs/medf/lib/python3.11/site-packages (from httpx->llama-index-core==0.10.56->llama-index) (1.3.0)\n",
      "Requirement already satisfied: click in /home/alfred/anaconda3/envs/medf/lib/python3.11/site-packages (from nltk<4.0.0,>=3.8.1->llama-index-core==0.10.56->llama-index) (8.1.3)\n",
      "Requirement already satisfied: joblib in /home/alfred/anaconda3/envs/medf/lib/python3.11/site-packages (from nltk<4.0.0,>=3.8.1->llama-index-core==0.10.56->llama-index) (1.2.0)\n",
      "Requirement already satisfied: regex>=2021.8.3 in /home/alfred/anaconda3/envs/medf/lib/python3.11/site-packages (from nltk<4.0.0,>=3.8.1->llama-index-core==0.10.56->llama-index) (2023.6.3)\n",
      "Requirement already satisfied: anyio<5,>=3.5.0 in /home/alfred/anaconda3/envs/medf/lib/python3.11/site-packages (from openai>=1.1.0->llama-index-core==0.10.56->llama-index) (3.7.1)\n",
      "Requirement already satisfied: distro<2,>=1.7.0 in /home/alfred/anaconda3/envs/medf/lib/python3.11/site-packages (from openai>=1.1.0->llama-index-core==0.10.56->llama-index) (1.9.0)\n",
      "Requirement already satisfied: charset-normalizer<4,>=2 in /home/alfred/anaconda3/envs/medf/lib/python3.11/site-packages (from requests>=2.31.0->llama-index-core==0.10.56->llama-index) (3.1.0)\n",
      "Requirement already satisfied: urllib3<3,>=1.21.1 in /home/alfred/anaconda3/envs/medf/lib/python3.11/site-packages (from requests>=2.31.0->llama-index-core==0.10.56->llama-index) (1.26.16)\n",
      "Requirement already satisfied: greenlet!=0.4.17 in /home/alfred/anaconda3/envs/medf/lib/python3.11/site-packages (from SQLAlchemy>=1.4.49->SQLAlchemy[asyncio]>=1.4.49->llama-index-core==0.10.56->llama-index) (3.0.3)\n",
      "Requirement already satisfied: mypy-extensions>=0.3.0 in /home/alfred/anaconda3/envs/medf/lib/python3.11/site-packages (from typing-inspect>=0.8.0->llama-index-core==0.10.56->llama-index) (1.0.0)\n",
      "Requirement already satisfied: marshmallow<4.0.0,>=3.18.0 in /home/alfred/anaconda3/envs/medf/lib/python3.11/site-packages (from dataclasses-json->llama-index-core==0.10.56->llama-index) (3.20.2)\n",
      "Requirement already satisfied: python-dateutil>=2.8.1 in /home/alfred/anaconda3/envs/medf/lib/python3.11/site-packages (from pandas->llama-index-core==0.10.56->llama-index) (2.8.2)\n",
      "Requirement already satisfied: pytz>=2020.1 in /home/alfred/anaconda3/envs/medf/lib/python3.11/site-packages (from pandas->llama-index-core==0.10.56->llama-index) (2023.3)\n",
      "Requirement already satisfied: h11<0.15,>=0.13 in /home/alfred/anaconda3/envs/medf/lib/python3.11/site-packages (from httpcore<0.19.0,>=0.18.0->httpx->llama-index-core==0.10.56->llama-index) (0.14.0)\n",
      "Requirement already satisfied: packaging>=17.0 in /home/alfred/anaconda3/envs/medf/lib/python3.11/site-packages (from marshmallow<4.0.0,>=3.18.0->dataclasses-json->llama-index-core==0.10.56->llama-index) (23.2)\n",
      "Requirement already satisfied: annotated-types>=0.4.0 in /home/alfred/anaconda3/envs/medf/lib/python3.11/site-packages (from pydantic>=1.10->llama-cloud>=0.0.9->llama-index-indices-managed-llama-cloud>=0.2.0->llama-index) (0.6.0)\n",
      "Requirement already satisfied: pydantic-core==2.16.1 in /home/alfred/anaconda3/envs/medf/lib/python3.11/site-packages (from pydantic>=1.10->llama-cloud>=0.0.9->llama-index-indices-managed-llama-cloud>=0.2.0->llama-index) (2.16.1)\n",
      "Requirement already satisfied: six>=1.5 in /home/alfred/anaconda3/envs/medf/lib/python3.11/site-packages (from python-dateutil>=2.8.1->pandas->llama-index-core==0.10.56->llama-index) (1.16.0)\n",
      "Downloading llama_index-0.10.56-py3-none-any.whl (6.8 kB)\n",
      "Downloading llama_index_core-0.10.56-py3-none-any.whl (15.5 MB)\n",
      "\u001b[2K   \u001b[90m━━━━━━━━━━━━━━━━━━━━━━━━━━━━━━━━━━━━━━━━\u001b[0m \u001b[32m15.5/15.5 MB\u001b[0m \u001b[31m148.2 MB/s\u001b[0m eta \u001b[36m0:00:00\u001b[0m00:01\u001b[0m0:01\u001b[0m\n",
      "\u001b[?25hDownloading llama_index_agent_openai-0.2.9-py3-none-any.whl (13 kB)\n",
      "Downloading llama_index_cli-0.1.12-py3-none-any.whl (26 kB)\n",
      "Downloading llama_index_embeddings_openai-0.1.11-py3-none-any.whl (6.3 kB)\n",
      "Downloading llama_index_indices_managed_llama_cloud-0.2.5-py3-none-any.whl (9.3 kB)\n",
      "Using cached llama_index_legacy-0.9.48-py3-none-any.whl (2.0 MB)\n",
      "Downloading llama_index_llms_openai-0.1.26-py3-none-any.whl (11 kB)\n",
      "Downloading llama_index_multi_modal_llms_openai-0.1.8-py3-none-any.whl (5.9 kB)\n",
      "Downloading llama_index_program_openai-0.1.6-py3-none-any.whl (5.2 kB)\n",
      "Using cached llama_index_question_gen_openai-0.1.3-py3-none-any.whl (2.9 kB)\n",
      "Downloading llama_index_readers_file-0.1.30-py3-none-any.whl (38 kB)\n",
      "Downloading llama_index_readers_llama_parse-0.1.6-py3-none-any.whl (2.5 kB)\n",
      "Downloading aiohttp-3.9.5-cp311-cp311-manylinux_2_17_x86_64.manylinux2014_x86_64.whl (1.3 MB)\n",
      "\u001b[2K   \u001b[90m━━━━━━━━━━━━━━━━━━━━━━━━━━━━━━━━━━━━━━━━\u001b[0m \u001b[32m1.3/1.3 MB\u001b[0m \u001b[31m109.8 MB/s\u001b[0m eta \u001b[36m0:00:00\u001b[0m\n",
      "\u001b[?25hUsing cached beautifulsoup4-4.12.3-py3-none-any.whl (147 kB)\n",
      "Downloading Deprecated-1.2.14-py2.py3-none-any.whl (9.6 kB)\n",
      "Downloading dirtyjson-1.0.8-py3-none-any.whl (25 kB)\n",
      "Downloading llama_cloud-0.0.9-py3-none-any.whl (146 kB)\n",
      "\u001b[2K   \u001b[90m━━━━━━━━━━━━━━━━━━━━━━━━━━━━━━━━━━━━━━━━\u001b[0m \u001b[32m146.8/146.8 kB\u001b[0m \u001b[31m26.2 MB/s\u001b[0m eta \u001b[36m0:00:00\u001b[0m\n",
      "\u001b[?25hDownloading llama_parse-0.4.9-py3-none-any.whl (9.4 kB)\n",
      "Using cached nest_asyncio-1.6.0-py3-none-any.whl (5.2 kB)\n",
      "Using cached networkx-3.3-py3-none-any.whl (1.7 MB)\n",
      "Downloading openai-1.37.0-py3-none-any.whl (337 kB)\n",
      "\u001b[2K   \u001b[90m━━━━━━━━━━━━━━━━━━━━━━━━━━━━━━━━━━━━━━━━\u001b[0m \u001b[32m337.0/337.0 kB\u001b[0m \u001b[31m49.9 MB/s\u001b[0m eta \u001b[36m0:00:00\u001b[0m\n",
      "\u001b[?25hDownloading pypdf-4.3.1-py3-none-any.whl (295 kB)\n",
      "\u001b[2K   \u001b[90m━━━━━━━━━━━━━━━━━━━━━━━━━━━━━━━━━━━━━━━━\u001b[0m \u001b[32m295.8/295.8 kB\u001b[0m \u001b[31m52.1 MB/s\u001b[0m eta \u001b[36m0:00:00\u001b[0m\n",
      "\u001b[?25hUsing cached PyYAML-6.0.1-cp311-cp311-manylinux_2_17_x86_64.manylinux2014_x86_64.whl (757 kB)\n",
      "Downloading striprtf-0.0.26-py3-none-any.whl (6.9 kB)\n",
      "Downloading wrapt-1.16.0-cp311-cp311-manylinux_2_5_x86_64.manylinux1_x86_64.manylinux_2_17_x86_64.manylinux2014_x86_64.whl (80 kB)\n",
      "\u001b[2K   \u001b[90m━━━━━━━━━━━━━━━━━━━━━━━━━━━━━━━━━━━━━━━━\u001b[0m \u001b[32m80.7/80.7 kB\u001b[0m \u001b[31m6.1 MB/s\u001b[0m eta \u001b[36m0:00:00\u001b[0m\n",
      "\u001b[?25h\u001b[33mWARNING: Skipping /home/alfred/anaconda3/envs/medf/lib/python3.11/site-packages/requests-2.31.0.dist-info due to invalid metadata entry 'name'\u001b[0m\u001b[33m\n",
      "\u001b[0mInstalling collected packages: striprtf, dirtyjson, wrapt, PyYAML, pypdf, networkx, nest-asyncio, beautifulsoup4, deprecated, aiohttp, openai, llama-cloud, llama-index-legacy, llama-index-core, llama-parse, llama-index-readers-file, llama-index-llms-openai, llama-index-indices-managed-llama-cloud, llama-index-embeddings-openai, llama-index-readers-llama-parse, llama-index-multi-modal-llms-openai, llama-index-cli, llama-index-agent-openai, llama-index-program-openai, llama-index-question-gen-openai, llama-index\n",
      "  Attempting uninstall: PyYAML\n",
      "    Found existing installation: PyYAML 6.0\n",
      "    Uninstalling PyYAML-6.0:\n",
      "      Successfully uninstalled PyYAML-6.0\n",
      "  Attempting uninstall: networkx\n",
      "    Found existing installation: networkx 2.6.3\n",
      "    Uninstalling networkx-2.6.3:\n",
      "      Successfully uninstalled networkx-2.6.3\n",
      "  Attempting uninstall: nest-asyncio\n",
      "    Found existing installation: nest-asyncio 1.5.6\n",
      "    Uninstalling nest-asyncio-1.5.6:\n",
      "      Successfully uninstalled nest-asyncio-1.5.6\n",
      "  Attempting uninstall: beautifulsoup4\n",
      "    Found existing installation: beautifulsoup4 4.12.2\n",
      "    Uninstalling beautifulsoup4-4.12.2:\n",
      "      Successfully uninstalled beautifulsoup4-4.12.2\n",
      "  Attempting uninstall: aiohttp\n",
      "    Found existing installation: aiohttp 3.8.4\n",
      "    Uninstalling aiohttp-3.8.4:\n",
      "      Successfully uninstalled aiohttp-3.8.4\n",
      "  Attempting uninstall: openai\n",
      "\u001b[33m    WARNING: Skipping /home/alfred/anaconda3/envs/medf/lib/python3.11/site-packages/requests-2.31.0.dist-info due to invalid metadata entry 'name'\u001b[0m\u001b[33m\n",
      "\u001b[0m    Found existing installation: openai 1.10.0\n",
      "    Uninstalling openai-1.10.0:\n",
      "      Successfully uninstalled openai-1.10.0\n",
      "\u001b[33mWARNING: Skipping /home/alfred/anaconda3/envs/medf/lib/python3.11/site-packages/requests-2.31.0.dist-info due to invalid metadata entry 'name'\u001b[0m\u001b[33m\n",
      "\u001b[0m\u001b[33mWARNING: Skipping /home/alfred/anaconda3/envs/medf/lib/python3.11/site-packages/requests-2.31.0.dist-info due to invalid metadata entry 'name'\u001b[0m\u001b[33m\n",
      "\u001b[0m\u001b[33mWARNING: Skipping /home/alfred/anaconda3/envs/medf/lib/python3.11/site-packages/requests-2.31.0.dist-info due to invalid metadata entry 'name'\u001b[0m\u001b[33m\n",
      "\u001b[0m\u001b[33mWARNING: Skipping /home/alfred/anaconda3/envs/medf/lib/python3.11/site-packages/requests-2.31.0.dist-info due to invalid metadata entry 'name'\u001b[0m\u001b[33m\n",
      "\u001b[0m\u001b[33mWARNING: Skipping /home/alfred/anaconda3/envs/medf/lib/python3.11/site-packages/requests-2.31.0.dist-info due to invalid metadata entry 'name'\u001b[0m\u001b[33m\n",
      "\u001b[0m\u001b[33mWARNING: Skipping /home/alfred/anaconda3/envs/medf/lib/python3.11/site-packages/requests-2.31.0.dist-info due to invalid metadata entry 'name'\u001b[0m\u001b[33m\n",
      "\u001b[0m\u001b[33mWARNING: Skipping /home/alfred/anaconda3/envs/medf/lib/python3.11/site-packages/requests-2.31.0.dist-info due to invalid metadata entry 'name'\u001b[0m\u001b[33m\n",
      "\u001b[0m\u001b[33mWARNING: Skipping /home/alfred/anaconda3/envs/medf/lib/python3.11/site-packages/requests-2.31.0.dist-info due to invalid metadata entry 'name'\u001b[0m\u001b[33m\n",
      "\u001b[0m\u001b[33mWARNING: Skipping /home/alfred/anaconda3/envs/medf/lib/python3.11/site-packages/requests-2.31.0.dist-info due to invalid metadata entry 'name'\u001b[0m\u001b[33m\n",
      "\u001b[0m\u001b[33mWARNING: Skipping /home/alfred/anaconda3/envs/medf/lib/python3.11/site-packages/requests-2.31.0.dist-info due to invalid metadata entry 'name'\u001b[0m\u001b[33m\n",
      "\u001b[0m\u001b[33mWARNING: Skipping /home/alfred/anaconda3/envs/medf/lib/python3.11/site-packages/requests-2.31.0.dist-info due to invalid metadata entry 'name'\u001b[0m\u001b[33m\n",
      "\u001b[0m\u001b[33mWARNING: Skipping /home/alfred/anaconda3/envs/medf/lib/python3.11/site-packages/requests-2.31.0.dist-info due to invalid metadata entry 'name'\u001b[0m\u001b[33m\n",
      "\u001b[0m\u001b[33mWARNING: Skipping /home/alfred/anaconda3/envs/medf/lib/python3.11/site-packages/requests-2.31.0.dist-info due to invalid metadata entry 'name'\u001b[0m\u001b[33m\n",
      "\u001b[0m\u001b[31mERROR: pip's dependency resolver does not currently take into account all the packages that are installed. This behaviour is the source of the following dependency conflicts.\n",
      "deepspeed 0.9.1 requires pydantic<2.0.0, but you have pydantic 2.6.0 which is incompatible.\n",
      "jupyter-events 0.10.0 requires jsonschema[format-nongpl]>=4.18.0, but you have jsonschema 3.2.0 which is incompatible.\n",
      "torchvision 0.18.0 requires torch==2.3.0, but you have torch 2.3.1 which is incompatible.\n",
      "xformers 0.0.26.post1 requires torch==2.3.0, but you have torch 2.3.1 which is incompatible.\n",
      "vllm 0.4.2 requires torch==2.3.0, but you have torch 2.3.1 which is incompatible.\n",
      "torchaudio 2.3.0 requires torch==2.3.0, but you have torch 2.3.1 which is incompatible.\u001b[0m\u001b[31m\n",
      "\u001b[0mSuccessfully installed PyYAML-6.0.1 aiohttp-3.9.5 beautifulsoup4-4.12.3 deprecated-1.2.14 dirtyjson-1.0.8 llama-cloud-0.0.9 llama-index-0.10.56 llama-index-agent-openai-0.2.9 llama-index-cli-0.1.12 llama-index-core-0.10.56 llama-index-embeddings-openai-0.1.11 llama-index-indices-managed-llama-cloud-0.2.5 llama-index-legacy-0.9.48 llama-index-llms-openai-0.1.26 llama-index-multi-modal-llms-openai-0.1.8 llama-index-program-openai-0.1.6 llama-index-question-gen-openai-0.1.3 llama-index-readers-file-0.1.30 llama-index-readers-llama-parse-0.1.6 llama-parse-0.4.9 nest-asyncio-1.6.0 networkx-3.3 openai-1.37.0 pypdf-4.3.1 striprtf-0.0.26 wrapt-1.16.0\n",
      "\u001b[33mWARNING: Skipping /home/alfred/anaconda3/envs/medf/lib/python3.11/site-packages/requests-2.31.0.dist-info due to invalid metadata entry 'name'\u001b[0m\u001b[33m\n",
      "\u001b[0m\u001b[33mWARNING: Skipping /home/alfred/anaconda3/envs/medf/lib/python3.11/site-packages/requests-2.31.0.dist-info due to invalid metadata entry 'name'\u001b[0m\u001b[33m\n",
      "\u001b[0m"
     ]
    }
   ],
   "source": [
    "!pip install llama-index llama-index-core llama-index-readers-file -U"
   ]
  },
  {
   "cell_type": "code",
   "execution_count": 1,
   "id": "9d47283b-025e-4874-88ed-76245b22f82e",
   "metadata": {
    "id": "9d47283b-025e-4874-88ed-76245b22f82e"
   },
   "outputs": [],
   "source": [
    "from llama_index.llms.bedrock_converse import BedrockConverse\n",
    "from llama_index.core.tools import FunctionTool\n",
    "\n",
    "import nest_asyncio\n",
    "\n",
    "nest_asyncio.apply()"
   ]
  },
  {
   "cell_type": "markdown",
   "id": "6fe08eb1-e638-4c00-9103-5c305bfacccf",
   "metadata": {
    "id": "6fe08eb1-e638-4c00-9103-5c305bfacccf"
   },
   "source": [
    "Let's define some very simple calculator tools for our agent."
   ]
  },
  {
   "cell_type": "code",
   "execution_count": 2,
   "id": "3dd3c4a6-f3e0-46f9-ad3b-7ba57d1bc992",
   "metadata": {
    "id": "3dd3c4a6-f3e0-46f9-ad3b-7ba57d1bc992"
   },
   "outputs": [],
   "source": [
    "def multiply(a: int, b: int) -> int:\n",
    "    \"\"\"Multiple two integers and returns the result integer\"\"\"\n",
    "    return a * b\n",
    "\n",
    "\n",
    "multiply_tool = FunctionTool.from_defaults(fn=multiply)"
   ]
  },
  {
   "cell_type": "code",
   "execution_count": 3,
   "id": "bfcfb78b-7d4f-48d9-8d4c-ffcded23e7ac",
   "metadata": {
    "id": "bfcfb78b-7d4f-48d9-8d4c-ffcded23e7ac"
   },
   "outputs": [],
   "source": [
    "def add(a: int, b: int) -> int:\n",
    "    \"\"\"Add two integers and returns the result integer\"\"\"\n",
    "    return a + b\n",
    "\n",
    "\n",
    "add_tool = FunctionTool.from_defaults(fn=add)"
   ]
  },
  {
   "cell_type": "markdown",
   "id": "eeac7d4c-58fd-42a5-9da9-c258375c61a0",
   "metadata": {
    "id": "eeac7d4c-58fd-42a5-9da9-c258375c61a0"
   },
   "source": [
    "Make sure to set your AWS credentials, either the `profile_name` or the keys below."
   ]
  },
  {
   "cell_type": "code",
   "execution_count": 5,
   "id": "4becf171-6632-42e5-bdec-918a00934696",
   "metadata": {
    "id": "4becf171-6632-42e5-bdec-918a00934696"
   },
   "outputs": [],
   "source": [
    "llm = BedrockConverse(\n",
    "    model=\"anthropic.claude-3-haiku-20240307-v1:0\",\n",
    "    # NOTE replace with your own AWS credentials\n",
    "    #aws_access_key_id=\"AWS Access Key ID to use\",\n",
    "    #aws_secret_access_key=\"AWS Secret Access Key to use\",\n",
    "    #aws_session_token=\"AWS Session Token to use\",\n",
    "    region_name=\"us-east-1\",\n",
    ")"
   ]
  },
  {
   "cell_type": "markdown",
   "id": "707d30b8-6405-4187-a9ed-6146dcc42167",
   "metadata": {
    "id": "707d30b8-6405-4187-a9ed-6146dcc42167"
   },
   "source": [
    "## Initialize AWS Bedrock Converse Agent"
   ]
  },
  {
   "cell_type": "markdown",
   "id": "798ca3fd-6711-4c0c-a853-d868dd14b484",
   "metadata": {
    "id": "798ca3fd-6711-4c0c-a853-d868dd14b484"
   },
   "source": [
    "Here we initialize a simple AWS Bedrock Converse agent with calculator functions."
   ]
  },
  {
   "cell_type": "code",
   "execution_count": 6,
   "id": "38ab3938-1138-43ea-b085-f430b42f5377",
   "metadata": {
    "id": "38ab3938-1138-43ea-b085-f430b42f5377"
   },
   "outputs": [],
   "source": [
    "from llama_index.core.agent import FunctionCallingAgentWorker\n",
    "\n",
    "agent_worker = FunctionCallingAgentWorker.from_tools(\n",
    "    [multiply_tool, add_tool],\n",
    "    llm=llm,\n",
    "    verbose=True,\n",
    "    allow_parallel_tool_calls=False,\n",
    ")\n",
    "agent = agent_worker.as_agent()"
   ]
  },
  {
   "cell_type": "markdown",
   "id": "500cbee4",
   "metadata": {
    "id": "500cbee4"
   },
   "source": [
    "### Chat"
   ]
  },
  {
   "cell_type": "code",
   "execution_count": 7,
   "id": "9450401d-769f-46e8-8bab-0f27f7362f5d",
   "metadata": {
    "id": "9450401d-769f-46e8-8bab-0f27f7362f5d"
   },
   "outputs": [
    {
     "name": "stdout",
     "output_type": "stream",
     "text": [
      "Added user message to memory: What is (121 + 2) * 5?\n",
      "=== LLM Response ===\n",
      "Okay, let's break this down step-by-step:\n",
      "=== Calling Function ===\n",
      "Calling function: add with args: {\"a\": 121, \"b\": 2}\n",
      "=== Function Output ===\n",
      "123\n",
      "=== LLM Response ===\n",
      "So (121 + 2) = 123\n",
      "=== Calling Function ===\n",
      "Calling function: multiply with args: {\"a\": 123, \"b\": 5}\n",
      "=== Function Output ===\n",
      "615\n",
      "=== LLM Response ===\n",
      "Therefore, the result of (121 + 2) * 5 is 615.\n"
     ]
    }
   ],
   "source": [
    "response = agent.chat(\"What is (121 + 2) * 5?\")"
   ]
  },
  {
   "cell_type": "code",
   "execution_count": 8,
   "id": "538bf32f",
   "metadata": {
    "id": "538bf32f"
   },
   "outputs": [
    {
     "name": "stdout",
     "output_type": "stream",
     "text": [
      "Therefore, the result of (121 + 2) * 5 is 615.\n",
      "[ToolOutput(content='123', tool_name='add', raw_input={'args': (), 'kwargs': {'a': 121, 'b': 2}}, raw_output=123, is_error=False), ToolOutput(content='615', tool_name='multiply', raw_input={'args': (), 'kwargs': {'a': 123, 'b': 5}}, raw_output=615, is_error=False)]\n"
     ]
    }
   ],
   "source": [
    "# inspect sources\n",
    "print(str(response))\n",
    "print(response.sources)"
   ]
  },
  {
   "cell_type": "markdown",
   "id": "cabfdf01-8d63-43ff-b06e-a3059ede2ddf",
   "metadata": {
    "id": "cabfdf01-8d63-43ff-b06e-a3059ede2ddf"
   },
   "source": [
    "## AWS Bedrock Converse Agent over RAG Pipeline\n",
    "\n",
    "Build an AWS Bedrock Converse agent over a simple 10K document. We use both HuggingFace embeddings and `BAAI/bge-small-en-v1.5` to construct the RAG pipeline, and pass it to the AWS Bedrock Converse agent as a tool."
   ]
  },
  {
   "cell_type": "code",
   "execution_count": 9,
   "id": "48120dd4-7f50-426f-bc7e-a903e090d32e",
   "metadata": {
    "id": "48120dd4-7f50-426f-bc7e-a903e090d32e"
   },
   "outputs": [
    {
     "name": "stdout",
     "output_type": "stream",
     "text": [
      "  % Total    % Received % Xferd  Average Speed   Time    Time     Time  Current\n",
      "                                 Dload  Upload   Total   Spent    Left  Speed\n",
      "100 1836k  100 1836k    0     0  7695k      0 --:--:-- --:--:-- --:--:-- 7716k\n"
     ]
    }
   ],
   "source": [
    "!mkdir -p 'data/10k/'\n",
    "!curl -o 'data/10k/uber_2021.pdf' 'https://raw.githubusercontent.com/run-llama/llama_index/main/docs/docs/examples/data/10k/uber_2021.pdf'"
   ]
  },
  {
   "cell_type": "code",
   "execution_count": 5,
   "id": "48c0cf98-3f10-4599-8437-d88dc89cefad",
   "metadata": {
    "id": "48c0cf98-3f10-4599-8437-d88dc89cefad"
   },
   "outputs": [],
   "source": [
    "from llama_index.core.tools import QueryEngineTool, ToolMetadata\n",
    "from llama_index.core import SimpleDirectoryReader, VectorStoreIndex\n",
    "from llama_index.embeddings.huggingface import HuggingFaceEmbedding\n",
    "from llama_index.llms.bedrock_converse import BedrockConverse\n",
    "\n",
    "embed_model = HuggingFaceEmbedding(model_name=\"BAAI/bge-small-en-v1.5\")\n",
    "query_llm = BedrockConverse(\n",
    "    model=\"anthropic.claude-3-haiku-20240307-v1:0\",\n",
    "    # NOTE replace with your own AWS credentials\n",
    "    #aws_access_key_id=\"AWS Access Key ID to use\",\n",
    "    #aws_secret_access_key=\"AWS Secret Access Key to use\",\n",
    "    #aws_session_token=\"AWS Session Token to use\",\n",
    "    region_name=\"us-east-1\",\n",
    ")\n",
    "\n",
    "# load data\n",
    "uber_docs = SimpleDirectoryReader(\n",
    "    input_files=[\"./data/10k/uber_2021.pdf\"]\n",
    ").load_data()\n",
    "# build index\n",
    "uber_index = VectorStoreIndex.from_documents(\n",
    "    uber_docs, embed_model=embed_model\n",
    ")\n",
    "uber_engine = uber_index.as_query_engine(similarity_top_k=3, llm=query_llm)\n",
    "query_engine_tool = QueryEngineTool(\n",
    "    query_engine=uber_engine,\n",
    "    metadata=ToolMetadata(\n",
    "        name=\"uber_10k\",\n",
    "        description=(\n",
    "            \"Provides information about Uber financials for year 2021. \"\n",
    "            \"Use a detailed plain text question as input to the tool.\"\n",
    "        ),\n",
    "    ),\n",
    ")"
   ]
  },
  {
   "cell_type": "code",
   "execution_count": 9,
   "id": "ebfdaf80-e5e1-4c60-b556-20558da3d5e3",
   "metadata": {
    "id": "ebfdaf80-e5e1-4c60-b556-20558da3d5e3"
   },
   "outputs": [],
   "source": [
    "from llama_index.core.agent import FunctionCallingAgentWorker\n",
    "\n",
    "agent_worker = FunctionCallingAgentWorker.from_tools(\n",
    "    [query_engine_tool], llm=query_llm, verbose=True\n",
    ")\n",
    "agent = agent_worker.as_agent()"
   ]
  },
  {
   "cell_type": "code",
   "execution_count": 7,
   "id": "58c53f2a-0a3f-4abe-b8b6-97a974ec7546",
   "metadata": {
    "id": "58c53f2a-0a3f-4abe-b8b6-97a974ec7546"
   },
   "outputs": [
    {
     "name": "stdout",
     "output_type": "stream",
     "text": [
      "Added user message to memory: Tell me both the risk factors and tailwinds for Uber? Do two parallel tool calls.\n",
      "=== LLM Response ===\n",
      "Okay, let's look at the risk factors and tailwinds for Uber using the 10-K report:\n",
      "=== Calling Function ===\n",
      "Calling function: uber_10k with args: {\"input\": \"What are the risk factors for Uber?\"}\n",
      "=== Function Output ===\n",
      "Based on the provided context, some key risk factors for Uber include:\n",
      "\n",
      "1. Negative media coverage and damage to brand reputation: The context mentions that Uber has previously received significant negative publicity and media coverage, which has created operational, compliance, and cultural challenges. Failure to maintain and enhance their brand and reputation could cause their business to suffer.\n",
      "\n",
      "2. Challenges in managing growth and organizational structure: The context indicates that if Uber is unable to optimize its organizational structure or effectively manage its growth, it could adversely affect the company's financial performance and future prospects.\n",
      "\n",
      "3. Safety incidents involving platform users: The context highlights that platform users engaging in or being subject to criminal, violent, inappropriate, or dangerous activity can result in major safety incidents. This could harm Uber's ability to attract and retain drivers, consumers, merchants, shippers, and carriers.\n",
      "\n",
      "4. Investments in new offerings and technologies: The context mentions that Uber is making substantial investments in new offerings and technologies, which are inherently risky, and the company may never realize the expected benefits from them.\n",
      "\n",
      "5. Dependence on large metropolitan areas: Uber generates a significant percentage of its Gross Bookings from trips in large metropolitan areas, and these operations may be negatively affected by economic, social, weather, and regulatory conditions or other circumstances, including COVID-19.\n",
      "\n",
      "6. Driver dissatisfaction and attrition: The context suggests that Uber may experience driver dissatisfaction, which could result in protests, a decline in the number of platform users, and a reduction in network liquidity, further impacting platform usage.\n",
      "\n",
      "7. Liability related to safety incidents: Uber may face significant liability based on traffic accidents, deaths, injuries, or other incidents caused by drivers, consumers, or third parties while using the platform.\n",
      "=== Calling Function ===\n",
      "Calling function: uber_10k with args: {\"input\": \"What are the tailwinds for Uber?\"}\n",
      "=== Function Output ===\n",
      "Based on the information provided, a few key tailwinds for Uber's business can be identified:\n",
      "\n",
      "1. Massive market opportunity: The context indicates that Uber's Mobility, Delivery, and Freight platform offerings each address large, fragmented markets, suggesting significant growth potential.\n",
      "\n",
      "2. Leading market positions: The context states that Uber believes it has a leading ridesharing category position in every major region where it operates, which positions the company well to capitalize on the market opportunity.\n",
      "\n",
      "3. Synergies between business segments: The context notes that Uber's Delivery offering can leverage and increase the supply of Drivers on its network, creating synergies between the Mobility and Delivery segments.\n",
      "\n",
      "4. Expansion into new services: The context mentions that Uber is also developing new technologies to provide solutions for everyday problems, indicating the company is exploring opportunities beyond its core ridesharing and delivery services.\n",
      "\n",
      "5. Global reach: Uber's technology is available in approximately 72 countries around the world, primarily in the U.S., Canada, Latin America, Europe, the Middle East, Africa, and Asia (excluding China and Southeast Asia), providing a broad geographic footprint.\n",
      "\n",
      "Overall, the context highlights Uber's strong market positions, synergies between business segments, and potential for expansion, which suggest several tailwinds for the company's growth and performance.\n"
     ]
    }
   ],
   "source": [
    "response = agent.chat(\n",
    "    \"Tell me both the risk factors and tailwinds for Uber? Do two parallel tool calls.\"\n",
    ")"
   ]
  },
  {
   "cell_type": "code",
   "execution_count": null,
   "id": "f00f1047-264a-49ca-b40b-b026d3fa74ee",
   "metadata": {},
   "outputs": [],
   "source": []
  }
 ],
 "metadata": {
  "colab": {
   "provenance": []
  },
  "kernelspec": {
   "display_name": "dui",
   "language": "python",
   "name": "dui"
  },
  "language_info": {
   "codemirror_mode": {
    "name": "ipython",
    "version": 3
   },
   "file_extension": ".py",
   "mimetype": "text/x-python",
   "name": "python",
   "nbconvert_exporter": "python",
   "pygments_lexer": "ipython3",
   "version": "3.11.5"
  }
 },
 "nbformat": 4,
 "nbformat_minor": 5
}
